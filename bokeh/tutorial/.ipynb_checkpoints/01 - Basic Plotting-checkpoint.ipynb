{
 "cells": [
  {
   "cell_type": "markdown",
   "metadata": {
    "collapsed": true
   },
   "source": [
    "<table style=\"float:left; border:none\">\n",
    "   <tr style=\"border:none; background-color: #ffffff\">\n",
    "       <td style=\"border:none\">\n",
    "           <a href=\"http://bokeh.pydata.org/\">     \n",
    "           <img \n",
    "               src=\"assets/bokeh-transparent.png\" \n",
    "               style=\"width:50px\"\n",
    "           >\n",
    "           </a>    \n",
    "       </td>\n",
    "       <td style=\"border:none\">\n",
    "           <h1>Bokeh Tutorial</h1>\n",
    "       </td>\n",
    "   </tr>\n",
    "</table>\n",
    "\n",
    "<div style=\"float:right;\"><h2>01. Basic Plotting</h2></div>"
   ]
  },
  {
   "cell_type": "markdown",
   "metadata": {},
   "source": [
    "This section of the tutorial covers the [`bokeh.plotting`](http://bokeh.pydata.org/en/latest/docs/user_guide/plotting.html) \n",
    "interface. This interface is a \"mid-level\" interface, and the main idea can be described by the statement:\n",
    "\n",
    "**Starting from simple default figures (with sensible default tools, grids and axes), add markers and other shapes whose visual attributes are tied to directly data.**\n",
    "\n",
    "We will see that it is possible to customize and change all of the defaults, but having them means that it is possible to get up and running very quickly. "
   ]
  },
  {
   "cell_type": "markdown",
   "metadata": {},
   "source": [
    "# Imports and Setup\n",
    "\n",
    "When using the [`bokeh.plotting`](http://bokeh.pydata.org/en/latest/docs/user_guide/plotting.html) interface, there are a few common imports:\n",
    "* Use the [`figure`](http://bokeh.pydata.org/en/latest/docs/reference/plotting.html#bokeh.plotting.figure) function to  create new plot objects to work with. \n",
    "* Call the functions [`output_file`](http://bokeh.pydata.org/en/latest/docs/reference/resources_embedding.html#bokeh.io.output_file), [`output_notebook`](http://bokeh.pydata.org/en/latest/docs/reference/resources_embedding.html#bokeh.io.output_notebook), and [`output_server`](http://bokeh.pydata.org/en/latest/docs/reference/resources_embedding.html#bokeh.io.output_server) (possibly in combination) to tell Bokeh how to display or save output. \n",
    "* Execute [`show`](http://bokeh.pydata.org/en/latest/docs/reference/resources_embedding.html#bokeh.io.show) and  [`save`](http://bokeh.pydata.org/en/latest/docs/reference/resources_embedding.html#bokeh.io.save) to display or save plots and layouts."
   ]
  },
  {
   "cell_type": "code",
   "execution_count": 1,
   "metadata": {},
   "outputs": [],
   "source": [
    "from bokeh.io import output_notebook, show\n",
    "from bokeh.plotting import figure"
   ]
  },
  {
   "cell_type": "code",
   "execution_count": null,
   "metadata": {},
   "outputs": [],
   "source": []
  },
  {
   "cell_type": "markdown",
   "metadata": {},
   "source": [
    "In this case, we are in the Jupyter notebook, so call `output_notebook()`. We only need to call this once, and all subsequent calls to `show()` will display inline in the notebook."
   ]
  },
  {
   "cell_type": "code",
   "execution_count": 2,
   "metadata": {},
   "outputs": [
    {
     "data": {
      "text/html": [
       "\n",
       "    <div class=\"bk-root\">\n",
       "        <a href=\"https://bokeh.pydata.org\" target=\"_blank\" class=\"bk-logo bk-logo-small bk-logo-notebook\"></a>\n",
       "        <span id=\"940daf71-c58c-47d8-be43-4a27121fb0bc\">Loading BokehJS ...</span>\n",
       "    </div>"
      ]
     },
     "metadata": {},
     "output_type": "display_data"
    },
    {
     "data": {
      "application/javascript": [
       "\n",
       "(function(root) {\n",
       "  function now() {\n",
       "    return new Date();\n",
       "  }\n",
       "\n",
       "  var force = true;\n",
       "\n",
       "  if (typeof (root._bokeh_onload_callbacks) === \"undefined\" || force === true) {\n",
       "    root._bokeh_onload_callbacks = [];\n",
       "    root._bokeh_is_loading = undefined;\n",
       "  }\n",
       "\n",
       "  var JS_MIME_TYPE = 'application/javascript';\n",
       "  var HTML_MIME_TYPE = 'text/html';\n",
       "  var EXEC_MIME_TYPE = 'application/vnd.bokehjs_exec.v0+json';\n",
       "  var CLASS_NAME = 'output_bokeh rendered_html';\n",
       "\n",
       "  /**\n",
       "   * Render data to the DOM node\n",
       "   */\n",
       "  function render(props, node) {\n",
       "    var script = document.createElement(\"script\");\n",
       "    node.appendChild(script);\n",
       "  }\n",
       "\n",
       "  /**\n",
       "   * Handle when an output is cleared or removed\n",
       "   */\n",
       "  function handleClearOutput(event, handle) {\n",
       "    var cell = handle.cell;\n",
       "\n",
       "    var id = cell.output_area._bokeh_element_id;\n",
       "    var server_id = cell.output_area._bokeh_server_id;\n",
       "    // Clean up Bokeh references\n",
       "    if (id !== undefined) {\n",
       "      Bokeh.index[id].model.document.clear();\n",
       "      delete Bokeh.index[id];\n",
       "    }\n",
       "\n",
       "    if (server_id !== undefined) {\n",
       "      // Clean up Bokeh references\n",
       "      var cmd = \"from bokeh.io.state import curstate; print(curstate().uuid_to_server['\" + server_id + \"'].get_sessions()[0].document.roots[0]._id)\";\n",
       "      cell.notebook.kernel.execute(cmd, {\n",
       "        iopub: {\n",
       "          output: function(msg) {\n",
       "            var element_id = msg.content.text.trim();\n",
       "            Bokeh.index[element_id].model.document.clear();\n",
       "            delete Bokeh.index[element_id];\n",
       "          }\n",
       "        }\n",
       "      });\n",
       "      // Destroy server and session\n",
       "      var cmd = \"import bokeh.io.notebook as ion; ion.destroy_server('\" + server_id + \"')\";\n",
       "      cell.notebook.kernel.execute(cmd);\n",
       "    }\n",
       "  }\n",
       "\n",
       "  /**\n",
       "   * Handle when a new output is added\n",
       "   */\n",
       "  function handleAddOutput(event, handle) {\n",
       "    var output_area = handle.output_area;\n",
       "    var output = handle.output;\n",
       "\n",
       "    // limit handleAddOutput to display_data with EXEC_MIME_TYPE content only\n",
       "    if ((output.output_type != \"display_data\") || (!output.data.hasOwnProperty(EXEC_MIME_TYPE))) {\n",
       "      return\n",
       "    }\n",
       "\n",
       "    var toinsert = output_area.element.find(\".\" + CLASS_NAME.split(' ')[0]);\n",
       "\n",
       "    if (output.metadata[EXEC_MIME_TYPE][\"id\"] !== undefined) {\n",
       "      toinsert[toinsert.length - 1].firstChild.textContent = output.data[JS_MIME_TYPE];\n",
       "      // store reference to embed id on output_area\n",
       "      output_area._bokeh_element_id = output.metadata[EXEC_MIME_TYPE][\"id\"];\n",
       "    }\n",
       "    if (output.metadata[EXEC_MIME_TYPE][\"server_id\"] !== undefined) {\n",
       "      var bk_div = document.createElement(\"div\");\n",
       "      bk_div.innerHTML = output.data[HTML_MIME_TYPE];\n",
       "      var script_attrs = bk_div.children[0].attributes;\n",
       "      for (var i = 0; i < script_attrs.length; i++) {\n",
       "        toinsert[toinsert.length - 1].firstChild.setAttribute(script_attrs[i].name, script_attrs[i].value);\n",
       "      }\n",
       "      // store reference to server id on output_area\n",
       "      output_area._bokeh_server_id = output.metadata[EXEC_MIME_TYPE][\"server_id\"];\n",
       "    }\n",
       "  }\n",
       "\n",
       "  function register_renderer(events, OutputArea) {\n",
       "\n",
       "    function append_mime(data, metadata, element) {\n",
       "      // create a DOM node to render to\n",
       "      var toinsert = this.create_output_subarea(\n",
       "        metadata,\n",
       "        CLASS_NAME,\n",
       "        EXEC_MIME_TYPE\n",
       "      );\n",
       "      this.keyboard_manager.register_events(toinsert);\n",
       "      // Render to node\n",
       "      var props = {data: data, metadata: metadata[EXEC_MIME_TYPE]};\n",
       "      render(props, toinsert[toinsert.length - 1]);\n",
       "      element.append(toinsert);\n",
       "      return toinsert\n",
       "    }\n",
       "\n",
       "    /* Handle when an output is cleared or removed */\n",
       "    events.on('clear_output.CodeCell', handleClearOutput);\n",
       "    events.on('delete.Cell', handleClearOutput);\n",
       "\n",
       "    /* Handle when a new output is added */\n",
       "    events.on('output_added.OutputArea', handleAddOutput);\n",
       "\n",
       "    /**\n",
       "     * Register the mime type and append_mime function with output_area\n",
       "     */\n",
       "    OutputArea.prototype.register_mime_type(EXEC_MIME_TYPE, append_mime, {\n",
       "      /* Is output safe? */\n",
       "      safe: true,\n",
       "      /* Index of renderer in `output_area.display_order` */\n",
       "      index: 0\n",
       "    });\n",
       "  }\n",
       "\n",
       "  // register the mime type if in Jupyter Notebook environment and previously unregistered\n",
       "  if (root.Jupyter !== undefined) {\n",
       "    var events = require('base/js/events');\n",
       "    var OutputArea = require('notebook/js/outputarea').OutputArea;\n",
       "\n",
       "    if (OutputArea.prototype.mime_types().indexOf(EXEC_MIME_TYPE) == -1) {\n",
       "      register_renderer(events, OutputArea);\n",
       "    }\n",
       "  }\n",
       "\n",
       "  \n",
       "  if (typeof (root._bokeh_timeout) === \"undefined\" || force === true) {\n",
       "    root._bokeh_timeout = Date.now() + 5000;\n",
       "    root._bokeh_failed_load = false;\n",
       "  }\n",
       "\n",
       "  var NB_LOAD_WARNING = {'data': {'text/html':\n",
       "     \"<div style='background-color: #fdd'>\\n\"+\n",
       "     \"<p>\\n\"+\n",
       "     \"BokehJS does not appear to have successfully loaded. If loading BokehJS from CDN, this \\n\"+\n",
       "     \"may be due to a slow or bad network connection. Possible fixes:\\n\"+\n",
       "     \"</p>\\n\"+\n",
       "     \"<ul>\\n\"+\n",
       "     \"<li>re-rerun `output_notebook()` to attempt to load from CDN again, or</li>\\n\"+\n",
       "     \"<li>use INLINE resources instead, as so:</li>\\n\"+\n",
       "     \"</ul>\\n\"+\n",
       "     \"<code>\\n\"+\n",
       "     \"from bokeh.resources import INLINE\\n\"+\n",
       "     \"output_notebook(resources=INLINE)\\n\"+\n",
       "     \"</code>\\n\"+\n",
       "     \"</div>\"}};\n",
       "\n",
       "  function display_loaded() {\n",
       "    var el = document.getElementById(\"940daf71-c58c-47d8-be43-4a27121fb0bc\");\n",
       "    if (el != null) {\n",
       "      el.textContent = \"BokehJS is loading...\";\n",
       "    }\n",
       "    if (root.Bokeh !== undefined) {\n",
       "      if (el != null) {\n",
       "        el.textContent = \"BokehJS \" + root.Bokeh.version + \" successfully loaded.\";\n",
       "      }\n",
       "    } else if (Date.now() < root._bokeh_timeout) {\n",
       "      setTimeout(display_loaded, 100)\n",
       "    }\n",
       "  }\n",
       "\n",
       "\n",
       "  function run_callbacks() {\n",
       "    try {\n",
       "      root._bokeh_onload_callbacks.forEach(function(callback) { callback() });\n",
       "    }\n",
       "    finally {\n",
       "      delete root._bokeh_onload_callbacks\n",
       "    }\n",
       "    console.info(\"Bokeh: all callbacks have finished\");\n",
       "  }\n",
       "\n",
       "  function load_libs(js_urls, callback) {\n",
       "    root._bokeh_onload_callbacks.push(callback);\n",
       "    if (root._bokeh_is_loading > 0) {\n",
       "      console.log(\"Bokeh: BokehJS is being loaded, scheduling callback at\", now());\n",
       "      return null;\n",
       "    }\n",
       "    if (js_urls == null || js_urls.length === 0) {\n",
       "      run_callbacks();\n",
       "      return null;\n",
       "    }\n",
       "    console.log(\"Bokeh: BokehJS not loaded, scheduling load and callback at\", now());\n",
       "    root._bokeh_is_loading = js_urls.length;\n",
       "    for (var i = 0; i < js_urls.length; i++) {\n",
       "      var url = js_urls[i];\n",
       "      var s = document.createElement('script');\n",
       "      s.src = url;\n",
       "      s.async = false;\n",
       "      s.onreadystatechange = s.onload = function() {\n",
       "        root._bokeh_is_loading--;\n",
       "        if (root._bokeh_is_loading === 0) {\n",
       "          console.log(\"Bokeh: all BokehJS libraries loaded\");\n",
       "          run_callbacks()\n",
       "        }\n",
       "      };\n",
       "      s.onerror = function() {\n",
       "        console.warn(\"failed to load library \" + url);\n",
       "      };\n",
       "      console.log(\"Bokeh: injecting script tag for BokehJS library: \", url);\n",
       "      document.getElementsByTagName(\"head\")[0].appendChild(s);\n",
       "    }\n",
       "  };var element = document.getElementById(\"940daf71-c58c-47d8-be43-4a27121fb0bc\");\n",
       "  if (element == null) {\n",
       "    console.log(\"Bokeh: ERROR: autoload.js configured with elementid '940daf71-c58c-47d8-be43-4a27121fb0bc' but no matching script tag was found. \")\n",
       "    return false;\n",
       "  }\n",
       "\n",
       "  var js_urls = [\"https://cdn.pydata.org/bokeh/release/bokeh-0.12.15.min.js\", \"https://cdn.pydata.org/bokeh/release/bokeh-widgets-0.12.15.min.js\", \"https://cdn.pydata.org/bokeh/release/bokeh-tables-0.12.15.min.js\", \"https://cdn.pydata.org/bokeh/release/bokeh-gl-0.12.15.min.js\"];\n",
       "\n",
       "  var inline_js = [\n",
       "    function(Bokeh) {\n",
       "      Bokeh.set_log_level(\"info\");\n",
       "    },\n",
       "    \n",
       "    function(Bokeh) {\n",
       "      \n",
       "    },\n",
       "    function(Bokeh) {\n",
       "      console.log(\"Bokeh: injecting CSS: https://cdn.pydata.org/bokeh/release/bokeh-0.12.15.min.css\");\n",
       "      Bokeh.embed.inject_css(\"https://cdn.pydata.org/bokeh/release/bokeh-0.12.15.min.css\");\n",
       "      console.log(\"Bokeh: injecting CSS: https://cdn.pydata.org/bokeh/release/bokeh-widgets-0.12.15.min.css\");\n",
       "      Bokeh.embed.inject_css(\"https://cdn.pydata.org/bokeh/release/bokeh-widgets-0.12.15.min.css\");\n",
       "      console.log(\"Bokeh: injecting CSS: https://cdn.pydata.org/bokeh/release/bokeh-tables-0.12.15.min.css\");\n",
       "      Bokeh.embed.inject_css(\"https://cdn.pydata.org/bokeh/release/bokeh-tables-0.12.15.min.css\");\n",
       "    }\n",
       "  ];\n",
       "\n",
       "  function run_inline_js() {\n",
       "    \n",
       "    if ((root.Bokeh !== undefined) || (force === true)) {\n",
       "      for (var i = 0; i < inline_js.length; i++) {\n",
       "        inline_js[i].call(root, root.Bokeh);\n",
       "      }if (force === true) {\n",
       "        display_loaded();\n",
       "      }} else if (Date.now() < root._bokeh_timeout) {\n",
       "      setTimeout(run_inline_js, 100);\n",
       "    } else if (!root._bokeh_failed_load) {\n",
       "      console.log(\"Bokeh: BokehJS failed to load within specified timeout.\");\n",
       "      root._bokeh_failed_load = true;\n",
       "    } else if (force !== true) {\n",
       "      var cell = $(document.getElementById(\"940daf71-c58c-47d8-be43-4a27121fb0bc\")).parents('.cell').data().cell;\n",
       "      cell.output_area.append_execute_result(NB_LOAD_WARNING)\n",
       "    }\n",
       "\n",
       "  }\n",
       "\n",
       "  if (root._bokeh_is_loading === 0) {\n",
       "    console.log(\"Bokeh: BokehJS loaded, going straight to plotting\");\n",
       "    run_inline_js();\n",
       "  } else {\n",
       "    load_libs(js_urls, function() {\n",
       "      console.log(\"Bokeh: BokehJS plotting callback run at\", now());\n",
       "      run_inline_js();\n",
       "    });\n",
       "  }\n",
       "}(window));"
      ],
      "application/vnd.bokehjs_load.v0+json": "\n(function(root) {\n  function now() {\n    return new Date();\n  }\n\n  var force = true;\n\n  if (typeof (root._bokeh_onload_callbacks) === \"undefined\" || force === true) {\n    root._bokeh_onload_callbacks = [];\n    root._bokeh_is_loading = undefined;\n  }\n\n  \n\n  \n  if (typeof (root._bokeh_timeout) === \"undefined\" || force === true) {\n    root._bokeh_timeout = Date.now() + 5000;\n    root._bokeh_failed_load = false;\n  }\n\n  var NB_LOAD_WARNING = {'data': {'text/html':\n     \"<div style='background-color: #fdd'>\\n\"+\n     \"<p>\\n\"+\n     \"BokehJS does not appear to have successfully loaded. If loading BokehJS from CDN, this \\n\"+\n     \"may be due to a slow or bad network connection. Possible fixes:\\n\"+\n     \"</p>\\n\"+\n     \"<ul>\\n\"+\n     \"<li>re-rerun `output_notebook()` to attempt to load from CDN again, or</li>\\n\"+\n     \"<li>use INLINE resources instead, as so:</li>\\n\"+\n     \"</ul>\\n\"+\n     \"<code>\\n\"+\n     \"from bokeh.resources import INLINE\\n\"+\n     \"output_notebook(resources=INLINE)\\n\"+\n     \"</code>\\n\"+\n     \"</div>\"}};\n\n  function display_loaded() {\n    var el = document.getElementById(\"940daf71-c58c-47d8-be43-4a27121fb0bc\");\n    if (el != null) {\n      el.textContent = \"BokehJS is loading...\";\n    }\n    if (root.Bokeh !== undefined) {\n      if (el != null) {\n        el.textContent = \"BokehJS \" + root.Bokeh.version + \" successfully loaded.\";\n      }\n    } else if (Date.now() < root._bokeh_timeout) {\n      setTimeout(display_loaded, 100)\n    }\n  }\n\n\n  function run_callbacks() {\n    try {\n      root._bokeh_onload_callbacks.forEach(function(callback) { callback() });\n    }\n    finally {\n      delete root._bokeh_onload_callbacks\n    }\n    console.info(\"Bokeh: all callbacks have finished\");\n  }\n\n  function load_libs(js_urls, callback) {\n    root._bokeh_onload_callbacks.push(callback);\n    if (root._bokeh_is_loading > 0) {\n      console.log(\"Bokeh: BokehJS is being loaded, scheduling callback at\", now());\n      return null;\n    }\n    if (js_urls == null || js_urls.length === 0) {\n      run_callbacks();\n      return null;\n    }\n    console.log(\"Bokeh: BokehJS not loaded, scheduling load and callback at\", now());\n    root._bokeh_is_loading = js_urls.length;\n    for (var i = 0; i < js_urls.length; i++) {\n      var url = js_urls[i];\n      var s = document.createElement('script');\n      s.src = url;\n      s.async = false;\n      s.onreadystatechange = s.onload = function() {\n        root._bokeh_is_loading--;\n        if (root._bokeh_is_loading === 0) {\n          console.log(\"Bokeh: all BokehJS libraries loaded\");\n          run_callbacks()\n        }\n      };\n      s.onerror = function() {\n        console.warn(\"failed to load library \" + url);\n      };\n      console.log(\"Bokeh: injecting script tag for BokehJS library: \", url);\n      document.getElementsByTagName(\"head\")[0].appendChild(s);\n    }\n  };var element = document.getElementById(\"940daf71-c58c-47d8-be43-4a27121fb0bc\");\n  if (element == null) {\n    console.log(\"Bokeh: ERROR: autoload.js configured with elementid '940daf71-c58c-47d8-be43-4a27121fb0bc' but no matching script tag was found. \")\n    return false;\n  }\n\n  var js_urls = [\"https://cdn.pydata.org/bokeh/release/bokeh-0.12.15.min.js\", \"https://cdn.pydata.org/bokeh/release/bokeh-widgets-0.12.15.min.js\", \"https://cdn.pydata.org/bokeh/release/bokeh-tables-0.12.15.min.js\", \"https://cdn.pydata.org/bokeh/release/bokeh-gl-0.12.15.min.js\"];\n\n  var inline_js = [\n    function(Bokeh) {\n      Bokeh.set_log_level(\"info\");\n    },\n    \n    function(Bokeh) {\n      \n    },\n    function(Bokeh) {\n      console.log(\"Bokeh: injecting CSS: https://cdn.pydata.org/bokeh/release/bokeh-0.12.15.min.css\");\n      Bokeh.embed.inject_css(\"https://cdn.pydata.org/bokeh/release/bokeh-0.12.15.min.css\");\n      console.log(\"Bokeh: injecting CSS: https://cdn.pydata.org/bokeh/release/bokeh-widgets-0.12.15.min.css\");\n      Bokeh.embed.inject_css(\"https://cdn.pydata.org/bokeh/release/bokeh-widgets-0.12.15.min.css\");\n      console.log(\"Bokeh: injecting CSS: https://cdn.pydata.org/bokeh/release/bokeh-tables-0.12.15.min.css\");\n      Bokeh.embed.inject_css(\"https://cdn.pydata.org/bokeh/release/bokeh-tables-0.12.15.min.css\");\n    }\n  ];\n\n  function run_inline_js() {\n    \n    if ((root.Bokeh !== undefined) || (force === true)) {\n      for (var i = 0; i < inline_js.length; i++) {\n        inline_js[i].call(root, root.Bokeh);\n      }if (force === true) {\n        display_loaded();\n      }} else if (Date.now() < root._bokeh_timeout) {\n      setTimeout(run_inline_js, 100);\n    } else if (!root._bokeh_failed_load) {\n      console.log(\"Bokeh: BokehJS failed to load within specified timeout.\");\n      root._bokeh_failed_load = true;\n    } else if (force !== true) {\n      var cell = $(document.getElementById(\"940daf71-c58c-47d8-be43-4a27121fb0bc\")).parents('.cell').data().cell;\n      cell.output_area.append_execute_result(NB_LOAD_WARNING)\n    }\n\n  }\n\n  if (root._bokeh_is_loading === 0) {\n    console.log(\"Bokeh: BokehJS loaded, going straight to plotting\");\n    run_inline_js();\n  } else {\n    load_libs(js_urls, function() {\n      console.log(\"Bokeh: BokehJS plotting callback run at\", now());\n      run_inline_js();\n    });\n  }\n}(window));"
     },
     "metadata": {},
     "output_type": "display_data"
    }
   ],
   "source": [
    "output_notebook()"
   ]
  },
  {
   "cell_type": "markdown",
   "metadata": {},
   "source": [
    "# Some Basic Scatter Plots\n",
    "\n",
    "In this section you will see how to use Bokeh's various marker types to create simple scatter plots. "
   ]
  },
  {
   "cell_type": "code",
   "execution_count": 3,
   "metadata": {},
   "outputs": [
    {
     "data": {
      "text/html": [
       "\n",
       "<div class=\"bk-root\">\n",
       "    <div class=\"bk-plotdiv\" id=\"d353eaf1-8d08-4e7d-ac8c-94fe89c838b5\"></div>\n",
       "</div>"
      ]
     },
     "metadata": {},
     "output_type": "display_data"
    },
    {
     "data": {
      "application/javascript": [
       "(function(root) {\n",
       "  function embed_document(root) {\n",
       "    \n",
       "  var docs_json = {\"ea41ab00-4acb-4735-bb24-e157ad3d2a5e\":{\"roots\":{\"references\":[{\"attributes\":{\"callback\":null},\"id\":\"eeb3f0e3-fa32-4af8-91e2-847237caa598\",\"type\":\"DataRange1d\"},{\"attributes\":{},\"id\":\"7997fe74-b797-4b13-b939-5bfb111ec548\",\"type\":\"LinearScale\"},{\"attributes\":{\"dimension\":1,\"plot\":{\"id\":\"fb288f60-f16b-4291-b09b-385fd3573766\",\"subtype\":\"Figure\",\"type\":\"Plot\"},\"ticker\":{\"id\":\"a8659864-853a-425a-acac-3745046f4861\",\"type\":\"BasicTicker\"}},\"id\":\"6aa85f36-b80c-4a06-878f-225cb65fb683\",\"type\":\"Grid\"},{\"attributes\":{\"plot\":null,\"text\":\"\"},\"id\":\"d0212dee-a0c8-4547-a175-75114df5b3ca\",\"type\":\"Title\"},{\"attributes\":{\"formatter\":{\"id\":\"134b5931-a19c-43ba-a761-acabcf8a832e\",\"type\":\"BasicTickFormatter\"},\"plot\":{\"id\":\"fb288f60-f16b-4291-b09b-385fd3573766\",\"subtype\":\"Figure\",\"type\":\"Plot\"},\"ticker\":{\"id\":\"b0aeff3d-9a7e-4220-8047-f51ef411bb9d\",\"type\":\"BasicTicker\"}},\"id\":\"41f0158d-19d0-4d98-bd21-e344efe188b6\",\"type\":\"LinearAxis\"},{\"attributes\":{},\"id\":\"b0aeff3d-9a7e-4220-8047-f51ef411bb9d\",\"type\":\"BasicTicker\"},{\"attributes\":{},\"id\":\"134b5931-a19c-43ba-a761-acabcf8a832e\",\"type\":\"BasicTickFormatter\"},{\"attributes\":{\"plot\":{\"id\":\"fb288f60-f16b-4291-b09b-385fd3573766\",\"subtype\":\"Figure\",\"type\":\"Plot\"},\"ticker\":{\"id\":\"b0aeff3d-9a7e-4220-8047-f51ef411bb9d\",\"type\":\"BasicTicker\"}},\"id\":\"b55f5994-e4d1-406b-ab9c-21fb0a522f8f\",\"type\":\"Grid\"},{\"attributes\":{\"source\":{\"id\":\"59af4f42-3cc4-4c1d-9a6e-9582a0153de0\",\"type\":\"ColumnDataSource\"}},\"id\":\"31889eb6-9bf0-4b2b-ba62-51f497ace67a\",\"type\":\"CDSView\"},{\"attributes\":{\"formatter\":{\"id\":\"73200e30-6d22-48e5-95ed-e9c1bf4e0635\",\"type\":\"BasicTickFormatter\"},\"plot\":{\"id\":\"fb288f60-f16b-4291-b09b-385fd3573766\",\"subtype\":\"Figure\",\"type\":\"Plot\"},\"ticker\":{\"id\":\"a8659864-853a-425a-acac-3745046f4861\",\"type\":\"BasicTicker\"}},\"id\":\"acf62177-10af-4f14-9e8b-14251cd81026\",\"type\":\"LinearAxis\"},{\"attributes\":{},\"id\":\"411484aa-407f-4f30-8591-b6f963c12769\",\"type\":\"PanTool\"},{\"attributes\":{\"fill_alpha\":{\"value\":0.5},\"fill_color\":{\"value\":\"orange\"},\"line_color\":{\"value\":\"navy\"},\"size\":{\"units\":\"screen\",\"value\":15},\"x\":{\"field\":\"x\"},\"y\":{\"field\":\"y\"}},\"id\":\"7eba4dcb-b23c-4936-a6b3-5424e406aaed\",\"type\":\"Circle\"},{\"attributes\":{},\"id\":\"73200e30-6d22-48e5-95ed-e9c1bf4e0635\",\"type\":\"BasicTickFormatter\"},{\"attributes\":{\"below\":[{\"id\":\"41f0158d-19d0-4d98-bd21-e344efe188b6\",\"type\":\"LinearAxis\"}],\"left\":[{\"id\":\"acf62177-10af-4f14-9e8b-14251cd81026\",\"type\":\"LinearAxis\"}],\"plot_height\":400,\"plot_width\":400,\"renderers\":[{\"id\":\"41f0158d-19d0-4d98-bd21-e344efe188b6\",\"type\":\"LinearAxis\"},{\"id\":\"b55f5994-e4d1-406b-ab9c-21fb0a522f8f\",\"type\":\"Grid\"},{\"id\":\"acf62177-10af-4f14-9e8b-14251cd81026\",\"type\":\"LinearAxis\"},{\"id\":\"6aa85f36-b80c-4a06-878f-225cb65fb683\",\"type\":\"Grid\"},{\"id\":\"e21f6dc8-a728-49d4-b8b4-6b772843121e\",\"type\":\"BoxAnnotation\"},{\"id\":\"75b3b8e0-e416-4c0f-bf2a-69b8d5362148\",\"type\":\"GlyphRenderer\"}],\"title\":{\"id\":\"d0212dee-a0c8-4547-a175-75114df5b3ca\",\"type\":\"Title\"},\"toolbar\":{\"id\":\"aba049a1-531a-4431-8518-1b0943fc5ebb\",\"type\":\"Toolbar\"},\"x_range\":{\"id\":\"eeb3f0e3-fa32-4af8-91e2-847237caa598\",\"type\":\"DataRange1d\"},\"x_scale\":{\"id\":\"7997fe74-b797-4b13-b939-5bfb111ec548\",\"type\":\"LinearScale\"},\"y_range\":{\"id\":\"dfdd5af9-9453-499e-a299-89aedda7d064\",\"type\":\"DataRange1d\"},\"y_scale\":{\"id\":\"d00154a6-5859-4262-af77-3dee60e55198\",\"type\":\"LinearScale\"}},\"id\":\"fb288f60-f16b-4291-b09b-385fd3573766\",\"subtype\":\"Figure\",\"type\":\"Plot\"},{\"attributes\":{\"bottom_units\":\"screen\",\"fill_alpha\":{\"value\":0.5},\"fill_color\":{\"value\":\"lightgrey\"},\"left_units\":\"screen\",\"level\":\"overlay\",\"line_alpha\":{\"value\":1.0},\"line_color\":{\"value\":\"black\"},\"line_dash\":[4,4],\"line_width\":{\"value\":2},\"plot\":null,\"render_mode\":\"css\",\"right_units\":\"screen\",\"top_units\":\"screen\"},\"id\":\"e21f6dc8-a728-49d4-b8b4-6b772843121e\",\"type\":\"BoxAnnotation\"},{\"attributes\":{\"callback\":null,\"column_names\":[\"x\",\"y\"],\"data\":{\"x\":[1,2,3,4,5],\"y\":[6,7,2,4,5]},\"selected\":null,\"selection_policy\":null},\"id\":\"59af4f42-3cc4-4c1d-9a6e-9582a0153de0\",\"type\":\"ColumnDataSource\"},{\"attributes\":{\"data_source\":{\"id\":\"59af4f42-3cc4-4c1d-9a6e-9582a0153de0\",\"type\":\"ColumnDataSource\"},\"glyph\":{\"id\":\"7eba4dcb-b23c-4936-a6b3-5424e406aaed\",\"type\":\"Circle\"},\"hover_glyph\":null,\"muted_glyph\":null,\"nonselection_glyph\":{\"id\":\"a6524d1c-3d76-472e-9527-b54aa366e373\",\"type\":\"Circle\"},\"selection_glyph\":null,\"view\":{\"id\":\"31889eb6-9bf0-4b2b-ba62-51f497ace67a\",\"type\":\"CDSView\"}},\"id\":\"75b3b8e0-e416-4c0f-bf2a-69b8d5362148\",\"type\":\"GlyphRenderer\"},{\"attributes\":{},\"id\":\"b3ffab02-383e-4c9c-b4bc-59bb2870175c\",\"type\":\"WheelZoomTool\"},{\"attributes\":{\"active_drag\":\"auto\",\"active_inspect\":\"auto\",\"active_scroll\":\"auto\",\"active_tap\":\"auto\",\"tools\":[{\"id\":\"411484aa-407f-4f30-8591-b6f963c12769\",\"type\":\"PanTool\"},{\"id\":\"b3ffab02-383e-4c9c-b4bc-59bb2870175c\",\"type\":\"WheelZoomTool\"},{\"id\":\"0eeca33d-9a67-4b5d-a88f-924f6ee65b8a\",\"type\":\"BoxZoomTool\"},{\"id\":\"8fee063e-f919-4d5e-8000-daa72b7d6c75\",\"type\":\"SaveTool\"},{\"id\":\"c295e0d7-4aa1-4533-9445-f74d25f3b4ef\",\"type\":\"ResetTool\"},{\"id\":\"1faf6165-8385-4d06-b9ff-bb9e1664858b\",\"type\":\"HelpTool\"}]},\"id\":\"aba049a1-531a-4431-8518-1b0943fc5ebb\",\"type\":\"Toolbar\"},{\"attributes\":{\"overlay\":{\"id\":\"e21f6dc8-a728-49d4-b8b4-6b772843121e\",\"type\":\"BoxAnnotation\"}},\"id\":\"0eeca33d-9a67-4b5d-a88f-924f6ee65b8a\",\"type\":\"BoxZoomTool\"},{\"attributes\":{},\"id\":\"d00154a6-5859-4262-af77-3dee60e55198\",\"type\":\"LinearScale\"},{\"attributes\":{},\"id\":\"8fee063e-f919-4d5e-8000-daa72b7d6c75\",\"type\":\"SaveTool\"},{\"attributes\":{},\"id\":\"c295e0d7-4aa1-4533-9445-f74d25f3b4ef\",\"type\":\"ResetTool\"},{\"attributes\":{},\"id\":\"a8659864-853a-425a-acac-3745046f4861\",\"type\":\"BasicTicker\"},{\"attributes\":{},\"id\":\"1faf6165-8385-4d06-b9ff-bb9e1664858b\",\"type\":\"HelpTool\"},{\"attributes\":{\"fill_alpha\":{\"value\":0.1},\"fill_color\":{\"value\":\"#1f77b4\"},\"line_alpha\":{\"value\":0.1},\"line_color\":{\"value\":\"#1f77b4\"},\"size\":{\"units\":\"screen\",\"value\":15},\"x\":{\"field\":\"x\"},\"y\":{\"field\":\"y\"}},\"id\":\"a6524d1c-3d76-472e-9527-b54aa366e373\",\"type\":\"Circle\"},{\"attributes\":{\"callback\":null},\"id\":\"dfdd5af9-9453-499e-a299-89aedda7d064\",\"type\":\"DataRange1d\"}],\"root_ids\":[\"fb288f60-f16b-4291-b09b-385fd3573766\"]},\"title\":\"Bokeh Application\",\"version\":\"0.12.15\"}};\n",
       "  var render_items = [{\"docid\":\"ea41ab00-4acb-4735-bb24-e157ad3d2a5e\",\"elementid\":\"d353eaf1-8d08-4e7d-ac8c-94fe89c838b5\",\"modelid\":\"fb288f60-f16b-4291-b09b-385fd3573766\"}];\n",
       "  root.Bokeh.embed.embed_items_notebook(docs_json, render_items);\n",
       "\n",
       "  }\n",
       "  if (root.Bokeh !== undefined) {\n",
       "    embed_document(root);\n",
       "  } else {\n",
       "    var attempts = 0;\n",
       "    var timer = setInterval(function(root) {\n",
       "      if (root.Bokeh !== undefined) {\n",
       "        embed_document(root);\n",
       "        clearInterval(timer);\n",
       "      }\n",
       "      attempts++;\n",
       "      if (attempts > 100) {\n",
       "        console.log(\"Bokeh: ERROR: Unable to run BokehJS code because BokehJS library is missing\")\n",
       "        clearInterval(timer);\n",
       "      }\n",
       "    }, 10, root)\n",
       "  }\n",
       "})(window);"
      ],
      "application/vnd.bokehjs_exec.v0+json": ""
     },
     "metadata": {
      "application/vnd.bokehjs_exec.v0+json": {
       "id": "fb288f60-f16b-4291-b09b-385fd3573766"
      }
     },
     "output_type": "display_data"
    }
   ],
   "source": [
    "# create a new plot with default tools, using figure\n",
    "p = figure(plot_width=400, plot_height=400)\n",
    "\n",
    "# add a circle renderer with a size, color, and alpha\n",
    "p.circle([1, 2, 3, 4, 5], [6, 7, 2, 4, 5], size=15, line_color=\"navy\", fill_color=\"orange\", fill_alpha=0.5)\n",
    "\n",
    "show(p) # show the results"
   ]
  },
  {
   "cell_type": "markdown",
   "metadata": {},
   "source": [
    "All Bokeh markers accept `size` (measured in screen space units) as a property. Circles also have `radius` (measured in \"data\" space units). "
   ]
  },
  {
   "cell_type": "code",
   "execution_count": 4,
   "metadata": {},
   "outputs": [],
   "source": [
    "# EXERCISE: Try changing the example above to set a `radius` value instead of `size`\n",
    "\n"
   ]
  },
  {
   "cell_type": "markdown",
   "metadata": {},
   "source": [
    "To scatter square markers instead of circles, you can use the `square` method on figures. "
   ]
  },
  {
   "cell_type": "code",
   "execution_count": 5,
   "metadata": {},
   "outputs": [
    {
     "data": {
      "text/html": [
       "\n",
       "<div class=\"bk-root\">\n",
       "    <div class=\"bk-plotdiv\" id=\"bb72e8fb-280a-4e80-9b4b-50e6850369f6\"></div>\n",
       "</div>"
      ]
     },
     "metadata": {},
     "output_type": "display_data"
    },
    {
     "data": {
      "application/javascript": [
       "(function(root) {\n",
       "  function embed_document(root) {\n",
       "    \n",
       "  var docs_json = {\"28e85436-fc7d-4d00-af21-57c5d5d45fec\":{\"roots\":{\"references\":[{\"attributes\":{\"callback\":null},\"id\":\"1f4f7ad8-0889-4aec-aa40-fe7c46ae937a\",\"type\":\"DataRange1d\"},{\"attributes\":{},\"id\":\"339fe245-1017-4334-b51e-29cc1333c848\",\"type\":\"BasicTicker\"},{\"attributes\":{\"active_drag\":\"auto\",\"active_inspect\":\"auto\",\"active_scroll\":\"auto\",\"active_tap\":\"auto\",\"tools\":[{\"id\":\"05dd4fb9-8c1b-4aa5-a9a2-4fa95307cf10\",\"type\":\"PanTool\"},{\"id\":\"502d51db-af59-4452-a480-d63d25475819\",\"type\":\"WheelZoomTool\"},{\"id\":\"4b56a279-3e91-4a62-8318-6fa481c2c987\",\"type\":\"BoxZoomTool\"},{\"id\":\"d68ade2b-b291-4391-9230-884fa2e51f4d\",\"type\":\"SaveTool\"},{\"id\":\"27e4a9a2-6241-49c8-882f-e37d888a2353\",\"type\":\"ResetTool\"},{\"id\":\"2407d4e7-6dab-4fd2-8f71-aaea7a59f2c2\",\"type\":\"HelpTool\"}]},\"id\":\"29eb7559-2d3d-47f0-8f4b-42b3fed949d9\",\"type\":\"Toolbar\"},{\"attributes\":{},\"id\":\"1f0c8799-2d56-4dcc-b6d8-3e3048ceed91\",\"type\":\"BasicTickFormatter\"},{\"attributes\":{\"data_source\":{\"id\":\"7ed9f80b-19f5-454c-b059-6cf79eac69cb\",\"type\":\"ColumnDataSource\"},\"glyph\":{\"id\":\"4fa20ab3-f43d-45b8-88a8-fd8759e4772b\",\"type\":\"Square\"},\"hover_glyph\":null,\"muted_glyph\":null,\"nonselection_glyph\":{\"id\":\"621bf425-0aee-4403-9cb9-90270c30b558\",\"type\":\"Square\"},\"selection_glyph\":null,\"view\":{\"id\":\"f87f2d01-54cf-44aa-898d-067fcac344bb\",\"type\":\"CDSView\"}},\"id\":\"38db7533-956d-4f16-bac5-76524372993e\",\"type\":\"GlyphRenderer\"},{\"attributes\":{\"callback\":null},\"id\":\"32853b27-9ebf-4c88-91a7-4a066832af97\",\"type\":\"DataRange1d\"},{\"attributes\":{},\"id\":\"4a100ab3-ea11-4362-9817-3edae5b2d68b\",\"type\":\"LinearScale\"},{\"attributes\":{\"plot\":{\"id\":\"348f1de7-cda1-44f9-a9f1-bf622e831b31\",\"subtype\":\"Figure\",\"type\":\"Plot\"},\"ticker\":{\"id\":\"74957f83-9dbf-4efa-8b4c-cc69315b77f0\",\"type\":\"BasicTicker\"}},\"id\":\"0c8c16e6-e9c1-4be0-9556-0244693b7d7e\",\"type\":\"Grid\"},{\"attributes\":{\"formatter\":{\"id\":\"1f0c8799-2d56-4dcc-b6d8-3e3048ceed91\",\"type\":\"BasicTickFormatter\"},\"plot\":{\"id\":\"348f1de7-cda1-44f9-a9f1-bf622e831b31\",\"subtype\":\"Figure\",\"type\":\"Plot\"},\"ticker\":{\"id\":\"339fe245-1017-4334-b51e-29cc1333c848\",\"type\":\"BasicTicker\"}},\"id\":\"beac4f57-f2aa-4be3-8c15-2880b35bd214\",\"type\":\"LinearAxis\"},{\"attributes\":{},\"id\":\"6f9035cc-d2f8-484d-9cd4-3eb09da94eb3\",\"type\":\"LinearScale\"},{\"attributes\":{},\"id\":\"74957f83-9dbf-4efa-8b4c-cc69315b77f0\",\"type\":\"BasicTicker\"},{\"attributes\":{\"below\":[{\"id\":\"1217f736-99bd-4b1b-bb3c-24472e4b7600\",\"type\":\"LinearAxis\"}],\"left\":[{\"id\":\"beac4f57-f2aa-4be3-8c15-2880b35bd214\",\"type\":\"LinearAxis\"}],\"plot_height\":400,\"plot_width\":400,\"renderers\":[{\"id\":\"1217f736-99bd-4b1b-bb3c-24472e4b7600\",\"type\":\"LinearAxis\"},{\"id\":\"0c8c16e6-e9c1-4be0-9556-0244693b7d7e\",\"type\":\"Grid\"},{\"id\":\"beac4f57-f2aa-4be3-8c15-2880b35bd214\",\"type\":\"LinearAxis\"},{\"id\":\"8a13b289-e9cb-413d-81f7-0d5a40f3131f\",\"type\":\"Grid\"},{\"id\":\"f817fb28-8481-488b-9be9-b89f4a706b02\",\"type\":\"BoxAnnotation\"},{\"id\":\"38db7533-956d-4f16-bac5-76524372993e\",\"type\":\"GlyphRenderer\"}],\"title\":{\"id\":\"96d60dd7-100c-4d1a-b473-e2edb144ccb6\",\"type\":\"Title\"},\"toolbar\":{\"id\":\"29eb7559-2d3d-47f0-8f4b-42b3fed949d9\",\"type\":\"Toolbar\"},\"x_range\":{\"id\":\"1f4f7ad8-0889-4aec-aa40-fe7c46ae937a\",\"type\":\"DataRange1d\"},\"x_scale\":{\"id\":\"4a100ab3-ea11-4362-9817-3edae5b2d68b\",\"type\":\"LinearScale\"},\"y_range\":{\"id\":\"32853b27-9ebf-4c88-91a7-4a066832af97\",\"type\":\"DataRange1d\"},\"y_scale\":{\"id\":\"6f9035cc-d2f8-484d-9cd4-3eb09da94eb3\",\"type\":\"LinearScale\"}},\"id\":\"348f1de7-cda1-44f9-a9f1-bf622e831b31\",\"subtype\":\"Figure\",\"type\":\"Plot\"},{\"attributes\":{\"formatter\":{\"id\":\"31402f76-7e26-4953-848b-788744964b13\",\"type\":\"BasicTickFormatter\"},\"plot\":{\"id\":\"348f1de7-cda1-44f9-a9f1-bf622e831b31\",\"subtype\":\"Figure\",\"type\":\"Plot\"},\"ticker\":{\"id\":\"74957f83-9dbf-4efa-8b4c-cc69315b77f0\",\"type\":\"BasicTicker\"}},\"id\":\"1217f736-99bd-4b1b-bb3c-24472e4b7600\",\"type\":\"LinearAxis\"},{\"attributes\":{\"callback\":null,\"column_names\":[\"x\",\"y\",\"size\"],\"data\":{\"size\":[10,15,20,25,30],\"x\":[1,2,3,4,5],\"y\":[6,7,2,4,5]},\"selected\":null,\"selection_policy\":null},\"id\":\"7ed9f80b-19f5-454c-b059-6cf79eac69cb\",\"type\":\"ColumnDataSource\"},{\"attributes\":{\"plot\":null,\"text\":\"\"},\"id\":\"96d60dd7-100c-4d1a-b473-e2edb144ccb6\",\"type\":\"Title\"},{\"attributes\":{},\"id\":\"2407d4e7-6dab-4fd2-8f71-aaea7a59f2c2\",\"type\":\"HelpTool\"},{\"attributes\":{},\"id\":\"27e4a9a2-6241-49c8-882f-e37d888a2353\",\"type\":\"ResetTool\"},{\"attributes\":{},\"id\":\"d68ade2b-b291-4391-9230-884fa2e51f4d\",\"type\":\"SaveTool\"},{\"attributes\":{\"overlay\":{\"id\":\"f817fb28-8481-488b-9be9-b89f4a706b02\",\"type\":\"BoxAnnotation\"}},\"id\":\"4b56a279-3e91-4a62-8318-6fa481c2c987\",\"type\":\"BoxZoomTool\"},{\"attributes\":{},\"id\":\"05dd4fb9-8c1b-4aa5-a9a2-4fa95307cf10\",\"type\":\"PanTool\"},{\"attributes\":{\"source\":{\"id\":\"7ed9f80b-19f5-454c-b059-6cf79eac69cb\",\"type\":\"ColumnDataSource\"}},\"id\":\"f87f2d01-54cf-44aa-898d-067fcac344bb\",\"type\":\"CDSView\"},{\"attributes\":{},\"id\":\"502d51db-af59-4452-a480-d63d25475819\",\"type\":\"WheelZoomTool\"},{\"attributes\":{\"bottom_units\":\"screen\",\"fill_alpha\":{\"value\":0.5},\"fill_color\":{\"value\":\"lightgrey\"},\"left_units\":\"screen\",\"level\":\"overlay\",\"line_alpha\":{\"value\":1.0},\"line_color\":{\"value\":\"black\"},\"line_dash\":[4,4],\"line_width\":{\"value\":2},\"plot\":null,\"render_mode\":\"css\",\"right_units\":\"screen\",\"top_units\":\"screen\"},\"id\":\"f817fb28-8481-488b-9be9-b89f4a706b02\",\"type\":\"BoxAnnotation\"},{\"attributes\":{},\"id\":\"31402f76-7e26-4953-848b-788744964b13\",\"type\":\"BasicTickFormatter\"},{\"attributes\":{\"fill_alpha\":{\"value\":0.6},\"fill_color\":{\"value\":\"firebrick\"},\"line_alpha\":{\"value\":0.6},\"line_color\":{\"value\":\"firebrick\"},\"size\":{\"field\":\"size\",\"units\":\"screen\"},\"x\":{\"field\":\"x\"},\"y\":{\"field\":\"y\"}},\"id\":\"4fa20ab3-f43d-45b8-88a8-fd8759e4772b\",\"type\":\"Square\"},{\"attributes\":{\"fill_alpha\":{\"value\":0.1},\"fill_color\":{\"value\":\"#1f77b4\"},\"line_alpha\":{\"value\":0.1},\"line_color\":{\"value\":\"#1f77b4\"},\"size\":{\"field\":\"size\",\"units\":\"screen\"},\"x\":{\"field\":\"x\"},\"y\":{\"field\":\"y\"}},\"id\":\"621bf425-0aee-4403-9cb9-90270c30b558\",\"type\":\"Square\"},{\"attributes\":{\"dimension\":1,\"plot\":{\"id\":\"348f1de7-cda1-44f9-a9f1-bf622e831b31\",\"subtype\":\"Figure\",\"type\":\"Plot\"},\"ticker\":{\"id\":\"339fe245-1017-4334-b51e-29cc1333c848\",\"type\":\"BasicTicker\"}},\"id\":\"8a13b289-e9cb-413d-81f7-0d5a40f3131f\",\"type\":\"Grid\"}],\"root_ids\":[\"348f1de7-cda1-44f9-a9f1-bf622e831b31\"]},\"title\":\"Bokeh Application\",\"version\":\"0.12.15\"}};\n",
       "  var render_items = [{\"docid\":\"28e85436-fc7d-4d00-af21-57c5d5d45fec\",\"elementid\":\"bb72e8fb-280a-4e80-9b4b-50e6850369f6\",\"modelid\":\"348f1de7-cda1-44f9-a9f1-bf622e831b31\"}];\n",
       "  root.Bokeh.embed.embed_items_notebook(docs_json, render_items);\n",
       "\n",
       "  }\n",
       "  if (root.Bokeh !== undefined) {\n",
       "    embed_document(root);\n",
       "  } else {\n",
       "    var attempts = 0;\n",
       "    var timer = setInterval(function(root) {\n",
       "      if (root.Bokeh !== undefined) {\n",
       "        embed_document(root);\n",
       "        clearInterval(timer);\n",
       "      }\n",
       "      attempts++;\n",
       "      if (attempts > 100) {\n",
       "        console.log(\"Bokeh: ERROR: Unable to run BokehJS code because BokehJS library is missing\")\n",
       "        clearInterval(timer);\n",
       "      }\n",
       "    }, 10, root)\n",
       "  }\n",
       "})(window);"
      ],
      "application/vnd.bokehjs_exec.v0+json": ""
     },
     "metadata": {
      "application/vnd.bokehjs_exec.v0+json": {
       "id": "348f1de7-cda1-44f9-a9f1-bf622e831b31"
      }
     },
     "output_type": "display_data"
    }
   ],
   "source": [
    "# create a new plot using figure\n",
    "p = figure(plot_width=400, plot_height=400)\n",
    "\n",
    "# add a square renderer with a size, color, alpha, and sizes\n",
    "p.square([1, 2, 3, 4, 5], [6, 7, 2, 4, 5], size=[10, 15, 20, 25, 30], color=\"firebrick\", alpha=0.6)\n",
    "\n",
    "show(p) # show the results"
   ]
  },
  {
   "cell_type": "markdown",
   "metadata": {},
   "source": [
    "Note that in the example above, we are also specifying different sizes for each individual marker. ***In general, all of a glyph's properties can be \"vectorized\" in this fashion. ***  Also note that we have passed ``color`` as a shorthand to set both the line and fill colors easily at the same time. This is a convenience specific to ``bokeh.plotting``.\n",
    "\n",
    "</table><p>There are many marker types available in Bokeh, you can see details and\n",
    "example plots for all of them in the reference guide by clicking on entries in the list below:</p>\n",
    "<table class=\"hlist\" style=\"float:left\"><tr><td><ul>\n",
    "<li><a href=\"http://bokeh.pydata.org/en/latest/docs/reference/plotting.html#bokeh.plotting.Figure.asterisk\" title=\"bokeh.plotting.Figure.asterisk\"><code class=\"xref py py-func docutils literal\"><span class=\"pre\">asterisk()</span></code></a></li>\n",
    "<li><a href=\"http://bokeh.pydata.org/en/latest/docs/reference/plotting.html#bokeh.plotting.Figure.circle\" title=\"bokeh.plotting.Figure.circle\"><code class=\"xref py py-func docutils literal\"><span class=\"pre\">circle()</span></code></a></li>\n",
    "<li><a href=\"http://bokeh.pydata.org/en/latest/docs/reference/plotting.html#bokeh.plotting.Figure.circle_cross\" title=\"bokeh.plotting.Figure.circle_cross\"><code class=\"xref py py-func docutils literal\"><span class=\"pre\">circle_cross()</span></code></a></li>\n",
    "<li><a href=\"http://bokeh.pydata.org/en/latest/docs/reference/plotting.html#bokeh.plotting.Figure.circle_x\" title=\"bokeh.plotting.Figure.circle_x\"><code class=\"xref py py-func docutils literal\"><span class=\"pre\">circle_x()</span></code></a></li>\n",
    "<li><a href=\"http://bokeh.pydata.org/en/latest/docs/reference/plotting.html#bokeh.plotting.Figure.cross\" title=\"bokeh.plotting.Figure.cross\"><code class=\"xref py py-func docutils literal\"><span class=\"pre\">cross()</span></code></a></li>\n",
    "</ul>\n",
    "</td><td><ul>\n",
    "<li><a href=\"http://bokeh.pydata.org/en/latest/docs/reference/plotting.html#bokeh.plotting.Figure.diamond\" title=\"bokeh.plotting.Figure.diamond\"><code class=\"xref py py-func docutils literal\"><span class=\"pre\">diamond()</span></code></a></li>\n",
    "<li><a href=\"http://bokeh.pydata.org/en/latest/docs/reference/plotting.html#bokeh.plotting.Figure.diamond_cross\" title=\"bokeh.plotting.Figure.diamond_cross\"><code class=\"xref py py-func docutils literal\"><span class=\"pre\">diamond_cross()</span></code></a></li>\n",
    "<li><a href=\"http://bokeh.pydata.org/en/latest/docs/reference/plotting.html#bokeh.plotting.Figure.inverted_triangle\" title=\"bokeh.plotting.Figure.inverted_triangle\"><code class=\"xref py py-func docutils literal\"><span class=\"pre\">inverted_triangle()</span></code></a></li>\n",
    "<li><a href=\"http://bokeh.pydata.org/en/latest/docs/reference/plotting.html#bokeh.plotting.Figure.square\" title=\"bokeh.plotting.Figure.square\"><code class=\"xref py py-func docutils literal\"><span class=\"pre\">square()</span></code></a></li>\n",
    "</ul>\n",
    "</td><td><ul>\n",
    "<li><a href=\"http://bokeh.pydata.org/en/latest/docs/reference/plotting.html#bokeh.plotting.Figure.square_cross\" title=\"bokeh.plotting.Figure.square_cross\"><code class=\"xref py py-func docutils literal\"><span class=\"pre\">square_cross()</span></code></a></li>\n",
    "<li><a href=\"http://bokeh.pydata.org/en/latest/docs/reference/plotting.html#bokeh.plotting.Figure.square_x\" title=\"bokeh.plotting.Figure.square_x\"><code class=\"xref py py-func docutils literal\"><span class=\"pre\">square_x()</span></code></a></li>\n",
    "<li><a href=\"http://bokeh.pydata.org/en/latest/docs/reference/plotting.html#bokeh.plotting.Figure.triangle\" title=\"bokeh.plotting.Figure.triangle\"><code class=\"xref py py-func docutils literal\"><span class=\"pre\">triangle()</span></code></a></li>\n",
    "<li><a href=\"http://bokeh.pydata.org/en/latest/docs/reference/plotting.html#bokeh.plotting.Figure.x\" title=\"bokeh.plotting.Figure.x\"><code class=\"xref py py-func docutils literal\"><span class=\"pre\">x()</span></code></a></li>\n",
    "</ul>\n",
    "</td></tr></table>"
   ]
  },
  {
   "cell_type": "code",
   "execution_count": 6,
   "metadata": {},
   "outputs": [],
   "source": [
    "# EXERCISE: Plot some different markers in this cell\n",
    "\n"
   ]
  },
  {
   "cell_type": "markdown",
   "metadata": {},
   "source": [
    "# Basic Line Plots"
   ]
  },
  {
   "cell_type": "code",
   "execution_count": 7,
   "metadata": {},
   "outputs": [
    {
     "data": {
      "text/html": [
       "\n",
       "<div class=\"bk-root\">\n",
       "    <div class=\"bk-plotdiv\" id=\"feb77251-6c22-4a7a-b28a-cdd9d6d4802d\"></div>\n",
       "</div>"
      ]
     },
     "metadata": {},
     "output_type": "display_data"
    },
    {
     "data": {
      "application/javascript": [
       "(function(root) {\n",
       "  function embed_document(root) {\n",
       "    \n",
       "  var docs_json = {\"330b1dc7-3502-443f-91ed-b9d09af869f5\":{\"roots\":{\"references\":[{\"attributes\":{},\"id\":\"d488327a-e472-4c0e-801d-1c67cc727640\",\"type\":\"BasicTickFormatter\"},{\"attributes\":{\"plot\":{\"id\":\"996b3453-bc99-43fc-8ebc-6bd12e3646f3\",\"subtype\":\"Figure\",\"type\":\"Plot\"},\"ticker\":{\"id\":\"3f9da1fb-24cc-4e29-8e84-87525024c968\",\"type\":\"BasicTicker\"}},\"id\":\"bc9dc90c-7a8f-4dd1-ba32-197713dc8a79\",\"type\":\"Grid\"},{\"attributes\":{},\"id\":\"6f939451-4747-4eb7-91d9-9d0ca4521014\",\"type\":\"LinearScale\"},{\"attributes\":{\"formatter\":{\"id\":\"5cecdbf0-a192-4601-ad1d-bf6cc2bb220b\",\"type\":\"BasicTickFormatter\"},\"plot\":{\"id\":\"996b3453-bc99-43fc-8ebc-6bd12e3646f3\",\"subtype\":\"Figure\",\"type\":\"Plot\"},\"ticker\":{\"id\":\"5c4662da-eba4-4993-abef-170953b79f95\",\"type\":\"BasicTicker\"}},\"id\":\"77542dfd-d01b-4d4d-aff4-b550b4ee2a1a\",\"type\":\"LinearAxis\"},{\"attributes\":{},\"id\":\"6efac152-99e3-4141-b5a5-433f5733976f\",\"type\":\"WheelZoomTool\"},{\"attributes\":{\"callback\":null,\"column_names\":[\"x\",\"y\"],\"data\":{\"x\":[1,2,3,4,5],\"y\":[6,7,2,4,5]},\"selected\":null,\"selection_policy\":null},\"id\":\"4ff44572-daea-4c19-a010-2203a0d2f728\",\"type\":\"ColumnDataSource\"},{\"attributes\":{\"active_drag\":\"auto\",\"active_inspect\":\"auto\",\"active_scroll\":\"auto\",\"active_tap\":\"auto\",\"tools\":[{\"id\":\"652d85a7-8b5d-43b4-b799-8612dbaf17b6\",\"type\":\"PanTool\"},{\"id\":\"6efac152-99e3-4141-b5a5-433f5733976f\",\"type\":\"WheelZoomTool\"},{\"id\":\"70a93b9b-d1c9-4645-bab4-d8062a3c728a\",\"type\":\"BoxZoomTool\"},{\"id\":\"53fd6837-d52c-40ec-815f-deda7ce0a6a6\",\"type\":\"SaveTool\"},{\"id\":\"090346ea-0004-4b48-bd68-15b83509cba4\",\"type\":\"ResetTool\"},{\"id\":\"e6ab6cb0-f0db-4333-a12e-b8acb19db373\",\"type\":\"HelpTool\"}]},\"id\":\"10a3c6d7-6b86-4f20-8dd1-03b5e19c3d67\",\"type\":\"Toolbar\"},{\"attributes\":{},\"id\":\"5cecdbf0-a192-4601-ad1d-bf6cc2bb220b\",\"type\":\"BasicTickFormatter\"},{\"attributes\":{},\"id\":\"5c4662da-eba4-4993-abef-170953b79f95\",\"type\":\"BasicTicker\"},{\"attributes\":{\"callback\":null},\"id\":\"a9aff74d-15e5-4f05-a5b4-c8fd6545ff87\",\"type\":\"DataRange1d\"},{\"attributes\":{},\"id\":\"652d85a7-8b5d-43b4-b799-8612dbaf17b6\",\"type\":\"PanTool\"},{\"attributes\":{\"dimension\":1,\"plot\":{\"id\":\"996b3453-bc99-43fc-8ebc-6bd12e3646f3\",\"subtype\":\"Figure\",\"type\":\"Plot\"},\"ticker\":{\"id\":\"5c4662da-eba4-4993-abef-170953b79f95\",\"type\":\"BasicTicker\"}},\"id\":\"9195f9f8-b846-4313-b666-373f7aa47e41\",\"type\":\"Grid\"},{\"attributes\":{},\"id\":\"3f9da1fb-24cc-4e29-8e84-87525024c968\",\"type\":\"BasicTicker\"},{\"attributes\":{\"bottom_units\":\"screen\",\"fill_alpha\":{\"value\":0.5},\"fill_color\":{\"value\":\"lightgrey\"},\"left_units\":\"screen\",\"level\":\"overlay\",\"line_alpha\":{\"value\":1.0},\"line_color\":{\"value\":\"black\"},\"line_dash\":[4,4],\"line_width\":{\"value\":2},\"plot\":null,\"render_mode\":\"css\",\"right_units\":\"screen\",\"top_units\":\"screen\"},\"id\":\"61792673-6494-4fe8-b84d-acc1737ab6f2\",\"type\":\"BoxAnnotation\"},{\"attributes\":{\"line_color\":\"#1f77b4\",\"line_width\":2,\"x\":{\"field\":\"x\"},\"y\":{\"field\":\"y\"}},\"id\":\"076da52c-09bc-45b6-8bae-71b8df0348ce\",\"type\":\"Line\"},{\"attributes\":{\"line_alpha\":0.1,\"line_color\":\"#1f77b4\",\"line_width\":2,\"x\":{\"field\":\"x\"},\"y\":{\"field\":\"y\"}},\"id\":\"b34b26ec-d8b8-4a8d-a710-db33711eb7a4\",\"type\":\"Line\"},{\"attributes\":{},\"id\":\"e6ab6cb0-f0db-4333-a12e-b8acb19db373\",\"type\":\"HelpTool\"},{\"attributes\":{\"source\":{\"id\":\"4ff44572-daea-4c19-a010-2203a0d2f728\",\"type\":\"ColumnDataSource\"}},\"id\":\"ba9f6a35-b7d4-4ff7-a5d6-a74e9587cf57\",\"type\":\"CDSView\"},{\"attributes\":{},\"id\":\"7c2ddab3-4ae8-4fa6-a319-6b495bb661ef\",\"type\":\"LinearScale\"},{\"attributes\":{},\"id\":\"090346ea-0004-4b48-bd68-15b83509cba4\",\"type\":\"ResetTool\"},{\"attributes\":{\"data_source\":{\"id\":\"4ff44572-daea-4c19-a010-2203a0d2f728\",\"type\":\"ColumnDataSource\"},\"glyph\":{\"id\":\"076da52c-09bc-45b6-8bae-71b8df0348ce\",\"type\":\"Line\"},\"hover_glyph\":null,\"muted_glyph\":null,\"nonselection_glyph\":{\"id\":\"b34b26ec-d8b8-4a8d-a710-db33711eb7a4\",\"type\":\"Line\"},\"selection_glyph\":null,\"view\":{\"id\":\"ba9f6a35-b7d4-4ff7-a5d6-a74e9587cf57\",\"type\":\"CDSView\"}},\"id\":\"1c31ef61-ff01-49b6-8625-14c1f9715126\",\"type\":\"GlyphRenderer\"},{\"attributes\":{\"below\":[{\"id\":\"e37dfa81-c138-4e3b-b34c-5d98214ed210\",\"type\":\"LinearAxis\"}],\"left\":[{\"id\":\"77542dfd-d01b-4d4d-aff4-b550b4ee2a1a\",\"type\":\"LinearAxis\"}],\"plot_height\":400,\"plot_width\":400,\"renderers\":[{\"id\":\"e37dfa81-c138-4e3b-b34c-5d98214ed210\",\"type\":\"LinearAxis\"},{\"id\":\"bc9dc90c-7a8f-4dd1-ba32-197713dc8a79\",\"type\":\"Grid\"},{\"id\":\"77542dfd-d01b-4d4d-aff4-b550b4ee2a1a\",\"type\":\"LinearAxis\"},{\"id\":\"9195f9f8-b846-4313-b666-373f7aa47e41\",\"type\":\"Grid\"},{\"id\":\"61792673-6494-4fe8-b84d-acc1737ab6f2\",\"type\":\"BoxAnnotation\"},{\"id\":\"1c31ef61-ff01-49b6-8625-14c1f9715126\",\"type\":\"GlyphRenderer\"}],\"title\":{\"id\":\"627c6637-20dc-43e1-902a-f625b1137539\",\"type\":\"Title\"},\"toolbar\":{\"id\":\"10a3c6d7-6b86-4f20-8dd1-03b5e19c3d67\",\"type\":\"Toolbar\"},\"x_range\":{\"id\":\"d6af0336-30e0-4c9d-96ce-446377f23976\",\"type\":\"DataRange1d\"},\"x_scale\":{\"id\":\"6f939451-4747-4eb7-91d9-9d0ca4521014\",\"type\":\"LinearScale\"},\"y_range\":{\"id\":\"a9aff74d-15e5-4f05-a5b4-c8fd6545ff87\",\"type\":\"DataRange1d\"},\"y_scale\":{\"id\":\"7c2ddab3-4ae8-4fa6-a319-6b495bb661ef\",\"type\":\"LinearScale\"}},\"id\":\"996b3453-bc99-43fc-8ebc-6bd12e3646f3\",\"subtype\":\"Figure\",\"type\":\"Plot\"},{\"attributes\":{\"overlay\":{\"id\":\"61792673-6494-4fe8-b84d-acc1737ab6f2\",\"type\":\"BoxAnnotation\"}},\"id\":\"70a93b9b-d1c9-4645-bab4-d8062a3c728a\",\"type\":\"BoxZoomTool\"},{\"attributes\":{\"formatter\":{\"id\":\"d488327a-e472-4c0e-801d-1c67cc727640\",\"type\":\"BasicTickFormatter\"},\"plot\":{\"id\":\"996b3453-bc99-43fc-8ebc-6bd12e3646f3\",\"subtype\":\"Figure\",\"type\":\"Plot\"},\"ticker\":{\"id\":\"3f9da1fb-24cc-4e29-8e84-87525024c968\",\"type\":\"BasicTicker\"}},\"id\":\"e37dfa81-c138-4e3b-b34c-5d98214ed210\",\"type\":\"LinearAxis\"},{\"attributes\":{},\"id\":\"53fd6837-d52c-40ec-815f-deda7ce0a6a6\",\"type\":\"SaveTool\"},{\"attributes\":{\"callback\":null},\"id\":\"d6af0336-30e0-4c9d-96ce-446377f23976\",\"type\":\"DataRange1d\"},{\"attributes\":{\"plot\":null,\"text\":\"My Line Plot\"},\"id\":\"627c6637-20dc-43e1-902a-f625b1137539\",\"type\":\"Title\"}],\"root_ids\":[\"996b3453-bc99-43fc-8ebc-6bd12e3646f3\"]},\"title\":\"Bokeh Application\",\"version\":\"0.12.15\"}};\n",
       "  var render_items = [{\"docid\":\"330b1dc7-3502-443f-91ed-b9d09af869f5\",\"elementid\":\"feb77251-6c22-4a7a-b28a-cdd9d6d4802d\",\"modelid\":\"996b3453-bc99-43fc-8ebc-6bd12e3646f3\"}];\n",
       "  root.Bokeh.embed.embed_items_notebook(docs_json, render_items);\n",
       "\n",
       "  }\n",
       "  if (root.Bokeh !== undefined) {\n",
       "    embed_document(root);\n",
       "  } else {\n",
       "    var attempts = 0;\n",
       "    var timer = setInterval(function(root) {\n",
       "      if (root.Bokeh !== undefined) {\n",
       "        embed_document(root);\n",
       "        clearInterval(timer);\n",
       "      }\n",
       "      attempts++;\n",
       "      if (attempts > 100) {\n",
       "        console.log(\"Bokeh: ERROR: Unable to run BokehJS code because BokehJS library is missing\")\n",
       "        clearInterval(timer);\n",
       "      }\n",
       "    }, 10, root)\n",
       "  }\n",
       "})(window);"
      ],
      "application/vnd.bokehjs_exec.v0+json": ""
     },
     "metadata": {
      "application/vnd.bokehjs_exec.v0+json": {
       "id": "996b3453-bc99-43fc-8ebc-6bd12e3646f3"
      }
     },
     "output_type": "display_data"
    }
   ],
   "source": [
    "# create a new plot (with a title) using figure\n",
    "p = figure(plot_width=400, plot_height=400, title=\"My Line Plot\")\n",
    "\n",
    "# add a line renderer\n",
    "p.line([1, 2, 3, 4, 5], [6, 7, 2, 4, 5], line_width=2)\n",
    "\n",
    "show(p) # show the results"
   ]
  },
  {
   "cell_type": "markdown",
   "metadata": {},
   "source": [
    "# Images"
   ]
  },
  {
   "cell_type": "markdown",
   "metadata": {},
   "source": [
    "The example below shows how to use the `image_rgba` method to display raw RGBA data. \n",
    "\n",
    "**Note**: This example makes use of the NumPy library "
   ]
  },
  {
   "cell_type": "code",
   "execution_count": 8,
   "metadata": {},
   "outputs": [
    {
     "data": {
      "text/html": [
       "\n",
       "<div class=\"bk-root\">\n",
       "    <div class=\"bk-plotdiv\" id=\"de8a8974-216f-4661-a09d-1572ba258522\"></div>\n",
       "</div>"
      ]
     },
     "metadata": {},
     "output_type": "display_data"
    },
    {
     "data": {
      "application/javascript": [
       "(function(root) {\n",
       "  function embed_document(root) {\n",
       "    \n",
       "  var docs_json = {\"e10b6c9c-4cc9-48b4-9c50-220c41d3ae87\":{\"roots\":{\"references\":[{\"attributes\":{\"callback\":null,\"end\":10},\"id\":\"a6f6f857-4347-4fe2-bd0a-99e9228456e6\",\"type\":\"Range1d\"},{\"attributes\":{},\"id\":\"742be713-721e-4150-8a1c-8ffff6220084\",\"type\":\"BasicTickFormatter\"},{\"attributes\":{\"plot\":{\"id\":\"d94a2490-dfa4-4a95-8d7a-4da76dd40ea6\",\"subtype\":\"Figure\",\"type\":\"Plot\"},\"ticker\":{\"id\":\"a6b7389c-27d9-40ab-a298-09f477fa6eed\",\"type\":\"BasicTicker\"}},\"id\":\"14c1972e-f7e6-4acf-b857-22f890e5fb0b\",\"type\":\"Grid\"},{\"attributes\":{\"plot\":null,\"text\":\"\"},\"id\":\"c4dc7355-d728-4c53-ab2a-26b85e2f48fc\",\"type\":\"Title\"},{\"attributes\":{},\"id\":\"0bb808ac-47fd-4ab9-bdbb-a8fcf8bed0ab\",\"type\":\"LinearScale\"},{\"attributes\":{},\"id\":\"4046e6f1-4a65-44a8-b81f-bef14bb1135c\",\"type\":\"LinearScale\"},{\"attributes\":{\"formatter\":{\"id\":\"fd6b84cb-263a-4d04-9d82-c50320c72df4\",\"type\":\"BasicTickFormatter\"},\"plot\":{\"id\":\"d94a2490-dfa4-4a95-8d7a-4da76dd40ea6\",\"subtype\":\"Figure\",\"type\":\"Plot\"},\"ticker\":{\"id\":\"a6b7389c-27d9-40ab-a298-09f477fa6eed\",\"type\":\"BasicTicker\"}},\"id\":\"b1e31686-ef6f-4446-86c2-3040b0893505\",\"type\":\"LinearAxis\"},{\"attributes\":{},\"id\":\"a6b7389c-27d9-40ab-a298-09f477fa6eed\",\"type\":\"BasicTicker\"},{\"attributes\":{\"dh\":{\"field\":\"dh\",\"units\":\"data\"},\"dw\":{\"field\":\"dw\",\"units\":\"data\"},\"image\":{\"field\":\"image\"},\"x\":{\"field\":\"x\"},\"y\":{\"field\":\"y\"}},\"id\":\"d3338c80-f866-42e6-a02e-b6775a640956\",\"type\":\"ImageRGBA\"},{\"attributes\":{\"formatter\":{\"id\":\"742be713-721e-4150-8a1c-8ffff6220084\",\"type\":\"BasicTickFormatter\"},\"plot\":{\"id\":\"d94a2490-dfa4-4a95-8d7a-4da76dd40ea6\",\"subtype\":\"Figure\",\"type\":\"Plot\"},\"ticker\":{\"id\":\"4cb4a4ce-715d-4125-b2bc-22df9c5a66ea\",\"type\":\"BasicTicker\"}},\"id\":\"8b953178-ee8d-4fc4-bd11-20736125d3bc\",\"type\":\"LinearAxis\"},{\"attributes\":{\"dh\":{\"field\":\"dh\",\"units\":\"data\"},\"dw\":{\"field\":\"dw\",\"units\":\"data\"},\"image\":{\"field\":\"image\"},\"x\":{\"field\":\"x\"},\"y\":{\"field\":\"y\"}},\"id\":\"de29901f-4f45-4e97-80bb-3f0e7dd21817\",\"type\":\"ImageRGBA\"},{\"attributes\":{\"bottom_units\":\"screen\",\"fill_alpha\":{\"value\":0.5},\"fill_color\":{\"value\":\"lightgrey\"},\"left_units\":\"screen\",\"level\":\"overlay\",\"line_alpha\":{\"value\":1.0},\"line_color\":{\"value\":\"black\"},\"line_dash\":[4,4],\"line_width\":{\"value\":2},\"plot\":null,\"render_mode\":\"css\",\"right_units\":\"screen\",\"top_units\":\"screen\"},\"id\":\"dec22768-c36c-4b8c-bb57-f688206d8ac0\",\"type\":\"BoxAnnotation\"},{\"attributes\":{\"callback\":null,\"end\":10},\"id\":\"15b8a5c8-5159-4805-bb5f-c6daa2f6b6a5\",\"type\":\"Range1d\"},{\"attributes\":{},\"id\":\"779337c4-301d-445d-9aff-b76aca09d257\",\"type\":\"PanTool\"},{\"attributes\":{\"callback\":null,\"column_names\":[\"image\",\"x\",\"y\",\"dw\",\"dh\"],\"data\":{\"dh\":[10],\"dw\":[10],\"image\":[{\"__ndarray__\":\"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\",\"dtype\":\"uint32\",\"shape\":[20,20]}],\"x\":[0],\"y\":[0]},\"selected\":null,\"selection_policy\":null},\"id\":\"fd96de08-6990-4b90-b7e9-7445f35a133e\",\"type\":\"ColumnDataSource\"},{\"attributes\":{\"source\":{\"id\":\"fd96de08-6990-4b90-b7e9-7445f35a133e\",\"type\":\"ColumnDataSource\"}},\"id\":\"e86b68c3-1a8f-4b4f-9ba9-235df7c569b3\",\"type\":\"CDSView\"},{\"attributes\":{\"data_source\":{\"id\":\"fd96de08-6990-4b90-b7e9-7445f35a133e\",\"type\":\"ColumnDataSource\"},\"glyph\":{\"id\":\"de29901f-4f45-4e97-80bb-3f0e7dd21817\",\"type\":\"ImageRGBA\"},\"hover_glyph\":null,\"muted_glyph\":null,\"nonselection_glyph\":{\"id\":\"d3338c80-f866-42e6-a02e-b6775a640956\",\"type\":\"ImageRGBA\"},\"selection_glyph\":null,\"view\":{\"id\":\"e86b68c3-1a8f-4b4f-9ba9-235df7c569b3\",\"type\":\"CDSView\"}},\"id\":\"e319f34c-0c4d-4e6b-a570-fd047e0dae7b\",\"type\":\"GlyphRenderer\"},{\"attributes\":{},\"id\":\"8f0fadcc-dbad-402e-9caa-d1fc15fb23e4\",\"type\":\"WheelZoomTool\"},{\"attributes\":{\"below\":[{\"id\":\"b1e31686-ef6f-4446-86c2-3040b0893505\",\"type\":\"LinearAxis\"}],\"left\":[{\"id\":\"8b953178-ee8d-4fc4-bd11-20736125d3bc\",\"type\":\"LinearAxis\"}],\"renderers\":[{\"id\":\"b1e31686-ef6f-4446-86c2-3040b0893505\",\"type\":\"LinearAxis\"},{\"id\":\"14c1972e-f7e6-4acf-b857-22f890e5fb0b\",\"type\":\"Grid\"},{\"id\":\"8b953178-ee8d-4fc4-bd11-20736125d3bc\",\"type\":\"LinearAxis\"},{\"id\":\"c64f724f-dc2a-4631-8206-33a4b6cd9b42\",\"type\":\"Grid\"},{\"id\":\"dec22768-c36c-4b8c-bb57-f688206d8ac0\",\"type\":\"BoxAnnotation\"},{\"id\":\"e319f34c-0c4d-4e6b-a570-fd047e0dae7b\",\"type\":\"GlyphRenderer\"}],\"title\":{\"id\":\"c4dc7355-d728-4c53-ab2a-26b85e2f48fc\",\"type\":\"Title\"},\"toolbar\":{\"id\":\"636923c1-d043-49a0-8b98-2c93cf4a6f60\",\"type\":\"Toolbar\"},\"x_range\":{\"id\":\"15b8a5c8-5159-4805-bb5f-c6daa2f6b6a5\",\"type\":\"Range1d\"},\"x_scale\":{\"id\":\"4046e6f1-4a65-44a8-b81f-bef14bb1135c\",\"type\":\"LinearScale\"},\"y_range\":{\"id\":\"a6f6f857-4347-4fe2-bd0a-99e9228456e6\",\"type\":\"Range1d\"},\"y_scale\":{\"id\":\"0bb808ac-47fd-4ab9-bdbb-a8fcf8bed0ab\",\"type\":\"LinearScale\"}},\"id\":\"d94a2490-dfa4-4a95-8d7a-4da76dd40ea6\",\"subtype\":\"Figure\",\"type\":\"Plot\"},{\"attributes\":{\"overlay\":{\"id\":\"dec22768-c36c-4b8c-bb57-f688206d8ac0\",\"type\":\"BoxAnnotation\"}},\"id\":\"6675e561-265a-4f26-9020-d5745dd9f52b\",\"type\":\"BoxZoomTool\"},{\"attributes\":{\"active_drag\":\"auto\",\"active_inspect\":\"auto\",\"active_scroll\":\"auto\",\"active_tap\":\"auto\",\"tools\":[{\"id\":\"779337c4-301d-445d-9aff-b76aca09d257\",\"type\":\"PanTool\"},{\"id\":\"8f0fadcc-dbad-402e-9caa-d1fc15fb23e4\",\"type\":\"WheelZoomTool\"},{\"id\":\"6675e561-265a-4f26-9020-d5745dd9f52b\",\"type\":\"BoxZoomTool\"},{\"id\":\"61ab92c1-80e8-44ef-8de7-3f327f14c8a5\",\"type\":\"SaveTool\"},{\"id\":\"d2fd8f99-8075-45ff-bccf-6ea7ecd28b0f\",\"type\":\"ResetTool\"},{\"id\":\"562462ea-7775-4d29-9598-c65b5a5e9d11\",\"type\":\"HelpTool\"}]},\"id\":\"636923c1-d043-49a0-8b98-2c93cf4a6f60\",\"type\":\"Toolbar\"},{\"attributes\":{},\"id\":\"61ab92c1-80e8-44ef-8de7-3f327f14c8a5\",\"type\":\"SaveTool\"},{\"attributes\":{},\"id\":\"4cb4a4ce-715d-4125-b2bc-22df9c5a66ea\",\"type\":\"BasicTicker\"},{\"attributes\":{},\"id\":\"d2fd8f99-8075-45ff-bccf-6ea7ecd28b0f\",\"type\":\"ResetTool\"},{\"attributes\":{\"dimension\":1,\"plot\":{\"id\":\"d94a2490-dfa4-4a95-8d7a-4da76dd40ea6\",\"subtype\":\"Figure\",\"type\":\"Plot\"},\"ticker\":{\"id\":\"4cb4a4ce-715d-4125-b2bc-22df9c5a66ea\",\"type\":\"BasicTicker\"}},\"id\":\"c64f724f-dc2a-4631-8206-33a4b6cd9b42\",\"type\":\"Grid\"},{\"attributes\":{},\"id\":\"562462ea-7775-4d29-9598-c65b5a5e9d11\",\"type\":\"HelpTool\"},{\"attributes\":{},\"id\":\"fd6b84cb-263a-4d04-9d82-c50320c72df4\",\"type\":\"BasicTickFormatter\"}],\"root_ids\":[\"d94a2490-dfa4-4a95-8d7a-4da76dd40ea6\"]},\"title\":\"Bokeh Application\",\"version\":\"0.12.15\"}};\n",
       "  var render_items = [{\"docid\":\"e10b6c9c-4cc9-48b4-9c50-220c41d3ae87\",\"elementid\":\"de8a8974-216f-4661-a09d-1572ba258522\",\"modelid\":\"d94a2490-dfa4-4a95-8d7a-4da76dd40ea6\"}];\n",
       "  root.Bokeh.embed.embed_items_notebook(docs_json, render_items);\n",
       "\n",
       "  }\n",
       "  if (root.Bokeh !== undefined) {\n",
       "    embed_document(root);\n",
       "  } else {\n",
       "    var attempts = 0;\n",
       "    var timer = setInterval(function(root) {\n",
       "      if (root.Bokeh !== undefined) {\n",
       "        embed_document(root);\n",
       "        clearInterval(timer);\n",
       "      }\n",
       "      attempts++;\n",
       "      if (attempts > 100) {\n",
       "        console.log(\"Bokeh: ERROR: Unable to run BokehJS code because BokehJS library is missing\")\n",
       "        clearInterval(timer);\n",
       "      }\n",
       "    }, 10, root)\n",
       "  }\n",
       "})(window);"
      ],
      "application/vnd.bokehjs_exec.v0+json": ""
     },
     "metadata": {
      "application/vnd.bokehjs_exec.v0+json": {
       "id": "d94a2490-dfa4-4a95-8d7a-4da76dd40ea6"
      }
     },
     "output_type": "display_data"
    }
   ],
   "source": [
    "from __future__ import division\n",
    "import numpy as np\n",
    "\n",
    "# set up some data\n",
    "N = 20\n",
    "img = np.empty((N,N), dtype=np.uint32)\n",
    "view = img.view(dtype=np.uint8).reshape((N, N, 4))\n",
    "for i in range(N):\n",
    "    for j in range(N):\n",
    "        view[i, j, 0] = int(i/N*255) # red\n",
    "        view[i, j, 1] = 158          # green\n",
    "        view[i, j, 2] = int(j/N*255) # blue\n",
    "        view[i, j, 3] = 255          # alpha\n",
    "        \n",
    "# create a new plot (with a fixed range) using figure\n",
    "p = figure(x_range=[0,10], y_range=[0,10])\n",
    "\n",
    "# add an RGBA image renderer\n",
    "p.image_rgba(image=[img], x=[0], y=[0], dw=[10], dh=[10])\n",
    "\n",
    "show(p) # show the results"
   ]
  },
  {
   "cell_type": "markdown",
   "metadata": {},
   "source": [
    "# Other Kinds of Glyphs\n",
    "\n",
    "Bokeh supports many other kinds of glyphs. You can click on the User Guide links below to see how to create plots with these glyphs using the [`bokeh.plotting`](http://bokeh.pydata.org/en/latest/docs/user_guide/plotting.html) interface.\n",
    "\n",
    "* [Rectangles and Ovals](http://bokeh.pydata.org/en/latest/docs/user_guide/plotting.html#rectangles-and-ovals)\n",
    "* [Segments and Rays](http://bokeh.pydata.org/en/latest/docs/user_guide/plotting.html#segments-and-rays)\n",
    "* [Wedges and Arcs](http://bokeh.pydata.org/en/latest/docs/user_guide/plotting.html#wedges-and-arcs)\n",
    "* [Specialized Curves](http://bokeh.pydata.org/en/latest/docs/user_guide/plotting.html#specialized-curves)\n"
   ]
  },
  {
   "cell_type": "code",
   "execution_count": 9,
   "metadata": {},
   "outputs": [],
   "source": [
    "# EXERCISE: Plot some of the other glyph types, following the examples in the User Guide. \n",
    "\n"
   ]
  },
  {
   "cell_type": "markdown",
   "metadata": {},
   "source": [
    "# Plots with Multiple Glyphs \n",
    "\n",
    "It is possible to combine more than one glyph on a single figure. You just need to call multiple glyph methods on one figure object:"
   ]
  },
  {
   "cell_type": "code",
   "execution_count": 10,
   "metadata": {},
   "outputs": [
    {
     "data": {
      "text/html": [
       "\n",
       "<div class=\"bk-root\">\n",
       "    <div class=\"bk-plotdiv\" id=\"24f4f09b-339c-429d-b5f1-775aba9243f7\"></div>\n",
       "</div>"
      ]
     },
     "metadata": {},
     "output_type": "display_data"
    },
    {
     "data": {
      "application/javascript": [
       "(function(root) {\n",
       "  function embed_document(root) {\n",
       "    \n",
       "  var docs_json = {\"f1eba354-a6b8-444e-a436-4123ffad83fa\":{\"roots\":{\"references\":[{\"attributes\":{\"line_alpha\":0.1,\"line_color\":\"#1f77b4\",\"line_width\":2,\"x\":{\"field\":\"x\"},\"y\":{\"field\":\"y\"}},\"id\":\"837cb80e-12dc-4f6d-b6f2-ac72d4f83b8e\",\"type\":\"Line\"},{\"attributes\":{},\"id\":\"5e071449-ab50-4b2e-8be9-45d5d469cfb8\",\"type\":\"LinearScale\"},{\"attributes\":{},\"id\":\"1d7630f7-2ccc-4a61-8df8-c8f5c83fb153\",\"type\":\"LinearScale\"},{\"attributes\":{},\"id\":\"2ddccefa-7f9f-4c47-81c4-c06e0d28664e\",\"type\":\"BasicTicker\"},{\"attributes\":{\"formatter\":{\"id\":\"62622ee6-1d1a-482b-a3c9-267e86627386\",\"type\":\"BasicTickFormatter\"},\"plot\":{\"id\":\"2c9b85f4-b9a4-453b-a8ca-900b40b333a9\",\"subtype\":\"Figure\",\"type\":\"Plot\"},\"ticker\":{\"id\":\"26d57374-7d44-426a-adf2-d8f104576258\",\"type\":\"BasicTicker\"}},\"id\":\"69b4777b-a2fe-4f16-9930-f19545dfe7c8\",\"type\":\"LinearAxis\"},{\"attributes\":{\"callback\":null,\"column_names\":[\"x\",\"y\"],\"data\":{\"x\":[1,2,3,4,5],\"y\":[6,7,8,7,3]},\"selected\":null,\"selection_policy\":null},\"id\":\"c94c9d66-2f6a-495a-8b64-18d22fd14fd1\",\"type\":\"ColumnDataSource\"},{\"attributes\":{},\"id\":\"26d57374-7d44-426a-adf2-d8f104576258\",\"type\":\"BasicTicker\"},{\"attributes\":{\"callback\":null,\"column_names\":[\"x\",\"y\"],\"data\":{\"x\":[1,2,3,4,5],\"y\":[6,7,8,7,3]},\"selected\":null,\"selection_policy\":null},\"id\":\"4c260530-96d0-4999-b8b0-7993ab0ef8ed\",\"type\":\"ColumnDataSource\"},{\"attributes\":{\"dimension\":1,\"plot\":{\"id\":\"2c9b85f4-b9a4-453b-a8ca-900b40b333a9\",\"subtype\":\"Figure\",\"type\":\"Plot\"},\"ticker\":{\"id\":\"2ddccefa-7f9f-4c47-81c4-c06e0d28664e\",\"type\":\"BasicTicker\"}},\"id\":\"e5204f98-9860-4264-98dd-a2e5ec3926a4\",\"type\":\"Grid\"},{\"attributes\":{\"active_drag\":\"auto\",\"active_inspect\":\"auto\",\"active_scroll\":\"auto\",\"active_tap\":\"auto\",\"tools\":[{\"id\":\"7f3458f1-6e6d-43b4-b2a9-9362896a0480\",\"type\":\"PanTool\"},{\"id\":\"0b14f142-b260-4c19-937b-efe6388cb666\",\"type\":\"WheelZoomTool\"},{\"id\":\"681ea4b5-48b8-4a8a-84d2-aa60e426742c\",\"type\":\"BoxZoomTool\"},{\"id\":\"b1573a0d-fa29-48e6-9706-20453c6229a4\",\"type\":\"SaveTool\"},{\"id\":\"fda9ce53-f3ba-4e55-b825-87639f8de007\",\"type\":\"ResetTool\"},{\"id\":\"417828d0-903d-41b0-bc56-ca792d0a3ead\",\"type\":\"HelpTool\"}]},\"id\":\"b94fbce6-0442-4f05-95b2-2d7a4ab86090\",\"type\":\"Toolbar\"},{\"attributes\":{\"fill_color\":{\"value\":\"white\"},\"line_color\":{\"value\":\"#1f77b4\"},\"size\":{\"units\":\"screen\",\"value\":8},\"x\":{\"field\":\"x\"},\"y\":{\"field\":\"y\"}},\"id\":\"4f32116e-ba2f-4fc0-ae8c-21d034354738\",\"type\":\"Circle\"},{\"attributes\":{\"data_source\":{\"id\":\"c94c9d66-2f6a-495a-8b64-18d22fd14fd1\",\"type\":\"ColumnDataSource\"},\"glyph\":{\"id\":\"459a354d-4512-47f6-817a-ee710e161c73\",\"type\":\"Line\"},\"hover_glyph\":null,\"muted_glyph\":null,\"nonselection_glyph\":{\"id\":\"837cb80e-12dc-4f6d-b6f2-ac72d4f83b8e\",\"type\":\"Line\"},\"selection_glyph\":null,\"view\":{\"id\":\"50a4d520-c1aa-4698-9cbd-365981d12d1a\",\"type\":\"CDSView\"}},\"id\":\"da796143-7fc1-4364-b93e-26523033c0a8\",\"type\":\"GlyphRenderer\"},{\"attributes\":{},\"id\":\"62622ee6-1d1a-482b-a3c9-267e86627386\",\"type\":\"BasicTickFormatter\"},{\"attributes\":{\"line_color\":\"#1f77b4\",\"line_width\":2,\"x\":{\"field\":\"x\"},\"y\":{\"field\":\"y\"}},\"id\":\"459a354d-4512-47f6-817a-ee710e161c73\",\"type\":\"Line\"},{\"attributes\":{\"bottom_units\":\"screen\",\"fill_alpha\":{\"value\":0.5},\"fill_color\":{\"value\":\"lightgrey\"},\"left_units\":\"screen\",\"level\":\"overlay\",\"line_alpha\":{\"value\":1.0},\"line_color\":{\"value\":\"black\"},\"line_dash\":[4,4],\"line_width\":{\"value\":2},\"plot\":null,\"render_mode\":\"css\",\"right_units\":\"screen\",\"top_units\":\"screen\"},\"id\":\"2ba8cc9c-fc0e-4a5c-8905-7592c190c684\",\"type\":\"BoxAnnotation\"},{\"attributes\":{},\"id\":\"7f3458f1-6e6d-43b4-b2a9-9362896a0480\",\"type\":\"PanTool\"},{\"attributes\":{\"source\":{\"id\":\"c94c9d66-2f6a-495a-8b64-18d22fd14fd1\",\"type\":\"ColumnDataSource\"}},\"id\":\"50a4d520-c1aa-4698-9cbd-365981d12d1a\",\"type\":\"CDSView\"},{\"attributes\":{},\"id\":\"0b14f142-b260-4c19-937b-efe6388cb666\",\"type\":\"WheelZoomTool\"},{\"attributes\":{\"overlay\":{\"id\":\"2ba8cc9c-fc0e-4a5c-8905-7592c190c684\",\"type\":\"BoxAnnotation\"}},\"id\":\"681ea4b5-48b8-4a8a-84d2-aa60e426742c\",\"type\":\"BoxZoomTool\"},{\"attributes\":{},\"id\":\"b1573a0d-fa29-48e6-9706-20453c6229a4\",\"type\":\"SaveTool\"},{\"attributes\":{},\"id\":\"fda9ce53-f3ba-4e55-b825-87639f8de007\",\"type\":\"ResetTool\"},{\"attributes\":{},\"id\":\"417828d0-903d-41b0-bc56-ca792d0a3ead\",\"type\":\"HelpTool\"},{\"attributes\":{\"data_source\":{\"id\":\"4c260530-96d0-4999-b8b0-7993ab0ef8ed\",\"type\":\"ColumnDataSource\"},\"glyph\":{\"id\":\"4f32116e-ba2f-4fc0-ae8c-21d034354738\",\"type\":\"Circle\"},\"hover_glyph\":null,\"muted_glyph\":null,\"nonselection_glyph\":{\"id\":\"06a3f13e-911e-4f2a-bc74-9380a6a5e659\",\"type\":\"Circle\"},\"selection_glyph\":null,\"view\":{\"id\":\"5ad1a269-15a5-4c7a-8eef-d66321ae191f\",\"type\":\"CDSView\"}},\"id\":\"1839920e-f80e-425b-9b2a-531271874dc2\",\"type\":\"GlyphRenderer\"},{\"attributes\":{\"below\":[{\"id\":\"69b4777b-a2fe-4f16-9930-f19545dfe7c8\",\"type\":\"LinearAxis\"}],\"left\":[{\"id\":\"9804f3a2-bca5-4fee-8594-1dc4d403e571\",\"type\":\"LinearAxis\"}],\"plot_height\":400,\"plot_width\":400,\"renderers\":[{\"id\":\"69b4777b-a2fe-4f16-9930-f19545dfe7c8\",\"type\":\"LinearAxis\"},{\"id\":\"1f0c0465-e5d4-45de-9f7d-3d5e98387ad1\",\"type\":\"Grid\"},{\"id\":\"9804f3a2-bca5-4fee-8594-1dc4d403e571\",\"type\":\"LinearAxis\"},{\"id\":\"e5204f98-9860-4264-98dd-a2e5ec3926a4\",\"type\":\"Grid\"},{\"id\":\"2ba8cc9c-fc0e-4a5c-8905-7592c190c684\",\"type\":\"BoxAnnotation\"},{\"id\":\"da796143-7fc1-4364-b93e-26523033c0a8\",\"type\":\"GlyphRenderer\"},{\"id\":\"1839920e-f80e-425b-9b2a-531271874dc2\",\"type\":\"GlyphRenderer\"}],\"title\":{\"id\":\"bfaed53d-4458-4ce0-a72d-fb35ee08835b\",\"type\":\"Title\"},\"toolbar\":{\"id\":\"b94fbce6-0442-4f05-95b2-2d7a4ab86090\",\"type\":\"Toolbar\"},\"x_range\":{\"id\":\"85e093a2-3eab-466a-8023-d5c08f233a2d\",\"type\":\"DataRange1d\"},\"x_scale\":{\"id\":\"5e071449-ab50-4b2e-8be9-45d5d469cfb8\",\"type\":\"LinearScale\"},\"y_range\":{\"id\":\"b06341a0-86de-472a-b426-a8cdba49f0cb\",\"type\":\"DataRange1d\"},\"y_scale\":{\"id\":\"1d7630f7-2ccc-4a61-8df8-c8f5c83fb153\",\"type\":\"LinearScale\"}},\"id\":\"2c9b85f4-b9a4-453b-a8ca-900b40b333a9\",\"subtype\":\"Figure\",\"type\":\"Plot\"},{\"attributes\":{},\"id\":\"c9ee3a9b-cf4e-415b-bfe4-6c0b56375e0a\",\"type\":\"BasicTickFormatter\"},{\"attributes\":{\"plot\":null,\"text\":\"\"},\"id\":\"bfaed53d-4458-4ce0-a72d-fb35ee08835b\",\"type\":\"Title\"},{\"attributes\":{\"source\":{\"id\":\"4c260530-96d0-4999-b8b0-7993ab0ef8ed\",\"type\":\"ColumnDataSource\"}},\"id\":\"5ad1a269-15a5-4c7a-8eef-d66321ae191f\",\"type\":\"CDSView\"},{\"attributes\":{\"fill_alpha\":{\"value\":0.1},\"fill_color\":{\"value\":\"#1f77b4\"},\"line_alpha\":{\"value\":0.1},\"line_color\":{\"value\":\"#1f77b4\"},\"size\":{\"units\":\"screen\",\"value\":8},\"x\":{\"field\":\"x\"},\"y\":{\"field\":\"y\"}},\"id\":\"06a3f13e-911e-4f2a-bc74-9380a6a5e659\",\"type\":\"Circle\"},{\"attributes\":{\"callback\":null},\"id\":\"85e093a2-3eab-466a-8023-d5c08f233a2d\",\"type\":\"DataRange1d\"},{\"attributes\":{\"formatter\":{\"id\":\"c9ee3a9b-cf4e-415b-bfe4-6c0b56375e0a\",\"type\":\"BasicTickFormatter\"},\"plot\":{\"id\":\"2c9b85f4-b9a4-453b-a8ca-900b40b333a9\",\"subtype\":\"Figure\",\"type\":\"Plot\"},\"ticker\":{\"id\":\"2ddccefa-7f9f-4c47-81c4-c06e0d28664e\",\"type\":\"BasicTicker\"}},\"id\":\"9804f3a2-bca5-4fee-8594-1dc4d403e571\",\"type\":\"LinearAxis\"},{\"attributes\":{\"callback\":null},\"id\":\"b06341a0-86de-472a-b426-a8cdba49f0cb\",\"type\":\"DataRange1d\"},{\"attributes\":{\"plot\":{\"id\":\"2c9b85f4-b9a4-453b-a8ca-900b40b333a9\",\"subtype\":\"Figure\",\"type\":\"Plot\"},\"ticker\":{\"id\":\"26d57374-7d44-426a-adf2-d8f104576258\",\"type\":\"BasicTicker\"}},\"id\":\"1f0c0465-e5d4-45de-9f7d-3d5e98387ad1\",\"type\":\"Grid\"}],\"root_ids\":[\"2c9b85f4-b9a4-453b-a8ca-900b40b333a9\"]},\"title\":\"Bokeh Application\",\"version\":\"0.12.15\"}};\n",
       "  var render_items = [{\"docid\":\"f1eba354-a6b8-444e-a436-4123ffad83fa\",\"elementid\":\"24f4f09b-339c-429d-b5f1-775aba9243f7\",\"modelid\":\"2c9b85f4-b9a4-453b-a8ca-900b40b333a9\"}];\n",
       "  root.Bokeh.embed.embed_items_notebook(docs_json, render_items);\n",
       "\n",
       "  }\n",
       "  if (root.Bokeh !== undefined) {\n",
       "    embed_document(root);\n",
       "  } else {\n",
       "    var attempts = 0;\n",
       "    var timer = setInterval(function(root) {\n",
       "      if (root.Bokeh !== undefined) {\n",
       "        embed_document(root);\n",
       "        clearInterval(timer);\n",
       "      }\n",
       "      attempts++;\n",
       "      if (attempts > 100) {\n",
       "        console.log(\"Bokeh: ERROR: Unable to run BokehJS code because BokehJS library is missing\")\n",
       "        clearInterval(timer);\n",
       "      }\n",
       "    }, 10, root)\n",
       "  }\n",
       "})(window);"
      ],
      "application/vnd.bokehjs_exec.v0+json": ""
     },
     "metadata": {
      "application/vnd.bokehjs_exec.v0+json": {
       "id": "2c9b85f4-b9a4-453b-a8ca-900b40b333a9"
      }
     },
     "output_type": "display_data"
    }
   ],
   "source": [
    "# set up some data\n",
    "x = [1, 2, 3, 4, 5]\n",
    "y = [6, 7, 8, 7, 3]\n",
    "\n",
    "# create a new plot with figure\n",
    "p = figure(plot_width=400, plot_height=400)\n",
    "\n",
    "# add both a line and circles on the same plot\n",
    "p.line(x, y, line_width=2)\n",
    "p.circle(x, y, fill_color=\"white\", size=8)\n",
    "\n",
    "show(p) # show the results"
   ]
  },
  {
   "cell_type": "code",
   "execution_count": 11,
   "metadata": {},
   "outputs": [],
   "source": [
    "# EXERCISE: create your own plot combining multiple glyphs together\n",
    "\n"
   ]
  }
 ],
 "metadata": {
  "anaconda-cloud": {},
  "kernelspec": {
   "display_name": "Python 3",
   "language": "python",
   "name": "python3"
  },
  "language_info": {
   "codemirror_mode": {
    "name": "ipython",
    "version": 3
   },
   "file_extension": ".py",
   "mimetype": "text/x-python",
   "name": "python",
   "nbconvert_exporter": "python",
   "pygments_lexer": "ipython3",
   "version": "3.6.5"
  }
 },
 "nbformat": 4,
 "nbformat_minor": 1
}
