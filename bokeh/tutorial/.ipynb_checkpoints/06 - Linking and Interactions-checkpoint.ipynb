{
 "cells": [
  {
   "cell_type": "markdown",
   "metadata": {},
   "source": [
    "<table style=\"float:left; border:none\">\n",
    "   <tr style=\"border:none; background-color: #ffffff\">\n",
    "       <td style=\"border:none\">\n",
    "           <a href=\"http://bokeh.pydata.org/\">     \n",
    "           <img \n",
    "               src=\"assets/bokeh-transparent.png\" \n",
    "               style=\"width:50px\"\n",
    "           >\n",
    "           </a>    \n",
    "       </td>\n",
    "       <td style=\"border:none\">\n",
    "           <h1>Bokeh Tutorial</h1>\n",
    "       </td>\n",
    "   </tr>\n",
    "</table>\n",
    "\n",
    "<div style=\"float:right;\"><h2>06. Linking and Interactions</h2></div>"
   ]
  },
  {
   "cell_type": "code",
   "execution_count": 1,
   "metadata": {},
   "outputs": [
    {
     "data": {
      "text/html": [
       "\n",
       "    <div class=\"bk-root\">\n",
       "        <a href=\"https://bokeh.pydata.org\" target=\"_blank\" class=\"bk-logo bk-logo-small bk-logo-notebook\"></a>\n",
       "        <span id=\"7a4345be-e75b-4cc8-a45e-4472614883d3\">Loading BokehJS ...</span>\n",
       "    </div>"
      ]
     },
     "metadata": {},
     "output_type": "display_data"
    },
    {
     "data": {
      "application/javascript": [
       "\n",
       "(function(root) {\n",
       "  function now() {\n",
       "    return new Date();\n",
       "  }\n",
       "\n",
       "  var force = true;\n",
       "\n",
       "  if (typeof (root._bokeh_onload_callbacks) === \"undefined\" || force === true) {\n",
       "    root._bokeh_onload_callbacks = [];\n",
       "    root._bokeh_is_loading = undefined;\n",
       "  }\n",
       "\n",
       "  var JS_MIME_TYPE = 'application/javascript';\n",
       "  var HTML_MIME_TYPE = 'text/html';\n",
       "  var EXEC_MIME_TYPE = 'application/vnd.bokehjs_exec.v0+json';\n",
       "  var CLASS_NAME = 'output_bokeh rendered_html';\n",
       "\n",
       "  /**\n",
       "   * Render data to the DOM node\n",
       "   */\n",
       "  function render(props, node) {\n",
       "    var script = document.createElement(\"script\");\n",
       "    node.appendChild(script);\n",
       "  }\n",
       "\n",
       "  /**\n",
       "   * Handle when an output is cleared or removed\n",
       "   */\n",
       "  function handleClearOutput(event, handle) {\n",
       "    var cell = handle.cell;\n",
       "\n",
       "    var id = cell.output_area._bokeh_element_id;\n",
       "    var server_id = cell.output_area._bokeh_server_id;\n",
       "    // Clean up Bokeh references\n",
       "    if (id !== undefined) {\n",
       "      Bokeh.index[id].model.document.clear();\n",
       "      delete Bokeh.index[id];\n",
       "    }\n",
       "\n",
       "    if (server_id !== undefined) {\n",
       "      // Clean up Bokeh references\n",
       "      var cmd = \"from bokeh.io.state import curstate; print(curstate().uuid_to_server['\" + server_id + \"'].get_sessions()[0].document.roots[0]._id)\";\n",
       "      cell.notebook.kernel.execute(cmd, {\n",
       "        iopub: {\n",
       "          output: function(msg) {\n",
       "            var element_id = msg.content.text.trim();\n",
       "            Bokeh.index[element_id].model.document.clear();\n",
       "            delete Bokeh.index[element_id];\n",
       "          }\n",
       "        }\n",
       "      });\n",
       "      // Destroy server and session\n",
       "      var cmd = \"import bokeh.io.notebook as ion; ion.destroy_server('\" + server_id + \"')\";\n",
       "      cell.notebook.kernel.execute(cmd);\n",
       "    }\n",
       "  }\n",
       "\n",
       "  /**\n",
       "   * Handle when a new output is added\n",
       "   */\n",
       "  function handleAddOutput(event, handle) {\n",
       "    var output_area = handle.output_area;\n",
       "    var output = handle.output;\n",
       "\n",
       "    // limit handleAddOutput to display_data with EXEC_MIME_TYPE content only\n",
       "    if ((output.output_type != \"display_data\") || (!output.data.hasOwnProperty(EXEC_MIME_TYPE))) {\n",
       "      return\n",
       "    }\n",
       "\n",
       "    var toinsert = output_area.element.find(\".\" + CLASS_NAME.split(' ')[0]);\n",
       "\n",
       "    if (output.metadata[EXEC_MIME_TYPE][\"id\"] !== undefined) {\n",
       "      toinsert[toinsert.length - 1].firstChild.textContent = output.data[JS_MIME_TYPE];\n",
       "      // store reference to embed id on output_area\n",
       "      output_area._bokeh_element_id = output.metadata[EXEC_MIME_TYPE][\"id\"];\n",
       "    }\n",
       "    if (output.metadata[EXEC_MIME_TYPE][\"server_id\"] !== undefined) {\n",
       "      var bk_div = document.createElement(\"div\");\n",
       "      bk_div.innerHTML = output.data[HTML_MIME_TYPE];\n",
       "      var script_attrs = bk_div.children[0].attributes;\n",
       "      for (var i = 0; i < script_attrs.length; i++) {\n",
       "        toinsert[toinsert.length - 1].firstChild.setAttribute(script_attrs[i].name, script_attrs[i].value);\n",
       "      }\n",
       "      // store reference to server id on output_area\n",
       "      output_area._bokeh_server_id = output.metadata[EXEC_MIME_TYPE][\"server_id\"];\n",
       "    }\n",
       "  }\n",
       "\n",
       "  function register_renderer(events, OutputArea) {\n",
       "\n",
       "    function append_mime(data, metadata, element) {\n",
       "      // create a DOM node to render to\n",
       "      var toinsert = this.create_output_subarea(\n",
       "        metadata,\n",
       "        CLASS_NAME,\n",
       "        EXEC_MIME_TYPE\n",
       "      );\n",
       "      this.keyboard_manager.register_events(toinsert);\n",
       "      // Render to node\n",
       "      var props = {data: data, metadata: metadata[EXEC_MIME_TYPE]};\n",
       "      render(props, toinsert[toinsert.length - 1]);\n",
       "      element.append(toinsert);\n",
       "      return toinsert\n",
       "    }\n",
       "\n",
       "    /* Handle when an output is cleared or removed */\n",
       "    events.on('clear_output.CodeCell', handleClearOutput);\n",
       "    events.on('delete.Cell', handleClearOutput);\n",
       "\n",
       "    /* Handle when a new output is added */\n",
       "    events.on('output_added.OutputArea', handleAddOutput);\n",
       "\n",
       "    /**\n",
       "     * Register the mime type and append_mime function with output_area\n",
       "     */\n",
       "    OutputArea.prototype.register_mime_type(EXEC_MIME_TYPE, append_mime, {\n",
       "      /* Is output safe? */\n",
       "      safe: true,\n",
       "      /* Index of renderer in `output_area.display_order` */\n",
       "      index: 0\n",
       "    });\n",
       "  }\n",
       "\n",
       "  // register the mime type if in Jupyter Notebook environment and previously unregistered\n",
       "  if (root.Jupyter !== undefined) {\n",
       "    var events = require('base/js/events');\n",
       "    var OutputArea = require('notebook/js/outputarea').OutputArea;\n",
       "\n",
       "    if (OutputArea.prototype.mime_types().indexOf(EXEC_MIME_TYPE) == -1) {\n",
       "      register_renderer(events, OutputArea);\n",
       "    }\n",
       "  }\n",
       "\n",
       "  \n",
       "  if (typeof (root._bokeh_timeout) === \"undefined\" || force === true) {\n",
       "    root._bokeh_timeout = Date.now() + 5000;\n",
       "    root._bokeh_failed_load = false;\n",
       "  }\n",
       "\n",
       "  var NB_LOAD_WARNING = {'data': {'text/html':\n",
       "     \"<div style='background-color: #fdd'>\\n\"+\n",
       "     \"<p>\\n\"+\n",
       "     \"BokehJS does not appear to have successfully loaded. If loading BokehJS from CDN, this \\n\"+\n",
       "     \"may be due to a slow or bad network connection. Possible fixes:\\n\"+\n",
       "     \"</p>\\n\"+\n",
       "     \"<ul>\\n\"+\n",
       "     \"<li>re-rerun `output_notebook()` to attempt to load from CDN again, or</li>\\n\"+\n",
       "     \"<li>use INLINE resources instead, as so:</li>\\n\"+\n",
       "     \"</ul>\\n\"+\n",
       "     \"<code>\\n\"+\n",
       "     \"from bokeh.resources import INLINE\\n\"+\n",
       "     \"output_notebook(resources=INLINE)\\n\"+\n",
       "     \"</code>\\n\"+\n",
       "     \"</div>\"}};\n",
       "\n",
       "  function display_loaded() {\n",
       "    var el = document.getElementById(\"7a4345be-e75b-4cc8-a45e-4472614883d3\");\n",
       "    if (el != null) {\n",
       "      el.textContent = \"BokehJS is loading...\";\n",
       "    }\n",
       "    if (root.Bokeh !== undefined) {\n",
       "      if (el != null) {\n",
       "        el.textContent = \"BokehJS \" + root.Bokeh.version + \" successfully loaded.\";\n",
       "      }\n",
       "    } else if (Date.now() < root._bokeh_timeout) {\n",
       "      setTimeout(display_loaded, 100)\n",
       "    }\n",
       "  }\n",
       "\n",
       "\n",
       "  function run_callbacks() {\n",
       "    try {\n",
       "      root._bokeh_onload_callbacks.forEach(function(callback) { callback() });\n",
       "    }\n",
       "    finally {\n",
       "      delete root._bokeh_onload_callbacks\n",
       "    }\n",
       "    console.info(\"Bokeh: all callbacks have finished\");\n",
       "  }\n",
       "\n",
       "  function load_libs(js_urls, callback) {\n",
       "    root._bokeh_onload_callbacks.push(callback);\n",
       "    if (root._bokeh_is_loading > 0) {\n",
       "      console.log(\"Bokeh: BokehJS is being loaded, scheduling callback at\", now());\n",
       "      return null;\n",
       "    }\n",
       "    if (js_urls == null || js_urls.length === 0) {\n",
       "      run_callbacks();\n",
       "      return null;\n",
       "    }\n",
       "    console.log(\"Bokeh: BokehJS not loaded, scheduling load and callback at\", now());\n",
       "    root._bokeh_is_loading = js_urls.length;\n",
       "    for (var i = 0; i < js_urls.length; i++) {\n",
       "      var url = js_urls[i];\n",
       "      var s = document.createElement('script');\n",
       "      s.src = url;\n",
       "      s.async = false;\n",
       "      s.onreadystatechange = s.onload = function() {\n",
       "        root._bokeh_is_loading--;\n",
       "        if (root._bokeh_is_loading === 0) {\n",
       "          console.log(\"Bokeh: all BokehJS libraries loaded\");\n",
       "          run_callbacks()\n",
       "        }\n",
       "      };\n",
       "      s.onerror = function() {\n",
       "        console.warn(\"failed to load library \" + url);\n",
       "      };\n",
       "      console.log(\"Bokeh: injecting script tag for BokehJS library: \", url);\n",
       "      document.getElementsByTagName(\"head\")[0].appendChild(s);\n",
       "    }\n",
       "  };var element = document.getElementById(\"7a4345be-e75b-4cc8-a45e-4472614883d3\");\n",
       "  if (element == null) {\n",
       "    console.log(\"Bokeh: ERROR: autoload.js configured with elementid '7a4345be-e75b-4cc8-a45e-4472614883d3' but no matching script tag was found. \")\n",
       "    return false;\n",
       "  }\n",
       "\n",
       "  var js_urls = [\"https://cdn.pydata.org/bokeh/release/bokeh-0.12.15.min.js\", \"https://cdn.pydata.org/bokeh/release/bokeh-widgets-0.12.15.min.js\", \"https://cdn.pydata.org/bokeh/release/bokeh-tables-0.12.15.min.js\", \"https://cdn.pydata.org/bokeh/release/bokeh-gl-0.12.15.min.js\"];\n",
       "\n",
       "  var inline_js = [\n",
       "    function(Bokeh) {\n",
       "      Bokeh.set_log_level(\"info\");\n",
       "    },\n",
       "    \n",
       "    function(Bokeh) {\n",
       "      \n",
       "    },\n",
       "    function(Bokeh) {\n",
       "      console.log(\"Bokeh: injecting CSS: https://cdn.pydata.org/bokeh/release/bokeh-0.12.15.min.css\");\n",
       "      Bokeh.embed.inject_css(\"https://cdn.pydata.org/bokeh/release/bokeh-0.12.15.min.css\");\n",
       "      console.log(\"Bokeh: injecting CSS: https://cdn.pydata.org/bokeh/release/bokeh-widgets-0.12.15.min.css\");\n",
       "      Bokeh.embed.inject_css(\"https://cdn.pydata.org/bokeh/release/bokeh-widgets-0.12.15.min.css\");\n",
       "      console.log(\"Bokeh: injecting CSS: https://cdn.pydata.org/bokeh/release/bokeh-tables-0.12.15.min.css\");\n",
       "      Bokeh.embed.inject_css(\"https://cdn.pydata.org/bokeh/release/bokeh-tables-0.12.15.min.css\");\n",
       "    }\n",
       "  ];\n",
       "\n",
       "  function run_inline_js() {\n",
       "    \n",
       "    if ((root.Bokeh !== undefined) || (force === true)) {\n",
       "      for (var i = 0; i < inline_js.length; i++) {\n",
       "        inline_js[i].call(root, root.Bokeh);\n",
       "      }if (force === true) {\n",
       "        display_loaded();\n",
       "      }} else if (Date.now() < root._bokeh_timeout) {\n",
       "      setTimeout(run_inline_js, 100);\n",
       "    } else if (!root._bokeh_failed_load) {\n",
       "      console.log(\"Bokeh: BokehJS failed to load within specified timeout.\");\n",
       "      root._bokeh_failed_load = true;\n",
       "    } else if (force !== true) {\n",
       "      var cell = $(document.getElementById(\"7a4345be-e75b-4cc8-a45e-4472614883d3\")).parents('.cell').data().cell;\n",
       "      cell.output_area.append_execute_result(NB_LOAD_WARNING)\n",
       "    }\n",
       "\n",
       "  }\n",
       "\n",
       "  if (root._bokeh_is_loading === 0) {\n",
       "    console.log(\"Bokeh: BokehJS loaded, going straight to plotting\");\n",
       "    run_inline_js();\n",
       "  } else {\n",
       "    load_libs(js_urls, function() {\n",
       "      console.log(\"Bokeh: BokehJS plotting callback run at\", now());\n",
       "      run_inline_js();\n",
       "    });\n",
       "  }\n",
       "}(window));"
      ],
      "application/vnd.bokehjs_load.v0+json": "\n(function(root) {\n  function now() {\n    return new Date();\n  }\n\n  var force = true;\n\n  if (typeof (root._bokeh_onload_callbacks) === \"undefined\" || force === true) {\n    root._bokeh_onload_callbacks = [];\n    root._bokeh_is_loading = undefined;\n  }\n\n  \n\n  \n  if (typeof (root._bokeh_timeout) === \"undefined\" || force === true) {\n    root._bokeh_timeout = Date.now() + 5000;\n    root._bokeh_failed_load = false;\n  }\n\n  var NB_LOAD_WARNING = {'data': {'text/html':\n     \"<div style='background-color: #fdd'>\\n\"+\n     \"<p>\\n\"+\n     \"BokehJS does not appear to have successfully loaded. If loading BokehJS from CDN, this \\n\"+\n     \"may be due to a slow or bad network connection. Possible fixes:\\n\"+\n     \"</p>\\n\"+\n     \"<ul>\\n\"+\n     \"<li>re-rerun `output_notebook()` to attempt to load from CDN again, or</li>\\n\"+\n     \"<li>use INLINE resources instead, as so:</li>\\n\"+\n     \"</ul>\\n\"+\n     \"<code>\\n\"+\n     \"from bokeh.resources import INLINE\\n\"+\n     \"output_notebook(resources=INLINE)\\n\"+\n     \"</code>\\n\"+\n     \"</div>\"}};\n\n  function display_loaded() {\n    var el = document.getElementById(\"7a4345be-e75b-4cc8-a45e-4472614883d3\");\n    if (el != null) {\n      el.textContent = \"BokehJS is loading...\";\n    }\n    if (root.Bokeh !== undefined) {\n      if (el != null) {\n        el.textContent = \"BokehJS \" + root.Bokeh.version + \" successfully loaded.\";\n      }\n    } else if (Date.now() < root._bokeh_timeout) {\n      setTimeout(display_loaded, 100)\n    }\n  }\n\n\n  function run_callbacks() {\n    try {\n      root._bokeh_onload_callbacks.forEach(function(callback) { callback() });\n    }\n    finally {\n      delete root._bokeh_onload_callbacks\n    }\n    console.info(\"Bokeh: all callbacks have finished\");\n  }\n\n  function load_libs(js_urls, callback) {\n    root._bokeh_onload_callbacks.push(callback);\n    if (root._bokeh_is_loading > 0) {\n      console.log(\"Bokeh: BokehJS is being loaded, scheduling callback at\", now());\n      return null;\n    }\n    if (js_urls == null || js_urls.length === 0) {\n      run_callbacks();\n      return null;\n    }\n    console.log(\"Bokeh: BokehJS not loaded, scheduling load and callback at\", now());\n    root._bokeh_is_loading = js_urls.length;\n    for (var i = 0; i < js_urls.length; i++) {\n      var url = js_urls[i];\n      var s = document.createElement('script');\n      s.src = url;\n      s.async = false;\n      s.onreadystatechange = s.onload = function() {\n        root._bokeh_is_loading--;\n        if (root._bokeh_is_loading === 0) {\n          console.log(\"Bokeh: all BokehJS libraries loaded\");\n          run_callbacks()\n        }\n      };\n      s.onerror = function() {\n        console.warn(\"failed to load library \" + url);\n      };\n      console.log(\"Bokeh: injecting script tag for BokehJS library: \", url);\n      document.getElementsByTagName(\"head\")[0].appendChild(s);\n    }\n  };var element = document.getElementById(\"7a4345be-e75b-4cc8-a45e-4472614883d3\");\n  if (element == null) {\n    console.log(\"Bokeh: ERROR: autoload.js configured with elementid '7a4345be-e75b-4cc8-a45e-4472614883d3' but no matching script tag was found. \")\n    return false;\n  }\n\n  var js_urls = [\"https://cdn.pydata.org/bokeh/release/bokeh-0.12.15.min.js\", \"https://cdn.pydata.org/bokeh/release/bokeh-widgets-0.12.15.min.js\", \"https://cdn.pydata.org/bokeh/release/bokeh-tables-0.12.15.min.js\", \"https://cdn.pydata.org/bokeh/release/bokeh-gl-0.12.15.min.js\"];\n\n  var inline_js = [\n    function(Bokeh) {\n      Bokeh.set_log_level(\"info\");\n    },\n    \n    function(Bokeh) {\n      \n    },\n    function(Bokeh) {\n      console.log(\"Bokeh: injecting CSS: https://cdn.pydata.org/bokeh/release/bokeh-0.12.15.min.css\");\n      Bokeh.embed.inject_css(\"https://cdn.pydata.org/bokeh/release/bokeh-0.12.15.min.css\");\n      console.log(\"Bokeh: injecting CSS: https://cdn.pydata.org/bokeh/release/bokeh-widgets-0.12.15.min.css\");\n      Bokeh.embed.inject_css(\"https://cdn.pydata.org/bokeh/release/bokeh-widgets-0.12.15.min.css\");\n      console.log(\"Bokeh: injecting CSS: https://cdn.pydata.org/bokeh/release/bokeh-tables-0.12.15.min.css\");\n      Bokeh.embed.inject_css(\"https://cdn.pydata.org/bokeh/release/bokeh-tables-0.12.15.min.css\");\n    }\n  ];\n\n  function run_inline_js() {\n    \n    if ((root.Bokeh !== undefined) || (force === true)) {\n      for (var i = 0; i < inline_js.length; i++) {\n        inline_js[i].call(root, root.Bokeh);\n      }if (force === true) {\n        display_loaded();\n      }} else if (Date.now() < root._bokeh_timeout) {\n      setTimeout(run_inline_js, 100);\n    } else if (!root._bokeh_failed_load) {\n      console.log(\"Bokeh: BokehJS failed to load within specified timeout.\");\n      root._bokeh_failed_load = true;\n    } else if (force !== true) {\n      var cell = $(document.getElementById(\"7a4345be-e75b-4cc8-a45e-4472614883d3\")).parents('.cell').data().cell;\n      cell.output_area.append_execute_result(NB_LOAD_WARNING)\n    }\n\n  }\n\n  if (root._bokeh_is_loading === 0) {\n    console.log(\"Bokeh: BokehJS loaded, going straight to plotting\");\n    run_inline_js();\n  } else {\n    load_libs(js_urls, function() {\n      console.log(\"Bokeh: BokehJS plotting callback run at\", now());\n      run_inline_js();\n    });\n  }\n}(window));"
     },
     "metadata": {},
     "output_type": "display_data"
    }
   ],
   "source": [
    "from bokeh.io import output_notebook, show\n",
    "from bokeh.plotting import figure\n",
    "output_notebook()"
   ]
  },
  {
   "cell_type": "markdown",
   "metadata": {},
   "source": [
    "Now that we know from the previous chapter how multiple plots can be placed together in a layout, we can start to look at how different plots can be linked togeher, or how plots can be linked to widgets. "
   ]
  },
  {
   "cell_type": "markdown",
   "metadata": {
    "collapsed": true
   },
   "source": [
    "# Linked Interactions\n",
    "\n",
    "It is possible to link various interactions between different Bokeh plots. For instance, the ranges of two (or more) plots can be linked, so that when one of the plots is panned (or zoomed, or otherwise has its range changed) the other plots will update in unison. It is also possible to link selections between two plots, so that when items are selected on one plot, the corresponding items on the second plot also become selected. "
   ]
  },
  {
   "cell_type": "markdown",
   "metadata": {},
   "source": [
    "## Linked panning\n",
    "\n",
    "Linked panning (when multiple plots have ranges that stay in sync) is simple to spell with Bokeh. You simply share the appropriate range objects between two (or more) plots. The example below shows how to accomplish this by linking the ranges of three plots in various ways:"
   ]
  },
  {
   "cell_type": "code",
   "execution_count": 2,
   "metadata": {},
   "outputs": [
    {
     "data": {
      "text/html": [
       "\n",
       "<div class=\"bk-root\">\n",
       "    <div class=\"bk-plotdiv\" id=\"92d2df7a-68eb-4df9-806d-dd25b5c3fd50\"></div>\n",
       "</div>"
      ]
     },
     "metadata": {},
     "output_type": "display_data"
    },
    {
     "data": {
      "application/javascript": [
       "(function(root) {\n",
       "  function embed_document(root) {\n",
       "    \n",
       "  var docs_json = {\"2820d43b-8dd5-4f5b-9b2c-3c7b04360876\":{\"roots\":{\"references\":[{\"attributes\":{\"active_drag\":\"auto\",\"active_inspect\":\"auto\",\"active_scroll\":\"auto\",\"active_tap\":\"auto\",\"tools\":[{\"id\":\"69c25151-39a4-4b66-b346-f9c74239f3ce\",\"type\":\"PanTool\"},{\"id\":\"cd80e42f-f07e-48b4-b0d0-378a2ed24a57\",\"type\":\"WheelZoomTool\"}]},\"id\":\"dc887394-9f54-41a0-b084-54cf438aeedf\",\"type\":\"Toolbar\"},{\"attributes\":{\"fill_color\":{\"value\":\"firebrick\"},\"line_color\":{\"value\":\"firebrick\"},\"size\":{\"units\":\"screen\",\"value\":10},\"x\":{\"field\":\"x\"},\"y\":{\"field\":\"y\"}},\"id\":\"ed9f4f4e-c31b-47b7-a17b-6851a73c0afe\",\"type\":\"Triangle\"},{\"attributes\":{},\"id\":\"650f5532-f526-42cb-97bd-328c20f1719c\",\"type\":\"BasicTickFormatter\"},{\"attributes\":{},\"id\":\"04bd8461-03b1-4bf9-8433-cd01d97bce4e\",\"type\":\"LinearScale\"},{\"attributes\":{},\"id\":\"5ab33923-6aa4-489c-bfb0-c62dbf504e4d\",\"type\":\"LinearScale\"},{\"attributes\":{\"formatter\":{\"id\":\"a5f95059-97f8-4534-9f3c-6a6537857427\",\"type\":\"BasicTickFormatter\"},\"plot\":{\"id\":\"97592853-51dc-4b18-9764-7a941653670b\",\"subtype\":\"Figure\",\"type\":\"Plot\"},\"ticker\":{\"id\":\"d151ceb3-72b7-406a-8824-98f19a071914\",\"type\":\"BasicTicker\"}},\"id\":\"11d72261-3d7d-454f-b62f-50be11462184\",\"type\":\"LinearAxis\"},{\"attributes\":{\"callback\":null,\"column_names\":[\"x\",\"y\"],\"data\":{\"x\":[0,1,2,3,4,5,6,7,8,9,10],\"y\":[10,9,8,7,6,5,4,3,2,1,0]},\"selected\":null,\"selection_policy\":null},\"id\":\"350032d1-731e-430e-9188-a12c5740955d\",\"type\":\"ColumnDataSource\"},{\"attributes\":{},\"id\":\"e3a229e1-1d4d-4fc6-b688-06ec86d5b84a\",\"type\":\"BasicTicker\"},{\"attributes\":{\"plot\":{\"id\":\"97592853-51dc-4b18-9764-7a941653670b\",\"subtype\":\"Figure\",\"type\":\"Plot\"},\"ticker\":{\"id\":\"e3a229e1-1d4d-4fc6-b688-06ec86d5b84a\",\"type\":\"BasicTicker\"}},\"id\":\"52899519-88aa-4121-a56b-1b86a1561d4f\",\"type\":\"Grid\"},{\"attributes\":{},\"id\":\"d151ceb3-72b7-406a-8824-98f19a071914\",\"type\":\"BasicTicker\"},{\"attributes\":{\"dimension\":1,\"plot\":{\"id\":\"97592853-51dc-4b18-9764-7a941653670b\",\"subtype\":\"Figure\",\"type\":\"Plot\"},\"ticker\":{\"id\":\"d151ceb3-72b7-406a-8824-98f19a071914\",\"type\":\"BasicTicker\"}},\"id\":\"b05d111c-27b0-470a-be35-02e4f769b806\",\"type\":\"Grid\"},{\"attributes\":{},\"id\":\"e1ff996d-6fd9-4ad1-83f8-c87cc6a1efe7\",\"type\":\"BasicTickFormatter\"},{\"attributes\":{},\"id\":\"69c25151-39a4-4b66-b346-f9c74239f3ce\",\"type\":\"PanTool\"},{\"attributes\":{},\"id\":\"21efb291-88ba-4d48-be00-d2382a381db5\",\"type\":\"BasicTickFormatter\"},{\"attributes\":{},\"id\":\"cd80e42f-f07e-48b4-b0d0-378a2ed24a57\",\"type\":\"WheelZoomTool\"},{\"attributes\":{\"fill_alpha\":{\"value\":0.1},\"fill_color\":{\"value\":\"#1f77b4\"},\"line_alpha\":{\"value\":0.1},\"line_color\":{\"value\":\"#1f77b4\"},\"size\":{\"units\":\"screen\",\"value\":10},\"x\":{\"field\":\"x\"},\"y\":{\"field\":\"y\"}},\"id\":\"34dd7c0c-7b41-4a94-a0c3-39a3ced04cee\",\"type\":\"Triangle\"},{\"attributes\":{\"data_source\":{\"id\":\"350032d1-731e-430e-9188-a12c5740955d\",\"type\":\"ColumnDataSource\"},\"glyph\":{\"id\":\"ed9f4f4e-c31b-47b7-a17b-6851a73c0afe\",\"type\":\"Triangle\"},\"hover_glyph\":null,\"muted_glyph\":null,\"nonselection_glyph\":{\"id\":\"34dd7c0c-7b41-4a94-a0c3-39a3ced04cee\",\"type\":\"Triangle\"},\"selection_glyph\":null,\"view\":{\"id\":\"19963e9f-975a-40ad-bf72-0a2568989955\",\"type\":\"CDSView\"}},\"id\":\"e2d925ce-43f8-4d62-bf48-4eca8d5d56df\",\"type\":\"GlyphRenderer\"},{\"attributes\":{\"source\":{\"id\":\"350032d1-731e-430e-9188-a12c5740955d\",\"type\":\"ColumnDataSource\"}},\"id\":\"19963e9f-975a-40ad-bf72-0a2568989955\",\"type\":\"CDSView\"},{\"attributes\":{},\"id\":\"a5f95059-97f8-4534-9f3c-6a6537857427\",\"type\":\"BasicTickFormatter\"},{\"attributes\":{\"plot\":null,\"text\":\"\"},\"id\":\"fa5a0688-53b7-463a-8cf0-3bf58160a253\",\"type\":\"Title\"},{\"attributes\":{\"active_drag\":\"auto\",\"active_inspect\":\"auto\",\"active_scroll\":\"auto\",\"active_tap\":\"auto\",\"tools\":[{\"id\":\"e868ac5f-adfd-4f55-972c-835f15e658c5\",\"type\":\"PanTool\"},{\"id\":\"543bb573-e4f4-4b85-b327-cd63c1b5f8ac\",\"type\":\"WheelZoomTool\"}]},\"id\":\"0e350acf-e979-437b-8524-feb0e2025c41\",\"type\":\"Toolbar\"},{\"attributes\":{\"plot\":{\"id\":\"e8431bf2-60cd-4e81-b23c-a7258c3a9388\",\"subtype\":\"Figure\",\"type\":\"Plot\"},\"ticker\":{\"id\":\"118511f0-3337-4b61-82ea-1c8cd7d604fd\",\"type\":\"BasicTicker\"}},\"id\":\"09e52822-fd67-4aa1-854d-ce99bfb37daf\",\"type\":\"Grid\"},{\"attributes\":{\"source\":{\"id\":\"095f6b0a-79d6-457e-a299-35a5a1c9149f\",\"type\":\"ColumnDataSource\"}},\"id\":\"fb64c875-9e14-491b-8af0-0112f11d4a2e\",\"type\":\"CDSView\"},{\"attributes\":{},\"id\":\"e8051fcd-f665-4fe8-808b-2e587ee12797\",\"type\":\"LinearScale\"},{\"attributes\":{\"callback\":null},\"id\":\"38610ac9-0a34-4740-a334-c051036fa0bb\",\"type\":\"DataRange1d\"},{\"attributes\":{},\"id\":\"eac0887b-9bbc-4a7e-828e-c8a28fe6c5b0\",\"type\":\"LinearScale\"},{\"attributes\":{\"fill_alpha\":{\"value\":0.1},\"fill_color\":{\"value\":\"#1f77b4\"},\"line_alpha\":{\"value\":0.1},\"line_color\":{\"value\":\"#1f77b4\"},\"size\":{\"units\":\"screen\",\"value\":10},\"x\":{\"field\":\"x\"},\"y\":{\"field\":\"y\"}},\"id\":\"42cb760b-9278-48f0-b363-c7967825336b\",\"type\":\"Circle\"},{\"attributes\":{\"callback\":null,\"column_names\":[\"x\",\"y\"],\"data\":{\"x\":[0,1,2,3,4,5,6,7,8,9,10],\"y\":[5,4,3,2,1,0,1,2,3,4,5]},\"selected\":null,\"selection_policy\":null},\"id\":\"5c2059a8-94f5-4e9d-a47b-c6e0b6d2c7aa\",\"type\":\"ColumnDataSource\"},{\"attributes\":{\"fill_color\":{\"value\":\"olive\"},\"line_color\":{\"value\":\"olive\"},\"size\":{\"units\":\"screen\",\"value\":10},\"x\":{\"field\":\"x\"},\"y\":{\"field\":\"y\"}},\"id\":\"8b4236ae-202d-412f-9e18-bb26633bbc5d\",\"type\":\"Square\"},{\"attributes\":{\"data_source\":{\"id\":\"095f6b0a-79d6-457e-a299-35a5a1c9149f\",\"type\":\"ColumnDataSource\"},\"glyph\":{\"id\":\"331124ba-e0a7-4218-a89e-b2606c70712a\",\"type\":\"Circle\"},\"hover_glyph\":null,\"muted_glyph\":null,\"nonselection_glyph\":{\"id\":\"42cb760b-9278-48f0-b363-c7967825336b\",\"type\":\"Circle\"},\"selection_glyph\":null,\"view\":{\"id\":\"fb64c875-9e14-491b-8af0-0112f11d4a2e\",\"type\":\"CDSView\"}},\"id\":\"1688e1f2-6fde-4901-97ca-dd43bc41b551\",\"type\":\"GlyphRenderer\"},{\"attributes\":{\"formatter\":{\"id\":\"21efb291-88ba-4d48-be00-d2382a381db5\",\"type\":\"BasicTickFormatter\"},\"plot\":{\"id\":\"e8431bf2-60cd-4e81-b23c-a7258c3a9388\",\"subtype\":\"Figure\",\"type\":\"Plot\"},\"ticker\":{\"id\":\"118511f0-3337-4b61-82ea-1c8cd7d604fd\",\"type\":\"BasicTicker\"}},\"id\":\"6225b9de-d54c-42f7-8c27-eb310b940cb4\",\"type\":\"LinearAxis\"},{\"attributes\":{},\"id\":\"118511f0-3337-4b61-82ea-1c8cd7d604fd\",\"type\":\"BasicTicker\"},{\"attributes\":{\"formatter\":{\"id\":\"116a255f-9b9e-47df-a48c-9211a5be489c\",\"type\":\"BasicTickFormatter\"},\"plot\":{\"id\":\"e8431bf2-60cd-4e81-b23c-a7258c3a9388\",\"subtype\":\"Figure\",\"type\":\"Plot\"},\"ticker\":{\"id\":\"4c266ded-99b7-46bb-ab92-bbd7674a11b8\",\"type\":\"BasicTicker\"}},\"id\":\"c4fd156d-7c69-42c2-821a-96fb0405cf3d\",\"type\":\"LinearAxis\"},{\"attributes\":{},\"id\":\"4c266ded-99b7-46bb-ab92-bbd7674a11b8\",\"type\":\"BasicTicker\"},{\"attributes\":{\"dimension\":1,\"plot\":{\"id\":\"e8431bf2-60cd-4e81-b23c-a7258c3a9388\",\"subtype\":\"Figure\",\"type\":\"Plot\"},\"ticker\":{\"id\":\"4c266ded-99b7-46bb-ab92-bbd7674a11b8\",\"type\":\"BasicTicker\"}},\"id\":\"9b2b3350-496c-46bc-aa7c-4d29e12582fc\",\"type\":\"Grid\"},{\"attributes\":{\"children\":[{\"id\":\"52d09d58-c16b-4203-90b8-702e915148b3\",\"subtype\":\"Figure\",\"type\":\"Plot\"},{\"id\":\"97592853-51dc-4b18-9764-7a941653670b\",\"subtype\":\"Figure\",\"type\":\"Plot\"},{\"id\":\"e8431bf2-60cd-4e81-b23c-a7258c3a9388\",\"subtype\":\"Figure\",\"type\":\"Plot\"}]},\"id\":\"eb2e83d9-8dc1-4cbb-8601-d8cc5382a960\",\"type\":\"Row\"},{\"attributes\":{},\"id\":\"e868ac5f-adfd-4f55-972c-835f15e658c5\",\"type\":\"PanTool\"},{\"attributes\":{\"children\":[{\"id\":\"eb2e83d9-8dc1-4cbb-8601-d8cc5382a960\",\"type\":\"Row\"}]},\"id\":\"28ce2335-48bd-41c5-b5c8-3bc4b14bee24\",\"type\":\"Column\"},{\"attributes\":{},\"id\":\"543bb573-e4f4-4b85-b327-cd63c1b5f8ac\",\"type\":\"WheelZoomTool\"},{\"attributes\":{\"plot\":null,\"text\":\"\"},\"id\":\"5db5c601-e1b3-454e-a324-b7e996277559\",\"type\":\"Title\"},{\"attributes\":{\"fill_alpha\":{\"value\":0.1},\"fill_color\":{\"value\":\"#1f77b4\"},\"line_alpha\":{\"value\":0.1},\"line_color\":{\"value\":\"#1f77b4\"},\"size\":{\"units\":\"screen\",\"value\":10},\"x\":{\"field\":\"x\"},\"y\":{\"field\":\"y\"}},\"id\":\"654d3ceb-9b73-4743-91b8-5a5aa97e27d0\",\"type\":\"Square\"},{\"attributes\":{\"data_source\":{\"id\":\"5c2059a8-94f5-4e9d-a47b-c6e0b6d2c7aa\",\"type\":\"ColumnDataSource\"},\"glyph\":{\"id\":\"8b4236ae-202d-412f-9e18-bb26633bbc5d\",\"type\":\"Square\"},\"hover_glyph\":null,\"muted_glyph\":null,\"nonselection_glyph\":{\"id\":\"654d3ceb-9b73-4743-91b8-5a5aa97e27d0\",\"type\":\"Square\"},\"selection_glyph\":null,\"view\":{\"id\":\"49baaa4f-fadf-44b1-8979-47e01dd7ea76\",\"type\":\"CDSView\"}},\"id\":\"30c0eb2e-727d-4c7b-8f38-28c12f3f5e45\",\"type\":\"GlyphRenderer\"},{\"attributes\":{},\"id\":\"d957559d-5602-46fa-b21d-7920ee76f388\",\"type\":\"BasicTickFormatter\"},{\"attributes\":{\"source\":{\"id\":\"5c2059a8-94f5-4e9d-a47b-c6e0b6d2c7aa\",\"type\":\"ColumnDataSource\"}},\"id\":\"49baaa4f-fadf-44b1-8979-47e01dd7ea76\",\"type\":\"CDSView\"},{\"attributes\":{},\"id\":\"116a255f-9b9e-47df-a48c-9211a5be489c\",\"type\":\"BasicTickFormatter\"},{\"attributes\":{\"formatter\":{\"id\":\"d957559d-5602-46fa-b21d-7920ee76f388\",\"type\":\"BasicTickFormatter\"},\"plot\":{\"id\":\"52d09d58-c16b-4203-90b8-702e915148b3\",\"subtype\":\"Figure\",\"type\":\"Plot\"},\"ticker\":{\"id\":\"3c7a831a-a70b-459e-b955-2299fdcaffc1\",\"type\":\"BasicTicker\"}},\"id\":\"92270369-d20c-484d-9afa-97f1c1d467c1\",\"type\":\"LinearAxis\"},{\"attributes\":{\"plot\":null,\"text\":\"\"},\"id\":\"6ae10d37-0b78-49f6-a151-0cdd84a627f9\",\"type\":\"Title\"},{\"attributes\":{\"children\":[{\"id\":\"2f98f17e-5a74-4fcf-ace0-506109e9ac7d\",\"type\":\"ToolbarBox\"},{\"id\":\"28ce2335-48bd-41c5-b5c8-3bc4b14bee24\",\"type\":\"Column\"}]},\"id\":\"e5e27c82-19ed-4b82-a264-ff9e7cfb68e7\",\"type\":\"Column\"},{\"attributes\":{\"toolbar\":{\"id\":\"ad64a683-e449-45ca-9963-75c2b5deddc7\",\"type\":\"ProxyToolbar\"},\"toolbar_location\":\"above\"},\"id\":\"2f98f17e-5a74-4fcf-ace0-506109e9ac7d\",\"type\":\"ToolbarBox\"},{\"attributes\":{\"tools\":[{\"id\":\"4f35da41-24d9-4d63-aa5f-94db8f8b282b\",\"type\":\"PanTool\"},{\"id\":\"c1479ce6-a672-438f-8903-4a76a8d55508\",\"type\":\"WheelZoomTool\"},{\"id\":\"69c25151-39a4-4b66-b346-f9c74239f3ce\",\"type\":\"PanTool\"},{\"id\":\"cd80e42f-f07e-48b4-b0d0-378a2ed24a57\",\"type\":\"WheelZoomTool\"},{\"id\":\"e868ac5f-adfd-4f55-972c-835f15e658c5\",\"type\":\"PanTool\"},{\"id\":\"543bb573-e4f4-4b85-b327-cd63c1b5f8ac\",\"type\":\"WheelZoomTool\"}]},\"id\":\"ad64a683-e449-45ca-9963-75c2b5deddc7\",\"type\":\"ProxyToolbar\"},{\"attributes\":{\"formatter\":{\"id\":\"e1ff996d-6fd9-4ad1-83f8-c87cc6a1efe7\",\"type\":\"BasicTickFormatter\"},\"plot\":{\"id\":\"97592853-51dc-4b18-9764-7a941653670b\",\"subtype\":\"Figure\",\"type\":\"Plot\"},\"ticker\":{\"id\":\"e3a229e1-1d4d-4fc6-b688-06ec86d5b84a\",\"type\":\"BasicTicker\"}},\"id\":\"0120924d-9274-4a42-a9cf-d5fa04566fde\",\"type\":\"LinearAxis\"},{\"attributes\":{\"plot\":{\"id\":\"52d09d58-c16b-4203-90b8-702e915148b3\",\"subtype\":\"Figure\",\"type\":\"Plot\"},\"ticker\":{\"id\":\"3c7a831a-a70b-459e-b955-2299fdcaffc1\",\"type\":\"BasicTicker\"}},\"id\":\"9e3921cf-2beb-4ca5-921c-7b669cf4a88c\",\"type\":\"Grid\"},{\"attributes\":{\"callback\":null},\"id\":\"c5fdcb52-0986-47ff-b5d7-2db1860f33bb\",\"type\":\"DataRange1d\"},{\"attributes\":{\"below\":[{\"id\":\"92270369-d20c-484d-9afa-97f1c1d467c1\",\"type\":\"LinearAxis\"}],\"left\":[{\"id\":\"dee87779-2399-4706-a9dd-3785600f46b4\",\"type\":\"LinearAxis\"}],\"plot_height\":250,\"plot_width\":250,\"renderers\":[{\"id\":\"92270369-d20c-484d-9afa-97f1c1d467c1\",\"type\":\"LinearAxis\"},{\"id\":\"9e3921cf-2beb-4ca5-921c-7b669cf4a88c\",\"type\":\"Grid\"},{\"id\":\"dee87779-2399-4706-a9dd-3785600f46b4\",\"type\":\"LinearAxis\"},{\"id\":\"8a8cfd26-7457-4f25-8bed-273c8a18cdcd\",\"type\":\"Grid\"},{\"id\":\"1688e1f2-6fde-4901-97ca-dd43bc41b551\",\"type\":\"GlyphRenderer\"}],\"title\":{\"id\":\"5db5c601-e1b3-454e-a324-b7e996277559\",\"type\":\"Title\"},\"toolbar\":{\"id\":\"9b861f98-6de7-4f6f-a485-34e7bc28f277\",\"type\":\"Toolbar\"},\"toolbar_location\":null,\"x_range\":{\"id\":\"099b6820-c677-4e7a-abcc-3a327303098c\",\"type\":\"DataRange1d\"},\"x_scale\":{\"id\":\"8678beef-8a36-4f66-8869-45e81f09a6fb\",\"type\":\"LinearScale\"},\"y_range\":{\"id\":\"c5fdcb52-0986-47ff-b5d7-2db1860f33bb\",\"type\":\"DataRange1d\"},\"y_scale\":{\"id\":\"cbbc663c-c9f3-4573-966d-10d7f1393bce\",\"type\":\"LinearScale\"}},\"id\":\"52d09d58-c16b-4203-90b8-702e915148b3\",\"subtype\":\"Figure\",\"type\":\"Plot\"},{\"attributes\":{},\"id\":\"3c7a831a-a70b-459e-b955-2299fdcaffc1\",\"type\":\"BasicTicker\"},{\"attributes\":{\"active_drag\":\"auto\",\"active_inspect\":\"auto\",\"active_scroll\":\"auto\",\"active_tap\":\"auto\",\"tools\":[{\"id\":\"4f35da41-24d9-4d63-aa5f-94db8f8b282b\",\"type\":\"PanTool\"},{\"id\":\"c1479ce6-a672-438f-8903-4a76a8d55508\",\"type\":\"WheelZoomTool\"}]},\"id\":\"9b861f98-6de7-4f6f-a485-34e7bc28f277\",\"type\":\"Toolbar\"},{\"attributes\":{\"callback\":null},\"id\":\"099b6820-c677-4e7a-abcc-3a327303098c\",\"type\":\"DataRange1d\"},{\"attributes\":{},\"id\":\"cbbc663c-c9f3-4573-966d-10d7f1393bce\",\"type\":\"LinearScale\"},{\"attributes\":{\"callback\":null,\"column_names\":[\"x\",\"y\"],\"data\":{\"x\":[0,1,2,3,4,5,6,7,8,9,10],\"y\":[0,1,2,3,4,5,6,7,8,9,10]},\"selected\":null,\"selection_policy\":null},\"id\":\"095f6b0a-79d6-457e-a299-35a5a1c9149f\",\"type\":\"ColumnDataSource\"},{\"attributes\":{},\"id\":\"8678beef-8a36-4f66-8869-45e81f09a6fb\",\"type\":\"LinearScale\"},{\"attributes\":{\"fill_color\":{\"value\":\"navy\"},\"line_color\":{\"value\":\"navy\"},\"size\":{\"units\":\"screen\",\"value\":10},\"x\":{\"field\":\"x\"},\"y\":{\"field\":\"y\"}},\"id\":\"331124ba-e0a7-4218-a89e-b2606c70712a\",\"type\":\"Circle\"},{\"attributes\":{\"formatter\":{\"id\":\"650f5532-f526-42cb-97bd-328c20f1719c\",\"type\":\"BasicTickFormatter\"},\"plot\":{\"id\":\"52d09d58-c16b-4203-90b8-702e915148b3\",\"subtype\":\"Figure\",\"type\":\"Plot\"},\"ticker\":{\"id\":\"257a6b33-3105-47d9-b0fc-9f98f0eaad5e\",\"type\":\"BasicTicker\"}},\"id\":\"dee87779-2399-4706-a9dd-3785600f46b4\",\"type\":\"LinearAxis\"},{\"attributes\":{},\"id\":\"257a6b33-3105-47d9-b0fc-9f98f0eaad5e\",\"type\":\"BasicTicker\"},{\"attributes\":{\"dimension\":1,\"plot\":{\"id\":\"52d09d58-c16b-4203-90b8-702e915148b3\",\"subtype\":\"Figure\",\"type\":\"Plot\"},\"ticker\":{\"id\":\"257a6b33-3105-47d9-b0fc-9f98f0eaad5e\",\"type\":\"BasicTicker\"}},\"id\":\"8a8cfd26-7457-4f25-8bed-273c8a18cdcd\",\"type\":\"Grid\"},{\"attributes\":{},\"id\":\"c1479ce6-a672-438f-8903-4a76a8d55508\",\"type\":\"WheelZoomTool\"},{\"attributes\":{},\"id\":\"4f35da41-24d9-4d63-aa5f-94db8f8b282b\",\"type\":\"PanTool\"},{\"attributes\":{\"below\":[{\"id\":\"6225b9de-d54c-42f7-8c27-eb310b940cb4\",\"type\":\"LinearAxis\"}],\"left\":[{\"id\":\"c4fd156d-7c69-42c2-821a-96fb0405cf3d\",\"type\":\"LinearAxis\"}],\"plot_height\":250,\"plot_width\":250,\"renderers\":[{\"id\":\"6225b9de-d54c-42f7-8c27-eb310b940cb4\",\"type\":\"LinearAxis\"},{\"id\":\"09e52822-fd67-4aa1-854d-ce99bfb37daf\",\"type\":\"Grid\"},{\"id\":\"c4fd156d-7c69-42c2-821a-96fb0405cf3d\",\"type\":\"LinearAxis\"},{\"id\":\"9b2b3350-496c-46bc-aa7c-4d29e12582fc\",\"type\":\"Grid\"},{\"id\":\"30c0eb2e-727d-4c7b-8f38-28c12f3f5e45\",\"type\":\"GlyphRenderer\"}],\"title\":{\"id\":\"6ae10d37-0b78-49f6-a151-0cdd84a627f9\",\"type\":\"Title\"},\"toolbar\":{\"id\":\"0e350acf-e979-437b-8524-feb0e2025c41\",\"type\":\"Toolbar\"},\"toolbar_location\":null,\"x_range\":{\"id\":\"099b6820-c677-4e7a-abcc-3a327303098c\",\"type\":\"DataRange1d\"},\"x_scale\":{\"id\":\"e8051fcd-f665-4fe8-808b-2e587ee12797\",\"type\":\"LinearScale\"},\"y_range\":{\"id\":\"38610ac9-0a34-4740-a334-c051036fa0bb\",\"type\":\"DataRange1d\"},\"y_scale\":{\"id\":\"eac0887b-9bbc-4a7e-828e-c8a28fe6c5b0\",\"type\":\"LinearScale\"}},\"id\":\"e8431bf2-60cd-4e81-b23c-a7258c3a9388\",\"subtype\":\"Figure\",\"type\":\"Plot\"},{\"attributes\":{\"below\":[{\"id\":\"0120924d-9274-4a42-a9cf-d5fa04566fde\",\"type\":\"LinearAxis\"}],\"left\":[{\"id\":\"11d72261-3d7d-454f-b62f-50be11462184\",\"type\":\"LinearAxis\"}],\"plot_height\":250,\"plot_width\":250,\"renderers\":[{\"id\":\"0120924d-9274-4a42-a9cf-d5fa04566fde\",\"type\":\"LinearAxis\"},{\"id\":\"52899519-88aa-4121-a56b-1b86a1561d4f\",\"type\":\"Grid\"},{\"id\":\"11d72261-3d7d-454f-b62f-50be11462184\",\"type\":\"LinearAxis\"},{\"id\":\"b05d111c-27b0-470a-be35-02e4f769b806\",\"type\":\"Grid\"},{\"id\":\"e2d925ce-43f8-4d62-bf48-4eca8d5d56df\",\"type\":\"GlyphRenderer\"}],\"title\":{\"id\":\"fa5a0688-53b7-463a-8cf0-3bf58160a253\",\"type\":\"Title\"},\"toolbar\":{\"id\":\"dc887394-9f54-41a0-b084-54cf438aeedf\",\"type\":\"Toolbar\"},\"toolbar_location\":null,\"x_range\":{\"id\":\"099b6820-c677-4e7a-abcc-3a327303098c\",\"type\":\"DataRange1d\"},\"x_scale\":{\"id\":\"5ab33923-6aa4-489c-bfb0-c62dbf504e4d\",\"type\":\"LinearScale\"},\"y_range\":{\"id\":\"c5fdcb52-0986-47ff-b5d7-2db1860f33bb\",\"type\":\"DataRange1d\"},\"y_scale\":{\"id\":\"04bd8461-03b1-4bf9-8433-cd01d97bce4e\",\"type\":\"LinearScale\"}},\"id\":\"97592853-51dc-4b18-9764-7a941653670b\",\"subtype\":\"Figure\",\"type\":\"Plot\"}],\"root_ids\":[\"e5e27c82-19ed-4b82-a264-ff9e7cfb68e7\"]},\"title\":\"Bokeh Application\",\"version\":\"0.12.15\"}};\n",
       "  var render_items = [{\"docid\":\"2820d43b-8dd5-4f5b-9b2c-3c7b04360876\",\"elementid\":\"92d2df7a-68eb-4df9-806d-dd25b5c3fd50\",\"modelid\":\"e5e27c82-19ed-4b82-a264-ff9e7cfb68e7\"}];\n",
       "  root.Bokeh.embed.embed_items_notebook(docs_json, render_items);\n",
       "\n",
       "  }\n",
       "  if (root.Bokeh !== undefined) {\n",
       "    embed_document(root);\n",
       "  } else {\n",
       "    var attempts = 0;\n",
       "    var timer = setInterval(function(root) {\n",
       "      if (root.Bokeh !== undefined) {\n",
       "        embed_document(root);\n",
       "        clearInterval(timer);\n",
       "      }\n",
       "      attempts++;\n",
       "      if (attempts > 100) {\n",
       "        console.log(\"Bokeh: ERROR: Unable to run BokehJS code because BokehJS library is missing\")\n",
       "        clearInterval(timer);\n",
       "      }\n",
       "    }, 10, root)\n",
       "  }\n",
       "})(window);"
      ],
      "application/vnd.bokehjs_exec.v0+json": ""
     },
     "metadata": {
      "application/vnd.bokehjs_exec.v0+json": {
       "id": "e5e27c82-19ed-4b82-a264-ff9e7cfb68e7"
      }
     },
     "output_type": "display_data"
    }
   ],
   "source": [
    "from bokeh.layouts import gridplot\n",
    "\n",
    "x = list(range(11))\n",
    "y0, y1, y2 = x, [10-i for i in x], [abs(i-5) for i in x]\n",
    "\n",
    "plot_options = dict(width=250, plot_height=250, tools='pan,wheel_zoom')\n",
    "\n",
    "# create a new plot\n",
    "s1 = figure(**plot_options)\n",
    "s1.circle(x, y0, size=10, color=\"navy\")\n",
    "\n",
    "# create a new plot and share both ranges\n",
    "s2 = figure(x_range=s1.x_range, y_range=s1.y_range, **plot_options)\n",
    "s2.triangle(x, y1, size=10, color=\"firebrick\")\n",
    "\n",
    "# create a new plot and share only one range\n",
    "s3 = figure(x_range=s1.x_range, **plot_options)\n",
    "s3.square(x, y2, size=10, color=\"olive\")\n",
    "\n",
    "p = gridplot([[s1, s2, s3]])\n",
    "\n",
    "# show the results\n",
    "show(p)"
   ]
  },
  {
   "cell_type": "code",
   "execution_count": 3,
   "metadata": {},
   "outputs": [],
   "source": [
    "# EXERCISE: create two plots in a gridplot, and link their ranges\n"
   ]
  },
  {
   "cell_type": "markdown",
   "metadata": {},
   "source": [
    "## Linked brushing\n",
    "\n",
    "Linking selections is accomplished in a similar way, by sharing data sources between plots. Note that normally with ``bokeh.plotting`` and ``bokeh.charts`` creating a default data source for simple plots is handled automatically. However to share a data source, we must create them by hand and pass them explicitly. This is illustrated in the example below:"
   ]
  },
  {
   "cell_type": "code",
   "execution_count": 4,
   "metadata": {},
   "outputs": [
    {
     "data": {
      "text/html": [
       "\n",
       "<div class=\"bk-root\">\n",
       "    <div class=\"bk-plotdiv\" id=\"17d012a1-5250-4b52-9456-5fc1fbe048e3\"></div>\n",
       "</div>"
      ]
     },
     "metadata": {},
     "output_type": "display_data"
    },
    {
     "data": {
      "application/javascript": [
       "(function(root) {\n",
       "  function embed_document(root) {\n",
       "    \n",
       "  var docs_json = {\"c89519d4-8192-403d-bccc-e57733d949ec\":{\"roots\":{\"references\":[{\"attributes\":{\"plot\":{\"id\":\"5a66ac12-439f-47b8-948d-145b961103eb\",\"subtype\":\"Figure\",\"type\":\"Plot\"},\"ticker\":{\"id\":\"d2d73432-fbe9-4070-90ad-3449fef50ca3\",\"type\":\"BasicTicker\"}},\"id\":\"30c38767-8132-4025-889f-628044aaf237\",\"type\":\"Grid\"},{\"attributes\":{},\"id\":\"6f8d31ba-6d77-4b6e-b3df-bae9a55b91b5\",\"type\":\"BasicTickFormatter\"},{\"attributes\":{\"children\":[{\"id\":\"db458c57-f301-4459-8ab8-00dc8d744f1a\",\"type\":\"ToolbarBox\"},{\"id\":\"611a2c56-1531-454c-9e11-4227e2f7a3f9\",\"type\":\"Column\"}]},\"id\":\"2c195606-89b9-4737-ac91-22b92b5d5436\",\"type\":\"Column\"},{\"attributes\":{\"callback\":null,\"overlay\":{\"id\":\"4ecc310d-a707-40a5-9a47-d1f2125c34e5\",\"type\":\"PolyAnnotation\"}},\"id\":\"4f3d5435-945c-48da-a8ce-9236ec9c860f\",\"type\":\"LassoSelectTool\"},{\"attributes\":{\"source\":{\"id\":\"f5c4d911-f439-4083-92b0-1fdb54ab3f2c\",\"type\":\"ColumnDataSource\"}},\"id\":\"c4397d57-44ca-41c1-a639-eb6fbe071f4f\",\"type\":\"CDSView\"},{\"attributes\":{},\"id\":\"9cebef07-7136-4089-8a8c-9687c6e3b5e3\",\"type\":\"LinearScale\"},{\"attributes\":{\"data_source\":{\"id\":\"f5c4d911-f439-4083-92b0-1fdb54ab3f2c\",\"type\":\"ColumnDataSource\"},\"glyph\":{\"id\":\"7d9404e8-abc2-4bda-b05c-cea48394af36\",\"type\":\"Circle\"},\"hover_glyph\":null,\"muted_glyph\":null,\"nonselection_glyph\":{\"id\":\"c88eb2a4-d005-493d-b692-672f7166e299\",\"type\":\"Circle\"},\"selection_glyph\":null,\"view\":{\"id\":\"c4397d57-44ca-41c1-a639-eb6fbe071f4f\",\"type\":\"CDSView\"}},\"id\":\"0eafcd30-3edd-49bf-aebf-487b4c6d1632\",\"type\":\"GlyphRenderer\"},{\"attributes\":{},\"id\":\"5bf62ad7-a1f5-44f6-b06f-2c3e798d02c4\",\"type\":\"BasicTickFormatter\"},{\"attributes\":{\"plot\":null,\"text\":\"\"},\"id\":\"c8055e8a-8efd-4ebc-ac3f-2aa8e1ee5098\",\"type\":\"Title\"},{\"attributes\":{\"fill_color\":{\"value\":\"#1f77b4\"},\"line_color\":{\"value\":\"#1f77b4\"},\"x\":{\"field\":\"x\"},\"y\":{\"field\":\"y1\"}},\"id\":\"508e5e98-5c1d-4e03-9361-c503b3a7954a\",\"type\":\"Circle\"},{\"attributes\":{\"callback\":null,\"overlay\":{\"id\":\"97807a21-fef5-43aa-bf3a-a4ae1cc696b3\",\"type\":\"BoxAnnotation\"},\"renderers\":[{\"id\":\"0eafcd30-3edd-49bf-aebf-487b4c6d1632\",\"type\":\"GlyphRenderer\"}]},\"id\":\"da015679-8f81-4dbd-a5f7-3081437a221c\",\"type\":\"BoxSelectTool\"},{\"attributes\":{\"dimension\":1,\"plot\":{\"id\":\"d27c6662-7805-4c23-8566-8daab08a5385\",\"subtype\":\"Figure\",\"type\":\"Plot\"},\"ticker\":{\"id\":\"b3f10372-b1b6-4da9-a411-e97c839571a0\",\"type\":\"BasicTicker\"}},\"id\":\"ce1673be-ef77-4f7b-a085-6ed9d2a1e1a2\",\"type\":\"Grid\"},{\"attributes\":{\"plot\":{\"id\":\"d27c6662-7805-4c23-8566-8daab08a5385\",\"subtype\":\"Figure\",\"type\":\"Plot\"},\"ticker\":{\"id\":\"d2fa2f0d-7342-4bb8-975d-42d3f6a10bd2\",\"type\":\"BasicTicker\"}},\"id\":\"6c9a550d-edb3-4d51-9362-58023162e7ba\",\"type\":\"Grid\"},{\"attributes\":{},\"id\":\"b3f10372-b1b6-4da9-a411-e97c839571a0\",\"type\":\"BasicTicker\"},{\"attributes\":{\"bottom_units\":\"screen\",\"fill_alpha\":{\"value\":0.5},\"fill_color\":{\"value\":\"lightgrey\"},\"left_units\":\"screen\",\"level\":\"overlay\",\"line_alpha\":{\"value\":1.0},\"line_color\":{\"value\":\"black\"},\"line_dash\":[4,4],\"line_width\":{\"value\":2},\"plot\":null,\"render_mode\":\"css\",\"right_units\":\"screen\",\"top_units\":\"screen\"},\"id\":\"97807a21-fef5-43aa-bf3a-a4ae1cc696b3\",\"type\":\"BoxAnnotation\"},{\"attributes\":{},\"id\":\"fa01b80d-bfd7-4674-b1e7-00ed69f83fd2\",\"type\":\"HelpTool\"},{\"attributes\":{\"below\":[{\"id\":\"d9833bbb-1efc-4a2d-90af-e29d3a27e9f8\",\"type\":\"LinearAxis\"}],\"left\":[{\"id\":\"12bec7a8-edfb-44c0-a21b-2d8d6e1f7ded\",\"type\":\"LinearAxis\"}],\"plot_height\":300,\"plot_width\":300,\"renderers\":[{\"id\":\"d9833bbb-1efc-4a2d-90af-e29d3a27e9f8\",\"type\":\"LinearAxis\"},{\"id\":\"6c9a550d-edb3-4d51-9362-58023162e7ba\",\"type\":\"Grid\"},{\"id\":\"12bec7a8-edfb-44c0-a21b-2d8d6e1f7ded\",\"type\":\"LinearAxis\"},{\"id\":\"ce1673be-ef77-4f7b-a085-6ed9d2a1e1a2\",\"type\":\"Grid\"},{\"id\":\"a084ddd2-74ba-4d39-b02c-e40af158ec9f\",\"type\":\"BoxAnnotation\"},{\"id\":\"269d372b-6a9d-4ef8-ac7e-766472290e84\",\"type\":\"PolyAnnotation\"},{\"id\":\"214742e7-948e-4d77-b86d-20b3bf2cf428\",\"type\":\"GlyphRenderer\"}],\"title\":{\"id\":\"f8cb8e03-ded8-475b-b5db-b762a5389aaa\",\"type\":\"Title\"},\"toolbar\":{\"id\":\"475da11f-788b-4392-a3cf-9c22280d6bdf\",\"type\":\"Toolbar\"},\"toolbar_location\":null,\"x_range\":{\"id\":\"19669471-0a0b-4b41-aeab-160eb52f1297\",\"type\":\"DataRange1d\"},\"x_scale\":{\"id\":\"9cebef07-7136-4089-8a8c-9687c6e3b5e3\",\"type\":\"LinearScale\"},\"y_range\":{\"id\":\"941ed508-53e2-45be-ad9a-4475554734c9\",\"type\":\"DataRange1d\"},\"y_scale\":{\"id\":\"1ec26474-91f4-402f-84a3-a170fd35f20e\",\"type\":\"LinearScale\"}},\"id\":\"d27c6662-7805-4c23-8566-8daab08a5385\",\"subtype\":\"Figure\",\"type\":\"Plot\"},{\"attributes\":{\"bottom_units\":\"screen\",\"fill_alpha\":{\"value\":0.5},\"fill_color\":{\"value\":\"lightgrey\"},\"left_units\":\"screen\",\"level\":\"overlay\",\"line_alpha\":{\"value\":1.0},\"line_color\":{\"value\":\"black\"},\"line_dash\":[4,4],\"line_width\":{\"value\":2},\"plot\":null,\"render_mode\":\"css\",\"right_units\":\"screen\",\"top_units\":\"screen\"},\"id\":\"a084ddd2-74ba-4d39-b02c-e40af158ec9f\",\"type\":\"BoxAnnotation\"},{\"attributes\":{\"fill_alpha\":{\"value\":0.5},\"fill_color\":{\"value\":\"lightgrey\"},\"level\":\"overlay\",\"line_alpha\":{\"value\":1.0},\"line_color\":{\"value\":\"black\"},\"line_dash\":[4,4],\"line_width\":{\"value\":2},\"plot\":null,\"xs_units\":\"screen\",\"ys_units\":\"screen\"},\"id\":\"4ecc310d-a707-40a5-9a47-d1f2125c34e5\",\"type\":\"PolyAnnotation\"},{\"attributes\":{},\"id\":\"60a67496-43c5-4cd7-9233-fae54e1e31c3\",\"type\":\"BasicTickFormatter\"},{\"attributes\":{\"formatter\":{\"id\":\"f8c85c91-f6d5-4cbe-9a4b-c05c0d42f48c\",\"type\":\"BasicTickFormatter\"},\"plot\":{\"id\":\"d27c6662-7805-4c23-8566-8daab08a5385\",\"subtype\":\"Figure\",\"type\":\"Plot\"},\"ticker\":{\"id\":\"b3f10372-b1b6-4da9-a411-e97c839571a0\",\"type\":\"BasicTicker\"}},\"id\":\"12bec7a8-edfb-44c0-a21b-2d8d6e1f7ded\",\"type\":\"LinearAxis\"},{\"attributes\":{},\"id\":\"1ec26474-91f4-402f-84a3-a170fd35f20e\",\"type\":\"LinearScale\"},{\"attributes\":{\"callback\":null,\"column_names\":[\"x\",\"y0\",\"y1\"],\"data\":{\"x\":[-20,-19,-18,-17,-16,-15,-14,-13,-12,-11,-10,-9,-8,-7,-6,-5,-4,-3,-2,-1,0,1,2,3,4,5,6,7,8,9,10,11,12,13,14,15,16,17,18,19,20],\"y0\":[20,19,18,17,16,15,14,13,12,11,10,9,8,7,6,5,4,3,2,1,0,1,2,3,4,5,6,7,8,9,10,11,12,13,14,15,16,17,18,19,20],\"y1\":[400,361,324,289,256,225,196,169,144,121,100,81,64,49,36,25,16,9,4,1,0,1,4,9,16,25,36,49,64,81,100,121,144,169,196,225,256,289,324,361,400]},\"selected\":null,\"selection_policy\":null},\"id\":\"f5c4d911-f439-4083-92b0-1fdb54ab3f2c\",\"type\":\"ColumnDataSource\"},{\"attributes\":{\"callback\":null},\"id\":\"19669471-0a0b-4b41-aeab-160eb52f1297\",\"type\":\"DataRange1d\"},{\"attributes\":{\"fill_color\":{\"value\":\"#1f77b4\"},\"line_color\":{\"value\":\"#1f77b4\"},\"x\":{\"field\":\"x\"},\"y\":{\"field\":\"y0\"}},\"id\":\"7d9404e8-abc2-4bda-b05c-cea48394af36\",\"type\":\"Circle\"},{\"attributes\":{\"below\":[{\"id\":\"7813a44d-839f-4e1b-9286-4a918d86fdf0\",\"type\":\"LinearAxis\"}],\"left\":[{\"id\":\"f5357fb0-11fe-4275-88c2-9778362c8a13\",\"type\":\"LinearAxis\"}],\"plot_height\":300,\"plot_width\":300,\"renderers\":[{\"id\":\"7813a44d-839f-4e1b-9286-4a918d86fdf0\",\"type\":\"LinearAxis\"},{\"id\":\"30c38767-8132-4025-889f-628044aaf237\",\"type\":\"Grid\"},{\"id\":\"f5357fb0-11fe-4275-88c2-9778362c8a13\",\"type\":\"LinearAxis\"},{\"id\":\"6b098afc-7826-4c0d-aeb3-19e120a70af4\",\"type\":\"Grid\"},{\"id\":\"97807a21-fef5-43aa-bf3a-a4ae1cc696b3\",\"type\":\"BoxAnnotation\"},{\"id\":\"4ecc310d-a707-40a5-9a47-d1f2125c34e5\",\"type\":\"PolyAnnotation\"},{\"id\":\"0eafcd30-3edd-49bf-aebf-487b4c6d1632\",\"type\":\"GlyphRenderer\"}],\"title\":{\"id\":\"c8055e8a-8efd-4ebc-ac3f-2aa8e1ee5098\",\"type\":\"Title\"},\"toolbar\":{\"id\":\"bb16ad0a-e026-481c-b61c-2612b09f15fc\",\"type\":\"Toolbar\"},\"toolbar_location\":null,\"x_range\":{\"id\":\"7de27651-9f5a-474c-b7b2-3f8a2f28b337\",\"type\":\"DataRange1d\"},\"x_scale\":{\"id\":\"c0f6d968-d424-487f-bf03-995dcb4c3c30\",\"type\":\"LinearScale\"},\"y_range\":{\"id\":\"18d9b470-f80c-43be-bb9f-b4c771b85f29\",\"type\":\"DataRange1d\"},\"y_scale\":{\"id\":\"9974d209-1499-4f7c-bc4d-93b508ff16db\",\"type\":\"LinearScale\"}},\"id\":\"5a66ac12-439f-47b8-948d-145b961103eb\",\"subtype\":\"Figure\",\"type\":\"Plot\"},{\"attributes\":{\"callback\":null},\"id\":\"941ed508-53e2-45be-ad9a-4475554734c9\",\"type\":\"DataRange1d\"},{\"attributes\":{\"active_drag\":\"auto\",\"active_inspect\":\"auto\",\"active_scroll\":\"auto\",\"active_tap\":\"auto\",\"tools\":[{\"id\":\"c4403740-32d8-4ef6-a533-3013f09df126\",\"type\":\"BoxSelectTool\"},{\"id\":\"bd8637c4-11e6-4f32-b560-f8f843fe3cca\",\"type\":\"LassoSelectTool\"},{\"id\":\"19ca4a1d-2f79-4ee5-a914-a1d137da0f8d\",\"type\":\"HelpTool\"}]},\"id\":\"475da11f-788b-4392-a3cf-9c22280d6bdf\",\"type\":\"Toolbar\"},{\"attributes\":{},\"id\":\"ae6f2a33-1291-41ff-9eed-f9ba6d1b61e0\",\"type\":\"BasicTicker\"},{\"attributes\":{\"formatter\":{\"id\":\"6f8d31ba-6d77-4b6e-b3df-bae9a55b91b5\",\"type\":\"BasicTickFormatter\"},\"plot\":{\"id\":\"5a66ac12-439f-47b8-948d-145b961103eb\",\"subtype\":\"Figure\",\"type\":\"Plot\"},\"ticker\":{\"id\":\"ae6f2a33-1291-41ff-9eed-f9ba6d1b61e0\",\"type\":\"BasicTicker\"}},\"id\":\"f5357fb0-11fe-4275-88c2-9778362c8a13\",\"type\":\"LinearAxis\"},{\"attributes\":{},\"id\":\"d2fa2f0d-7342-4bb8-975d-42d3f6a10bd2\",\"type\":\"BasicTicker\"},{\"attributes\":{\"source\":{\"id\":\"f5c4d911-f439-4083-92b0-1fdb54ab3f2c\",\"type\":\"ColumnDataSource\"}},\"id\":\"a07dd6df-bdbc-408c-82c8-903e38cbdfe1\",\"type\":\"CDSView\"},{\"attributes\":{\"children\":[{\"id\":\"5a66ac12-439f-47b8-948d-145b961103eb\",\"subtype\":\"Figure\",\"type\":\"Plot\"},{\"id\":\"d27c6662-7805-4c23-8566-8daab08a5385\",\"subtype\":\"Figure\",\"type\":\"Plot\"}]},\"id\":\"d4d4bde1-b5a8-45c7-b666-b0c0a5f677d6\",\"type\":\"Row\"},{\"attributes\":{\"fill_alpha\":{\"value\":0.1},\"fill_color\":{\"value\":\"#1f77b4\"},\"line_alpha\":{\"value\":0.1},\"line_color\":{\"value\":\"#1f77b4\"},\"x\":{\"field\":\"x\"},\"y\":{\"field\":\"y0\"}},\"id\":\"c88eb2a4-d005-493d-b692-672f7166e299\",\"type\":\"Circle\"},{\"attributes\":{},\"id\":\"19ca4a1d-2f79-4ee5-a914-a1d137da0f8d\",\"type\":\"HelpTool\"},{\"attributes\":{\"callback\":null,\"overlay\":{\"id\":\"269d372b-6a9d-4ef8-ac7e-766472290e84\",\"type\":\"PolyAnnotation\"}},\"id\":\"bd8637c4-11e6-4f32-b560-f8f843fe3cca\",\"type\":\"LassoSelectTool\"},{\"attributes\":{\"fill_alpha\":{\"value\":0.1},\"fill_color\":{\"value\":\"#1f77b4\"},\"line_alpha\":{\"value\":0.1},\"line_color\":{\"value\":\"#1f77b4\"},\"x\":{\"field\":\"x\"},\"y\":{\"field\":\"y1\"}},\"id\":\"298a476f-289d-4757-935e-5ce59fc520c1\",\"type\":\"Circle\"},{\"attributes\":{\"callback\":null,\"overlay\":{\"id\":\"a084ddd2-74ba-4d39-b02c-e40af158ec9f\",\"type\":\"BoxAnnotation\"},\"renderers\":[{\"id\":\"214742e7-948e-4d77-b86d-20b3bf2cf428\",\"type\":\"GlyphRenderer\"}]},\"id\":\"c4403740-32d8-4ef6-a533-3013f09df126\",\"type\":\"BoxSelectTool\"},{\"attributes\":{\"formatter\":{\"id\":\"5bf62ad7-a1f5-44f6-b06f-2c3e798d02c4\",\"type\":\"BasicTickFormatter\"},\"plot\":{\"id\":\"d27c6662-7805-4c23-8566-8daab08a5385\",\"subtype\":\"Figure\",\"type\":\"Plot\"},\"ticker\":{\"id\":\"d2fa2f0d-7342-4bb8-975d-42d3f6a10bd2\",\"type\":\"BasicTicker\"}},\"id\":\"d9833bbb-1efc-4a2d-90af-e29d3a27e9f8\",\"type\":\"LinearAxis\"},{\"attributes\":{\"tools\":[{\"id\":\"da015679-8f81-4dbd-a5f7-3081437a221c\",\"type\":\"BoxSelectTool\"},{\"id\":\"4f3d5435-945c-48da-a8ce-9236ec9c860f\",\"type\":\"LassoSelectTool\"},{\"id\":\"fa01b80d-bfd7-4674-b1e7-00ed69f83fd2\",\"type\":\"HelpTool\"},{\"id\":\"c4403740-32d8-4ef6-a533-3013f09df126\",\"type\":\"BoxSelectTool\"},{\"id\":\"bd8637c4-11e6-4f32-b560-f8f843fe3cca\",\"type\":\"LassoSelectTool\"},{\"id\":\"19ca4a1d-2f79-4ee5-a914-a1d137da0f8d\",\"type\":\"HelpTool\"}]},\"id\":\"edf76987-2eb6-4c95-9c40-07a90696bd5f\",\"type\":\"ProxyToolbar\"},{\"attributes\":{\"toolbar\":{\"id\":\"edf76987-2eb6-4c95-9c40-07a90696bd5f\",\"type\":\"ProxyToolbar\"},\"toolbar_location\":\"above\"},\"id\":\"db458c57-f301-4459-8ab8-00dc8d744f1a\",\"type\":\"ToolbarBox\"},{\"attributes\":{\"data_source\":{\"id\":\"f5c4d911-f439-4083-92b0-1fdb54ab3f2c\",\"type\":\"ColumnDataSource\"},\"glyph\":{\"id\":\"508e5e98-5c1d-4e03-9361-c503b3a7954a\",\"type\":\"Circle\"},\"hover_glyph\":null,\"muted_glyph\":null,\"nonselection_glyph\":{\"id\":\"298a476f-289d-4757-935e-5ce59fc520c1\",\"type\":\"Circle\"},\"selection_glyph\":null,\"view\":{\"id\":\"a07dd6df-bdbc-408c-82c8-903e38cbdfe1\",\"type\":\"CDSView\"}},\"id\":\"214742e7-948e-4d77-b86d-20b3bf2cf428\",\"type\":\"GlyphRenderer\"},{\"attributes\":{\"callback\":null},\"id\":\"18d9b470-f80c-43be-bb9f-b4c771b85f29\",\"type\":\"DataRange1d\"},{\"attributes\":{\"fill_alpha\":{\"value\":0.5},\"fill_color\":{\"value\":\"lightgrey\"},\"level\":\"overlay\",\"line_alpha\":{\"value\":1.0},\"line_color\":{\"value\":\"black\"},\"line_dash\":[4,4],\"line_width\":{\"value\":2},\"plot\":null,\"xs_units\":\"screen\",\"ys_units\":\"screen\"},\"id\":\"269d372b-6a9d-4ef8-ac7e-766472290e84\",\"type\":\"PolyAnnotation\"},{\"attributes\":{\"dimension\":1,\"plot\":{\"id\":\"5a66ac12-439f-47b8-948d-145b961103eb\",\"subtype\":\"Figure\",\"type\":\"Plot\"},\"ticker\":{\"id\":\"ae6f2a33-1291-41ff-9eed-f9ba6d1b61e0\",\"type\":\"BasicTicker\"}},\"id\":\"6b098afc-7826-4c0d-aeb3-19e120a70af4\",\"type\":\"Grid\"},{\"attributes\":{\"formatter\":{\"id\":\"60a67496-43c5-4cd7-9233-fae54e1e31c3\",\"type\":\"BasicTickFormatter\"},\"plot\":{\"id\":\"5a66ac12-439f-47b8-948d-145b961103eb\",\"subtype\":\"Figure\",\"type\":\"Plot\"},\"ticker\":{\"id\":\"d2d73432-fbe9-4070-90ad-3449fef50ca3\",\"type\":\"BasicTicker\"}},\"id\":\"7813a44d-839f-4e1b-9286-4a918d86fdf0\",\"type\":\"LinearAxis\"},{\"attributes\":{\"plot\":null,\"text\":\"\"},\"id\":\"f8cb8e03-ded8-475b-b5db-b762a5389aaa\",\"type\":\"Title\"},{\"attributes\":{\"active_drag\":\"auto\",\"active_inspect\":\"auto\",\"active_scroll\":\"auto\",\"active_tap\":\"auto\",\"tools\":[{\"id\":\"da015679-8f81-4dbd-a5f7-3081437a221c\",\"type\":\"BoxSelectTool\"},{\"id\":\"4f3d5435-945c-48da-a8ce-9236ec9c860f\",\"type\":\"LassoSelectTool\"},{\"id\":\"fa01b80d-bfd7-4674-b1e7-00ed69f83fd2\",\"type\":\"HelpTool\"}]},\"id\":\"bb16ad0a-e026-481c-b61c-2612b09f15fc\",\"type\":\"Toolbar\"},{\"attributes\":{},\"id\":\"f8c85c91-f6d5-4cbe-9a4b-c05c0d42f48c\",\"type\":\"BasicTickFormatter\"},{\"attributes\":{},\"id\":\"c0f6d968-d424-487f-bf03-995dcb4c3c30\",\"type\":\"LinearScale\"},{\"attributes\":{},\"id\":\"d2d73432-fbe9-4070-90ad-3449fef50ca3\",\"type\":\"BasicTicker\"},{\"attributes\":{\"callback\":null},\"id\":\"7de27651-9f5a-474c-b7b2-3f8a2f28b337\",\"type\":\"DataRange1d\"},{\"attributes\":{},\"id\":\"9974d209-1499-4f7c-bc4d-93b508ff16db\",\"type\":\"LinearScale\"},{\"attributes\":{\"children\":[{\"id\":\"d4d4bde1-b5a8-45c7-b666-b0c0a5f677d6\",\"type\":\"Row\"}]},\"id\":\"611a2c56-1531-454c-9e11-4227e2f7a3f9\",\"type\":\"Column\"}],\"root_ids\":[\"2c195606-89b9-4737-ac91-22b92b5d5436\"]},\"title\":\"Bokeh Application\",\"version\":\"0.12.15\"}};\n",
       "  var render_items = [{\"docid\":\"c89519d4-8192-403d-bccc-e57733d949ec\",\"elementid\":\"17d012a1-5250-4b52-9456-5fc1fbe048e3\",\"modelid\":\"2c195606-89b9-4737-ac91-22b92b5d5436\"}];\n",
       "  root.Bokeh.embed.embed_items_notebook(docs_json, render_items);\n",
       "\n",
       "  }\n",
       "  if (root.Bokeh !== undefined) {\n",
       "    embed_document(root);\n",
       "  } else {\n",
       "    var attempts = 0;\n",
       "    var timer = setInterval(function(root) {\n",
       "      if (root.Bokeh !== undefined) {\n",
       "        embed_document(root);\n",
       "        clearInterval(timer);\n",
       "      }\n",
       "      attempts++;\n",
       "      if (attempts > 100) {\n",
       "        console.log(\"Bokeh: ERROR: Unable to run BokehJS code because BokehJS library is missing\")\n",
       "        clearInterval(timer);\n",
       "      }\n",
       "    }, 10, root)\n",
       "  }\n",
       "})(window);"
      ],
      "application/vnd.bokehjs_exec.v0+json": ""
     },
     "metadata": {
      "application/vnd.bokehjs_exec.v0+json": {
       "id": "2c195606-89b9-4737-ac91-22b92b5d5436"
      }
     },
     "output_type": "display_data"
    }
   ],
   "source": [
    "from bokeh.models import ColumnDataSource\n",
    "\n",
    "x = list(range(-20, 21))\n",
    "y0, y1 = [abs(xx) for xx in x], [xx**2 for xx in x]\n",
    "\n",
    "# create a column data source for the plots to share\n",
    "source = ColumnDataSource(data=dict(x=x, y0=y0, y1=y1))\n",
    "\n",
    "TOOLS = \"box_select,lasso_select,help\"\n",
    "\n",
    "# create a new plot and add a renderer\n",
    "left = figure(tools=TOOLS, width=300, height=300)\n",
    "left.circle('x', 'y0', source=source)\n",
    "\n",
    "# create another new plot and add a renderer\n",
    "right = figure(tools=TOOLS, width=300, height=300)\n",
    "right.circle('x', 'y1', source=source)\n",
    "\n",
    "p = gridplot([[left, right]])\n",
    "\n",
    "show(p)"
   ]
  },
  {
   "cell_type": "code",
   "execution_count": 5,
   "metadata": {},
   "outputs": [],
   "source": [
    "# EXERCISE: create two plots in a gridplot, and link their data sources\n",
    "\n"
   ]
  },
  {
   "cell_type": "markdown",
   "metadata": {},
   "source": [
    "# Hover Tools\n",
    "\n",
    "Bokeh has a Hover Tool that allows additional information to be displayed in a popup whenever the user hovers over a specific glyph. Basic hover tool configuration amounts to providing a list of ``(name, format)`` tuples. The full details can be found in the User's Guide [here](http://bokeh.pydata.org/en/latest/docs/user_guide/tools.html#hovertool).\n",
    "\n",
    "The example below shows some basic usage of the Hover tool with a circle glyph, using hover information defined in utils.py:"
   ]
  },
  {
   "cell_type": "code",
   "execution_count": 6,
   "metadata": {},
   "outputs": [
    {
     "data": {
      "text/html": [
       "\n",
       "<div class=\"bk-root\">\n",
       "    <div class=\"bk-plotdiv\" id=\"73606ab5-8b00-4a87-8844-a2ed9503c474\"></div>\n",
       "</div>"
      ]
     },
     "metadata": {},
     "output_type": "display_data"
    },
    {
     "data": {
      "application/javascript": [
       "(function(root) {\n",
       "  function embed_document(root) {\n",
       "    \n",
       "  var docs_json = {\"5a28f323-fb15-49cd-a8bf-4532eafb8fa0\":{\"roots\":{\"references\":[{\"attributes\":{\"callback\":null},\"id\":\"9aa2ce34-e486-49d3-89f1-cdb4b30ed71c\",\"type\":\"DataRange1d\"},{\"attributes\":{},\"id\":\"316055df-6232-4c63-9353-17c08fce0c5b\",\"type\":\"LinearScale\"},{\"attributes\":{\"formatter\":{\"id\":\"88f412d7-4ea6-48db-bb44-65533b7b938c\",\"type\":\"BasicTickFormatter\"},\"plot\":{\"id\":\"7d597c98-2f45-4507-9a08-be1c846af11f\",\"subtype\":\"Figure\",\"type\":\"Plot\"},\"ticker\":{\"id\":\"3f637926-a49e-4e3e-8d89-0503339c1a40\",\"type\":\"BasicTicker\"}},\"id\":\"a6c2f1ba-e1cc-4efc-b89b-266098491f8c\",\"type\":\"LinearAxis\"},{\"attributes\":{\"source\":{\"id\":\"8b175eb9-d3b2-46ef-bac9-5b33e132729a\",\"type\":\"ColumnDataSource\"}},\"id\":\"b3fd0c1a-6eb3-4df8-9e01-70a5c9f80aa5\",\"type\":\"CDSView\"},{\"attributes\":{\"below\":[{\"id\":\"5c72643e-7d2b-441f-8eef-51f01b8e5324\",\"type\":\"LinearAxis\"}],\"left\":[{\"id\":\"a6c2f1ba-e1cc-4efc-b89b-266098491f8c\",\"type\":\"LinearAxis\"}],\"plot_height\":300,\"plot_width\":300,\"renderers\":[{\"id\":\"5c72643e-7d2b-441f-8eef-51f01b8e5324\",\"type\":\"LinearAxis\"},{\"id\":\"1cfbd721-7b5a-4f57-b764-f7471b38820c\",\"type\":\"Grid\"},{\"id\":\"a6c2f1ba-e1cc-4efc-b89b-266098491f8c\",\"type\":\"LinearAxis\"},{\"id\":\"c3875339-0e7e-4526-8ba2-4729209d5bc0\",\"type\":\"Grid\"},{\"id\":\"832eef1a-8c62-40d1-9c49-19ae8f156f66\",\"type\":\"GlyphRenderer\"}],\"title\":{\"id\":\"f1750147-6fb7-45a3-afd1-7b48427dddd0\",\"type\":\"Title\"},\"toolbar\":{\"id\":\"f96824e4-8476-43fe-84ea-bfbece53605e\",\"type\":\"Toolbar\"},\"x_range\":{\"id\":\"9aa2ce34-e486-49d3-89f1-cdb4b30ed71c\",\"type\":\"DataRange1d\"},\"x_scale\":{\"id\":\"316055df-6232-4c63-9353-17c08fce0c5b\",\"type\":\"LinearScale\"},\"y_range\":{\"id\":\"5bd25141-e6ef-4c5a-b16e-be20215f0cf6\",\"type\":\"DataRange1d\"},\"y_scale\":{\"id\":\"d32d4985-2356-4235-9b12-d56965c50c2f\",\"type\":\"LinearScale\"}},\"id\":\"7d597c98-2f45-4507-9a08-be1c846af11f\",\"subtype\":\"Figure\",\"type\":\"Plot\"},{\"attributes\":{\"callback\":null},\"id\":\"5bd25141-e6ef-4c5a-b16e-be20215f0cf6\",\"type\":\"DataRange1d\"},{\"attributes\":{\"data_source\":{\"id\":\"8b175eb9-d3b2-46ef-bac9-5b33e132729a\",\"type\":\"ColumnDataSource\"},\"glyph\":{\"id\":\"8ac85285-ac52-48ec-b7cb-4a35fcbec766\",\"type\":\"Circle\"},\"hover_glyph\":null,\"muted_glyph\":null,\"nonselection_glyph\":{\"id\":\"d3bf8c7c-cc6b-48d3-a213-ba81fd63500d\",\"type\":\"Circle\"},\"selection_glyph\":null,\"view\":{\"id\":\"b3fd0c1a-6eb3-4df8-9e01-70a5c9f80aa5\",\"type\":\"CDSView\"}},\"id\":\"832eef1a-8c62-40d1-9c49-19ae8f156f66\",\"type\":\"GlyphRenderer\"},{\"attributes\":{\"callback\":null,\"tooltips\":[[\"index\",\"$index\"],[\"(x,y)\",\"($x, $y)\"],[\"desc\",\"@desc\"]]},\"id\":\"311a531d-1134-4ed2-8ef2-10e5780c5347\",\"type\":\"HoverTool\"},{\"attributes\":{},\"id\":\"88f412d7-4ea6-48db-bb44-65533b7b938c\",\"type\":\"BasicTickFormatter\"},{\"attributes\":{\"plot\":null,\"text\":\"Mouse over the dots\"},\"id\":\"f1750147-6fb7-45a3-afd1-7b48427dddd0\",\"type\":\"Title\"},{\"attributes\":{\"fill_alpha\":{\"value\":0.1},\"fill_color\":{\"value\":\"#1f77b4\"},\"line_alpha\":{\"value\":0.1},\"line_color\":{\"value\":\"#1f77b4\"},\"size\":{\"units\":\"screen\",\"value\":20},\"x\":{\"field\":\"x\"},\"y\":{\"field\":\"y\"}},\"id\":\"d3bf8c7c-cc6b-48d3-a213-ba81fd63500d\",\"type\":\"Circle\"},{\"attributes\":{\"formatter\":{\"id\":\"9bf6a549-f286-47b6-bed7-26a5cf89473d\",\"type\":\"BasicTickFormatter\"},\"plot\":{\"id\":\"7d597c98-2f45-4507-9a08-be1c846af11f\",\"subtype\":\"Figure\",\"type\":\"Plot\"},\"ticker\":{\"id\":\"a700da84-047b-4bfb-a8a4-b94f3d644fd8\",\"type\":\"BasicTicker\"}},\"id\":\"5c72643e-7d2b-441f-8eef-51f01b8e5324\",\"type\":\"LinearAxis\"},{\"attributes\":{},\"id\":\"a700da84-047b-4bfb-a8a4-b94f3d644fd8\",\"type\":\"BasicTicker\"},{\"attributes\":{},\"id\":\"9bf6a549-f286-47b6-bed7-26a5cf89473d\",\"type\":\"BasicTickFormatter\"},{\"attributes\":{\"callback\":null,\"column_names\":[\"x\",\"y\",\"desc\"],\"data\":{\"desc\":[\"A\",\"b\",\"C\",\"d\",\"E\"],\"x\":[1,2,3,4,5],\"y\":[2,5,8,2,7]},\"selected\":null,\"selection_policy\":null},\"id\":\"8b175eb9-d3b2-46ef-bac9-5b33e132729a\",\"type\":\"ColumnDataSource\"},{\"attributes\":{},\"id\":\"d32d4985-2356-4235-9b12-d56965c50c2f\",\"type\":\"LinearScale\"},{\"attributes\":{\"dimension\":1,\"plot\":{\"id\":\"7d597c98-2f45-4507-9a08-be1c846af11f\",\"subtype\":\"Figure\",\"type\":\"Plot\"},\"ticker\":{\"id\":\"3f637926-a49e-4e3e-8d89-0503339c1a40\",\"type\":\"BasicTicker\"}},\"id\":\"c3875339-0e7e-4526-8ba2-4729209d5bc0\",\"type\":\"Grid\"},{\"attributes\":{\"fill_color\":{\"value\":\"#1f77b4\"},\"line_color\":{\"value\":\"#1f77b4\"},\"size\":{\"units\":\"screen\",\"value\":20},\"x\":{\"field\":\"x\"},\"y\":{\"field\":\"y\"}},\"id\":\"8ac85285-ac52-48ec-b7cb-4a35fcbec766\",\"type\":\"Circle\"},{\"attributes\":{\"active_drag\":\"auto\",\"active_inspect\":\"auto\",\"active_scroll\":\"auto\",\"active_tap\":\"auto\",\"tools\":[{\"id\":\"311a531d-1134-4ed2-8ef2-10e5780c5347\",\"type\":\"HoverTool\"}]},\"id\":\"f96824e4-8476-43fe-84ea-bfbece53605e\",\"type\":\"Toolbar\"},{\"attributes\":{},\"id\":\"3f637926-a49e-4e3e-8d89-0503339c1a40\",\"type\":\"BasicTicker\"},{\"attributes\":{\"plot\":{\"id\":\"7d597c98-2f45-4507-9a08-be1c846af11f\",\"subtype\":\"Figure\",\"type\":\"Plot\"},\"ticker\":{\"id\":\"a700da84-047b-4bfb-a8a4-b94f3d644fd8\",\"type\":\"BasicTicker\"}},\"id\":\"1cfbd721-7b5a-4f57-b764-f7471b38820c\",\"type\":\"Grid\"}],\"root_ids\":[\"7d597c98-2f45-4507-9a08-be1c846af11f\"]},\"title\":\"Bokeh Application\",\"version\":\"0.12.15\"}};\n",
       "  var render_items = [{\"docid\":\"5a28f323-fb15-49cd-a8bf-4532eafb8fa0\",\"elementid\":\"73606ab5-8b00-4a87-8844-a2ed9503c474\",\"modelid\":\"7d597c98-2f45-4507-9a08-be1c846af11f\"}];\n",
       "  root.Bokeh.embed.embed_items_notebook(docs_json, render_items);\n",
       "\n",
       "  }\n",
       "  if (root.Bokeh !== undefined) {\n",
       "    embed_document(root);\n",
       "  } else {\n",
       "    var attempts = 0;\n",
       "    var timer = setInterval(function(root) {\n",
       "      if (root.Bokeh !== undefined) {\n",
       "        embed_document(root);\n",
       "        clearInterval(timer);\n",
       "      }\n",
       "      attempts++;\n",
       "      if (attempts > 100) {\n",
       "        console.log(\"Bokeh: ERROR: Unable to run BokehJS code because BokehJS library is missing\")\n",
       "        clearInterval(timer);\n",
       "      }\n",
       "    }, 10, root)\n",
       "  }\n",
       "})(window);"
      ],
      "application/vnd.bokehjs_exec.v0+json": ""
     },
     "metadata": {
      "application/vnd.bokehjs_exec.v0+json": {
       "id": "7d597c98-2f45-4507-9a08-be1c846af11f"
      }
     },
     "output_type": "display_data"
    }
   ],
   "source": [
    "from bokeh.models import HoverTool\n",
    "\n",
    "source = ColumnDataSource(\n",
    "        data=dict(\n",
    "            x=[1, 2, 3, 4, 5],\n",
    "            y=[2, 5, 8, 2, 7],\n",
    "            desc=['A', 'b', 'C', 'd', 'E'],\n",
    "        )\n",
    "    )\n",
    "\n",
    "hover = HoverTool(\n",
    "        tooltips=[\n",
    "            (\"index\", \"$index\"),\n",
    "            (\"(x,y)\", \"($x, $y)\"),\n",
    "            (\"desc\", \"@desc\"),\n",
    "        ]\n",
    "    )\n",
    "\n",
    "p = figure(plot_width=300, plot_height=300, tools=[hover], title=\"Mouse over the dots\")\n",
    "\n",
    "p.circle('x', 'y', size=20, source=source)\n",
    "\n",
    "show(p)"
   ]
  },
  {
   "cell_type": "markdown",
   "metadata": {},
   "source": [
    "# Widgets"
   ]
  },
  {
   "cell_type": "markdown",
   "metadata": {},
   "source": [
    "Bokeh supports direct integration with a small basic widget set. Thse can be used in conjunction with a Bokeh Server, or with ``CustomJS`` models to add more interactive capability to your documents. You can see a complete list, with example code in the [Adding Widgets](http://bokeh.pydata.org/en/latest/docs/user_guide/interaction.html#adding-widgets) section of the User's Guide. \n",
    "\n",
    "To use the widgets, include them in a layout like you would a plot object:"
   ]
  },
  {
   "cell_type": "code",
   "execution_count": 7,
   "metadata": {},
   "outputs": [
    {
     "data": {
      "text/html": [
       "\n",
       "<div class=\"bk-root\">\n",
       "    <div class=\"bk-plotdiv\" id=\"55be406b-0f19-4605-b97c-d460f1fe99cc\"></div>\n",
       "</div>"
      ]
     },
     "metadata": {},
     "output_type": "display_data"
    },
    {
     "data": {
      "application/javascript": [
       "(function(root) {\n",
       "  function embed_document(root) {\n",
       "    \n",
       "  var docs_json = {\"eadd0a3d-3a60-4ca8-b602-9f814bcdca87\":{\"roots\":{\"references\":[{\"attributes\":{\"children\":[{\"id\":\"fae1c5b9-e629-479a-a12b-8cd6c8095875\",\"type\":\"Slider\"}]},\"id\":\"b5e7b394-fcdd-4fac-b24b-c2fadc52a132\",\"type\":\"WidgetBox\"},{\"attributes\":{\"callback\":null,\"end\":10,\"start\":0,\"step\":0.1,\"title\":\"foo\",\"value\":1},\"id\":\"fae1c5b9-e629-479a-a12b-8cd6c8095875\",\"type\":\"Slider\"}],\"root_ids\":[\"b5e7b394-fcdd-4fac-b24b-c2fadc52a132\"]},\"title\":\"Bokeh Application\",\"version\":\"0.12.15\"}};\n",
       "  var render_items = [{\"docid\":\"eadd0a3d-3a60-4ca8-b602-9f814bcdca87\",\"elementid\":\"55be406b-0f19-4605-b97c-d460f1fe99cc\",\"modelid\":\"b5e7b394-fcdd-4fac-b24b-c2fadc52a132\"}];\n",
       "  root.Bokeh.embed.embed_items_notebook(docs_json, render_items);\n",
       "\n",
       "  }\n",
       "  if (root.Bokeh !== undefined) {\n",
       "    embed_document(root);\n",
       "  } else {\n",
       "    var attempts = 0;\n",
       "    var timer = setInterval(function(root) {\n",
       "      if (root.Bokeh !== undefined) {\n",
       "        embed_document(root);\n",
       "        clearInterval(timer);\n",
       "      }\n",
       "      attempts++;\n",
       "      if (attempts > 100) {\n",
       "        console.log(\"Bokeh: ERROR: Unable to run BokehJS code because BokehJS library is missing\")\n",
       "        clearInterval(timer);\n",
       "      }\n",
       "    }, 10, root)\n",
       "  }\n",
       "})(window);"
      ],
      "application/vnd.bokehjs_exec.v0+json": ""
     },
     "metadata": {
      "application/vnd.bokehjs_exec.v0+json": {
       "id": "b5e7b394-fcdd-4fac-b24b-c2fadc52a132"
      }
     },
     "output_type": "display_data"
    }
   ],
   "source": [
    "from bokeh.layouts import widgetbox\n",
    "from bokeh.models.widgets import Slider\n",
    "\n",
    "\n",
    "slider = Slider(start=0, end=10, value=1, step=.1, title=\"foo\")\n",
    "\n",
    "show(widgetbox(slider))"
   ]
  },
  {
   "cell_type": "code",
   "execution_count": 8,
   "metadata": {},
   "outputs": [],
   "source": [
    "# EXERCISE: create and show a Select widget \n"
   ]
  },
  {
   "cell_type": "markdown",
   "metadata": {},
   "source": [
    "# CustomJS Callbacks"
   ]
  },
  {
   "cell_type": "code",
   "execution_count": 9,
   "metadata": {},
   "outputs": [
    {
     "data": {
      "text/html": [
       "\n",
       "<div class=\"bk-root\">\n",
       "    <div class=\"bk-plotdiv\" id=\"9a14d12b-dc6d-4485-bda4-1793106855d9\"></div>\n",
       "</div>"
      ]
     },
     "metadata": {},
     "output_type": "display_data"
    },
    {
     "data": {
      "application/javascript": [
       "(function(root) {\n",
       "  function embed_document(root) {\n",
       "    \n",
       "  var docs_json = {\"26d762f4-a21e-44f9-998b-f7c687145828\":{\"roots\":{\"references\":[{\"attributes\":{\"active_drag\":\"auto\",\"active_inspect\":\"auto\",\"active_scroll\":\"auto\",\"active_tap\":\"auto\",\"tools\":[{\"id\":\"7d4e463a-28ca-4aa6-b3fb-c773d83178cf\",\"type\":\"TapTool\"}]},\"id\":\"113f038f-ba41-47d3-9d4f-f815319214f0\",\"type\":\"Toolbar\"},{\"attributes\":{},\"id\":\"d2d58263-2040-4a1a-960a-242c71b51e6a\",\"type\":\"BasicTickFormatter\"},{\"attributes\":{\"code\":\"alert('hello world')\"},\"id\":\"16a1197d-e1e3-4893-bcb2-378d728b4762\",\"type\":\"CustomJS\"},{\"attributes\":{\"formatter\":{\"id\":\"d634b657-a129-4df8-a9e7-d11ebde6b845\",\"type\":\"BasicTickFormatter\"},\"plot\":{\"id\":\"3f41e6cc-14f7-4b51-901c-7823d4d04831\",\"subtype\":\"Figure\",\"type\":\"Plot\"},\"ticker\":{\"id\":\"97c4dd3d-0a7b-444c-9127-d05aa4e48782\",\"type\":\"BasicTicker\"}},\"id\":\"0c6c3554-f0b9-47ad-81c3-dbc0eedd87e1\",\"type\":\"LinearAxis\"},{\"attributes\":{},\"id\":\"05db6f2c-bb19-4d38-9a75-7a8c3c40dc17\",\"type\":\"LinearScale\"},{\"attributes\":{},\"id\":\"927afe0f-9aff-49c8-b7e4-9b92fe34b145\",\"type\":\"BasicTicker\"},{\"attributes\":{\"fill_alpha\":{\"value\":0.1},\"fill_color\":{\"value\":\"#1f77b4\"},\"line_alpha\":{\"value\":0.1},\"line_color\":{\"value\":\"#1f77b4\"},\"size\":{\"units\":\"screen\",\"value\":20},\"x\":{\"field\":\"x\"},\"y\":{\"field\":\"y\"}},\"id\":\"7e7982d3-5bfb-498e-a13e-d770dbdf85e2\",\"type\":\"Circle\"},{\"attributes\":{\"callback\":null,\"column_names\":[\"x\",\"y\"],\"data\":{\"x\":[1,2,3,4,5],\"y\":[2,5,8,2,7]},\"selected\":null,\"selection_policy\":null},\"id\":\"fc833330-84d0-45a8-87e7-aee49c2b6574\",\"type\":\"ColumnDataSource\"},{\"attributes\":{\"dimension\":1,\"plot\":{\"id\":\"3f41e6cc-14f7-4b51-901c-7823d4d04831\",\"subtype\":\"Figure\",\"type\":\"Plot\"},\"ticker\":{\"id\":\"97c4dd3d-0a7b-444c-9127-d05aa4e48782\",\"type\":\"BasicTicker\"}},\"id\":\"066e7f61-cdf7-43b5-9700-7e926773ee82\",\"type\":\"Grid\"},{\"attributes\":{},\"id\":\"97c4dd3d-0a7b-444c-9127-d05aa4e48782\",\"type\":\"BasicTicker\"},{\"attributes\":{\"formatter\":{\"id\":\"d2d58263-2040-4a1a-960a-242c71b51e6a\",\"type\":\"BasicTickFormatter\"},\"plot\":{\"id\":\"3f41e6cc-14f7-4b51-901c-7823d4d04831\",\"subtype\":\"Figure\",\"type\":\"Plot\"},\"ticker\":{\"id\":\"927afe0f-9aff-49c8-b7e4-9b92fe34b145\",\"type\":\"BasicTicker\"}},\"id\":\"8eb9a498-57b1-4353-bb93-c3f7c628b321\",\"type\":\"LinearAxis\"},{\"attributes\":{},\"id\":\"45686b9f-d114-4d1d-9407-26cde338e62c\",\"type\":\"LinearScale\"},{\"attributes\":{\"callback\":null},\"id\":\"28b74a50-1a1e-4d49-90f1-82ae04a53e84\",\"type\":\"DataRange1d\"},{\"attributes\":{\"plot\":{\"id\":\"3f41e6cc-14f7-4b51-901c-7823d4d04831\",\"subtype\":\"Figure\",\"type\":\"Plot\"},\"ticker\":{\"id\":\"927afe0f-9aff-49c8-b7e4-9b92fe34b145\",\"type\":\"BasicTicker\"}},\"id\":\"b206cbb0-0c51-44dc-b425-ca727a4bc886\",\"type\":\"Grid\"},{\"attributes\":{\"plot\":null,\"text\":\"\"},\"id\":\"e0badf10-845a-4ad1-b1cb-3507cddba15b\",\"type\":\"Title\"},{\"attributes\":{\"source\":{\"id\":\"fc833330-84d0-45a8-87e7-aee49c2b6574\",\"type\":\"ColumnDataSource\"}},\"id\":\"19b961fd-d341-40c8-aeff-02f3c917c096\",\"type\":\"CDSView\"},{\"attributes\":{},\"id\":\"d634b657-a129-4df8-a9e7-d11ebde6b845\",\"type\":\"BasicTickFormatter\"},{\"attributes\":{\"callback\":null},\"id\":\"3d4cf60c-fb27-4e65-be4a-30168f06483e\",\"type\":\"DataRange1d\"},{\"attributes\":{\"callback\":{\"id\":\"16a1197d-e1e3-4893-bcb2-378d728b4762\",\"type\":\"CustomJS\"}},\"id\":\"7d4e463a-28ca-4aa6-b3fb-c773d83178cf\",\"type\":\"TapTool\"},{\"attributes\":{\"below\":[{\"id\":\"8eb9a498-57b1-4353-bb93-c3f7c628b321\",\"type\":\"LinearAxis\"}],\"left\":[{\"id\":\"0c6c3554-f0b9-47ad-81c3-dbc0eedd87e1\",\"type\":\"LinearAxis\"}],\"plot_height\":300,\"renderers\":[{\"id\":\"8eb9a498-57b1-4353-bb93-c3f7c628b321\",\"type\":\"LinearAxis\"},{\"id\":\"b206cbb0-0c51-44dc-b425-ca727a4bc886\",\"type\":\"Grid\"},{\"id\":\"0c6c3554-f0b9-47ad-81c3-dbc0eedd87e1\",\"type\":\"LinearAxis\"},{\"id\":\"066e7f61-cdf7-43b5-9700-7e926773ee82\",\"type\":\"Grid\"},{\"id\":\"02140821-c941-445e-b82d-c65e897e489c\",\"type\":\"GlyphRenderer\"}],\"title\":{\"id\":\"e0badf10-845a-4ad1-b1cb-3507cddba15b\",\"type\":\"Title\"},\"toolbar\":{\"id\":\"113f038f-ba41-47d3-9d4f-f815319214f0\",\"type\":\"Toolbar\"},\"x_range\":{\"id\":\"28b74a50-1a1e-4d49-90f1-82ae04a53e84\",\"type\":\"DataRange1d\"},\"x_scale\":{\"id\":\"45686b9f-d114-4d1d-9407-26cde338e62c\",\"type\":\"LinearScale\"},\"y_range\":{\"id\":\"3d4cf60c-fb27-4e65-be4a-30168f06483e\",\"type\":\"DataRange1d\"},\"y_scale\":{\"id\":\"05db6f2c-bb19-4d38-9a75-7a8c3c40dc17\",\"type\":\"LinearScale\"}},\"id\":\"3f41e6cc-14f7-4b51-901c-7823d4d04831\",\"subtype\":\"Figure\",\"type\":\"Plot\"},{\"attributes\":{\"data_source\":{\"id\":\"fc833330-84d0-45a8-87e7-aee49c2b6574\",\"type\":\"ColumnDataSource\"},\"glyph\":{\"id\":\"b88a18a6-582e-49a1-b031-3ec5955a332b\",\"type\":\"Circle\"},\"hover_glyph\":null,\"muted_glyph\":null,\"nonselection_glyph\":{\"id\":\"7e7982d3-5bfb-498e-a13e-d770dbdf85e2\",\"type\":\"Circle\"},\"selection_glyph\":null,\"view\":{\"id\":\"19b961fd-d341-40c8-aeff-02f3c917c096\",\"type\":\"CDSView\"}},\"id\":\"02140821-c941-445e-b82d-c65e897e489c\",\"type\":\"GlyphRenderer\"},{\"attributes\":{\"fill_color\":{\"value\":\"#1f77b4\"},\"line_color\":{\"value\":\"#1f77b4\"},\"size\":{\"units\":\"screen\",\"value\":20},\"x\":{\"field\":\"x\"},\"y\":{\"field\":\"y\"}},\"id\":\"b88a18a6-582e-49a1-b031-3ec5955a332b\",\"type\":\"Circle\"}],\"root_ids\":[\"3f41e6cc-14f7-4b51-901c-7823d4d04831\"]},\"title\":\"Bokeh Application\",\"version\":\"0.12.15\"}};\n",
       "  var render_items = [{\"docid\":\"26d762f4-a21e-44f9-998b-f7c687145828\",\"elementid\":\"9a14d12b-dc6d-4485-bda4-1793106855d9\",\"modelid\":\"3f41e6cc-14f7-4b51-901c-7823d4d04831\"}];\n",
       "  root.Bokeh.embed.embed_items_notebook(docs_json, render_items);\n",
       "\n",
       "  }\n",
       "  if (root.Bokeh !== undefined) {\n",
       "    embed_document(root);\n",
       "  } else {\n",
       "    var attempts = 0;\n",
       "    var timer = setInterval(function(root) {\n",
       "      if (root.Bokeh !== undefined) {\n",
       "        embed_document(root);\n",
       "        clearInterval(timer);\n",
       "      }\n",
       "      attempts++;\n",
       "      if (attempts > 100) {\n",
       "        console.log(\"Bokeh: ERROR: Unable to run BokehJS code because BokehJS library is missing\")\n",
       "        clearInterval(timer);\n",
       "      }\n",
       "    }, 10, root)\n",
       "  }\n",
       "})(window);"
      ],
      "application/vnd.bokehjs_exec.v0+json": ""
     },
     "metadata": {
      "application/vnd.bokehjs_exec.v0+json": {
       "id": "3f41e6cc-14f7-4b51-901c-7823d4d04831"
      }
     },
     "output_type": "display_data"
    }
   ],
   "source": [
    "from bokeh.models import TapTool, CustomJS, ColumnDataSource\n",
    "\n",
    "callback = CustomJS(code=\"alert('hello world')\")\n",
    "tap = TapTool(callback=callback)\n",
    "\n",
    "p = figure(plot_width=600, plot_height=300, tools=[tap])\n",
    "\n",
    "p.circle(x=[1, 2, 3, 4, 5], y=[2, 5, 8, 2, 7], size=20)\n",
    "\n",
    "show(p)"
   ]
  },
  {
   "cell_type": "markdown",
   "metadata": {},
   "source": [
    "## Lots of places to add callbacks\n",
    "\n",
    "* Widgets - Button, Toggle, Dropdown, TextInput, AutocompleteInput, Select, Multiselect, Slider, (DateRangeSlider), DatePicker,\n",
    "* Tools - TapTool, BoxSelectTool, HoverTool,\n",
    "* Selection - ColumnDataSource, AjaxDataSource, BlazeDataSource, ServerDataSource\n",
    "* Ranges - Range1d, DataRange1d, FactorRange\n"
   ]
  },
  {
   "cell_type": "markdown",
   "metadata": {},
   "source": [
    "## Callbacks for widgets\n",
    "\n",
    "Widgets that have values associated can have small JavaScript actions attached to them. These actions (also referred to as \"callbacks\") are executed whenever the widget's value is changed. In order to make it easier to refer to specific Bokeh models (e.g., a data source, or a glyhph) from JavaScript, the ``CustomJS`` obejct also accepts a dictionary of \"args\" that map names to Python Bokeh models. The corresponding JavaScript models are made available automaticaly to the ``CustomJS`` code. \n",
    "\n",
    "And example below shows an action attached to a slider that updates a data source whenever the slider is moved:"
   ]
  },
  {
   "cell_type": "code",
   "execution_count": 10,
   "metadata": {},
   "outputs": [
    {
     "data": {
      "text/html": [
       "\n",
       "<div class=\"bk-root\">\n",
       "    <div class=\"bk-plotdiv\" id=\"116fdf77-a575-4560-bf2a-e6cfd64dd90b\"></div>\n",
       "</div>"
      ]
     },
     "metadata": {},
     "output_type": "display_data"
    },
    {
     "data": {
      "application/javascript": [
       "(function(root) {\n",
       "  function embed_document(root) {\n",
       "    \n",
       "  var docs_json = {\"a862149e-cc88-471b-a080-285d6850937e\":{\"roots\":{\"references\":[{\"attributes\":{\"callback\":null,\"column_names\":[\"x\",\"y\"],\"data\":{\"x\":[0.0,0.005,0.01,0.015,0.02,0.025,0.03,0.035,0.04,0.045,0.05,0.055,0.06,0.065,0.07,0.075,0.08,0.085,0.09,0.095,0.1,0.105,0.11,0.115,0.12,0.125,0.13,0.135,0.14,0.145,0.15,0.155,0.16,0.165,0.17,0.17500000000000002,0.18,0.185,0.19,0.195,0.2,0.20500000000000002,0.21,0.215,0.22,0.225,0.23,0.23500000000000001,0.24,0.245,0.25,0.255,0.26,0.265,0.27,0.275,0.28,0.28500000000000003,0.29,0.295,0.3,0.305,0.31,0.315,0.32,0.325,0.33,0.335,0.34,0.34500000000000003,0.35000000000000003,0.355,0.36,0.365,0.37,0.375,0.38,0.385,0.39,0.395,0.4,0.405,0.41000000000000003,0.41500000000000004,0.42,0.425,0.43,0.435,0.44,0.445,0.45,0.455,0.46,0.465,0.47000000000000003,0.47500000000000003,0.48,0.485,0.49,0.495,0.5,0.505,0.51,0.515,0.52,0.525,0.53,0.535,0.54,0.545,0.55,0.555,0.56,0.5650000000000001,0.5700000000000001,0.5750000000000001,0.58,0.585,0.59,0.595,0.6,0.605,0.61,0.615,0.62,0.625,0.63,0.635,0.64,0.645,0.65,0.655,0.66,0.665,0.67,0.675,0.68,0.685,0.6900000000000001,0.6950000000000001,0.7000000000000001,0.705,0.71,0.715,0.72,0.725,0.73,0.735,0.74,0.745,0.75,0.755,0.76,0.765,0.77,0.775,0.78,0.785,0.79,0.795,0.8,0.805,0.81,0.8150000000000001,0.8200000000000001,0.8250000000000001,0.8300000000000001,0.835,0.84,0.845,0.85,0.855,0.86,0.865,0.87,0.875,0.88,0.885,0.89,0.895,0.9,0.905,0.91,0.915,0.92,0.925,0.93,0.935,0.9400000000000001,0.9450000000000001,0.9500000000000001,0.9550000000000001,0.96,0.965,0.97,0.975,0.98,0.985,0.99,0.995,1.0],\"y\":[0.0,0.005,0.01,0.015,0.02,0.025,0.03,0.035,0.04,0.045,0.05,0.055,0.06,0.065,0.07,0.075,0.08,0.085,0.09,0.095,0.1,0.105,0.11,0.115,0.12,0.125,0.13,0.135,0.14,0.145,0.15,0.155,0.16,0.165,0.17,0.17500000000000002,0.18,0.185,0.19,0.195,0.2,0.20500000000000002,0.21,0.215,0.22,0.225,0.23,0.23500000000000001,0.24,0.245,0.25,0.255,0.26,0.265,0.27,0.275,0.28,0.28500000000000003,0.29,0.295,0.3,0.305,0.31,0.315,0.32,0.325,0.33,0.335,0.34,0.34500000000000003,0.35000000000000003,0.355,0.36,0.365,0.37,0.375,0.38,0.385,0.39,0.395,0.4,0.405,0.41000000000000003,0.41500000000000004,0.42,0.425,0.43,0.435,0.44,0.445,0.45,0.455,0.46,0.465,0.47000000000000003,0.47500000000000003,0.48,0.485,0.49,0.495,0.5,0.505,0.51,0.515,0.52,0.525,0.53,0.535,0.54,0.545,0.55,0.555,0.56,0.5650000000000001,0.5700000000000001,0.5750000000000001,0.58,0.585,0.59,0.595,0.6,0.605,0.61,0.615,0.62,0.625,0.63,0.635,0.64,0.645,0.65,0.655,0.66,0.665,0.67,0.675,0.68,0.685,0.6900000000000001,0.6950000000000001,0.7000000000000001,0.705,0.71,0.715,0.72,0.725,0.73,0.735,0.74,0.745,0.75,0.755,0.76,0.765,0.77,0.775,0.78,0.785,0.79,0.795,0.8,0.805,0.81,0.8150000000000001,0.8200000000000001,0.8250000000000001,0.8300000000000001,0.835,0.84,0.845,0.85,0.855,0.86,0.865,0.87,0.875,0.88,0.885,0.89,0.895,0.9,0.905,0.91,0.915,0.92,0.925,0.93,0.935,0.9400000000000001,0.9450000000000001,0.9500000000000001,0.9550000000000001,0.96,0.965,0.97,0.975,0.98,0.985,0.99,0.995,1.0]},\"selected\":null,\"selection_policy\":null},\"id\":\"a7799a06-c17d-4827-8953-ea5ce755fe83\",\"type\":\"ColumnDataSource\"},{\"attributes\":{},\"id\":\"52e7bfe9-7996-41fc-ac27-b51d0c257768\",\"type\":\"ResetTool\"},{\"attributes\":{\"callback\":null},\"id\":\"dec9feaf-ceee-40a0-9925-fe427058b8b1\",\"type\":\"DataRange1d\"},{\"attributes\":{},\"id\":\"e3aa0307-faba-4449-9efb-2af99e16afbc\",\"type\":\"HelpTool\"},{\"attributes\":{},\"id\":\"b17a0ed7-31e1-4c92-ad16-d24507ee72ba\",\"type\":\"BasicTicker\"},{\"attributes\":{\"args\":{\"slider\":{\"id\":\"c57befb0-bf62-424a-96af-440105cb6558\",\"type\":\"Slider\"},\"source\":{\"id\":\"a7799a06-c17d-4827-8953-ea5ce755fe83\",\"type\":\"ColumnDataSource\"}},\"code\":\"\\n    var data = source.get('data');\\n    var f = slider.value;\\n    x = data['x']\\n    y = data['y']\\n    for (i = 0; i < x.length; i++) {\\n        y[i] = Math.pow(x[i], f)\\n    }\\n    source.change.emit();\\n\"},\"id\":\"82b44f81-9ccc-447a-9207-7a154d8c130c\",\"type\":\"CustomJS\"},{\"attributes\":{\"callback\":null},\"id\":\"a0c6eb1c-5e08-488a-b1f3-526e3b361d39\",\"type\":\"DataRange1d\"},{\"attributes\":{\"below\":[{\"id\":\"cff624b7-545b-40a8-b798-37fee5997fc0\",\"type\":\"LinearAxis\"}],\"left\":[{\"id\":\"de3e2741-79ae-41e1-bcb3-502d83061e00\",\"type\":\"LinearAxis\"}],\"plot_height\":400,\"plot_width\":400,\"renderers\":[{\"id\":\"cff624b7-545b-40a8-b798-37fee5997fc0\",\"type\":\"LinearAxis\"},{\"id\":\"9e606ba5-8c09-4f18-aa9e-646d9c0d9c7b\",\"type\":\"Grid\"},{\"id\":\"de3e2741-79ae-41e1-bcb3-502d83061e00\",\"type\":\"LinearAxis\"},{\"id\":\"94ca60db-446f-482b-90d9-badd8b86a766\",\"type\":\"Grid\"},{\"id\":\"ffb1d44d-2452-434a-9ade-a85fe97d422a\",\"type\":\"BoxAnnotation\"},{\"id\":\"5db43eb6-a99c-442d-b048-ce343690613a\",\"type\":\"GlyphRenderer\"}],\"title\":{\"id\":\"2479a042-374f-4ae8-8260-3a765dabd9cf\",\"type\":\"Title\"},\"toolbar\":{\"id\":\"79ebbc46-9f3e-4a07-905b-a88b840fcae4\",\"type\":\"Toolbar\"},\"x_range\":{\"id\":\"dec9feaf-ceee-40a0-9925-fe427058b8b1\",\"type\":\"DataRange1d\"},\"x_scale\":{\"id\":\"10c56e25-325e-4db4-a012-9e656b70a880\",\"type\":\"LinearScale\"},\"y_range\":{\"id\":\"a0c6eb1c-5e08-488a-b1f3-526e3b361d39\",\"type\":\"DataRange1d\"},\"y_scale\":{\"id\":\"58822405-6731-4855-8f3c-1a96ef7202c3\",\"type\":\"LinearScale\"}},\"id\":\"187c9ed5-06b5-4295-9a0a-adfca8aa02a1\",\"subtype\":\"Figure\",\"type\":\"Plot\"},{\"attributes\":{},\"id\":\"10c56e25-325e-4db4-a012-9e656b70a880\",\"type\":\"LinearScale\"},{\"attributes\":{},\"id\":\"58822405-6731-4855-8f3c-1a96ef7202c3\",\"type\":\"LinearScale\"},{\"attributes\":{},\"id\":\"abbf7192-1c86-4d40-9d52-2270bf2d24c2\",\"type\":\"BasicTicker\"},{\"attributes\":{\"line_alpha\":0.6,\"line_color\":\"#1f77b4\",\"line_width\":3,\"x\":{\"field\":\"x\"},\"y\":{\"field\":\"y\"}},\"id\":\"66a7904d-6b94-48dd-bf95-90e05d29d8b8\",\"type\":\"Line\"},{\"attributes\":{\"plot\":{\"id\":\"187c9ed5-06b5-4295-9a0a-adfca8aa02a1\",\"subtype\":\"Figure\",\"type\":\"Plot\"},\"ticker\":{\"id\":\"b17a0ed7-31e1-4c92-ad16-d24507ee72ba\",\"type\":\"BasicTicker\"}},\"id\":\"9e606ba5-8c09-4f18-aa9e-646d9c0d9c7b\",\"type\":\"Grid\"},{\"attributes\":{\"plot\":null,\"text\":\"\"},\"id\":\"2479a042-374f-4ae8-8260-3a765dabd9cf\",\"type\":\"Title\"},{\"attributes\":{\"data_source\":{\"id\":\"a7799a06-c17d-4827-8953-ea5ce755fe83\",\"type\":\"ColumnDataSource\"},\"glyph\":{\"id\":\"66a7904d-6b94-48dd-bf95-90e05d29d8b8\",\"type\":\"Line\"},\"hover_glyph\":null,\"muted_glyph\":null,\"nonselection_glyph\":{\"id\":\"ce286979-2d71-4c75-9068-481ce0e816ff\",\"type\":\"Line\"},\"selection_glyph\":null,\"view\":{\"id\":\"1b3b985b-1bfc-4a88-9e67-d84a55f98611\",\"type\":\"CDSView\"}},\"id\":\"5db43eb6-a99c-442d-b048-ce343690613a\",\"type\":\"GlyphRenderer\"},{\"attributes\":{\"formatter\":{\"id\":\"2fad867f-6ac1-4cd7-8f2b-153d9c6784e5\",\"type\":\"BasicTickFormatter\"},\"plot\":{\"id\":\"187c9ed5-06b5-4295-9a0a-adfca8aa02a1\",\"subtype\":\"Figure\",\"type\":\"Plot\"},\"ticker\":{\"id\":\"abbf7192-1c86-4d40-9d52-2270bf2d24c2\",\"type\":\"BasicTicker\"}},\"id\":\"de3e2741-79ae-41e1-bcb3-502d83061e00\",\"type\":\"LinearAxis\"},{\"attributes\":{\"dimension\":1,\"plot\":{\"id\":\"187c9ed5-06b5-4295-9a0a-adfca8aa02a1\",\"subtype\":\"Figure\",\"type\":\"Plot\"},\"ticker\":{\"id\":\"abbf7192-1c86-4d40-9d52-2270bf2d24c2\",\"type\":\"BasicTicker\"}},\"id\":\"94ca60db-446f-482b-90d9-badd8b86a766\",\"type\":\"Grid\"},{\"attributes\":{\"children\":[{\"id\":\"c57befb0-bf62-424a-96af-440105cb6558\",\"type\":\"Slider\"}]},\"id\":\"277196eb-eb3f-4f16-9bc1-f0d50c5f37ba\",\"type\":\"WidgetBox\"},{\"attributes\":{\"callback\":null,\"end\":6,\"js_property_callbacks\":{\"change:value\":[{\"id\":\"82b44f81-9ccc-447a-9207-7a154d8c130c\",\"type\":\"CustomJS\"}]},\"start\":0.1,\"step\":0.1,\"title\":\"power\",\"value\":1},\"id\":\"c57befb0-bf62-424a-96af-440105cb6558\",\"type\":\"Slider\"},{\"attributes\":{\"formatter\":{\"id\":\"b01b9cad-4aae-4431-8b94-14e1efda068a\",\"type\":\"BasicTickFormatter\"},\"plot\":{\"id\":\"187c9ed5-06b5-4295-9a0a-adfca8aa02a1\",\"subtype\":\"Figure\",\"type\":\"Plot\"},\"ticker\":{\"id\":\"b17a0ed7-31e1-4c92-ad16-d24507ee72ba\",\"type\":\"BasicTicker\"}},\"id\":\"cff624b7-545b-40a8-b798-37fee5997fc0\",\"type\":\"LinearAxis\"},{\"attributes\":{\"line_alpha\":0.1,\"line_color\":\"#1f77b4\",\"line_width\":3,\"x\":{\"field\":\"x\"},\"y\":{\"field\":\"y\"}},\"id\":\"ce286979-2d71-4c75-9068-481ce0e816ff\",\"type\":\"Line\"},{\"attributes\":{\"bottom_units\":\"screen\",\"fill_alpha\":{\"value\":0.5},\"fill_color\":{\"value\":\"lightgrey\"},\"left_units\":\"screen\",\"level\":\"overlay\",\"line_alpha\":{\"value\":1.0},\"line_color\":{\"value\":\"black\"},\"line_dash\":[4,4],\"line_width\":{\"value\":2},\"plot\":null,\"render_mode\":\"css\",\"right_units\":\"screen\",\"top_units\":\"screen\"},\"id\":\"ffb1d44d-2452-434a-9ade-a85fe97d422a\",\"type\":\"BoxAnnotation\"},{\"attributes\":{},\"id\":\"b4912b96-9a4c-4f99-b5e8-89c0d3dfdbfc\",\"type\":\"PanTool\"},{\"attributes\":{\"source\":{\"id\":\"a7799a06-c17d-4827-8953-ea5ce755fe83\",\"type\":\"ColumnDataSource\"}},\"id\":\"1b3b985b-1bfc-4a88-9e67-d84a55f98611\",\"type\":\"CDSView\"},{\"attributes\":{\"children\":[{\"id\":\"277196eb-eb3f-4f16-9bc1-f0d50c5f37ba\",\"type\":\"WidgetBox\"},{\"id\":\"187c9ed5-06b5-4295-9a0a-adfca8aa02a1\",\"subtype\":\"Figure\",\"type\":\"Plot\"}]},\"id\":\"9f56bc00-a257-4cbd-bc3c-789dade80eb5\",\"type\":\"Column\"},{\"attributes\":{},\"id\":\"2de11f9b-3109-4b80-be41-200dddd8a2c0\",\"type\":\"WheelZoomTool\"},{\"attributes\":{},\"id\":\"2fad867f-6ac1-4cd7-8f2b-153d9c6784e5\",\"type\":\"BasicTickFormatter\"},{\"attributes\":{\"overlay\":{\"id\":\"ffb1d44d-2452-434a-9ade-a85fe97d422a\",\"type\":\"BoxAnnotation\"}},\"id\":\"e46769f7-eef1-4bfd-9c31-0939c41d5c00\",\"type\":\"BoxZoomTool\"},{\"attributes\":{},\"id\":\"b01b9cad-4aae-4431-8b94-14e1efda068a\",\"type\":\"BasicTickFormatter\"},{\"attributes\":{},\"id\":\"cba20e0f-34e3-43c3-9fbb-7f7a2af46cec\",\"type\":\"SaveTool\"},{\"attributes\":{\"active_drag\":\"auto\",\"active_inspect\":\"auto\",\"active_scroll\":\"auto\",\"active_tap\":\"auto\",\"tools\":[{\"id\":\"b4912b96-9a4c-4f99-b5e8-89c0d3dfdbfc\",\"type\":\"PanTool\"},{\"id\":\"2de11f9b-3109-4b80-be41-200dddd8a2c0\",\"type\":\"WheelZoomTool\"},{\"id\":\"e46769f7-eef1-4bfd-9c31-0939c41d5c00\",\"type\":\"BoxZoomTool\"},{\"id\":\"cba20e0f-34e3-43c3-9fbb-7f7a2af46cec\",\"type\":\"SaveTool\"},{\"id\":\"52e7bfe9-7996-41fc-ac27-b51d0c257768\",\"type\":\"ResetTool\"},{\"id\":\"e3aa0307-faba-4449-9efb-2af99e16afbc\",\"type\":\"HelpTool\"}]},\"id\":\"79ebbc46-9f3e-4a07-905b-a88b840fcae4\",\"type\":\"Toolbar\"}],\"root_ids\":[\"9f56bc00-a257-4cbd-bc3c-789dade80eb5\"]},\"title\":\"Bokeh Application\",\"version\":\"0.12.15\"}};\n",
       "  var render_items = [{\"docid\":\"a862149e-cc88-471b-a080-285d6850937e\",\"elementid\":\"116fdf77-a575-4560-bf2a-e6cfd64dd90b\",\"modelid\":\"9f56bc00-a257-4cbd-bc3c-789dade80eb5\"}];\n",
       "  root.Bokeh.embed.embed_items_notebook(docs_json, render_items);\n",
       "\n",
       "  }\n",
       "  if (root.Bokeh !== undefined) {\n",
       "    embed_document(root);\n",
       "  } else {\n",
       "    var attempts = 0;\n",
       "    var timer = setInterval(function(root) {\n",
       "      if (root.Bokeh !== undefined) {\n",
       "        embed_document(root);\n",
       "        clearInterval(timer);\n",
       "      }\n",
       "      attempts++;\n",
       "      if (attempts > 100) {\n",
       "        console.log(\"Bokeh: ERROR: Unable to run BokehJS code because BokehJS library is missing\")\n",
       "        clearInterval(timer);\n",
       "      }\n",
       "    }, 10, root)\n",
       "  }\n",
       "})(window);"
      ],
      "application/vnd.bokehjs_exec.v0+json": ""
     },
     "metadata": {
      "application/vnd.bokehjs_exec.v0+json": {
       "id": "9f56bc00-a257-4cbd-bc3c-789dade80eb5"
      }
     },
     "output_type": "display_data"
    }
   ],
   "source": [
    "from bokeh.layouts import column\n",
    "from bokeh.models import CustomJS, ColumnDataSource, Slider\n",
    "\n",
    "x = [x*0.005 for x in range(0, 201)]\n",
    "\n",
    "source = ColumnDataSource(data=dict(x=x, y=x))\n",
    "\n",
    "plot = figure(plot_width=400, plot_height=400)\n",
    "plot.line('x', 'y', source=source, line_width=3, line_alpha=0.6)\n",
    "\n",
    "slider = Slider(start=0.1, end=6, value=1, step=.1, title=\"power\")\n",
    "\n",
    "update_curve = CustomJS(args=dict(source=source, slider=slider), code=\"\"\"\n",
    "    var data = source.get('data');\n",
    "    var f = slider.value;\n",
    "    x = data['x']\n",
    "    y = data['y']\n",
    "    for (i = 0; i < x.length; i++) {\n",
    "        y[i] = Math.pow(x[i], f)\n",
    "    }\n",
    "    source.change.emit();\n",
    "\"\"\")\n",
    "slider.js_on_change('value', update_curve)\n",
    "\n",
    "\n",
    "show(column(slider, plot))"
   ]
  },
  {
   "cell_type": "markdown",
   "metadata": {},
   "source": [
    "## Calbacks for selections\n",
    "\n",
    "It's also possible to make JavaScript actions that execute whenever a user selection (e.g., box, point, lasso) changes. This is done by attaching the same kind of CustomJS object to whatever data source the selection is made on.\n",
    "\n",
    "The example below is a bit more sophisticated, and demonstrates updating one glyph's data source in response to another glyph's selection: "
   ]
  },
  {
   "cell_type": "code",
   "execution_count": 11,
   "metadata": {},
   "outputs": [
    {
     "data": {
      "text/html": [
       "\n",
       "<div class=\"bk-root\">\n",
       "    <div class=\"bk-plotdiv\" id=\"8a13b066-e414-4664-a5c1-ceb085403144\"></div>\n",
       "</div>"
      ]
     },
     "metadata": {},
     "output_type": "display_data"
    },
    {
     "data": {
      "application/javascript": [
       "(function(root) {\n",
       "  function embed_document(root) {\n",
       "    \n",
       "  var docs_json = {\"988dbab3-b396-4e95-94e4-826580d08ed3\":{\"roots\":{\"references\":[{\"attributes\":{\"source\":{\"id\":\"cfaee23f-564a-4523-8bda-186cc4b3ba91\",\"type\":\"ColumnDataSource\"}},\"id\":\"44c9bf9f-824d-4f6c-a2ac-f39eeabcf8fd\",\"type\":\"CDSView\"},{\"attributes\":{\"fill_alpha\":{\"value\":0.4},\"fill_color\":{\"field\":\"color\"},\"line_alpha\":{\"value\":0.4},\"line_color\":{\"field\":\"color\"},\"size\":{\"units\":\"screen\",\"value\":8},\"x\":{\"field\":\"x\"},\"y\":{\"field\":\"y\"}},\"id\":\"45d61d24-df79-47aa-b954-fec22e932010\",\"type\":\"Circle\"},{\"attributes\":{\"callback\":null},\"id\":\"81a5c02b-10a9-4e0b-85c6-37b4ce778a4d\",\"type\":\"DataRange1d\"},{\"attributes\":{\"data_source\":{\"id\":\"cfaee23f-564a-4523-8bda-186cc4b3ba91\",\"type\":\"ColumnDataSource\"},\"glyph\":{\"id\":\"45d61d24-df79-47aa-b954-fec22e932010\",\"type\":\"Circle\"},\"hover_glyph\":null,\"muted_glyph\":null,\"nonselection_glyph\":{\"id\":\"2eb42205-3c57-425b-a326-a996416be5f3\",\"type\":\"Circle\"},\"selection_glyph\":null,\"view\":{\"id\":\"44c9bf9f-824d-4f6c-a2ac-f39eeabcf8fd\",\"type\":\"CDSView\"}},\"id\":\"0b5d242b-d087-4f10-b898-a2854df2b1ea\",\"type\":\"GlyphRenderer\"},{\"attributes\":{\"plot\":null,\"text\":\"Select Here\"},\"id\":\"00a5cf60-ead7-452e-9ac5-c13b8f03409e\",\"type\":\"Title\"},{\"attributes\":{\"fill_alpha\":{\"value\":0.1},\"fill_color\":{\"value\":\"#1f77b4\"},\"line_alpha\":{\"value\":0.1},\"line_color\":{\"value\":\"#1f77b4\"},\"size\":{\"units\":\"screen\",\"value\":8},\"x\":{\"field\":\"x\"},\"y\":{\"field\":\"y\"}},\"id\":\"2eb42205-3c57-425b-a326-a996416be5f3\",\"type\":\"Circle\"},{\"attributes\":{\"callback\":null,\"column_names\":[\"xm\",\"ym\"],\"data\":{\"xm\":[0,1],\"ym\":[0.5,0.5]},\"selected\":null,\"selection_policy\":null},\"id\":\"690112d4-2ae7-4933-8396-db06b0d0f301\",\"type\":\"ColumnDataSource\"},{\"attributes\":{},\"id\":\"fb6a8002-061d-412b-9ae6-7bf968b800b3\",\"type\":\"BasicTickFormatter\"},{\"attributes\":{\"active_drag\":\"auto\",\"active_inspect\":\"auto\",\"active_scroll\":\"auto\",\"active_tap\":\"auto\",\"tools\":[{\"id\":\"bc5f9c37-f205-4528-b8f4-93a7818d1162\",\"type\":\"LassoSelectTool\"}]},\"id\":\"3d3cd5d1-b974-4d0f-b899-bccf33971bc7\",\"type\":\"Toolbar\"},{\"attributes\":{\"below\":[{\"id\":\"c7b9c804-e5e1-4ce3-aa18-6b66e8c7ea1c\",\"type\":\"LinearAxis\"}],\"left\":[{\"id\":\"c5e4e605-a84a-41c2-a6af-be9f2da412f8\",\"type\":\"LinearAxis\"}],\"plot_height\":400,\"plot_width\":400,\"renderers\":[{\"id\":\"c7b9c804-e5e1-4ce3-aa18-6b66e8c7ea1c\",\"type\":\"LinearAxis\"},{\"id\":\"5d74b04b-b215-4fc3-a9b3-8ae78268d1f0\",\"type\":\"Grid\"},{\"id\":\"c5e4e605-a84a-41c2-a6af-be9f2da412f8\",\"type\":\"LinearAxis\"},{\"id\":\"743a5916-49c1-4f23-9de8-c940d2aaf1dd\",\"type\":\"Grid\"},{\"id\":\"c04521cb-a0b8-4eab-8f23-c01460a35107\",\"type\":\"PolyAnnotation\"},{\"id\":\"0b5d242b-d087-4f10-b898-a2854df2b1ea\",\"type\":\"GlyphRenderer\"},{\"id\":\"2504803d-c23f-4dda-99aa-8bfecb81959d\",\"type\":\"GlyphRenderer\"}],\"title\":{\"id\":\"00a5cf60-ead7-452e-9ac5-c13b8f03409e\",\"type\":\"Title\"},\"toolbar\":{\"id\":\"3d3cd5d1-b974-4d0f-b899-bccf33971bc7\",\"type\":\"Toolbar\"},\"x_range\":{\"id\":\"81a5c02b-10a9-4e0b-85c6-37b4ce778a4d\",\"type\":\"DataRange1d\"},\"x_scale\":{\"id\":\"8b9292ca-a1e1-4a20-a6b0-061f00e6a361\",\"type\":\"LinearScale\"},\"y_range\":{\"id\":\"45ae5aba-ab83-4c08-be01-a783c601dcd7\",\"type\":\"DataRange1d\"},\"y_scale\":{\"id\":\"a2500e92-8514-4607-9278-e07861cc0a0c\",\"type\":\"LinearScale\"}},\"id\":\"5d536b09-dc64-42b5-97b0-c917748fac27\",\"subtype\":\"Figure\",\"type\":\"Plot\"},{\"attributes\":{},\"id\":\"a2500e92-8514-4607-9278-e07861cc0a0c\",\"type\":\"LinearScale\"},{\"attributes\":{},\"id\":\"ad85fa14-8ef5-421d-b5ac-9885d974f275\",\"type\":\"BasicTickFormatter\"},{\"attributes\":{\"plot\":{\"id\":\"5d536b09-dc64-42b5-97b0-c917748fac27\",\"subtype\":\"Figure\",\"type\":\"Plot\"},\"ticker\":{\"id\":\"801557b1-9c0d-40fe-98d0-804874a33f81\",\"type\":\"BasicTicker\"}},\"id\":\"5d74b04b-b215-4fc3-a9b3-8ae78268d1f0\",\"type\":\"Grid\"},{\"attributes\":{\"callback\":{\"id\":\"0c9ff524-7302-463c-b678-0db65801eaa8\",\"type\":\"CustomJS\"},\"column_names\":[\"x\",\"y\",\"color\"],\"data\":{\"color\":[\"navy\",\"navy\",\"navy\",\"navy\",\"navy\",\"navy\",\"navy\",\"navy\",\"navy\",\"navy\",\"navy\",\"navy\",\"navy\",\"navy\",\"navy\",\"navy\",\"navy\",\"navy\",\"navy\",\"navy\",\"navy\",\"navy\",\"navy\",\"navy\",\"navy\",\"navy\",\"navy\",\"navy\",\"navy\",\"navy\",\"navy\",\"navy\",\"navy\",\"navy\",\"navy\",\"navy\",\"navy\",\"navy\",\"navy\",\"navy\",\"navy\",\"navy\",\"navy\",\"navy\",\"navy\",\"navy\",\"navy\",\"navy\",\"navy\",\"navy\",\"navy\",\"navy\",\"navy\",\"navy\",\"navy\",\"navy\",\"navy\",\"navy\",\"navy\",\"navy\",\"navy\",\"navy\",\"navy\",\"navy\",\"navy\",\"navy\",\"navy\",\"navy\",\"navy\",\"navy\",\"navy\",\"navy\",\"navy\",\"navy\",\"navy\",\"navy\",\"navy\",\"navy\",\"navy\",\"navy\",\"navy\",\"navy\",\"navy\",\"navy\",\"navy\",\"navy\",\"navy\",\"navy\",\"navy\",\"navy\",\"navy\",\"navy\",\"navy\",\"navy\",\"navy\",\"navy\",\"navy\",\"navy\",\"navy\",\"navy\",\"navy\",\"navy\",\"navy\",\"navy\",\"navy\",\"navy\",\"navy\",\"navy\",\"navy\",\"navy\",\"navy\",\"navy\",\"navy\",\"navy\",\"navy\",\"navy\",\"navy\",\"navy\",\"navy\",\"navy\",\"navy\",\"navy\",\"navy\",\"navy\",\"navy\",\"navy\",\"navy\",\"navy\",\"navy\",\"navy\",\"navy\",\"navy\",\"navy\",\"navy\",\"navy\",\"navy\",\"navy\",\"navy\",\"navy\",\"navy\",\"navy\",\"navy\",\"navy\",\"navy\",\"navy\",\"navy\",\"navy\",\"navy\",\"navy\",\"navy\",\"navy\",\"navy\",\"navy\",\"navy\",\"navy\",\"navy\",\"navy\",\"navy\",\"navy\",\"navy\",\"navy\",\"navy\",\"navy\",\"navy\",\"navy\",\"navy\",\"navy\",\"navy\",\"navy\",\"navy\",\"navy\",\"navy\",\"navy\",\"navy\",\"navy\",\"navy\",\"navy\",\"navy\",\"navy\",\"navy\",\"navy\",\"navy\",\"navy\",\"navy\",\"navy\",\"navy\",\"navy\",\"navy\",\"navy\",\"navy\",\"navy\",\"navy\",\"navy\",\"navy\",\"navy\",\"navy\",\"navy\",\"navy\",\"navy\",\"navy\",\"navy\",\"navy\",\"navy\",\"navy\",\"navy\",\"navy\",\"navy\",\"navy\",\"navy\",\"navy\",\"navy\",\"navy\",\"navy\",\"navy\",\"navy\",\"navy\",\"navy\",\"navy\",\"navy\",\"navy\",\"navy\",\"navy\",\"navy\",\"navy\",\"navy\",\"navy\",\"navy\",\"navy\",\"navy\",\"navy\",\"navy\",\"navy\",\"navy\",\"navy\",\"navy\",\"navy\",\"navy\",\"navy\",\"navy\",\"navy\",\"navy\",\"navy\",\"navy\",\"navy\",\"navy\",\"navy\",\"navy\",\"navy\",\"navy\",\"navy\",\"navy\",\"navy\",\"navy\",\"navy\",\"navy\",\"navy\",\"navy\",\"navy\",\"navy\",\"navy\",\"navy\",\"navy\",\"navy\",\"navy\",\"navy\",\"navy\",\"navy\",\"navy\",\"navy\",\"navy\",\"navy\",\"navy\",\"navy\",\"navy\",\"navy\",\"navy\",\"navy\",\"navy\",\"navy\",\"navy\",\"navy\",\"navy\",\"navy\",\"navy\",\"navy\",\"navy\",\"navy\",\"navy\",\"navy\",\"navy\",\"navy\",\"navy\",\"navy\",\"navy\",\"navy\",\"navy\",\"navy\",\"navy\",\"navy\",\"navy\",\"navy\",\"navy\",\"navy\",\"navy\",\"navy\",\"navy\",\"navy\",\"navy\",\"navy\",\"navy\",\"navy\",\"navy\",\"navy\",\"navy\",\"navy\",\"navy\",\"navy\",\"navy\",\"navy\",\"navy\",\"navy\",\"navy\",\"navy\",\"navy\",\"navy\",\"navy\",\"navy\",\"navy\",\"navy\",\"navy\",\"navy\",\"navy\",\"navy\",\"navy\",\"navy\",\"navy\",\"navy\",\"navy\",\"navy\",\"navy\",\"navy\",\"navy\",\"navy\",\"navy\",\"navy\",\"navy\",\"navy\",\"navy\",\"navy\",\"navy\",\"navy\",\"navy\",\"navy\",\"navy\",\"navy\",\"navy\",\"navy\",\"navy\",\"navy\",\"navy\",\"navy\",\"navy\",\"navy\",\"navy\",\"navy\",\"navy\",\"navy\",\"navy\",\"navy\",\"navy\",\"navy\",\"navy\",\"navy\",\"navy\",\"navy\",\"navy\",\"navy\",\"navy\",\"navy\",\"navy\",\"navy\",\"navy\",\"navy\",\"navy\",\"navy\",\"navy\",\"navy\",\"navy\",\"navy\",\"navy\",\"navy\",\"navy\",\"navy\",\"navy\",\"navy\",\"navy\",\"navy\",\"navy\",\"navy\",\"navy\",\"navy\",\"navy\",\"navy\",\"navy\",\"navy\",\"navy\",\"navy\",\"navy\",\"navy\",\"navy\",\"navy\",\"navy\",\"navy\",\"navy\",\"navy\",\"navy\",\"navy\",\"navy\",\"navy\",\"navy\",\"navy\",\"navy\",\"navy\",\"navy\",\"navy\",\"navy\",\"navy\",\"navy\",\"navy\",\"navy\",\"navy\",\"navy\",\"navy\",\"navy\",\"navy\",\"navy\",\"navy\",\"navy\",\"navy\",\"navy\",\"navy\",\"navy\",\"navy\",\"navy\",\"navy\",\"navy\",\"navy\",\"navy\",\"navy\",\"navy\",\"navy\",\"navy\",\"navy\",\"navy\",\"navy\",\"navy\",\"navy\",\"navy\",\"navy\",\"navy\",\"navy\",\"navy\",\"navy\",\"navy\",\"navy\",\"navy\",\"navy\",\"navy\",\"navy\",\"navy\",\"navy\",\"navy\",\"navy\",\"navy\",\"navy\",\"navy\",\"navy\",\"navy\",\"navy\",\"navy\",\"navy\",\"navy\",\"navy\",\"navy\",\"navy\",\"navy\",\"navy\",\"navy\",\"navy\",\"navy\",\"navy\",\"navy\",\"navy\",\"navy\",\"navy\",\"navy\",\"navy\",\"navy\",\"navy\",\"navy\"],\"x\":[0.3708344254420207,0.6039532814628562,0.4888047702009103,0.9814298776454314,0.25248265806469006,0.8235720673320954,0.35361540346817366,0.8098360405428459,0.1605166546998804,0.9478953422020509,0.8200958585657152,0.2603373240713427,0.7349860500907548,0.9802397256178567,0.6164372798540534,0.9783280654589877,0.2605258170505925,0.23525370983636162,0.456174426593576,0.7416508519053535,0.8351853491941822,0.5541804824952633,0.5544344186492258,0.7929950821246198,0.4193852309671965,0.38474404408919993,0.5697326826007879,0.6097396720438056,0.5664907013985869,0.861553582203039,0.2760971659663486,0.012692948664060788,0.21803170900968594,0.2971749164691443,0.5717014383987298,0.027239951039097154,0.9659297267161068,0.9910687812981114,0.9843567794014765,0.7144388982377956,0.25448025325788526,0.5699325547011844,0.7991751155723045,0.17299630097060037,0.9892377415009079,0.503836722294059,0.16937478502360725,0.27539632644459555,0.5923816502215311,0.13142616371886684,0.19004715260991378,0.7440948425150848,0.3520657915071609,0.4839152206558053,0.17994972631422412,0.22829455221182915,0.050989087454597404,0.7922165266654441,0.5226039731324276,0.20342288274976905,0.3431043011558468,0.1387622762954518,0.7850191991960099,0.8100827256096538,0.027477345261518016,0.25917479875891003,0.3421879706418067,0.11964153308536762,0.4372776909376278,0.9434765137163813,0.7017879482784791,0.36284939464714383,0.8492693761568372,0.2653970939573399,0.8896777520024833,0.8833695395890568,0.8088976925073108,0.9448207381812065,0.5752816222848199,0.9016853946153551,0.8270363336232947,0.5157008473180488,0.6105493250613591,0.41854297616788017,0.7574743194968285,0.3545804259148154,0.9719250551238041,0.7051677584591896,0.4183099026179897,0.9421359346501147,0.11304097896896992,0.8543996072168165,0.5259878259251335,0.13601170669786644,0.800144299031233,0.5284911718225218,0.13795100496151103,0.7637516386465486,0.14703517690468282,0.3525034404025482,0.7841757221672407,0.4604474219020549,0.22249683515159335,0.2832172473995319,0.5525151286482667,0.29285704319187333,0.9290593935449476,0.8030302559593429,0.055032355484214035,0.2847320740802214,0.9792045177875683,0.6051852240201496,0.5948930703908368,0.8438602196015293,0.2028635976246821,0.9711966071824812,0.6134299048875402,0.09536150453699066,0.44572426161937617,0.8643760649433139,0.20221173552321403,0.09520976393828184,0.4117220322295403,0.8432612186103831,0.965199707867333,0.5917235227343786,0.27394706674650393,0.8395007019468826,0.3753129585378918,0.9701011460094451,0.03276749953873914,0.6893056468202539,0.012526945169564985,0.8236724443529874,0.30340649221613347,0.08034680059030053,0.3414070917848444,0.013606730274925982,0.3636555599213821,0.03567977885968221,0.8040004209926187,0.6573392590525119,0.10298635258885713,0.04179966166781057,0.33103199744695855,0.519698106396695,0.3323837125075566,0.8568962401297995,0.514009466378725,0.5032431609216255,0.7376430199627448,0.2340015648360475,0.635127208546086,0.8151791213637632,0.7865790939792565,0.6156470034319008,0.24860386641717036,0.590362666841707,0.17285986282202104,0.24762146684737307,0.23434424637300433,0.52378308692743,0.368718794713755,0.27300467180681853,0.0815487146729118,0.24604540979621992,0.6579953737874242,0.36891299961849144,0.4464500852765616,0.4052827147776502,0.7397783890533511,0.3152336506526623,0.21173984096456855,0.5232848156723298,0.06437724217946394,0.12809326567467394,0.08600285118619089,0.8642389146504618,0.5420222126425356,0.589885498869209,0.6606411379620178,0.4808765402838072,0.5466774107614505,0.331287981978315,0.6767411118807165,0.759666330729758,0.059913665391340354,0.7460113605252854,0.24463738740969854,0.42875640821173766,0.6623368257602315,0.8780768976784468,0.5593627170025985,0.7065431248234668,0.6163546159525768,0.21534137408707932,0.24874485235635047,0.042508426979169345,0.7641994434446981,0.6087764554751566,0.1680898372674443,0.5948356305037314,0.2393350344401931,0.088897874858059,0.6889907165506172,0.21249538138977908,0.9215799762404071,0.8257411964861291,0.052060917558677366,0.7777449130872296,0.9473127456497082,0.793409696557943,0.4291822110666357,0.3224582365204136,0.22428410389352926,0.17214389957154397,0.6087535608181728,0.44388056540812804,0.4806543798770885,0.5421067182966661,0.9510183568520798,0.5393104949831765,0.4293362088064294,0.842559969720837,0.6917224584017312,0.7070986517207586,0.6409951986699346,0.9038315173560786,0.9906109248446925,0.7917397907802374,0.007573855212581249,0.3764807666510641,0.5147184194529655,0.27904349798661066,0.2494183272349999,0.6322353142977827,0.2841105296306926,0.14045915369666817,0.990438626461271,0.4855543746748484,0.6071135276462252,0.13876562272273818,0.9404386641724716,0.9201340152740862,0.7581283085178555,0.32465267874528125,0.9004819202895663,0.934900595956679,0.09765160660024641,0.5342089591526342,0.9931455548175483,0.9472542666239583,0.44798425189165114,0.09704099234649655,0.5550121008282192,0.6796750450868148,0.983826528105607,0.31422570708286124,0.0661776061331526,0.034464181307734876,0.057144644320826,0.4170208842256762,0.09591807960982368,0.6893058390299975,0.9719694915456889,0.03329807386302619,0.29134416010846975,0.8161889109939797,0.526364581604669,0.654798320479808,0.6612422295976765,0.33410053631338044,0.2644091598512016,0.237747008063254,0.3876862640194717,0.4057400711468513,0.903740193929725,0.9537757623205577,0.34465738845991156,0.2951469657794038,0.5093185726353303,0.26051119081988283,0.9119041905876285,0.8258424421556817,0.9783708248072585,0.30752154111420615,0.1996231216231219,0.7147309576674241,0.3855258597383119,0.9302358395275344,0.8928332821446655,0.6525252718857658,0.01924828786768129,0.6195651708284552,0.4049335113362854,0.4349213651974274,0.24063115638310328,0.9562921293830013,0.1338154543498049,0.11438504083477097,0.7790382062251616,0.2070299089515577,0.3368189388035152,0.08780805225011945,0.7602556445985672,0.3246288305814805,0.17395320943770765,0.7748341839661578,0.3799885396171516,0.9019126037912274,0.3563609883697981,0.0776377366536023,0.1328124825785576,0.1279490660681536,0.33529688931763724,0.2690173822835993,0.9179478417976188,0.08221522865619602,0.5966748124911652,0.6387061299955556,0.43948338734347925,0.7274093083722959,0.09514212315350912,0.18735172200685613,0.21786879809370197,0.8308577793241883,0.7709300128688236,0.7760976787043428,0.9229755338157967,0.7814361389308756,0.1593285770030909,0.8044156484135762,0.19777498118199155,0.5721365929334462,0.2747994216823323,0.3320379269419399,0.8796691400392823,0.07399740887585082,0.9290715198065752,0.9946953762205932,0.0933184649466533,0.4381986057057454,0.654596584375622,0.1953123077350839,0.8752554474610829,0.31249489688207466,0.00592406840637949,0.24032744865390043,0.5087173289481751,0.3381128268302026,0.5863350609308418,0.3719556263938164,0.009976948352290349,0.02335852452068443,0.7313883893775911,0.7565869741793255,0.8327906958320577,0.9777887260824163,0.07632512154879045,0.16283662565609225,0.5463902771244145,0.2722064041697382,0.8441491898806299,0.9542979348640132,0.8139152985542439,0.6451447826846899,0.8961980856815993,0.22804461045619429,0.8059189688106034,0.5904329928090825,0.4066769881220621,0.1554286275991854,0.7337900013196132,0.004850275011851202,0.27916010440235794,0.7014294329594889,0.7944018929587967,0.0016063026295156657,0.4060044876934532,0.9602641573742038,0.27484145359228607,0.5309900054409676,0.7944260940208046,0.5770516480455009,0.2504991642284765,0.2172055007969168,0.45146154505232927,0.6397534273490152,0.5070683057100596,0.20638748368201087,0.876656011915262,0.22617275864278052,0.22246241631457742,0.7406954622799476,0.2044831353737545,0.15370406766688938,0.42907167874595664,0.7623147669421144,0.39784635921042,0.2928604036352178,0.642952825001272,0.1685638476750756,0.44340209562099187,0.3245418240732044,0.638715810974721,0.15011533931563714,0.45512513523600195,0.42744053761995326,0.9967770402183126,0.055043020115166374,0.406103944720532,0.062839061644688,0.07587542755046961,0.5533578682492711,0.11190944474927311,0.6467562830101653,0.5256689712372656,0.7726045039738632,0.3760567788487964,0.30625829791692727,0.010316790658887354,0.02636451271315976,0.4757789141269402,0.8353588495531932,0.8291157901240768,0.8965692208739138,0.43605683499051406,0.5882804769692453,0.18081517852697304,0.4798858734694966,0.264529988254503,0.5461772903248516,0.08638976016438915,0.6989757527133901,0.6417784048023354,0.12968322998810156,0.9091645953726634,0.15205218379211705,0.8570949713303292,0.8838767548383206,0.36238361646862316,0.8151637907560781,0.3856406179923676,0.7549236956848584,0.8991702475059471,0.9980493154989573,0.8843275238583901,0.07450122803575299,0.6606968767949586,0.26338654456749644,0.10231473773945732,0.5038748442356592,0.7667571364429534,0.43480421964839056,0.6283459549934913,0.9527384601150504,0.0287210803899951,0.49936220632811035,0.9653127755258339,0.12649682286021924,0.9561080428321673,0.8323615874846944,0.46634586040708903,0.7106746968056706,0.33489105464953506,0.09070906287889147,0.972638940163506,0.6807695516504733,0.13503411600670268,0.07885178447538388,0.015379418232804087,0.28932404619117746,0.7369240234054291,0.4016706026453334,0.3155739688936554,0.03540288321955187,0.8970782961775876,0.5241794554921119,0.6390316770168238,0.02171180080756452,0.38066128578061187,0.6304301798476607,0.38477669220418576,0.12095245231744423,0.7284470496674975,0.01807887844381839,0.4003357493832491,0.5708027305393466,0.5813320853885467,0.24159677259984058,0.6946347875481654,0.6648187005634258,0.2543530487882897,0.1731029627772207,0.21494867998545264,0.1716568014976736,0.304420436810939,0.6766041517033343,0.06149610174455544,0.379003619078063],\"y\":[0.3490689736900098,0.027554454696882558,0.07781214027630567,0.5209670023543371,0.7807644721751802,0.8305253073974153,0.9676267749798744,0.5636473381458196,0.796230939505955,0.31386445443871547,0.5670059687118671,0.2633283045618994,0.6104258255925409,0.9572667549380394,0.7376896468942518,0.20134328140043944,0.34392166182007444,0.4053418828822889,0.4043471918442677,0.7509122605064484,0.6562944249535748,0.06573594706249852,0.047123973437321,0.10682251560601219,0.2283455356015064,0.5985226819254607,0.7735991465602995,0.9644533059851957,0.25460653835057023,0.4832791193677056,0.7516343090925399,0.4734091104227549,0.33326030590113265,0.5652998528302976,0.3697212509482056,0.32840739421768617,0.7024837702014758,0.8106291676053395,0.1867990092097117,0.4663824165478644,0.507169040712402,0.01345916944079073,0.24428638995564367,0.5589013398937698,0.7341708485986418,0.5733215091067135,0.3518808971066174,0.5783442207650379,0.9550877513396682,0.9161247336266002,0.25358758996698927,0.2829559213681271,0.582112023711757,0.9777452523532623,0.28596531753803234,0.14567790078435017,0.2127375514676827,0.9064593071385646,0.29524650425102594,0.46108350675475396,0.6941697563893258,0.36207438017026916,0.1273107979770568,0.008710342354917855,0.1734686000873289,0.18678620876932528,0.18405761650206243,0.8753837115303374,0.24648243831883665,0.3888865812363812,0.6366332006089294,0.44627184594703206,0.28250194061029277,0.1399961129941828,0.08426637480573784,0.6323517445817721,0.9609893848482916,0.16061625362160858,0.5380066447619418,0.5987492509654276,0.10906682186441174,0.21262484897324185,0.8288523186696531,0.727097230793623,0.3015841607035521,0.34187317856430655,0.40187298605087407,0.18672792638698854,0.7581323044676389,0.6110411251335007,0.15567445854399786,0.056057839402303244,0.5909104854280731,0.41558014748014016,0.21849327949568909,0.18811419609357316,0.5193614097353585,0.5239086429116918,0.5721905769940273,0.3675942906123272,0.734732675847904,0.6074481577909656,0.4530904418741829,0.7108284947103419,0.9461400518201685,0.753598279317655,0.28092085393118826,0.9686062401945336,0.18322404730899455,0.7149857100142337,0.36603244283352,0.9786231068757331,0.13999756505510652,0.45715410318566474,0.6121852638826658,0.99292944224865,0.9919278944950904,0.4405088579257631,0.1917740733098391,0.41974050550487596,0.7728799532577211,0.6522978671466093,0.2251671177760053,0.7909022386259253,0.3494610565786004,0.39606242987673046,0.2556702836959366,0.19028868643057129,0.40309028696920346,0.08129861088383761,0.9132158103607754,0.5926671694496541,0.6647535135957632,0.3810749167693238,0.5246931590020795,0.4890582677742603,0.3046901975934998,0.42393993803103236,0.9455065495012891,0.7933922666810052,0.7697593527927492,0.9577376333799414,0.859656359804353,0.24238449618825442,0.6300327118382467,0.9109151666593719,0.5125460273169637,0.7257659950269519,0.8291514491705788,0.9727668813857083,0.7044102495252127,0.5767404549016684,0.6853863779594747,0.5794233206774448,0.5898198953073908,0.2726953215982739,0.035082528407716085,0.44762703152448524,0.8713998855858119,0.7199899554473588,0.1653834602762897,0.27926285945766016,0.08270186849038108,0.9095021164580139,0.40336945085362486,0.47030767927521233,0.19326494791823845,0.5787220504013005,0.034647273552096625,0.020069738908512935,0.6228369781586077,0.6379748132648285,0.2997489598100366,0.41519662216542963,0.3867592874694138,0.8969203335868914,0.4864411938379797,0.27290384842985005,0.6959005969297244,0.06656959285619712,0.7441724550296189,0.9589818652836782,0.2280610938674853,0.3416356004604373,0.962366756526171,0.09217502972767322,0.4941085526175807,0.037482348690859646,0.14597479222936682,0.04864144196040032,0.9516826091312159,0.288824748448147,0.37751404276677947,0.5785944277408814,0.173536430008714,0.8305514747179318,0.9528786373496968,0.9046465850629656,0.6956546712531436,0.19429779821112725,0.32772488336983785,0.7478824926805626,0.70740755718845,0.9428764579401971,0.9166550914717615,0.6889212873221096,0.5013770045519937,0.14970990495661296,0.08701514039793723,0.31024523401878845,0.022843044088803666,0.46323978990014514,0.6774574624125621,0.8488553113141042,0.09761622414167781,0.5543854183623219,0.5824169501168894,0.6918194032853079,0.8203477152902604,0.525013479669173,0.8815014249336778,0.7162441154897577,0.8607973895478156,0.4127891254710331,0.6626398933870968,0.22711575838770748,0.8568979154020037,0.5384080321862313,0.6835337533533736,0.3205612260998274,0.5421303091023235,0.03890873492314739,0.7262279304109313,0.44535175814834493,0.5928836072611378,0.532679767539626,0.3373895755899662,0.5252677483713608,0.7231845352758977,0.23098442702788047,0.9692195245213725,0.8678858246998886,0.41931921286776275,0.6387845831831641,0.4678045835217495,0.1821962511024624,0.5038833549631495,0.34345323516651727,0.08836819525006268,0.20606385945984917,0.412514163253733,0.8664226427466153,0.3598723246339486,0.9695261571133746,0.07810222382323839,0.17185749681023355,0.19342780384730596,0.28558272658711714,0.6590204526871373,0.40504543150013383,0.950928303642817,0.05424367127738894,0.8627952198901321,0.29935415935113685,0.10184939821848604,0.6653652392024456,0.3384722450677431,0.2843064548247465,0.782853738009373,0.8210546231016619,0.3588287524506354,0.7410212504901829,0.32766579835831233,0.7431815972552572,0.7998465030207136,0.29758289848128294,0.12120347768101192,0.6968149791996275,0.35749949991218855,0.9306978648848182,0.005323517094649177,0.5058136947487812,0.28288554577919245,0.7705646259070791,0.3575893930881091,0.9944298826798154,0.35920661816530397,0.2649756439319255,0.5349031005816935,0.3380877428229072,0.20060889243942492,0.3505031462977898,0.9807009002863656,0.502835866969917,0.9623101370757106,0.7847287079085435,0.47392997704720874,0.4815638741152638,0.44687144560228165,0.6824980116139112,0.9801827696344345,0.7079306984305501,0.32428367506679867,0.9776209663731471,0.8148599848997576,0.9487928269556838,0.3763667262648296,0.5619354451057462,0.004063144474213409,0.6398355469738025,0.9929264315572608,0.2561370428489097,0.5291559097886864,0.18992774434091497,0.6520405930184693,0.06280178774627876,0.7046577421467235,0.994842131231277,0.36380265420827984,0.13263578511075635,0.22530837138921123,0.9989962113247225,0.5786405487314036,0.2907879585445211,0.43376616147857183,0.4709690442028971,0.04968560220120888,0.03143522258105258,0.06096663143835923,0.7022970502628639,0.19139266513656172,0.44523477352713503,0.17074095725881,0.45636970946188904,0.34920548987391,0.013731577233823788,0.26633626238858676,0.02432159112646226,0.13631595020622977,0.42142359004545593,0.866781895264025,0.9597804792507532,0.12192163558028357,0.6766065459244345,0.5820553087041657,0.8016407418770156,0.38729510105656073,0.16982519695038767,0.827776639418445,0.30984551293729,0.11822988024370906,0.6015743998723873,0.25212228952935434,0.2336017609033999,0.9575493897280377,0.6123872876944433,0.6437582805951072,0.14655360308576793,0.9968890278260572,0.051513093987084146,0.028086890508469797,0.6664061927300031,0.15786315888321445,0.8115802813575845,0.043354906365082546,0.7951131869433181,0.46131657387564706,0.9359984886457702,0.5656397859473015,0.6208362460811493,0.076660508002653,0.7854941968914259,0.16199799094475653,0.009909824245285526,0.8020493340345861,0.3904862169952851,0.4234894240977859,0.4609233803998516,0.11342139232652426,0.4022044394253754,0.6531770164721588,0.20360610332899987,0.616535408851581,0.4900317894775079,0.13481194592368806,0.07782664565227948,0.577561845397929,0.8526692325811664,0.9723014129504883,0.9314254594884301,0.3199408098100551,0.09856949355283529,0.24400604167630835,0.5454059746976315,0.9877640916025606,0.38204535973420206,0.13410109152543814,0.5373100767302845,0.6269866582699711,0.09166530838094644,0.06744383937844611,0.34457690177602895,0.773231261096124,0.7069510828966146,0.5901885389850291,0.9317847125751082,0.4405765842321908,0.24652644457750372,0.5712539729632993,0.547706217395012,0.9567481797695092,0.6615836954734969,0.013228298100444569,0.9918654132576881,0.38559423626207234,0.016587240446198526,0.13727915251567646,0.49914842651793623,0.7601906178269866,0.505350231628685,0.40654861927118224,0.2785493750157756,0.8452571324640457,0.40949629125695153,0.21247357095388164,0.6611918945184599,0.6047105266531511,0.05563504328505242,0.3291458545701914,0.05073201278434358,0.008942824909762948,0.4493017425099073,0.7057118342429941,0.07268599221653083,0.9736675387747536,0.907398488414812,0.44403333363535435,0.7437434744409922,0.9987695908033368,0.35923892644782063,0.769966770817896,0.8601485718376315,0.7092166817577736,0.2919406613169596,0.25453776128811356,0.5107510529611556,0.05734969868245465,0.7102971966190239,0.1258874291723191,0.2976781979542982,0.8323651194781089,0.451858113663961,0.7551865056927142,0.7457784139325205,0.7628910941836581,0.7795497992491944,0.29157522490641885,0.343993545480319,0.07440405927906746,0.9885825345955047,0.90721049180731,0.7060220009805467,0.18373271893483933,0.263668230722818,0.6529248344296358,0.3099748345018982,0.04080472499352494,0.9161639452596423,0.8822511477923056,0.6707138176760817,0.5455090490929193,0.2967345701494739,0.12586613731673446,0.11342425373305964,0.22485370487862055,0.5828826758729886,0.38098463841969477,0.7476256891875245,0.7213384804853539,0.8555304057423726,0.9627010664855411,0.8982645783531185,0.46022635863407013,0.9974256708146713,0.6417975610823441,0.047697447544345684,0.47796155004394614,0.6902908881718429,0.35635638711758066,0.0816891640382319,0.7661669754268661,0.4740901550028722,0.22896053625640256,0.3463889625317573,0.9004499584945785,0.18487675397786052,0.24774371024198372,0.571415580001617,0.31025113223529177,0.9290300918996768]},\"selected\":null,\"selection_policy\":null},\"id\":\"cfaee23f-564a-4523-8bda-186cc4b3ba91\",\"type\":\"ColumnDataSource\"},{\"attributes\":{\"line_alpha\":0.1,\"line_color\":\"#1f77b4\",\"line_width\":5,\"x\":{\"field\":\"xm\"},\"y\":{\"field\":\"ym\"}},\"id\":\"66c44db1-2fd1-4fa1-8556-5054eaca597d\",\"type\":\"Line\"},{\"attributes\":{},\"id\":\"8b9292ca-a1e1-4a20-a6b0-061f00e6a361\",\"type\":\"LinearScale\"},{\"attributes\":{\"args\":{\"s2\":{\"id\":\"690112d4-2ae7-4933-8396-db06b0d0f301\",\"type\":\"ColumnDataSource\"}},\"code\":\"\\n    var inds = cb_obj.get('selected')['1d'].indices;\\n    var d = cb_obj.get('data');\\n    var ym = 0\\n    \\n    if (inds.length == 0) { return; }\\n    \\n    for (i = 0; i < d['color'].length; i++) {\\n        d['color'][i] = \\\"navy\\\"\\n    }\\n    for (i = 0; i < inds.length; i++) {\\n        d['color'][inds[i]] = \\\"firebrick\\\"\\n        ym += d['y'][inds[i]]\\n    }\\n    \\n    ym /= inds.length\\n    s2.get('data')['ym'] = [ym, ym]\\n    \\n    cb_obj.trigger('change');\\n    s2.trigger('change');\\n\"},\"id\":\"0c9ff524-7302-463c-b678-0db65801eaa8\",\"type\":\"CustomJS\"},{\"attributes\":{\"formatter\":{\"id\":\"fb6a8002-061d-412b-9ae6-7bf968b800b3\",\"type\":\"BasicTickFormatter\"},\"plot\":{\"id\":\"5d536b09-dc64-42b5-97b0-c917748fac27\",\"subtype\":\"Figure\",\"type\":\"Plot\"},\"ticker\":{\"id\":\"d4a2078c-4985-443e-8be4-8520dba5b71f\",\"type\":\"BasicTicker\"}},\"id\":\"c5e4e605-a84a-41c2-a6af-be9f2da412f8\",\"type\":\"LinearAxis\"},{\"attributes\":{\"line_alpha\":0.6,\"line_color\":\"orange\",\"line_width\":5,\"x\":{\"field\":\"xm\"},\"y\":{\"field\":\"ym\"}},\"id\":\"0573e1e9-6651-4ccd-8c98-0af983a8fc50\",\"type\":\"Line\"},{\"attributes\":{\"callback\":null},\"id\":\"45ae5aba-ab83-4c08-be01-a783c601dcd7\",\"type\":\"DataRange1d\"},{\"attributes\":{\"data_source\":{\"id\":\"690112d4-2ae7-4933-8396-db06b0d0f301\",\"type\":\"ColumnDataSource\"},\"glyph\":{\"id\":\"0573e1e9-6651-4ccd-8c98-0af983a8fc50\",\"type\":\"Line\"},\"hover_glyph\":null,\"muted_glyph\":null,\"nonselection_glyph\":{\"id\":\"66c44db1-2fd1-4fa1-8556-5054eaca597d\",\"type\":\"Line\"},\"selection_glyph\":null,\"view\":{\"id\":\"038a344e-08ce-49dd-894e-1b2264a26807\",\"type\":\"CDSView\"}},\"id\":\"2504803d-c23f-4dda-99aa-8bfecb81959d\",\"type\":\"GlyphRenderer\"},{\"attributes\":{},\"id\":\"d4a2078c-4985-443e-8be4-8520dba5b71f\",\"type\":\"BasicTicker\"},{\"attributes\":{\"source\":{\"id\":\"690112d4-2ae7-4933-8396-db06b0d0f301\",\"type\":\"ColumnDataSource\"}},\"id\":\"038a344e-08ce-49dd-894e-1b2264a26807\",\"type\":\"CDSView\"},{\"attributes\":{},\"id\":\"801557b1-9c0d-40fe-98d0-804874a33f81\",\"type\":\"BasicTicker\"},{\"attributes\":{\"formatter\":{\"id\":\"ad85fa14-8ef5-421d-b5ac-9885d974f275\",\"type\":\"BasicTickFormatter\"},\"plot\":{\"id\":\"5d536b09-dc64-42b5-97b0-c917748fac27\",\"subtype\":\"Figure\",\"type\":\"Plot\"},\"ticker\":{\"id\":\"801557b1-9c0d-40fe-98d0-804874a33f81\",\"type\":\"BasicTicker\"}},\"id\":\"c7b9c804-e5e1-4ce3-aa18-6b66e8c7ea1c\",\"type\":\"LinearAxis\"},{\"attributes\":{\"callback\":null,\"overlay\":{\"id\":\"c04521cb-a0b8-4eab-8f23-c01460a35107\",\"type\":\"PolyAnnotation\"}},\"id\":\"bc5f9c37-f205-4528-b8f4-93a7818d1162\",\"type\":\"LassoSelectTool\"},{\"attributes\":{\"fill_alpha\":{\"value\":0.5},\"fill_color\":{\"value\":\"lightgrey\"},\"level\":\"overlay\",\"line_alpha\":{\"value\":1.0},\"line_color\":{\"value\":\"black\"},\"line_dash\":[4,4],\"line_width\":{\"value\":2},\"plot\":null,\"xs_units\":\"screen\",\"ys_units\":\"screen\"},\"id\":\"c04521cb-a0b8-4eab-8f23-c01460a35107\",\"type\":\"PolyAnnotation\"},{\"attributes\":{\"dimension\":1,\"plot\":{\"id\":\"5d536b09-dc64-42b5-97b0-c917748fac27\",\"subtype\":\"Figure\",\"type\":\"Plot\"},\"ticker\":{\"id\":\"d4a2078c-4985-443e-8be4-8520dba5b71f\",\"type\":\"BasicTicker\"}},\"id\":\"743a5916-49c1-4f23-9de8-c940d2aaf1dd\",\"type\":\"Grid\"}],\"root_ids\":[\"5d536b09-dc64-42b5-97b0-c917748fac27\"]},\"title\":\"Bokeh Application\",\"version\":\"0.12.15\"}};\n",
       "  var render_items = [{\"docid\":\"988dbab3-b396-4e95-94e4-826580d08ed3\",\"elementid\":\"8a13b066-e414-4664-a5c1-ceb085403144\",\"modelid\":\"5d536b09-dc64-42b5-97b0-c917748fac27\"}];\n",
       "  root.Bokeh.embed.embed_items_notebook(docs_json, render_items);\n",
       "\n",
       "  }\n",
       "  if (root.Bokeh !== undefined) {\n",
       "    embed_document(root);\n",
       "  } else {\n",
       "    var attempts = 0;\n",
       "    var timer = setInterval(function(root) {\n",
       "      if (root.Bokeh !== undefined) {\n",
       "        embed_document(root);\n",
       "        clearInterval(timer);\n",
       "      }\n",
       "      attempts++;\n",
       "      if (attempts > 100) {\n",
       "        console.log(\"Bokeh: ERROR: Unable to run BokehJS code because BokehJS library is missing\")\n",
       "        clearInterval(timer);\n",
       "      }\n",
       "    }, 10, root)\n",
       "  }\n",
       "})(window);"
      ],
      "application/vnd.bokehjs_exec.v0+json": ""
     },
     "metadata": {
      "application/vnd.bokehjs_exec.v0+json": {
       "id": "5d536b09-dc64-42b5-97b0-c917748fac27"
      }
     },
     "output_type": "display_data"
    }
   ],
   "source": [
    "from random import random\n",
    "\n",
    "x = [random() for x in range(500)]\n",
    "y = [random() for y in range(500)]\n",
    "color = [\"navy\"] * len(x)\n",
    "\n",
    "s = ColumnDataSource(data=dict(x=x, y=y, color=color))\n",
    "p = figure(plot_width=400, plot_height=400, tools=\"lasso_select\", title=\"Select Here\")\n",
    "p.circle('x', 'y', color='color', size=8, source=s, alpha=0.4)\n",
    "\n",
    "s2 = ColumnDataSource(data=dict(xm=[0,1],ym=[0.5, 0.5]))\n",
    "p.line(x='xm', y='ym', color=\"orange\", line_width=5, alpha=0.6, source=s2)\n",
    "\n",
    "s.callback = CustomJS(args=dict(s2=s2), code=\"\"\"\n",
    "    var inds = cb_obj.get('selected')['1d'].indices;\n",
    "    var d = cb_obj.get('data');\n",
    "    var ym = 0\n",
    "    \n",
    "    if (inds.length == 0) { return; }\n",
    "    \n",
    "    for (i = 0; i < d['color'].length; i++) {\n",
    "        d['color'][i] = \"navy\"\n",
    "    }\n",
    "    for (i = 0; i < inds.length; i++) {\n",
    "        d['color'][inds[i]] = \"firebrick\"\n",
    "        ym += d['y'][inds[i]]\n",
    "    }\n",
    "    \n",
    "    ym /= inds.length\n",
    "    s2.get('data')['ym'] = [ym, ym]\n",
    "    \n",
    "    cb_obj.trigger('change');\n",
    "    s2.trigger('change');\n",
    "\"\"\")\n",
    "\n",
    "show(p)"
   ]
  },
  {
   "cell_type": "markdown",
   "metadata": {
    "collapsed": true
   },
   "source": [
    "# More\n",
    "For more interactions, see the User Guide - http://bokeh.pydata.org/en/latest/docs/user_guide/interaction.html"
   ]
  },
  {
   "cell_type": "code",
   "execution_count": null,
   "metadata": {},
   "outputs": [],
   "source": []
  }
 ],
 "metadata": {
  "anaconda-cloud": {},
  "kernelspec": {
   "display_name": "Python 3",
   "language": "python",
   "name": "python3"
  },
  "language_info": {
   "codemirror_mode": {
    "name": "ipython",
    "version": 3
   },
   "file_extension": ".py",
   "mimetype": "text/x-python",
   "name": "python",
   "nbconvert_exporter": "python",
   "pygments_lexer": "ipython3",
   "version": "3.6.5"
  },
  "widgets": {
   "state": {
    "335ae2c8ff80469e9adac668c2924989": {
     "views": [
      {
       "cell_index": 19
      }
     ]
    }
   },
   "version": "1.2.0"
  }
 },
 "nbformat": 4,
 "nbformat_minor": 1
}
