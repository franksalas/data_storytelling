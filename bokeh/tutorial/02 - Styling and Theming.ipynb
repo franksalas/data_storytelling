{
 "cells": [
  {
   "cell_type": "markdown",
   "metadata": {},
   "source": [
    "<table style=\"float:left; border:none\">\n",
    "   <tr style=\"border:none; background-color: #ffffff\">\n",
    "       <td style=\"border:none\">\n",
    "           <a href=\"http://bokeh.pydata.org/\">     \n",
    "           <img \n",
    "               src=\"assets/bokeh-transparent.png\" \n",
    "               style=\"width:50px\"\n",
    "           >\n",
    "           </a>    \n",
    "       </td>\n",
    "       <td style=\"border:none\">\n",
    "           <h1>Bokeh Tutorial</h1>\n",
    "       </td>\n",
    "   </tr>\n",
    "</table>\n",
    "\n",
    "<div style=\"float:right;\"><h2>02. Styling and Theming</h2></div>"
   ]
  },
  {
   "cell_type": "code",
   "execution_count": 1,
   "metadata": {},
   "outputs": [],
   "source": [
    "from bokeh.io import output_notebook, show\n",
    "from bokeh.plotting import figure"
   ]
  },
  {
   "cell_type": "code",
   "execution_count": 2,
   "metadata": {},
   "outputs": [
    {
     "data": {
      "text/html": [
       "\n",
       "    <div class=\"bk-root\">\n",
       "        <a href=\"https://bokeh.pydata.org\" target=\"_blank\" class=\"bk-logo bk-logo-small bk-logo-notebook\"></a>\n",
       "        <span id=\"b5b7f21c-9002-447d-9a28-23499a9cad45\">Loading BokehJS ...</span>\n",
       "    </div>"
      ]
     },
     "metadata": {},
     "output_type": "display_data"
    },
    {
     "data": {
      "application/javascript": [
       "\n",
       "(function(root) {\n",
       "  function now() {\n",
       "    return new Date();\n",
       "  }\n",
       "\n",
       "  var force = true;\n",
       "\n",
       "  if (typeof (root._bokeh_onload_callbacks) === \"undefined\" || force === true) {\n",
       "    root._bokeh_onload_callbacks = [];\n",
       "    root._bokeh_is_loading = undefined;\n",
       "  }\n",
       "\n",
       "  var JS_MIME_TYPE = 'application/javascript';\n",
       "  var HTML_MIME_TYPE = 'text/html';\n",
       "  var EXEC_MIME_TYPE = 'application/vnd.bokehjs_exec.v0+json';\n",
       "  var CLASS_NAME = 'output_bokeh rendered_html';\n",
       "\n",
       "  /**\n",
       "   * Render data to the DOM node\n",
       "   */\n",
       "  function render(props, node) {\n",
       "    var script = document.createElement(\"script\");\n",
       "    node.appendChild(script);\n",
       "  }\n",
       "\n",
       "  /**\n",
       "   * Handle when an output is cleared or removed\n",
       "   */\n",
       "  function handleClearOutput(event, handle) {\n",
       "    var cell = handle.cell;\n",
       "\n",
       "    var id = cell.output_area._bokeh_element_id;\n",
       "    var server_id = cell.output_area._bokeh_server_id;\n",
       "    // Clean up Bokeh references\n",
       "    if (id !== undefined) {\n",
       "      Bokeh.index[id].model.document.clear();\n",
       "      delete Bokeh.index[id];\n",
       "    }\n",
       "\n",
       "    if (server_id !== undefined) {\n",
       "      // Clean up Bokeh references\n",
       "      var cmd = \"from bokeh.io.state import curstate; print(curstate().uuid_to_server['\" + server_id + \"'].get_sessions()[0].document.roots[0]._id)\";\n",
       "      cell.notebook.kernel.execute(cmd, {\n",
       "        iopub: {\n",
       "          output: function(msg) {\n",
       "            var element_id = msg.content.text.trim();\n",
       "            Bokeh.index[element_id].model.document.clear();\n",
       "            delete Bokeh.index[element_id];\n",
       "          }\n",
       "        }\n",
       "      });\n",
       "      // Destroy server and session\n",
       "      var cmd = \"import bokeh.io.notebook as ion; ion.destroy_server('\" + server_id + \"')\";\n",
       "      cell.notebook.kernel.execute(cmd);\n",
       "    }\n",
       "  }\n",
       "\n",
       "  /**\n",
       "   * Handle when a new output is added\n",
       "   */\n",
       "  function handleAddOutput(event, handle) {\n",
       "    var output_area = handle.output_area;\n",
       "    var output = handle.output;\n",
       "\n",
       "    // limit handleAddOutput to display_data with EXEC_MIME_TYPE content only\n",
       "    if ((output.output_type != \"display_data\") || (!output.data.hasOwnProperty(EXEC_MIME_TYPE))) {\n",
       "      return\n",
       "    }\n",
       "\n",
       "    var toinsert = output_area.element.find(\".\" + CLASS_NAME.split(' ')[0]);\n",
       "\n",
       "    if (output.metadata[EXEC_MIME_TYPE][\"id\"] !== undefined) {\n",
       "      toinsert[toinsert.length - 1].firstChild.textContent = output.data[JS_MIME_TYPE];\n",
       "      // store reference to embed id on output_area\n",
       "      output_area._bokeh_element_id = output.metadata[EXEC_MIME_TYPE][\"id\"];\n",
       "    }\n",
       "    if (output.metadata[EXEC_MIME_TYPE][\"server_id\"] !== undefined) {\n",
       "      var bk_div = document.createElement(\"div\");\n",
       "      bk_div.innerHTML = output.data[HTML_MIME_TYPE];\n",
       "      var script_attrs = bk_div.children[0].attributes;\n",
       "      for (var i = 0; i < script_attrs.length; i++) {\n",
       "        toinsert[toinsert.length - 1].firstChild.setAttribute(script_attrs[i].name, script_attrs[i].value);\n",
       "      }\n",
       "      // store reference to server id on output_area\n",
       "      output_area._bokeh_server_id = output.metadata[EXEC_MIME_TYPE][\"server_id\"];\n",
       "    }\n",
       "  }\n",
       "\n",
       "  function register_renderer(events, OutputArea) {\n",
       "\n",
       "    function append_mime(data, metadata, element) {\n",
       "      // create a DOM node to render to\n",
       "      var toinsert = this.create_output_subarea(\n",
       "        metadata,\n",
       "        CLASS_NAME,\n",
       "        EXEC_MIME_TYPE\n",
       "      );\n",
       "      this.keyboard_manager.register_events(toinsert);\n",
       "      // Render to node\n",
       "      var props = {data: data, metadata: metadata[EXEC_MIME_TYPE]};\n",
       "      render(props, toinsert[toinsert.length - 1]);\n",
       "      element.append(toinsert);\n",
       "      return toinsert\n",
       "    }\n",
       "\n",
       "    /* Handle when an output is cleared or removed */\n",
       "    events.on('clear_output.CodeCell', handleClearOutput);\n",
       "    events.on('delete.Cell', handleClearOutput);\n",
       "\n",
       "    /* Handle when a new output is added */\n",
       "    events.on('output_added.OutputArea', handleAddOutput);\n",
       "\n",
       "    /**\n",
       "     * Register the mime type and append_mime function with output_area\n",
       "     */\n",
       "    OutputArea.prototype.register_mime_type(EXEC_MIME_TYPE, append_mime, {\n",
       "      /* Is output safe? */\n",
       "      safe: true,\n",
       "      /* Index of renderer in `output_area.display_order` */\n",
       "      index: 0\n",
       "    });\n",
       "  }\n",
       "\n",
       "  // register the mime type if in Jupyter Notebook environment and previously unregistered\n",
       "  if (root.Jupyter !== undefined) {\n",
       "    var events = require('base/js/events');\n",
       "    var OutputArea = require('notebook/js/outputarea').OutputArea;\n",
       "\n",
       "    if (OutputArea.prototype.mime_types().indexOf(EXEC_MIME_TYPE) == -1) {\n",
       "      register_renderer(events, OutputArea);\n",
       "    }\n",
       "  }\n",
       "\n",
       "  \n",
       "  if (typeof (root._bokeh_timeout) === \"undefined\" || force === true) {\n",
       "    root._bokeh_timeout = Date.now() + 5000;\n",
       "    root._bokeh_failed_load = false;\n",
       "  }\n",
       "\n",
       "  var NB_LOAD_WARNING = {'data': {'text/html':\n",
       "     \"<div style='background-color: #fdd'>\\n\"+\n",
       "     \"<p>\\n\"+\n",
       "     \"BokehJS does not appear to have successfully loaded. If loading BokehJS from CDN, this \\n\"+\n",
       "     \"may be due to a slow or bad network connection. Possible fixes:\\n\"+\n",
       "     \"</p>\\n\"+\n",
       "     \"<ul>\\n\"+\n",
       "     \"<li>re-rerun `output_notebook()` to attempt to load from CDN again, or</li>\\n\"+\n",
       "     \"<li>use INLINE resources instead, as so:</li>\\n\"+\n",
       "     \"</ul>\\n\"+\n",
       "     \"<code>\\n\"+\n",
       "     \"from bokeh.resources import INLINE\\n\"+\n",
       "     \"output_notebook(resources=INLINE)\\n\"+\n",
       "     \"</code>\\n\"+\n",
       "     \"</div>\"}};\n",
       "\n",
       "  function display_loaded() {\n",
       "    var el = document.getElementById(\"b5b7f21c-9002-447d-9a28-23499a9cad45\");\n",
       "    if (el != null) {\n",
       "      el.textContent = \"BokehJS is loading...\";\n",
       "    }\n",
       "    if (root.Bokeh !== undefined) {\n",
       "      if (el != null) {\n",
       "        el.textContent = \"BokehJS \" + root.Bokeh.version + \" successfully loaded.\";\n",
       "      }\n",
       "    } else if (Date.now() < root._bokeh_timeout) {\n",
       "      setTimeout(display_loaded, 100)\n",
       "    }\n",
       "  }\n",
       "\n",
       "\n",
       "  function run_callbacks() {\n",
       "    try {\n",
       "      root._bokeh_onload_callbacks.forEach(function(callback) { callback() });\n",
       "    }\n",
       "    finally {\n",
       "      delete root._bokeh_onload_callbacks\n",
       "    }\n",
       "    console.info(\"Bokeh: all callbacks have finished\");\n",
       "  }\n",
       "\n",
       "  function load_libs(js_urls, callback) {\n",
       "    root._bokeh_onload_callbacks.push(callback);\n",
       "    if (root._bokeh_is_loading > 0) {\n",
       "      console.log(\"Bokeh: BokehJS is being loaded, scheduling callback at\", now());\n",
       "      return null;\n",
       "    }\n",
       "    if (js_urls == null || js_urls.length === 0) {\n",
       "      run_callbacks();\n",
       "      return null;\n",
       "    }\n",
       "    console.log(\"Bokeh: BokehJS not loaded, scheduling load and callback at\", now());\n",
       "    root._bokeh_is_loading = js_urls.length;\n",
       "    for (var i = 0; i < js_urls.length; i++) {\n",
       "      var url = js_urls[i];\n",
       "      var s = document.createElement('script');\n",
       "      s.src = url;\n",
       "      s.async = false;\n",
       "      s.onreadystatechange = s.onload = function() {\n",
       "        root._bokeh_is_loading--;\n",
       "        if (root._bokeh_is_loading === 0) {\n",
       "          console.log(\"Bokeh: all BokehJS libraries loaded\");\n",
       "          run_callbacks()\n",
       "        }\n",
       "      };\n",
       "      s.onerror = function() {\n",
       "        console.warn(\"failed to load library \" + url);\n",
       "      };\n",
       "      console.log(\"Bokeh: injecting script tag for BokehJS library: \", url);\n",
       "      document.getElementsByTagName(\"head\")[0].appendChild(s);\n",
       "    }\n",
       "  };var element = document.getElementById(\"b5b7f21c-9002-447d-9a28-23499a9cad45\");\n",
       "  if (element == null) {\n",
       "    console.log(\"Bokeh: ERROR: autoload.js configured with elementid 'b5b7f21c-9002-447d-9a28-23499a9cad45' but no matching script tag was found. \")\n",
       "    return false;\n",
       "  }\n",
       "\n",
       "  var js_urls = [\"https://cdn.pydata.org/bokeh/release/bokeh-0.12.15.min.js\", \"https://cdn.pydata.org/bokeh/release/bokeh-widgets-0.12.15.min.js\", \"https://cdn.pydata.org/bokeh/release/bokeh-tables-0.12.15.min.js\", \"https://cdn.pydata.org/bokeh/release/bokeh-gl-0.12.15.min.js\"];\n",
       "\n",
       "  var inline_js = [\n",
       "    function(Bokeh) {\n",
       "      Bokeh.set_log_level(\"info\");\n",
       "    },\n",
       "    \n",
       "    function(Bokeh) {\n",
       "      \n",
       "    },\n",
       "    function(Bokeh) {\n",
       "      console.log(\"Bokeh: injecting CSS: https://cdn.pydata.org/bokeh/release/bokeh-0.12.15.min.css\");\n",
       "      Bokeh.embed.inject_css(\"https://cdn.pydata.org/bokeh/release/bokeh-0.12.15.min.css\");\n",
       "      console.log(\"Bokeh: injecting CSS: https://cdn.pydata.org/bokeh/release/bokeh-widgets-0.12.15.min.css\");\n",
       "      Bokeh.embed.inject_css(\"https://cdn.pydata.org/bokeh/release/bokeh-widgets-0.12.15.min.css\");\n",
       "      console.log(\"Bokeh: injecting CSS: https://cdn.pydata.org/bokeh/release/bokeh-tables-0.12.15.min.css\");\n",
       "      Bokeh.embed.inject_css(\"https://cdn.pydata.org/bokeh/release/bokeh-tables-0.12.15.min.css\");\n",
       "    }\n",
       "  ];\n",
       "\n",
       "  function run_inline_js() {\n",
       "    \n",
       "    if ((root.Bokeh !== undefined) || (force === true)) {\n",
       "      for (var i = 0; i < inline_js.length; i++) {\n",
       "        inline_js[i].call(root, root.Bokeh);\n",
       "      }if (force === true) {\n",
       "        display_loaded();\n",
       "      }} else if (Date.now() < root._bokeh_timeout) {\n",
       "      setTimeout(run_inline_js, 100);\n",
       "    } else if (!root._bokeh_failed_load) {\n",
       "      console.log(\"Bokeh: BokehJS failed to load within specified timeout.\");\n",
       "      root._bokeh_failed_load = true;\n",
       "    } else if (force !== true) {\n",
       "      var cell = $(document.getElementById(\"b5b7f21c-9002-447d-9a28-23499a9cad45\")).parents('.cell').data().cell;\n",
       "      cell.output_area.append_execute_result(NB_LOAD_WARNING)\n",
       "    }\n",
       "\n",
       "  }\n",
       "\n",
       "  if (root._bokeh_is_loading === 0) {\n",
       "    console.log(\"Bokeh: BokehJS loaded, going straight to plotting\");\n",
       "    run_inline_js();\n",
       "  } else {\n",
       "    load_libs(js_urls, function() {\n",
       "      console.log(\"Bokeh: BokehJS plotting callback run at\", now());\n",
       "      run_inline_js();\n",
       "    });\n",
       "  }\n",
       "}(window));"
      ],
      "application/vnd.bokehjs_load.v0+json": "\n(function(root) {\n  function now() {\n    return new Date();\n  }\n\n  var force = true;\n\n  if (typeof (root._bokeh_onload_callbacks) === \"undefined\" || force === true) {\n    root._bokeh_onload_callbacks = [];\n    root._bokeh_is_loading = undefined;\n  }\n\n  \n\n  \n  if (typeof (root._bokeh_timeout) === \"undefined\" || force === true) {\n    root._bokeh_timeout = Date.now() + 5000;\n    root._bokeh_failed_load = false;\n  }\n\n  var NB_LOAD_WARNING = {'data': {'text/html':\n     \"<div style='background-color: #fdd'>\\n\"+\n     \"<p>\\n\"+\n     \"BokehJS does not appear to have successfully loaded. If loading BokehJS from CDN, this \\n\"+\n     \"may be due to a slow or bad network connection. Possible fixes:\\n\"+\n     \"</p>\\n\"+\n     \"<ul>\\n\"+\n     \"<li>re-rerun `output_notebook()` to attempt to load from CDN again, or</li>\\n\"+\n     \"<li>use INLINE resources instead, as so:</li>\\n\"+\n     \"</ul>\\n\"+\n     \"<code>\\n\"+\n     \"from bokeh.resources import INLINE\\n\"+\n     \"output_notebook(resources=INLINE)\\n\"+\n     \"</code>\\n\"+\n     \"</div>\"}};\n\n  function display_loaded() {\n    var el = document.getElementById(\"b5b7f21c-9002-447d-9a28-23499a9cad45\");\n    if (el != null) {\n      el.textContent = \"BokehJS is loading...\";\n    }\n    if (root.Bokeh !== undefined) {\n      if (el != null) {\n        el.textContent = \"BokehJS \" + root.Bokeh.version + \" successfully loaded.\";\n      }\n    } else if (Date.now() < root._bokeh_timeout) {\n      setTimeout(display_loaded, 100)\n    }\n  }\n\n\n  function run_callbacks() {\n    try {\n      root._bokeh_onload_callbacks.forEach(function(callback) { callback() });\n    }\n    finally {\n      delete root._bokeh_onload_callbacks\n    }\n    console.info(\"Bokeh: all callbacks have finished\");\n  }\n\n  function load_libs(js_urls, callback) {\n    root._bokeh_onload_callbacks.push(callback);\n    if (root._bokeh_is_loading > 0) {\n      console.log(\"Bokeh: BokehJS is being loaded, scheduling callback at\", now());\n      return null;\n    }\n    if (js_urls == null || js_urls.length === 0) {\n      run_callbacks();\n      return null;\n    }\n    console.log(\"Bokeh: BokehJS not loaded, scheduling load and callback at\", now());\n    root._bokeh_is_loading = js_urls.length;\n    for (var i = 0; i < js_urls.length; i++) {\n      var url = js_urls[i];\n      var s = document.createElement('script');\n      s.src = url;\n      s.async = false;\n      s.onreadystatechange = s.onload = function() {\n        root._bokeh_is_loading--;\n        if (root._bokeh_is_loading === 0) {\n          console.log(\"Bokeh: all BokehJS libraries loaded\");\n          run_callbacks()\n        }\n      };\n      s.onerror = function() {\n        console.warn(\"failed to load library \" + url);\n      };\n      console.log(\"Bokeh: injecting script tag for BokehJS library: \", url);\n      document.getElementsByTagName(\"head\")[0].appendChild(s);\n    }\n  };var element = document.getElementById(\"b5b7f21c-9002-447d-9a28-23499a9cad45\");\n  if (element == null) {\n    console.log(\"Bokeh: ERROR: autoload.js configured with elementid 'b5b7f21c-9002-447d-9a28-23499a9cad45' but no matching script tag was found. \")\n    return false;\n  }\n\n  var js_urls = [\"https://cdn.pydata.org/bokeh/release/bokeh-0.12.15.min.js\", \"https://cdn.pydata.org/bokeh/release/bokeh-widgets-0.12.15.min.js\", \"https://cdn.pydata.org/bokeh/release/bokeh-tables-0.12.15.min.js\", \"https://cdn.pydata.org/bokeh/release/bokeh-gl-0.12.15.min.js\"];\n\n  var inline_js = [\n    function(Bokeh) {\n      Bokeh.set_log_level(\"info\");\n    },\n    \n    function(Bokeh) {\n      \n    },\n    function(Bokeh) {\n      console.log(\"Bokeh: injecting CSS: https://cdn.pydata.org/bokeh/release/bokeh-0.12.15.min.css\");\n      Bokeh.embed.inject_css(\"https://cdn.pydata.org/bokeh/release/bokeh-0.12.15.min.css\");\n      console.log(\"Bokeh: injecting CSS: https://cdn.pydata.org/bokeh/release/bokeh-widgets-0.12.15.min.css\");\n      Bokeh.embed.inject_css(\"https://cdn.pydata.org/bokeh/release/bokeh-widgets-0.12.15.min.css\");\n      console.log(\"Bokeh: injecting CSS: https://cdn.pydata.org/bokeh/release/bokeh-tables-0.12.15.min.css\");\n      Bokeh.embed.inject_css(\"https://cdn.pydata.org/bokeh/release/bokeh-tables-0.12.15.min.css\");\n    }\n  ];\n\n  function run_inline_js() {\n    \n    if ((root.Bokeh !== undefined) || (force === true)) {\n      for (var i = 0; i < inline_js.length; i++) {\n        inline_js[i].call(root, root.Bokeh);\n      }if (force === true) {\n        display_loaded();\n      }} else if (Date.now() < root._bokeh_timeout) {\n      setTimeout(run_inline_js, 100);\n    } else if (!root._bokeh_failed_load) {\n      console.log(\"Bokeh: BokehJS failed to load within specified timeout.\");\n      root._bokeh_failed_load = true;\n    } else if (force !== true) {\n      var cell = $(document.getElementById(\"b5b7f21c-9002-447d-9a28-23499a9cad45\")).parents('.cell').data().cell;\n      cell.output_area.append_execute_result(NB_LOAD_WARNING)\n    }\n\n  }\n\n  if (root._bokeh_is_loading === 0) {\n    console.log(\"Bokeh: BokehJS loaded, going straight to plotting\");\n    run_inline_js();\n  } else {\n    load_libs(js_urls, function() {\n      console.log(\"Bokeh: BokehJS plotting callback run at\", now());\n      run_inline_js();\n    });\n  }\n}(window));"
     },
     "metadata": {},
     "output_type": "display_data"
    }
   ],
   "source": [
    "output_notebook()"
   ]
  },
  {
   "cell_type": "markdown",
   "metadata": {},
   "source": [
    "# Colors and Properties"
   ]
  },
  {
   "cell_type": "markdown",
   "metadata": {},
   "source": [
    "## Colors\n",
    "\n",
    "There are many places where you may need to specify colors. Bokeh can accept colors in a variety of different ways:\n",
    "\n",
    "* any of the [147 named CSS colors](http://www.w3schools.com/cssref/css_colornames.asp), e.g ``'green'``, ``'indigo'``\n",
    "* an RGB(A) hex value, e.g., ``'#FF0000'``, ``'#44444444'``\n",
    "* a 3-tuple of integers *(r,g,b)* between 0 and 255\n",
    "*  a 4-tuple of *(r,g,b,a)* where *r*, *g*, *b* are integers between 0 and 255 and *a* is a floating point value between 0 and 1\n",
    "\n"
   ]
  },
  {
   "cell_type": "markdown",
   "metadata": {
    "collapsed": true
   },
   "source": [
    "## Properties\n",
    "\n",
    "Regardless of what API (``models``, ``plotting``, or ``charts``) is used to create a Bokeh plot, styling the visual aspects of the plot can always be accomplished by setting attributes on the Bokeh model objects that comprise the resulting plot. Visual properties come in three kinds: line, fill, and text properties. For full information with code and examples see the [Styling Visual Properties](http://bokeh.pydata.org/en/latest/docs/user_guide/styling.html) section of the user guide. \n",
    "\n",
    "----\n",
    "\n",
    "### Line Properties\n",
    "\n",
    "Set the visual appearance of lines. The most common are ``line_color``, ``line_alpha``, ``line_width`` and ``line_dash``.\n",
    "\n",
    "### Fill Properties\n",
    "\n",
    "Set the visual appearance of filled areas: ``fill_color`` and ``fill_alpha``.\n",
    "\n",
    "### Text Properties\n",
    "\n",
    "Set the visual appearance of lines of text. The most common are ``text_font``, ``text_font_size``, ``text_color``, and ``text_alpha``.\n",
    "\n",
    "----\n",
    "\n",
    "Sometimes a prefix is used with property names, e.g. to distinguish between different line properties on the same object, or to give a more meaningful name. For example, to set the line width of the plot outline, you would say ``myplot.outline_line_width = 2``. "
   ]
  },
  {
   "cell_type": "markdown",
   "metadata": {},
   "source": [
    "# Plots\n",
    "\n",
    "Many top-level attributes of plots (outline, border, etc.) can be configured. See the [Plots](http://bokeh.pydata.org/en/latest/docs/user_guide/styling.html#plots) section of the styling guide for full information. \n",
    "\n",
    "Here is an example that tweaks the plot outline:"
   ]
  },
  {
   "cell_type": "code",
   "execution_count": 3,
   "metadata": {
    "scrolled": false
   },
   "outputs": [
    {
     "data": {
      "text/html": [
       "\n",
       "<div class=\"bk-root\">\n",
       "    <div class=\"bk-plotdiv\" id=\"5db57d6e-51d0-4086-91a3-bf4100ed0bce\"></div>\n",
       "</div>"
      ]
     },
     "metadata": {},
     "output_type": "display_data"
    },
    {
     "data": {
      "application/javascript": [
       "(function(root) {\n",
       "  function embed_document(root) {\n",
       "    \n",
       "  var docs_json = {\"23224969-d081-403a-8b2f-3983d0150383\":{\"roots\":{\"references\":[{\"attributes\":{\"active_drag\":\"auto\",\"active_inspect\":\"auto\",\"active_scroll\":\"auto\",\"active_tap\":\"auto\",\"tools\":[{\"id\":\"161a2f3c-0faf-447a-957d-fd61b8c1801f\",\"type\":\"PanTool\"},{\"id\":\"5b795b68-288a-46aa-94aa-3a1a6d440b7d\",\"type\":\"WheelZoomTool\"},{\"id\":\"8b1bdf17-3db1-4893-a597-bf2880388e2f\",\"type\":\"BoxZoomTool\"},{\"id\":\"b6783db8-dfd8-470b-8216-83bc436f4d4b\",\"type\":\"SaveTool\"},{\"id\":\"400a6b1e-e677-4407-83dc-9a68d92d4765\",\"type\":\"ResetTool\"},{\"id\":\"5c9a6adf-94ae-4dd7-a37b-e71f57707439\",\"type\":\"HelpTool\"}]},\"id\":\"9bcb16f0-7780-4400-8b01-e2de6b2c548b\",\"type\":\"Toolbar\"},{\"attributes\":{\"callback\":null},\"id\":\"74c302ed-a924-4f8a-a0b0-17f97b6e55f3\",\"type\":\"DataRange1d\"},{\"attributes\":{},\"id\":\"5b795b68-288a-46aa-94aa-3a1a6d440b7d\",\"type\":\"WheelZoomTool\"},{\"attributes\":{},\"id\":\"b9b4f86e-0a11-4216-bc8c-75745f7311a5\",\"type\":\"LinearScale\"},{\"attributes\":{\"overlay\":{\"id\":\"110981aa-0656-4e08-9f98-d1af38dcc5be\",\"type\":\"BoxAnnotation\"}},\"id\":\"8b1bdf17-3db1-4893-a597-bf2880388e2f\",\"type\":\"BoxZoomTool\"},{\"attributes\":{},\"id\":\"f9e423d9-62ca-44ed-81ec-ec31168e82e1\",\"type\":\"LinearScale\"},{\"attributes\":{\"plot\":null,\"text\":\"\"},\"id\":\"5fda0e57-b57f-460b-8361-4274dfc4277c\",\"type\":\"Title\"},{\"attributes\":{\"bottom_units\":\"screen\",\"fill_alpha\":{\"value\":0.5},\"fill_color\":{\"value\":\"lightgrey\"},\"left_units\":\"screen\",\"level\":\"overlay\",\"line_alpha\":{\"value\":1.0},\"line_color\":{\"value\":\"black\"},\"line_dash\":[4,4],\"line_width\":{\"value\":2},\"plot\":null,\"render_mode\":\"css\",\"right_units\":\"screen\",\"top_units\":\"screen\"},\"id\":\"110981aa-0656-4e08-9f98-d1af38dcc5be\",\"type\":\"BoxAnnotation\"},{\"attributes\":{},\"id\":\"b6783db8-dfd8-470b-8216-83bc436f4d4b\",\"type\":\"SaveTool\"},{\"attributes\":{\"formatter\":{\"id\":\"0e09c5ec-c70d-4115-bc0a-cc391d5e00bd\",\"type\":\"BasicTickFormatter\"},\"plot\":{\"id\":\"c5c8b661-69bc-46d4-912d-5f2c95dfd80f\",\"subtype\":\"Figure\",\"type\":\"Plot\"},\"ticker\":{\"id\":\"d920f9ed-4635-4be2-ace7-2476f85f579b\",\"type\":\"BasicTicker\"}},\"id\":\"15a5e627-1f41-4ef8-ae8f-1bada4fe3ee5\",\"type\":\"LinearAxis\"},{\"attributes\":{},\"id\":\"400a6b1e-e677-4407-83dc-9a68d92d4765\",\"type\":\"ResetTool\"},{\"attributes\":{},\"id\":\"71369aa2-ecae-4ec8-b860-a9ee0fadd3ed\",\"type\":\"BasicTickFormatter\"},{\"attributes\":{},\"id\":\"d920f9ed-4635-4be2-ace7-2476f85f579b\",\"type\":\"BasicTicker\"},{\"attributes\":{\"source\":{\"id\":\"141cfa8c-3028-4fc8-8542-28d9af470da1\",\"type\":\"ColumnDataSource\"}},\"id\":\"8bc33dc8-e5d7-41a5-b640-1c696d5e0706\",\"type\":\"CDSView\"},{\"attributes\":{},\"id\":\"5c9a6adf-94ae-4dd7-a37b-e71f57707439\",\"type\":\"HelpTool\"},{\"attributes\":{\"callback\":null},\"id\":\"993b315d-7807-49e8-a3fb-0f3b50b99642\",\"type\":\"DataRange1d\"},{\"attributes\":{},\"id\":\"0e09c5ec-c70d-4115-bc0a-cc391d5e00bd\",\"type\":\"BasicTickFormatter\"},{\"attributes\":{\"formatter\":{\"id\":\"71369aa2-ecae-4ec8-b860-a9ee0fadd3ed\",\"type\":\"BasicTickFormatter\"},\"plot\":{\"id\":\"c5c8b661-69bc-46d4-912d-5f2c95dfd80f\",\"subtype\":\"Figure\",\"type\":\"Plot\"},\"ticker\":{\"id\":\"015c807c-1848-45c7-bc6e-f1974921d2a1\",\"type\":\"BasicTicker\"}},\"id\":\"976d483e-604b-4cdd-a9e5-6945e7cdebf7\",\"type\":\"LinearAxis\"},{\"attributes\":{\"fill_alpha\":{\"value\":0.1},\"fill_color\":{\"value\":\"#1f77b4\"},\"line_alpha\":{\"value\":0.1},\"line_color\":{\"value\":\"#1f77b4\"},\"size\":{\"units\":\"screen\",\"value\":10},\"x\":{\"field\":\"x\"},\"y\":{\"field\":\"y\"}},\"id\":\"e98dad80-5952-46b8-a53e-a9fe9d96b17d\",\"type\":\"Circle\"},{\"attributes\":{},\"id\":\"015c807c-1848-45c7-bc6e-f1974921d2a1\",\"type\":\"BasicTicker\"},{\"attributes\":{\"plot\":{\"id\":\"c5c8b661-69bc-46d4-912d-5f2c95dfd80f\",\"subtype\":\"Figure\",\"type\":\"Plot\"},\"ticker\":{\"id\":\"015c807c-1848-45c7-bc6e-f1974921d2a1\",\"type\":\"BasicTicker\"}},\"id\":\"e7b92c05-d578-4ede-b128-217b1afc43be\",\"type\":\"Grid\"},{\"attributes\":{\"data_source\":{\"id\":\"141cfa8c-3028-4fc8-8542-28d9af470da1\",\"type\":\"ColumnDataSource\"},\"glyph\":{\"id\":\"1bf65346-552f-48df-ab7f-c1f961c141ae\",\"type\":\"Circle\"},\"hover_glyph\":null,\"muted_glyph\":null,\"nonselection_glyph\":{\"id\":\"e98dad80-5952-46b8-a53e-a9fe9d96b17d\",\"type\":\"Circle\"},\"selection_glyph\":null,\"view\":{\"id\":\"8bc33dc8-e5d7-41a5-b640-1c696d5e0706\",\"type\":\"CDSView\"}},\"id\":\"03e7da23-dd71-403e-b689-94ea7007e9e8\",\"type\":\"GlyphRenderer\"},{\"attributes\":{\"dimension\":1,\"plot\":{\"id\":\"c5c8b661-69bc-46d4-912d-5f2c95dfd80f\",\"subtype\":\"Figure\",\"type\":\"Plot\"},\"ticker\":{\"id\":\"d920f9ed-4635-4be2-ace7-2476f85f579b\",\"type\":\"BasicTicker\"}},\"id\":\"440b26dd-4bb3-4c6d-b575-20f1c3463213\",\"type\":\"Grid\"},{\"attributes\":{\"fill_color\":{\"value\":\"#1f77b4\"},\"line_color\":{\"value\":\"#1f77b4\"},\"size\":{\"units\":\"screen\",\"value\":10},\"x\":{\"field\":\"x\"},\"y\":{\"field\":\"y\"}},\"id\":\"1bf65346-552f-48df-ab7f-c1f961c141ae\",\"type\":\"Circle\"},{\"attributes\":{\"below\":[{\"id\":\"976d483e-604b-4cdd-a9e5-6945e7cdebf7\",\"type\":\"LinearAxis\"}],\"left\":[{\"id\":\"15a5e627-1f41-4ef8-ae8f-1bada4fe3ee5\",\"type\":\"LinearAxis\"}],\"outline_line_alpha\":{\"value\":0.3},\"outline_line_color\":{\"value\":\"navy\"},\"outline_line_width\":{\"value\":7},\"plot_height\":400,\"plot_width\":400,\"renderers\":[{\"id\":\"976d483e-604b-4cdd-a9e5-6945e7cdebf7\",\"type\":\"LinearAxis\"},{\"id\":\"e7b92c05-d578-4ede-b128-217b1afc43be\",\"type\":\"Grid\"},{\"id\":\"15a5e627-1f41-4ef8-ae8f-1bada4fe3ee5\",\"type\":\"LinearAxis\"},{\"id\":\"440b26dd-4bb3-4c6d-b575-20f1c3463213\",\"type\":\"Grid\"},{\"id\":\"110981aa-0656-4e08-9f98-d1af38dcc5be\",\"type\":\"BoxAnnotation\"},{\"id\":\"03e7da23-dd71-403e-b689-94ea7007e9e8\",\"type\":\"GlyphRenderer\"}],\"title\":{\"id\":\"5fda0e57-b57f-460b-8361-4274dfc4277c\",\"type\":\"Title\"},\"toolbar\":{\"id\":\"9bcb16f0-7780-4400-8b01-e2de6b2c548b\",\"type\":\"Toolbar\"},\"x_range\":{\"id\":\"74c302ed-a924-4f8a-a0b0-17f97b6e55f3\",\"type\":\"DataRange1d\"},\"x_scale\":{\"id\":\"f9e423d9-62ca-44ed-81ec-ec31168e82e1\",\"type\":\"LinearScale\"},\"y_range\":{\"id\":\"993b315d-7807-49e8-a3fb-0f3b50b99642\",\"type\":\"DataRange1d\"},\"y_scale\":{\"id\":\"b9b4f86e-0a11-4216-bc8c-75745f7311a5\",\"type\":\"LinearScale\"}},\"id\":\"c5c8b661-69bc-46d4-912d-5f2c95dfd80f\",\"subtype\":\"Figure\",\"type\":\"Plot\"},{\"attributes\":{\"callback\":null,\"column_names\":[\"x\",\"y\"],\"data\":{\"x\":[1,2,3,4,5],\"y\":[2,5,8,2,7]},\"selected\":null,\"selection_policy\":null},\"id\":\"141cfa8c-3028-4fc8-8542-28d9af470da1\",\"type\":\"ColumnDataSource\"},{\"attributes\":{},\"id\":\"161a2f3c-0faf-447a-957d-fd61b8c1801f\",\"type\":\"PanTool\"}],\"root_ids\":[\"c5c8b661-69bc-46d4-912d-5f2c95dfd80f\"]},\"title\":\"Bokeh Application\",\"version\":\"0.12.15\"}};\n",
       "  var render_items = [{\"docid\":\"23224969-d081-403a-8b2f-3983d0150383\",\"elementid\":\"5db57d6e-51d0-4086-91a3-bf4100ed0bce\",\"modelid\":\"c5c8b661-69bc-46d4-912d-5f2c95dfd80f\"}];\n",
       "  root.Bokeh.embed.embed_items_notebook(docs_json, render_items);\n",
       "\n",
       "  }\n",
       "  if (root.Bokeh !== undefined) {\n",
       "    embed_document(root);\n",
       "  } else {\n",
       "    var attempts = 0;\n",
       "    var timer = setInterval(function(root) {\n",
       "      if (root.Bokeh !== undefined) {\n",
       "        embed_document(root);\n",
       "        clearInterval(timer);\n",
       "      }\n",
       "      attempts++;\n",
       "      if (attempts > 100) {\n",
       "        console.log(\"Bokeh: ERROR: Unable to run BokehJS code because BokehJS library is missing\")\n",
       "        clearInterval(timer);\n",
       "      }\n",
       "    }, 10, root)\n",
       "  }\n",
       "})(window);"
      ],
      "application/vnd.bokehjs_exec.v0+json": ""
     },
     "metadata": {
      "application/vnd.bokehjs_exec.v0+json": {
       "id": "c5c8b661-69bc-46d4-912d-5f2c95dfd80f"
      }
     },
     "output_type": "display_data"
    }
   ],
   "source": [
    "# create a new plot with a title\n",
    "p = figure(plot_width=400, plot_height=400)\n",
    "p.outline_line_width = 7\n",
    "p.outline_line_alpha = 0.3\n",
    "p.outline_line_color = \"navy\"\n",
    "\n",
    "p.circle([1,2,3,4,5], [2,5,8,2,7], size=10)\n",
    "\n",
    "show(p)"
   ]
  },
  {
   "cell_type": "code",
   "execution_count": 4,
   "metadata": {},
   "outputs": [],
   "source": [
    "# EXERCISE Create a plot of your own and customize several plot-level properties\n"
   ]
  },
  {
   "cell_type": "markdown",
   "metadata": {},
   "source": [
    "# Glyphs\n",
    "\n",
    "It's also possible to style the visual properties of glyphs. When using `bokeh.plotting` this is often done when calling the glyph methods:\n",
    "```python\n",
    "p.circle(line_color=\"red\", fill_alpha=0.2, ...)\n",
    "```\n",
    "But it is also possible to set these properties directly on glyph objects. Glyph objects are found on `GlyphRenderer` objects, which are returned by the `Plot.add_glyph` and `bokeh.plotting` glyph methods like `circle`, `rect`, etc. Let's look at an example:"
   ]
  },
  {
   "cell_type": "code",
   "execution_count": 5,
   "metadata": {},
   "outputs": [
    {
     "data": {
      "text/html": [
       "\n",
       "<div class=\"bk-root\">\n",
       "    <div class=\"bk-plotdiv\" id=\"8aa03055-c9e7-4751-bbcc-3e0e5e8865ef\"></div>\n",
       "</div>"
      ]
     },
     "metadata": {},
     "output_type": "display_data"
    },
    {
     "data": {
      "application/javascript": [
       "(function(root) {\n",
       "  function embed_document(root) {\n",
       "    \n",
       "  var docs_json = {\"5aa4b5f4-2eef-4cdf-9212-4642fb42bc48\":{\"roots\":{\"references\":[{\"attributes\":{\"fill_alpha\":{\"value\":0.1},\"fill_color\":{\"value\":\"#1f77b4\"},\"line_alpha\":{\"value\":0.1},\"line_color\":{\"value\":\"#1f77b4\"},\"x\":{\"field\":\"x\"},\"y\":{\"field\":\"y\"}},\"id\":\"2a802335-93ad-4475-ba3c-c86858ce708d\",\"type\":\"Circle\"},{\"attributes\":{\"dimension\":1,\"plot\":{\"id\":\"ced6a4f7-f49e-4560-ae68-49e0f219ce2f\",\"subtype\":\"Figure\",\"type\":\"Plot\"},\"ticker\":{\"id\":\"1898d419-2c38-426a-a813-622ca135d022\",\"type\":\"BasicTicker\"}},\"id\":\"46100182-e82f-49b4-b5b3-c94c0929a8c9\",\"type\":\"Grid\"},{\"attributes\":{},\"id\":\"62da6309-d7d6-465d-9dd2-81ac2bf952a3\",\"type\":\"BasicTicker\"},{\"attributes\":{\"data_source\":{\"id\":\"6f0b6878-5263-4015-ace0-54f8b410fc88\",\"type\":\"ColumnDataSource\"},\"glyph\":{\"id\":\"3eb16aed-a0e7-4ebe-bfa4-8a82b508466c\",\"type\":\"Circle\"},\"hover_glyph\":null,\"muted_glyph\":null,\"nonselection_glyph\":{\"id\":\"2a802335-93ad-4475-ba3c-c86858ce708d\",\"type\":\"Circle\"},\"selection_glyph\":null,\"view\":{\"id\":\"b57991a1-306c-47ce-b198-952e9f532243\",\"type\":\"CDSView\"}},\"id\":\"1d7605e6-e341-4a10-9d9f-7ea547938cc6\",\"type\":\"GlyphRenderer\"},{\"attributes\":{\"plot\":{\"id\":\"ced6a4f7-f49e-4560-ae68-49e0f219ce2f\",\"subtype\":\"Figure\",\"type\":\"Plot\"},\"ticker\":{\"id\":\"62da6309-d7d6-465d-9dd2-81ac2bf952a3\",\"type\":\"BasicTicker\"}},\"id\":\"3b2122f2-5e33-44a4-ae36-e99bbc24d10e\",\"type\":\"Grid\"},{\"attributes\":{},\"id\":\"ff38b0cf-082a-44b5-9c63-a76cad27fe69\",\"type\":\"LinearScale\"},{\"attributes\":{},\"id\":\"1898d419-2c38-426a-a813-622ca135d022\",\"type\":\"BasicTicker\"},{\"attributes\":{\"fill_alpha\":{\"value\":0.2},\"fill_color\":{\"value\":\"#1f77b4\"},\"line_color\":{\"value\":\"firebrick\"},\"line_dash\":[5,1],\"line_width\":{\"value\":2},\"size\":{\"units\":\"screen\",\"value\":50},\"x\":{\"field\":\"x\"},\"y\":{\"field\":\"y\"}},\"id\":\"3eb16aed-a0e7-4ebe-bfa4-8a82b508466c\",\"type\":\"Circle\"},{\"attributes\":{},\"id\":\"b3eb4a0e-b475-4c49-935e-e5efad308450\",\"type\":\"BasicTickFormatter\"},{\"attributes\":{},\"id\":\"cf3a26ba-dd8e-4ad9-a3f8-eca6e90b2086\",\"type\":\"WheelZoomTool\"},{\"attributes\":{\"formatter\":{\"id\":\"3d3a9fb7-d14a-43b8-9ce8-598608fe89b0\",\"type\":\"BasicTickFormatter\"},\"plot\":{\"id\":\"ced6a4f7-f49e-4560-ae68-49e0f219ce2f\",\"subtype\":\"Figure\",\"type\":\"Plot\"},\"ticker\":{\"id\":\"1898d419-2c38-426a-a813-622ca135d022\",\"type\":\"BasicTicker\"}},\"id\":\"97c529ab-d5b3-409e-b993-ef4e9eb37e5a\",\"type\":\"LinearAxis\"},{\"attributes\":{},\"id\":\"a4862796-1208-41a4-b8da-bf3390fca077\",\"type\":\"ResetTool\"},{\"attributes\":{\"bottom_units\":\"screen\",\"fill_alpha\":{\"value\":0.5},\"fill_color\":{\"value\":\"lightgrey\"},\"left_units\":\"screen\",\"level\":\"overlay\",\"line_alpha\":{\"value\":1.0},\"line_color\":{\"value\":\"black\"},\"line_dash\":[4,4],\"line_width\":{\"value\":2},\"plot\":null,\"render_mode\":\"css\",\"right_units\":\"screen\",\"top_units\":\"screen\"},\"id\":\"a22393f4-20b9-49d6-90b1-2508534db000\",\"type\":\"BoxAnnotation\"},{\"attributes\":{\"callback\":null},\"id\":\"06f8f8d9-25a1-497e-9ccb-f1ca5b470642\",\"type\":\"DataRange1d\"},{\"attributes\":{},\"id\":\"3d3a9fb7-d14a-43b8-9ce8-598608fe89b0\",\"type\":\"BasicTickFormatter\"},{\"attributes\":{\"below\":[{\"id\":\"550d1776-972d-4483-8cee-44962a7dfdfe\",\"type\":\"LinearAxis\"}],\"left\":[{\"id\":\"97c529ab-d5b3-409e-b993-ef4e9eb37e5a\",\"type\":\"LinearAxis\"}],\"plot_height\":400,\"plot_width\":400,\"renderers\":[{\"id\":\"550d1776-972d-4483-8cee-44962a7dfdfe\",\"type\":\"LinearAxis\"},{\"id\":\"3b2122f2-5e33-44a4-ae36-e99bbc24d10e\",\"type\":\"Grid\"},{\"id\":\"97c529ab-d5b3-409e-b993-ef4e9eb37e5a\",\"type\":\"LinearAxis\"},{\"id\":\"46100182-e82f-49b4-b5b3-c94c0929a8c9\",\"type\":\"Grid\"},{\"id\":\"a22393f4-20b9-49d6-90b1-2508534db000\",\"type\":\"BoxAnnotation\"},{\"id\":\"1d7605e6-e341-4a10-9d9f-7ea547938cc6\",\"type\":\"GlyphRenderer\"}],\"title\":{\"id\":\"6b78758c-4a84-4e1f-83c1-e8b4499c8c3f\",\"type\":\"Title\"},\"toolbar\":{\"id\":\"9b0294f9-1aef-4ed2-8cde-2d6ae256fb83\",\"type\":\"Toolbar\"},\"x_range\":{\"id\":\"06f8f8d9-25a1-497e-9ccb-f1ca5b470642\",\"type\":\"DataRange1d\"},\"x_scale\":{\"id\":\"a47938ff-9780-4a0f-9a6a-5dbc9b02febb\",\"type\":\"LinearScale\"},\"y_range\":{\"id\":\"1b23df4a-8444-4991-be00-337204c8d10a\",\"type\":\"DataRange1d\"},\"y_scale\":{\"id\":\"ff38b0cf-082a-44b5-9c63-a76cad27fe69\",\"type\":\"LinearScale\"}},\"id\":\"ced6a4f7-f49e-4560-ae68-49e0f219ce2f\",\"subtype\":\"Figure\",\"type\":\"Plot\"},{\"attributes\":{},\"id\":\"d1028e9c-4a8a-4ae4-9dd7-1d1de3d5ac01\",\"type\":\"PanTool\"},{\"attributes\":{\"active_drag\":\"auto\",\"active_inspect\":\"auto\",\"active_scroll\":\"auto\",\"active_tap\":\"auto\",\"tools\":[{\"id\":\"d1028e9c-4a8a-4ae4-9dd7-1d1de3d5ac01\",\"type\":\"PanTool\"},{\"id\":\"cf3a26ba-dd8e-4ad9-a3f8-eca6e90b2086\",\"type\":\"WheelZoomTool\"},{\"id\":\"df5f9d6f-74d1-4c10-87df-8a6078611432\",\"type\":\"BoxZoomTool\"},{\"id\":\"cdb07743-b959-4195-8c93-9a080c5c67ce\",\"type\":\"SaveTool\"},{\"id\":\"a4862796-1208-41a4-b8da-bf3390fca077\",\"type\":\"ResetTool\"},{\"id\":\"f6ded842-2cba-43cb-911b-a08a52303ef7\",\"type\":\"HelpTool\"}]},\"id\":\"9b0294f9-1aef-4ed2-8cde-2d6ae256fb83\",\"type\":\"Toolbar\"},{\"attributes\":{\"source\":{\"id\":\"6f0b6878-5263-4015-ace0-54f8b410fc88\",\"type\":\"ColumnDataSource\"}},\"id\":\"b57991a1-306c-47ce-b198-952e9f532243\",\"type\":\"CDSView\"},{\"attributes\":{\"plot\":null,\"text\":\"\"},\"id\":\"6b78758c-4a84-4e1f-83c1-e8b4499c8c3f\",\"type\":\"Title\"},{\"attributes\":{\"callback\":null,\"column_names\":[\"x\",\"y\"],\"data\":{\"x\":[1,2,3,4,5],\"y\":[2,5,8,2,7]},\"selected\":null,\"selection_policy\":null},\"id\":\"6f0b6878-5263-4015-ace0-54f8b410fc88\",\"type\":\"ColumnDataSource\"},{\"attributes\":{},\"id\":\"cdb07743-b959-4195-8c93-9a080c5c67ce\",\"type\":\"SaveTool\"},{\"attributes\":{},\"id\":\"a47938ff-9780-4a0f-9a6a-5dbc9b02febb\",\"type\":\"LinearScale\"},{\"attributes\":{},\"id\":\"f6ded842-2cba-43cb-911b-a08a52303ef7\",\"type\":\"HelpTool\"},{\"attributes\":{\"callback\":null},\"id\":\"1b23df4a-8444-4991-be00-337204c8d10a\",\"type\":\"DataRange1d\"},{\"attributes\":{\"overlay\":{\"id\":\"a22393f4-20b9-49d6-90b1-2508534db000\",\"type\":\"BoxAnnotation\"}},\"id\":\"df5f9d6f-74d1-4c10-87df-8a6078611432\",\"type\":\"BoxZoomTool\"},{\"attributes\":{\"formatter\":{\"id\":\"b3eb4a0e-b475-4c49-935e-e5efad308450\",\"type\":\"BasicTickFormatter\"},\"plot\":{\"id\":\"ced6a4f7-f49e-4560-ae68-49e0f219ce2f\",\"subtype\":\"Figure\",\"type\":\"Plot\"},\"ticker\":{\"id\":\"62da6309-d7d6-465d-9dd2-81ac2bf952a3\",\"type\":\"BasicTicker\"}},\"id\":\"550d1776-972d-4483-8cee-44962a7dfdfe\",\"type\":\"LinearAxis\"}],\"root_ids\":[\"ced6a4f7-f49e-4560-ae68-49e0f219ce2f\"]},\"title\":\"Bokeh Application\",\"version\":\"0.12.15\"}};\n",
       "  var render_items = [{\"docid\":\"5aa4b5f4-2eef-4cdf-9212-4642fb42bc48\",\"elementid\":\"8aa03055-c9e7-4751-bbcc-3e0e5e8865ef\",\"modelid\":\"ced6a4f7-f49e-4560-ae68-49e0f219ce2f\"}];\n",
       "  root.Bokeh.embed.embed_items_notebook(docs_json, render_items);\n",
       "\n",
       "  }\n",
       "  if (root.Bokeh !== undefined) {\n",
       "    embed_document(root);\n",
       "  } else {\n",
       "    var attempts = 0;\n",
       "    var timer = setInterval(function(root) {\n",
       "      if (root.Bokeh !== undefined) {\n",
       "        embed_document(root);\n",
       "        clearInterval(timer);\n",
       "      }\n",
       "      attempts++;\n",
       "      if (attempts > 100) {\n",
       "        console.log(\"Bokeh: ERROR: Unable to run BokehJS code because BokehJS library is missing\")\n",
       "        clearInterval(timer);\n",
       "      }\n",
       "    }, 10, root)\n",
       "  }\n",
       "})(window);"
      ],
      "application/vnd.bokehjs_exec.v0+json": ""
     },
     "metadata": {
      "application/vnd.bokehjs_exec.v0+json": {
       "id": "ced6a4f7-f49e-4560-ae68-49e0f219ce2f"
      }
     },
     "output_type": "display_data"
    }
   ],
   "source": [
    "p = figure(plot_width=400, plot_height=400)\n",
    "\n",
    "# keep a reference to the returned GlyphRenderer\n",
    "r = p.circle([1,2,3,4,5], [2,5,8,2,7])\n",
    "\n",
    "r.glyph.size = 50\n",
    "r.glyph.fill_alpha = 0.2\n",
    "r.glyph.line_color = \"firebrick\"\n",
    "r.glyph.line_dash = [5, 1]\n",
    "r.glyph.line_width = 2\n",
    "\n",
    "show(p)"
   ]
  },
  {
   "cell_type": "markdown",
   "metadata": {},
   "source": [
    "### Selection and non-selection visuals\n",
    "\n",
    "You can also control how glyphs look when there are selections involved. The set of \"selected\" points is displayed according to the optional `.selection_glyph` property of a `GlyphRenderer`:\n",
    "```python\n",
    "r.selection_glyph = Circle(fill_alpha=1, fill_color=\"firebrick\", line_color=None) \n",
    "```\n",
    "When there is a non-empty selection, the set of \"unselected: points is displayed according to the optional  `.nonselection_glyph` property of a `GlyphRenderer`:\n",
    "```python\n",
    "r.nonselection_glyph = Circle(fill_alpha=0.2, fill_color=\"grey\", line_color=None) \n",
    "```\n",
    "\n",
    "When using the `bokeh.plotting` interface, it is easier to pass these visual properties to the glyph methods as shown below. The glyph method will create the selection or nonselection glyphs and attach them to the renderer for you. "
   ]
  },
  {
   "cell_type": "code",
   "execution_count": 6,
   "metadata": {},
   "outputs": [
    {
     "data": {
      "text/html": [
       "\n",
       "<div class=\"bk-root\">\n",
       "    <div class=\"bk-plotdiv\" id=\"4d10d259-a551-4742-b1d6-20c71e56d8ed\"></div>\n",
       "</div>"
      ]
     },
     "metadata": {},
     "output_type": "display_data"
    },
    {
     "data": {
      "application/javascript": [
       "(function(root) {\n",
       "  function embed_document(root) {\n",
       "    \n",
       "  var docs_json = {\"3719b4bd-fdc1-4d4a-9598-61401c695134\":{\"roots\":{\"references\":[{\"attributes\":{\"callback\":null,\"column_names\":[\"x\",\"y\"],\"data\":{\"x\":[1,2,3,4,5],\"y\":[2,5,8,2,7]},\"selected\":null,\"selection_policy\":null},\"id\":\"dcbe4e18-d3aa-4ad7-ab83-5e6680cb583d\",\"type\":\"ColumnDataSource\"},{\"attributes\":{},\"id\":\"349f224e-1d70-4996-bb34-0044c79a2819\",\"type\":\"BasicTickFormatter\"},{\"attributes\":{\"plot\":null,\"text\":\"Select a circle\"},\"id\":\"f90624bc-6e46-457c-b993-afbc87ab96ab\",\"type\":\"Title\"},{\"attributes\":{},\"id\":\"3184f18f-198d-4b3a-a701-8d215f2f4288\",\"type\":\"BasicTicker\"},{\"attributes\":{\"callback\":null},\"id\":\"96f3b736-6b55-45ad-960b-367cb2e56b91\",\"type\":\"DataRange1d\"},{\"attributes\":{\"formatter\":{\"id\":\"f94884a2-cac1-4f06-aaf7-4e56d27a8e49\",\"type\":\"BasicTickFormatter\"},\"plot\":{\"id\":\"817c4c98-7ba3-43e7-8677-62de980521df\",\"subtype\":\"Figure\",\"type\":\"Plot\"},\"ticker\":{\"id\":\"b513ed4f-b71e-4970-8f81-d7b2da3e5d17\",\"type\":\"BasicTicker\"}},\"id\":\"bbb64184-2d94-4268-a453-f4c3e57c5aec\",\"type\":\"LinearAxis\"},{\"attributes\":{},\"id\":\"b513ed4f-b71e-4970-8f81-d7b2da3e5d17\",\"type\":\"BasicTicker\"},{\"attributes\":{\"callback\":null},\"id\":\"a0a507e3-d2ed-4979-af37-b6519e66fbbc\",\"type\":\"DataRange1d\"},{\"attributes\":{\"active_drag\":\"auto\",\"active_inspect\":\"auto\",\"active_scroll\":\"auto\",\"active_tap\":\"auto\",\"tools\":[{\"id\":\"a9113d06-c2dc-45dd-a040-8c592882c659\",\"type\":\"TapTool\"}]},\"id\":\"e2741062-9da5-41f5-b280-9a706d7778fb\",\"type\":\"Toolbar\"},{\"attributes\":{},\"id\":\"f94884a2-cac1-4f06-aaf7-4e56d27a8e49\",\"type\":\"BasicTickFormatter\"},{\"attributes\":{\"plot\":{\"id\":\"817c4c98-7ba3-43e7-8677-62de980521df\",\"subtype\":\"Figure\",\"type\":\"Plot\"},\"ticker\":{\"id\":\"b513ed4f-b71e-4970-8f81-d7b2da3e5d17\",\"type\":\"BasicTicker\"}},\"id\":\"913c427a-9125-4e44-a4a6-d22749ff9bec\",\"type\":\"Grid\"},{\"attributes\":{},\"id\":\"e6f8df99-aa5d-4d99-8317-9b47754219a8\",\"type\":\"LinearScale\"},{\"attributes\":{\"dimension\":1,\"plot\":{\"id\":\"817c4c98-7ba3-43e7-8677-62de980521df\",\"subtype\":\"Figure\",\"type\":\"Plot\"},\"ticker\":{\"id\":\"3184f18f-198d-4b3a-a701-8d215f2f4288\",\"type\":\"BasicTicker\"}},\"id\":\"14c53567-2379-4619-be9c-16523f56a078\",\"type\":\"Grid\"},{\"attributes\":{\"fill_alpha\":{\"value\":0.2},\"fill_color\":{\"value\":\"grey\"},\"line_color\":{\"value\":\"firebrick\"},\"size\":{\"units\":\"screen\",\"value\":50},\"x\":{\"field\":\"x\"},\"y\":{\"field\":\"y\"}},\"id\":\"32c7451b-0cee-4073-8f68-38a3127ba0aa\",\"type\":\"Circle\"},{\"attributes\":{\"source\":{\"id\":\"dcbe4e18-d3aa-4ad7-ab83-5e6680cb583d\",\"type\":\"ColumnDataSource\"}},\"id\":\"34a2b56b-6894-44f9-9baa-72dce9ecf5d3\",\"type\":\"CDSView\"},{\"attributes\":{\"fill_color\":{\"value\":\"#1f77b4\"},\"line_color\":{\"value\":\"#1f77b4\"},\"size\":{\"units\":\"screen\",\"value\":50},\"x\":{\"field\":\"x\"},\"y\":{\"field\":\"y\"}},\"id\":\"df9e8b03-423c-48f5-9a85-700c567d49d2\",\"type\":\"Circle\"},{\"attributes\":{\"formatter\":{\"id\":\"349f224e-1d70-4996-bb34-0044c79a2819\",\"type\":\"BasicTickFormatter\"},\"plot\":{\"id\":\"817c4c98-7ba3-43e7-8677-62de980521df\",\"subtype\":\"Figure\",\"type\":\"Plot\"},\"ticker\":{\"id\":\"3184f18f-198d-4b3a-a701-8d215f2f4288\",\"type\":\"BasicTicker\"}},\"id\":\"1e67ea51-86b9-49fa-af6f-4c1c9cfeab3e\",\"type\":\"LinearAxis\"},{\"attributes\":{\"data_source\":{\"id\":\"dcbe4e18-d3aa-4ad7-ab83-5e6680cb583d\",\"type\":\"ColumnDataSource\"},\"glyph\":{\"id\":\"df9e8b03-423c-48f5-9a85-700c567d49d2\",\"type\":\"Circle\"},\"hover_glyph\":null,\"muted_glyph\":null,\"nonselection_glyph\":{\"id\":\"32c7451b-0cee-4073-8f68-38a3127ba0aa\",\"type\":\"Circle\"},\"selection_glyph\":{\"id\":\"962d1eda-a940-4dc0-8c35-dd492b36b46a\",\"type\":\"Circle\"},\"view\":{\"id\":\"34a2b56b-6894-44f9-9baa-72dce9ecf5d3\",\"type\":\"CDSView\"}},\"id\":\"02706374-cd1f-47d7-8dca-8366f7966f99\",\"type\":\"GlyphRenderer\"},{\"attributes\":{\"callback\":null},\"id\":\"a9113d06-c2dc-45dd-a040-8c592882c659\",\"type\":\"TapTool\"},{\"attributes\":{},\"id\":\"6ed19b1f-b30f-40ca-b3a6-f43a20678069\",\"type\":\"LinearScale\"},{\"attributes\":{\"fill_color\":{\"value\":\"firebrick\"},\"line_color\":{\"value\":\"firebrick\"},\"size\":{\"units\":\"screen\",\"value\":50},\"x\":{\"field\":\"x\"},\"y\":{\"field\":\"y\"}},\"id\":\"962d1eda-a940-4dc0-8c35-dd492b36b46a\",\"type\":\"Circle\"},{\"attributes\":{\"below\":[{\"id\":\"bbb64184-2d94-4268-a453-f4c3e57c5aec\",\"type\":\"LinearAxis\"}],\"left\":[{\"id\":\"1e67ea51-86b9-49fa-af6f-4c1c9cfeab3e\",\"type\":\"LinearAxis\"}],\"plot_height\":400,\"plot_width\":400,\"renderers\":[{\"id\":\"bbb64184-2d94-4268-a453-f4c3e57c5aec\",\"type\":\"LinearAxis\"},{\"id\":\"913c427a-9125-4e44-a4a6-d22749ff9bec\",\"type\":\"Grid\"},{\"id\":\"1e67ea51-86b9-49fa-af6f-4c1c9cfeab3e\",\"type\":\"LinearAxis\"},{\"id\":\"14c53567-2379-4619-be9c-16523f56a078\",\"type\":\"Grid\"},{\"id\":\"02706374-cd1f-47d7-8dca-8366f7966f99\",\"type\":\"GlyphRenderer\"}],\"title\":{\"id\":\"f90624bc-6e46-457c-b993-afbc87ab96ab\",\"type\":\"Title\"},\"toolbar\":{\"id\":\"e2741062-9da5-41f5-b280-9a706d7778fb\",\"type\":\"Toolbar\"},\"x_range\":{\"id\":\"a0a507e3-d2ed-4979-af37-b6519e66fbbc\",\"type\":\"DataRange1d\"},\"x_scale\":{\"id\":\"e6f8df99-aa5d-4d99-8317-9b47754219a8\",\"type\":\"LinearScale\"},\"y_range\":{\"id\":\"96f3b736-6b55-45ad-960b-367cb2e56b91\",\"type\":\"DataRange1d\"},\"y_scale\":{\"id\":\"6ed19b1f-b30f-40ca-b3a6-f43a20678069\",\"type\":\"LinearScale\"}},\"id\":\"817c4c98-7ba3-43e7-8677-62de980521df\",\"subtype\":\"Figure\",\"type\":\"Plot\"}],\"root_ids\":[\"817c4c98-7ba3-43e7-8677-62de980521df\"]},\"title\":\"Bokeh Application\",\"version\":\"0.12.15\"}};\n",
       "  var render_items = [{\"docid\":\"3719b4bd-fdc1-4d4a-9598-61401c695134\",\"elementid\":\"4d10d259-a551-4742-b1d6-20c71e56d8ed\",\"modelid\":\"817c4c98-7ba3-43e7-8677-62de980521df\"}];\n",
       "  root.Bokeh.embed.embed_items_notebook(docs_json, render_items);\n",
       "\n",
       "  }\n",
       "  if (root.Bokeh !== undefined) {\n",
       "    embed_document(root);\n",
       "  } else {\n",
       "    var attempts = 0;\n",
       "    var timer = setInterval(function(root) {\n",
       "      if (root.Bokeh !== undefined) {\n",
       "        embed_document(root);\n",
       "        clearInterval(timer);\n",
       "      }\n",
       "      attempts++;\n",
       "      if (attempts > 100) {\n",
       "        console.log(\"Bokeh: ERROR: Unable to run BokehJS code because BokehJS library is missing\")\n",
       "        clearInterval(timer);\n",
       "      }\n",
       "    }, 10, root)\n",
       "  }\n",
       "})(window);"
      ],
      "application/vnd.bokehjs_exec.v0+json": ""
     },
     "metadata": {
      "application/vnd.bokehjs_exec.v0+json": {
       "id": "817c4c98-7ba3-43e7-8677-62de980521df"
      }
     },
     "output_type": "display_data"
    }
   ],
   "source": [
    "p = figure(plot_width=400, plot_height=400, tools=\"tap\", title=\"Select a circle\")\n",
    "renderer = p.circle([1, 2, 3, 4, 5], [2, 5, 8, 2, 7], size=50,\n",
    "\n",
    "                    # set visual properties for selected glyphs\n",
    "                    selection_color=\"firebrick\",\n",
    "\n",
    "                    # set visual properties for non-selected glyphs\n",
    "                    nonselection_fill_alpha=0.2,\n",
    "                    nonselection_fill_color=\"grey\",\n",
    "                    nonselection_line_color=\"firebrick\",\n",
    "                    nonselection_line_alpha=1.0)\n",
    "\n",
    "show(p)"
   ]
  },
  {
   "cell_type": "markdown",
   "metadata": {},
   "source": [
    "It is also possible to specify the visual appearance of glyphs when they are \"inspected\", e.g. by a hover tool. This is accomplished by setting an optional `hover_glyph` on the glyph renderer:\n",
    "```python\n",
    "r.hover_glyph = Circle(fill_alpha=1, fill_color=\"firebrick\", line_color=None) \n",
    "```\n",
    "Or if using `bokeh.plotting` glyph methods, by passing `hover_fill_alpha`, etc. to the glyph method. Lets look at an example that works together with a `HoverTool` configured for \"hline\" hit-testing."
   ]
  },
  {
   "cell_type": "code",
   "execution_count": 7,
   "metadata": {},
   "outputs": [
    {
     "data": {
      "text/html": [
       "\n",
       "<div class=\"bk-root\">\n",
       "    <div class=\"bk-plotdiv\" id=\"0d1710be-373c-45c0-8fd0-8b5fe6b000b3\"></div>\n",
       "</div>"
      ]
     },
     "metadata": {},
     "output_type": "display_data"
    },
    {
     "data": {
      "application/javascript": [
       "(function(root) {\n",
       "  function embed_document(root) {\n",
       "    \n",
       "  var docs_json = {\"3ad8a6de-a59e-401e-8dce-6e8d0f4e9b81\":{\"roots\":{\"references\":[{\"attributes\":{},\"id\":\"46c2b46d-01f1-47b5-985f-b340c3e8b87b\",\"type\":\"YearsTicker\"},{\"attributes\":{},\"id\":\"03c42f45-f4fc-437e-a3d1-f5b924cce2a2\",\"type\":\"BasicTickFormatter\"},{\"attributes\":{},\"id\":\"281a571f-be1a-4a64-94bf-9e6f79e9a1c3\",\"type\":\"HelpTool\"},{\"attributes\":{\"callback\":null,\"mode\":\"hline\",\"renderers\":[{\"id\":\"621adf44-9bf2-4a9c-84cf-f35fa82b55f5\",\"type\":\"GlyphRenderer\"}],\"tooltips\":null},\"id\":\"1614c845-4d8d-43ac-88a2-09cefdf41e42\",\"type\":\"HoverTool\"},{\"attributes\":{\"plot\":null,\"text\":\"Hover over points\"},\"id\":\"c3f24914-38ca-49eb-a0bb-ac36e8dd3e44\",\"type\":\"Title\"},{\"attributes\":{\"callback\":null},\"id\":\"4c873159-ec09-4931-9209-85b4a3de14b5\",\"type\":\"DataRange1d\"},{\"attributes\":{\"fill_alpha\":{\"value\":0.1},\"fill_color\":{\"value\":\"#1f77b4\"},\"line_alpha\":{\"value\":0.1},\"line_color\":{\"value\":\"#1f77b4\"},\"size\":{\"units\":\"screen\",\"value\":20},\"x\":{\"field\":\"x\"},\"y\":{\"field\":\"y\"}},\"id\":\"a34eb0ae-3f09-4586-8733-1b3adf24e4e1\",\"type\":\"Circle\"},{\"attributes\":{\"active_drag\":\"auto\",\"active_inspect\":\"auto\",\"active_scroll\":\"auto\",\"active_tap\":\"auto\",\"tools\":[{\"id\":\"7950cb88-4faa-4237-a70a-d6d109f41df9\",\"type\":\"PanTool\"},{\"id\":\"083d8aa9-289f-47b8-8cfa-2863d33f63dc\",\"type\":\"WheelZoomTool\"},{\"id\":\"981603da-a967-448f-8c0a-bb5558c2ca36\",\"type\":\"BoxZoomTool\"},{\"id\":\"06fb7ce0-853a-40c0-b0d2-11461cdc3eb9\",\"type\":\"SaveTool\"},{\"id\":\"2cc13696-3d4d-4a70-990d-3d856596c4fd\",\"type\":\"ResetTool\"},{\"id\":\"281a571f-be1a-4a64-94bf-9e6f79e9a1c3\",\"type\":\"HelpTool\"},{\"id\":\"1614c845-4d8d-43ac-88a2-09cefdf41e42\",\"type\":\"HoverTool\"}]},\"id\":\"da61799c-6e45-487b-bfe6-3720fa2a74a5\",\"type\":\"Toolbar\"},{\"attributes\":{\"fill_alpha\":{\"value\":0.3},\"fill_color\":{\"value\":\"firebrick\"},\"line_alpha\":{\"value\":0.3},\"line_color\":{\"value\":\"white\"},\"size\":{\"units\":\"screen\",\"value\":20},\"x\":{\"field\":\"x\"},\"y\":{\"field\":\"y\"}},\"id\":\"ca0e045a-79c3-4593-81a8-1e54482478c2\",\"type\":\"Circle\"},{\"attributes\":{\"data_source\":{\"id\":\"a7598fcf-f0fe-45e3-a7d1-106fa6ddbe7c\",\"type\":\"ColumnDataSource\"},\"glyph\":{\"id\":\"277bf4c9-6798-446c-b69c-427e1ca95f75\",\"type\":\"Line\"},\"hover_glyph\":null,\"muted_glyph\":null,\"nonselection_glyph\":{\"id\":\"987fb61a-09f3-43b2-b2de-2ddd0e0a625a\",\"type\":\"Line\"},\"selection_glyph\":null,\"view\":{\"id\":\"51057bb6-4d28-4f92-996f-73252769eef2\",\"type\":\"CDSView\"}},\"id\":\"a1dbac01-e81b-4ef8-8c2e-c2ab81ab8adf\",\"type\":\"GlyphRenderer\"},{\"attributes\":{},\"id\":\"0451e410-7f77-4e0a-a1ec-4e6ad925a880\",\"type\":\"LinearScale\"},{\"attributes\":{\"callback\":null},\"id\":\"75d467f9-827b-4237-a04c-a00b28fa396e\",\"type\":\"DataRange1d\"},{\"attributes\":{\"data_source\":{\"id\":\"d5f27b33-0810-4e8b-907d-54032f5166cb\",\"type\":\"ColumnDataSource\"},\"glyph\":{\"id\":\"856d84a6-6a61-49eb-8327-db0ef75e709a\",\"type\":\"Circle\"},\"hover_glyph\":{\"id\":\"ca0e045a-79c3-4593-81a8-1e54482478c2\",\"type\":\"Circle\"},\"muted_glyph\":null,\"nonselection_glyph\":{\"id\":\"a34eb0ae-3f09-4586-8733-1b3adf24e4e1\",\"type\":\"Circle\"},\"selection_glyph\":null,\"view\":{\"id\":\"7ccfedfc-57f2-41aa-a051-e5e3745c8d97\",\"type\":\"CDSView\"}},\"id\":\"621adf44-9bf2-4a9c-84cf-f35fa82b55f5\",\"type\":\"GlyphRenderer\"},{\"attributes\":{},\"id\":\"82e931d0-10d6-48e1-85d0-faf479a1f30b\",\"type\":\"LinearScale\"},{\"attributes\":{\"source\":{\"id\":\"d5f27b33-0810-4e8b-907d-54032f5166cb\",\"type\":\"ColumnDataSource\"}},\"id\":\"7ccfedfc-57f2-41aa-a051-e5e3745c8d97\",\"type\":\"CDSView\"},{\"attributes\":{\"plot\":{\"id\":\"790a4b75-6612-4725-837f-81a81af6f55b\",\"subtype\":\"Figure\",\"type\":\"Plot\"},\"ticker\":{\"id\":\"2a584403-c24c-4a37-acf0-4f8358331c94\",\"type\":\"DatetimeTicker\"}},\"id\":\"b558170b-3361-48e6-9b76-2b6dd6e019fb\",\"type\":\"Grid\"},{\"attributes\":{\"formatter\":{\"id\":\"a2b62c95-830b-435b-91d1-ce3794b05847\",\"type\":\"DatetimeTickFormatter\"},\"plot\":{\"id\":\"790a4b75-6612-4725-837f-81a81af6f55b\",\"subtype\":\"Figure\",\"type\":\"Plot\"},\"ticker\":{\"id\":\"2a584403-c24c-4a37-acf0-4f8358331c94\",\"type\":\"DatetimeTicker\"}},\"id\":\"ae790fc5-004a-44c6-be54-fca8c6837461\",\"type\":\"DatetimeAxis\"},{\"attributes\":{\"num_minor_ticks\":5,\"tickers\":[{\"id\":\"4e6d41f0-4616-478c-97ff-4c8a29e0d5a0\",\"type\":\"AdaptiveTicker\"},{\"id\":\"79f5e76a-7068-439e-bb74-5c25f5099dbd\",\"type\":\"AdaptiveTicker\"},{\"id\":\"d94e89a2-0921-4911-b942-ad82342ea9bc\",\"type\":\"AdaptiveTicker\"},{\"id\":\"1ba9e52b-c5d2-44c6-b230-5a15f232d09b\",\"type\":\"DaysTicker\"},{\"id\":\"fd294328-e62b-4c09-8da2-0ae889682eed\",\"type\":\"DaysTicker\"},{\"id\":\"73173f37-e60c-4255-ad56-69ec38352109\",\"type\":\"DaysTicker\"},{\"id\":\"4b11027e-dcb1-4a19-9fa6-0d7656bb9373\",\"type\":\"DaysTicker\"},{\"id\":\"91729121-9ec7-4b7b-833f-c099ff11363a\",\"type\":\"MonthsTicker\"},{\"id\":\"9a038c4a-1163-40db-adc9-60f519678dd3\",\"type\":\"MonthsTicker\"},{\"id\":\"e646e7be-34a5-4954-a5c4-26bcc3218d23\",\"type\":\"MonthsTicker\"},{\"id\":\"cc4a5cf4-6dcc-431d-b9f5-821f8bd6f4ba\",\"type\":\"MonthsTicker\"},{\"id\":\"46c2b46d-01f1-47b5-985f-b340c3e8b87b\",\"type\":\"YearsTicker\"}]},\"id\":\"2a584403-c24c-4a37-acf0-4f8358331c94\",\"type\":\"DatetimeTicker\"},{\"attributes\":{\"formatter\":{\"id\":\"03c42f45-f4fc-437e-a3d1-f5b924cce2a2\",\"type\":\"BasicTickFormatter\"},\"plot\":{\"id\":\"790a4b75-6612-4725-837f-81a81af6f55b\",\"subtype\":\"Figure\",\"type\":\"Plot\"},\"ticker\":{\"id\":\"e99d3d5f-23af-456f-aa79-c39a78061a64\",\"type\":\"BasicTicker\"}},\"id\":\"45557692-e3b0-4d16-8630-5e1df44664c0\",\"type\":\"LinearAxis\"},{\"attributes\":{\"below\":[{\"id\":\"ae790fc5-004a-44c6-be54-fca8c6837461\",\"type\":\"DatetimeAxis\"}],\"left\":[{\"id\":\"45557692-e3b0-4d16-8630-5e1df44664c0\",\"type\":\"LinearAxis\"}],\"plot_height\":300,\"renderers\":[{\"id\":\"ae790fc5-004a-44c6-be54-fca8c6837461\",\"type\":\"DatetimeAxis\"},{\"id\":\"b558170b-3361-48e6-9b76-2b6dd6e019fb\",\"type\":\"Grid\"},{\"id\":\"45557692-e3b0-4d16-8630-5e1df44664c0\",\"type\":\"LinearAxis\"},{\"id\":\"2bdfdefe-c89b-4486-a1d1-12fc085167e6\",\"type\":\"Grid\"},{\"id\":\"0b81d340-3806-4f06-b022-2d5bb785f2a5\",\"type\":\"BoxAnnotation\"},{\"id\":\"a1dbac01-e81b-4ef8-8c2e-c2ab81ab8adf\",\"type\":\"GlyphRenderer\"},{\"id\":\"621adf44-9bf2-4a9c-84cf-f35fa82b55f5\",\"type\":\"GlyphRenderer\"}],\"title\":{\"id\":\"c3f24914-38ca-49eb-a0bb-ac36e8dd3e44\",\"type\":\"Title\"},\"toolbar\":{\"id\":\"da61799c-6e45-487b-bfe6-3720fa2a74a5\",\"type\":\"Toolbar\"},\"x_range\":{\"id\":\"4c873159-ec09-4931-9209-85b4a3de14b5\",\"type\":\"DataRange1d\"},\"x_scale\":{\"id\":\"0451e410-7f77-4e0a-a1ec-4e6ad925a880\",\"type\":\"LinearScale\"},\"y_range\":{\"id\":\"75d467f9-827b-4237-a04c-a00b28fa396e\",\"type\":\"DataRange1d\"},\"y_scale\":{\"id\":\"82e931d0-10d6-48e1-85d0-faf479a1f30b\",\"type\":\"LinearScale\"}},\"id\":\"790a4b75-6612-4725-837f-81a81af6f55b\",\"subtype\":\"Figure\",\"type\":\"Plot\"},{\"attributes\":{},\"id\":\"e99d3d5f-23af-456f-aa79-c39a78061a64\",\"type\":\"BasicTicker\"},{\"attributes\":{\"callback\":null,\"column_names\":[\"x\",\"y\"],\"data\":{\"x\":{\"__ndarray__\":\"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\",\"dtype\":\"float64\",\"shape\":[288]},\"y\":[143,147,150,152,152,152,154,155,142,140,138,134,131,130,128,127,126,126,126,126,127,129,131,132,134,136,136,136,136,135,134,132,130,130,130,129,128,127,125,124,123,123,122,121,120,118,115,112,111,111,110,110,109,108,107,107,107,108,107,105,105,105,105,104,103,102,99,97,96,94,94,93,93,92,91,92,94,95,96,97,99,102,104,112,112,112,111,110,107,104,105,105,103,99,96,94,95,102,114,128,144,160,173,185,196,205,209,214,219,226,234,241,248,255,260,265,268,270,272,271,271,268,265,261,256,253,250,246,244,241,237,233,229,225,222,204,200,197,193,190,186,182,179,175,171,168,164,158,154,151,148,145,141,133,139,152,173,196,217,233,244,249,250,253,256,260,263,265,265,264,260,254,246,234,217,200,188,181,175,169,164,159,154,147,138,132,129,127,123,117,111,106,104,103,100,94,88,83,78,75,73,71,69,68,67,67,68,70,71,71,70,69,68,67,67,67,66,67,69,71,74,76,78,80,80,80,80,80,80,82,84,87,90,92,87,87,86,86,86,86,87,87,87,85,83,82,83,87,95,107,118,130,141,149,172,179,187,201,214,221,225,230,232,230,223,216,208,199,191,185,181,177,176,177,176,173,171,169,163,154,152,153,154,154,153,151,150,150]},\"selected\":null,\"selection_policy\":null},\"id\":\"d5f27b33-0810-4e8b-907d-54032f5166cb\",\"type\":\"ColumnDataSource\"},{\"attributes\":{\"dimension\":1,\"plot\":{\"id\":\"790a4b75-6612-4725-837f-81a81af6f55b\",\"subtype\":\"Figure\",\"type\":\"Plot\"},\"ticker\":{\"id\":\"e99d3d5f-23af-456f-aa79-c39a78061a64\",\"type\":\"BasicTicker\"}},\"id\":\"2bdfdefe-c89b-4486-a1d1-12fc085167e6\",\"type\":\"Grid\"},{\"attributes\":{\"source\":{\"id\":\"a7598fcf-f0fe-45e3-a7d1-106fa6ddbe7c\",\"type\":\"ColumnDataSource\"}},\"id\":\"51057bb6-4d28-4f92-996f-73252769eef2\",\"type\":\"CDSView\"},{\"attributes\":{\"mantissas\":[1,2,5],\"max_interval\":500.0,\"num_minor_ticks\":0},\"id\":\"4e6d41f0-4616-478c-97ff-4c8a29e0d5a0\",\"type\":\"AdaptiveTicker\"},{\"attributes\":{},\"id\":\"7950cb88-4faa-4237-a70a-d6d109f41df9\",\"type\":\"PanTool\"},{\"attributes\":{},\"id\":\"a2b62c95-830b-435b-91d1-ce3794b05847\",\"type\":\"DatetimeTickFormatter\"},{\"attributes\":{},\"id\":\"083d8aa9-289f-47b8-8cfa-2863d33f63dc\",\"type\":\"WheelZoomTool\"},{\"attributes\":{\"overlay\":{\"id\":\"0b81d340-3806-4f06-b022-2d5bb785f2a5\",\"type\":\"BoxAnnotation\"}},\"id\":\"981603da-a967-448f-8c0a-bb5558c2ca36\",\"type\":\"BoxZoomTool\"},{\"attributes\":{},\"id\":\"06fb7ce0-853a-40c0-b0d2-11461cdc3eb9\",\"type\":\"SaveTool\"},{\"attributes\":{},\"id\":\"2cc13696-3d4d-4a70-990d-3d856596c4fd\",\"type\":\"ResetTool\"},{\"attributes\":{\"bottom_units\":\"screen\",\"fill_alpha\":{\"value\":0.5},\"fill_color\":{\"value\":\"lightgrey\"},\"left_units\":\"screen\",\"level\":\"overlay\",\"line_alpha\":{\"value\":1.0},\"line_color\":{\"value\":\"black\"},\"line_dash\":[4,4],\"line_width\":{\"value\":2},\"plot\":null,\"render_mode\":\"css\",\"right_units\":\"screen\",\"top_units\":\"screen\"},\"id\":\"0b81d340-3806-4f06-b022-2d5bb785f2a5\",\"type\":\"BoxAnnotation\"},{\"attributes\":{\"base\":24,\"mantissas\":[1,2,4,6,8,12],\"max_interval\":43200000.0,\"min_interval\":3600000.0,\"num_minor_ticks\":0},\"id\":\"d94e89a2-0921-4911-b942-ad82342ea9bc\",\"type\":\"AdaptiveTicker\"},{\"attributes\":{\"base\":60,\"mantissas\":[1,2,5,10,15,20,30],\"max_interval\":1800000.0,\"min_interval\":1000.0,\"num_minor_ticks\":0},\"id\":\"79f5e76a-7068-439e-bb74-5c25f5099dbd\",\"type\":\"AdaptiveTicker\"},{\"attributes\":{\"days\":[1,15]},\"id\":\"4b11027e-dcb1-4a19-9fa6-0d7656bb9373\",\"type\":\"DaysTicker\"},{\"attributes\":{\"fill_alpha\":{\"value\":0.05},\"fill_color\":{\"value\":\"grey\"},\"line_color\":{\"value\":null},\"size\":{\"units\":\"screen\",\"value\":20},\"x\":{\"field\":\"x\"},\"y\":{\"field\":\"y\"}},\"id\":\"856d84a6-6a61-49eb-8327-db0ef75e709a\",\"type\":\"Circle\"},{\"attributes\":{\"days\":[1,4,7,10,13,16,19,22,25,28]},\"id\":\"fd294328-e62b-4c09-8da2-0ae889682eed\",\"type\":\"DaysTicker\"},{\"attributes\":{\"days\":[1,8,15,22]},\"id\":\"73173f37-e60c-4255-ad56-69ec38352109\",\"type\":\"DaysTicker\"},{\"attributes\":{\"line_alpha\":0.1,\"line_color\":\"#1f77b4\",\"line_dash\":[4,4],\"x\":{\"field\":\"x\"},\"y\":{\"field\":\"y\"}},\"id\":\"987fb61a-09f3-43b2-b2de-2ddd0e0a625a\",\"type\":\"Line\"},{\"attributes\":{\"days\":[1,2,3,4,5,6,7,8,9,10,11,12,13,14,15,16,17,18,19,20,21,22,23,24,25,26,27,28,29,30,31]},\"id\":\"1ba9e52b-c5d2-44c6-b230-5a15f232d09b\",\"type\":\"DaysTicker\"},{\"attributes\":{\"months\":[0,1,2,3,4,5,6,7,8,9,10,11]},\"id\":\"91729121-9ec7-4b7b-833f-c099ff11363a\",\"type\":\"MonthsTicker\"},{\"attributes\":{\"line_color\":\"gray\",\"line_dash\":[4,4],\"x\":{\"field\":\"x\"},\"y\":{\"field\":\"y\"}},\"id\":\"277bf4c9-6798-446c-b69c-427e1ca95f75\",\"type\":\"Line\"},{\"attributes\":{\"months\":[0,2,4,6,8,10]},\"id\":\"9a038c4a-1163-40db-adc9-60f519678dd3\",\"type\":\"MonthsTicker\"},{\"attributes\":{\"months\":[0,4,8]},\"id\":\"e646e7be-34a5-4954-a5c4-26bcc3218d23\",\"type\":\"MonthsTicker\"},{\"attributes\":{\"callback\":null,\"column_names\":[\"x\",\"y\"],\"data\":{\"x\":{\"__ndarray__\":\"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\",\"dtype\":\"float64\",\"shape\":[288]},\"y\":[143,147,150,152,152,152,154,155,142,140,138,134,131,130,128,127,126,126,126,126,127,129,131,132,134,136,136,136,136,135,134,132,130,130,130,129,128,127,125,124,123,123,122,121,120,118,115,112,111,111,110,110,109,108,107,107,107,108,107,105,105,105,105,104,103,102,99,97,96,94,94,93,93,92,91,92,94,95,96,97,99,102,104,112,112,112,111,110,107,104,105,105,103,99,96,94,95,102,114,128,144,160,173,185,196,205,209,214,219,226,234,241,248,255,260,265,268,270,272,271,271,268,265,261,256,253,250,246,244,241,237,233,229,225,222,204,200,197,193,190,186,182,179,175,171,168,164,158,154,151,148,145,141,133,139,152,173,196,217,233,244,249,250,253,256,260,263,265,265,264,260,254,246,234,217,200,188,181,175,169,164,159,154,147,138,132,129,127,123,117,111,106,104,103,100,94,88,83,78,75,73,71,69,68,67,67,68,70,71,71,70,69,68,67,67,67,66,67,69,71,74,76,78,80,80,80,80,80,80,82,84,87,90,92,87,87,86,86,86,86,87,87,87,85,83,82,83,87,95,107,118,130,141,149,172,179,187,201,214,221,225,230,232,230,223,216,208,199,191,185,181,177,176,177,176,173,171,169,163,154,152,153,154,154,153,151,150,150]},\"selected\":null,\"selection_policy\":null},\"id\":\"a7598fcf-f0fe-45e3-a7d1-106fa6ddbe7c\",\"type\":\"ColumnDataSource\"},{\"attributes\":{\"months\":[0,6]},\"id\":\"cc4a5cf4-6dcc-431d-b9f5-821f8bd6f4ba\",\"type\":\"MonthsTicker\"}],\"root_ids\":[\"790a4b75-6612-4725-837f-81a81af6f55b\"]},\"title\":\"Bokeh Application\",\"version\":\"0.12.15\"}};\n",
       "  var render_items = [{\"docid\":\"3ad8a6de-a59e-401e-8dce-6e8d0f4e9b81\",\"elementid\":\"0d1710be-373c-45c0-8fd0-8b5fe6b000b3\",\"modelid\":\"790a4b75-6612-4725-837f-81a81af6f55b\"}];\n",
       "  root.Bokeh.embed.embed_items_notebook(docs_json, render_items);\n",
       "\n",
       "  }\n",
       "  if (root.Bokeh !== undefined) {\n",
       "    embed_document(root);\n",
       "  } else {\n",
       "    var attempts = 0;\n",
       "    var timer = setInterval(function(root) {\n",
       "      if (root.Bokeh !== undefined) {\n",
       "        embed_document(root);\n",
       "        clearInterval(timer);\n",
       "      }\n",
       "      attempts++;\n",
       "      if (attempts > 100) {\n",
       "        console.log(\"Bokeh: ERROR: Unable to run BokehJS code because BokehJS library is missing\")\n",
       "        clearInterval(timer);\n",
       "      }\n",
       "    }, 10, root)\n",
       "  }\n",
       "})(window);"
      ],
      "application/vnd.bokehjs_exec.v0+json": ""
     },
     "metadata": {
      "application/vnd.bokehjs_exec.v0+json": {
       "id": "790a4b75-6612-4725-837f-81a81af6f55b"
      }
     },
     "output_type": "display_data"
    }
   ],
   "source": [
    "from bokeh.models.tools import HoverTool\n",
    "from bokeh.sampledata.glucose import data\n",
    "\n",
    "subset = data.loc['2010-10-06']\n",
    "\n",
    "x, y = subset.index.to_series(), subset['glucose']\n",
    "\n",
    "# Basic plot setup\n",
    "p = figure(width=600, height=300, x_axis_type=\"datetime\", title='Hover over points')\n",
    "\n",
    "p.line(x, y, line_dash=\"4 4\", line_width=1, color='gray')\n",
    "\n",
    "cr = p.circle(x, y, size=20,\n",
    "              fill_color=\"grey\", hover_fill_color=\"firebrick\",\n",
    "              fill_alpha=0.05, hover_alpha=0.3,\n",
    "              line_color=None, hover_line_color=\"white\")\n",
    "\n",
    "p.add_tools(HoverTool(tooltips=None, renderers=[cr], mode='hline'))\n",
    "\n",
    "show(p)"
   ]
  },
  {
   "cell_type": "code",
   "execution_count": 8,
   "metadata": {},
   "outputs": [],
   "source": [
    "# EXERCISE: experiment with standard, selected, hover glyph visual properties\n"
   ]
  },
  {
   "cell_type": "markdown",
   "metadata": {},
   "source": [
    "# Axes\n",
    "\n",
    "[Axes](http://bokeh.pydata.org/en/latest/docs/user_guide/styling.html#axes)\n",
    "\n",
    "To style axes, you first must get ahold of `Axis` objects. The simplest way is to use some convenience methods on `Plot`: [axis](http://bokeh.pydata.org/en/latest/docs/reference/plotting.html#bokeh.plotting.Figure.axis), [xaxis](http://bokeh.pydata.org/en/latest/docs/reference/plotting.html#bokeh.plotting.Figure.xaxis), and [yaxis](http://bokeh.pydata.org/en/latest/docs/reference/plotting.html#bokeh.plotting.Figure.yaxis). These methods return lists of axis objects:\n",
    "\n",
    "```\n",
    ">>> p.xaxis\n",
    "[<bokeh.models.axes.LinearAxis at 0x106fa2390>]\n",
    "```\n",
    "However, you can set properties on all the elements of the list as if it was a single object:\n",
    "```\n",
    "p.xaxis.axis_label = \"Temperature\"\n",
    "p.axis.major_label_text_color = \"orange\"\n",
    "```\n",
    "These are referred to as \"splattable\" lists, and tab completion works on them as well. \n"
   ]
  },
  {
   "cell_type": "code",
   "execution_count": 9,
   "metadata": {},
   "outputs": [],
   "source": [
    "# EXERCISE Try out tab completion. Type p.xaxis.<press tab key> to see a list of attributes that can be set.\n",
    "\n"
   ]
  },
  {
   "cell_type": "markdown",
   "metadata": {},
   "source": [
    "* **axis** \n",
    " - [line properties](http://bokeh.pydata.org/en/latest/docs/user_guide/styling.html#line-properties)\n",
    "* **axis_label** \n",
    " - [text properties](http://bokeh.pydata.org/en/latest/docs/user_guide/styling.html#text-properties)\n",
    " - ``axis_label_standoff``\n",
    "* **major_label** \n",
    " - [text properties](http://bokeh.pydata.org/en/latest/docs/user_guide/styling.html#text-properties)\n",
    " - ``orientation``\n",
    "* **major_tick** \n",
    " - [line_properties](http://bokeh.pydata.org/en/latest/docs/user_guide/styling.html#line-properties)\n",
    " - ``major_tick_in`` \n",
    " - ``major_tick_out``\n",
    "* **minor_tick** \n",
    " - [line properties](http://bokeh.pydata.org/en/latest/docs/user_guide/styling.html#line-properties)\n",
    " - ``minor_tick_in``\n",
    " - ``minor_tick_out``\n",
    "\n",
    "As a simple first example, let's change the orientation of the major tick labels on both axes of a plot:"
   ]
  },
  {
   "cell_type": "code",
   "execution_count": 10,
   "metadata": {},
   "outputs": [
    {
     "data": {
      "text/html": [
       "\n",
       "<div class=\"bk-root\">\n",
       "    <div class=\"bk-plotdiv\" id=\"678e4f30-f510-4f0f-ad04-9614862d9f92\"></div>\n",
       "</div>"
      ]
     },
     "metadata": {},
     "output_type": "display_data"
    },
    {
     "data": {
      "application/javascript": [
       "(function(root) {\n",
       "  function embed_document(root) {\n",
       "    \n",
       "  var docs_json = {\"edcbf3cd-1d5c-4060-986c-8b18103cf2ab\":{\"roots\":{\"references\":[{\"attributes\":{},\"id\":\"1ad7b570-605a-4371-bb71-6b255d4f274b\",\"type\":\"PanTool\"},{\"attributes\":{},\"id\":\"f941f73e-cde2-4e72-869c-35e85cf1990b\",\"type\":\"SaveTool\"},{\"attributes\":{\"callback\":null},\"id\":\"e397b3dd-9611-4ab3-9205-78b1a6eb5958\",\"type\":\"DataRange1d\"},{\"attributes\":{\"below\":[{\"id\":\"835eec5a-caad-440f-bfaf-287c763923d6\",\"type\":\"LinearAxis\"}],\"left\":[{\"id\":\"16f18770-eb9a-431b-b998-c0224ea14b82\",\"type\":\"LinearAxis\"}],\"plot_height\":400,\"plot_width\":400,\"renderers\":[{\"id\":\"835eec5a-caad-440f-bfaf-287c763923d6\",\"type\":\"LinearAxis\"},{\"id\":\"bd973aa1-3e25-4656-80e0-99185e3936e9\",\"type\":\"Grid\"},{\"id\":\"16f18770-eb9a-431b-b998-c0224ea14b82\",\"type\":\"LinearAxis\"},{\"id\":\"30443e4e-94b3-4147-a14f-12d59b179cf8\",\"type\":\"Grid\"},{\"id\":\"a2e4e880-ac1c-4b9c-859c-f3f7feec6b94\",\"type\":\"BoxAnnotation\"},{\"id\":\"85d052be-f1c4-4c87-8da5-2125532fbec6\",\"type\":\"GlyphRenderer\"}],\"title\":{\"id\":\"88428047-19d8-4542-bbfe-d4ac20b353b8\",\"type\":\"Title\"},\"toolbar\":{\"id\":\"dbda19e5-c883-48cd-aa28-361ce1bf5206\",\"type\":\"Toolbar\"},\"x_range\":{\"id\":\"e397b3dd-9611-4ab3-9205-78b1a6eb5958\",\"type\":\"DataRange1d\"},\"x_scale\":{\"id\":\"f3a13adf-9aa6-4941-98b1-11f917619960\",\"type\":\"LinearScale\"},\"y_range\":{\"id\":\"9269a784-60ee-4696-980a-558b5b536c26\",\"type\":\"DataRange1d\"},\"y_scale\":{\"id\":\"3160bcce-e4fc-4671-9c67-dc716d62a6f2\",\"type\":\"LinearScale\"}},\"id\":\"f71b3385-1dac-49b7-847c-fd60dcdb3625\",\"subtype\":\"Figure\",\"type\":\"Plot\"},{\"attributes\":{},\"id\":\"6dee2553-93f9-4f04-a864-48f9b7c46a1b\",\"type\":\"WheelZoomTool\"},{\"attributes\":{},\"id\":\"3160bcce-e4fc-4671-9c67-dc716d62a6f2\",\"type\":\"LinearScale\"},{\"attributes\":{\"formatter\":{\"id\":\"cee435f1-6ecd-4714-85c5-6129db88220d\",\"type\":\"BasicTickFormatter\"},\"major_label_orientation\":0.7853981633974483,\"plot\":{\"id\":\"f71b3385-1dac-49b7-847c-fd60dcdb3625\",\"subtype\":\"Figure\",\"type\":\"Plot\"},\"ticker\":{\"id\":\"29e4b0fd-0c5a-46af-bc00-9c73c3852cdb\",\"type\":\"BasicTicker\"}},\"id\":\"835eec5a-caad-440f-bfaf-287c763923d6\",\"type\":\"LinearAxis\"},{\"attributes\":{},\"id\":\"1a340b58-48b6-41ff-ba43-40180239412c\",\"type\":\"HelpTool\"},{\"attributes\":{\"fill_alpha\":{\"value\":0.1},\"fill_color\":{\"value\":\"#1f77b4\"},\"line_alpha\":{\"value\":0.1},\"line_color\":{\"value\":\"#1f77b4\"},\"line_width\":{\"value\":2},\"size\":{\"units\":\"screen\",\"value\":10},\"x\":{\"field\":\"x\"},\"y\":{\"field\":\"y\"}},\"id\":\"e6feb29f-953e-4bb4-b9f8-0af50ed7adda\",\"type\":\"X\"},{\"attributes\":{\"source\":{\"id\":\"46c0097c-877c-4c50-8c45-a8ef0a0e4bbb\",\"type\":\"ColumnDataSource\"}},\"id\":\"c7c5485f-6516-4296-abaf-216e141f2578\",\"type\":\"CDSView\"},{\"attributes\":{},\"id\":\"5116a0de-77ae-44be-b836-532387cc3904\",\"type\":\"ResetTool\"},{\"attributes\":{\"bottom_units\":\"screen\",\"fill_alpha\":{\"value\":0.5},\"fill_color\":{\"value\":\"lightgrey\"},\"left_units\":\"screen\",\"level\":\"overlay\",\"line_alpha\":{\"value\":1.0},\"line_color\":{\"value\":\"black\"},\"line_dash\":[4,4],\"line_width\":{\"value\":2},\"plot\":null,\"render_mode\":\"css\",\"right_units\":\"screen\",\"top_units\":\"screen\"},\"id\":\"a2e4e880-ac1c-4b9c-859c-f3f7feec6b94\",\"type\":\"BoxAnnotation\"},{\"attributes\":{},\"id\":\"29e4b0fd-0c5a-46af-bc00-9c73c3852cdb\",\"type\":\"BasicTicker\"},{\"attributes\":{\"dimension\":1,\"plot\":{\"id\":\"f71b3385-1dac-49b7-847c-fd60dcdb3625\",\"subtype\":\"Figure\",\"type\":\"Plot\"},\"ticker\":{\"id\":\"2e022d38-0be5-44d0-ac1f-78de0cbc47c0\",\"type\":\"BasicTicker\"}},\"id\":\"30443e4e-94b3-4147-a14f-12d59b179cf8\",\"type\":\"Grid\"},{\"attributes\":{\"data_source\":{\"id\":\"46c0097c-877c-4c50-8c45-a8ef0a0e4bbb\",\"type\":\"ColumnDataSource\"},\"glyph\":{\"id\":\"cf37a289-0ff1-4e44-b930-4fccc7c02328\",\"type\":\"X\"},\"hover_glyph\":null,\"muted_glyph\":null,\"nonselection_glyph\":{\"id\":\"e6feb29f-953e-4bb4-b9f8-0af50ed7adda\",\"type\":\"X\"},\"selection_glyph\":null,\"view\":{\"id\":\"c7c5485f-6516-4296-abaf-216e141f2578\",\"type\":\"CDSView\"}},\"id\":\"85d052be-f1c4-4c87-8da5-2125532fbec6\",\"type\":\"GlyphRenderer\"},{\"attributes\":{\"callback\":null,\"column_names\":[\"x\",\"y\"],\"data\":{\"x\":[1,2,3,4,5],\"y\":[2,5,8,2,7]},\"selected\":null,\"selection_policy\":null},\"id\":\"46c0097c-877c-4c50-8c45-a8ef0a0e4bbb\",\"type\":\"ColumnDataSource\"},{\"attributes\":{\"plot\":null,\"text\":\"\"},\"id\":\"88428047-19d8-4542-bbfe-d4ac20b353b8\",\"type\":\"Title\"},{\"attributes\":{\"formatter\":{\"id\":\"2a0140f8-2210-45e7-9fb1-a10aad851fbf\",\"type\":\"BasicTickFormatter\"},\"major_label_orientation\":\"vertical\",\"plot\":{\"id\":\"f71b3385-1dac-49b7-847c-fd60dcdb3625\",\"subtype\":\"Figure\",\"type\":\"Plot\"},\"ticker\":{\"id\":\"2e022d38-0be5-44d0-ac1f-78de0cbc47c0\",\"type\":\"BasicTicker\"}},\"id\":\"16f18770-eb9a-431b-b998-c0224ea14b82\",\"type\":\"LinearAxis\"},{\"attributes\":{},\"id\":\"cee435f1-6ecd-4714-85c5-6129db88220d\",\"type\":\"BasicTickFormatter\"},{\"attributes\":{\"callback\":null},\"id\":\"9269a784-60ee-4696-980a-558b5b536c26\",\"type\":\"DataRange1d\"},{\"attributes\":{\"plot\":{\"id\":\"f71b3385-1dac-49b7-847c-fd60dcdb3625\",\"subtype\":\"Figure\",\"type\":\"Plot\"},\"ticker\":{\"id\":\"29e4b0fd-0c5a-46af-bc00-9c73c3852cdb\",\"type\":\"BasicTicker\"}},\"id\":\"bd973aa1-3e25-4656-80e0-99185e3936e9\",\"type\":\"Grid\"},{\"attributes\":{},\"id\":\"2e022d38-0be5-44d0-ac1f-78de0cbc47c0\",\"type\":\"BasicTicker\"},{\"attributes\":{\"fill_color\":{\"value\":\"#1f77b4\"},\"line_color\":{\"value\":\"#1f77b4\"},\"line_width\":{\"value\":2},\"size\":{\"units\":\"screen\",\"value\":10},\"x\":{\"field\":\"x\"},\"y\":{\"field\":\"y\"}},\"id\":\"cf37a289-0ff1-4e44-b930-4fccc7c02328\",\"type\":\"X\"},{\"attributes\":{\"overlay\":{\"id\":\"a2e4e880-ac1c-4b9c-859c-f3f7feec6b94\",\"type\":\"BoxAnnotation\"}},\"id\":\"3be250cf-f33e-4199-ae61-6c131f583e7f\",\"type\":\"BoxZoomTool\"},{\"attributes\":{},\"id\":\"2a0140f8-2210-45e7-9fb1-a10aad851fbf\",\"type\":\"BasicTickFormatter\"},{\"attributes\":{},\"id\":\"f3a13adf-9aa6-4941-98b1-11f917619960\",\"type\":\"LinearScale\"},{\"attributes\":{\"active_drag\":\"auto\",\"active_inspect\":\"auto\",\"active_scroll\":\"auto\",\"active_tap\":\"auto\",\"tools\":[{\"id\":\"1ad7b570-605a-4371-bb71-6b255d4f274b\",\"type\":\"PanTool\"},{\"id\":\"6dee2553-93f9-4f04-a864-48f9b7c46a1b\",\"type\":\"WheelZoomTool\"},{\"id\":\"3be250cf-f33e-4199-ae61-6c131f583e7f\",\"type\":\"BoxZoomTool\"},{\"id\":\"f941f73e-cde2-4e72-869c-35e85cf1990b\",\"type\":\"SaveTool\"},{\"id\":\"5116a0de-77ae-44be-b836-532387cc3904\",\"type\":\"ResetTool\"},{\"id\":\"1a340b58-48b6-41ff-ba43-40180239412c\",\"type\":\"HelpTool\"}]},\"id\":\"dbda19e5-c883-48cd-aa28-361ce1bf5206\",\"type\":\"Toolbar\"}],\"root_ids\":[\"f71b3385-1dac-49b7-847c-fd60dcdb3625\"]},\"title\":\"Bokeh Application\",\"version\":\"0.12.15\"}};\n",
       "  var render_items = [{\"docid\":\"edcbf3cd-1d5c-4060-986c-8b18103cf2ab\",\"elementid\":\"678e4f30-f510-4f0f-ad04-9614862d9f92\",\"modelid\":\"f71b3385-1dac-49b7-847c-fd60dcdb3625\"}];\n",
       "  root.Bokeh.embed.embed_items_notebook(docs_json, render_items);\n",
       "\n",
       "  }\n",
       "  if (root.Bokeh !== undefined) {\n",
       "    embed_document(root);\n",
       "  } else {\n",
       "    var attempts = 0;\n",
       "    var timer = setInterval(function(root) {\n",
       "      if (root.Bokeh !== undefined) {\n",
       "        embed_document(root);\n",
       "        clearInterval(timer);\n",
       "      }\n",
       "      attempts++;\n",
       "      if (attempts > 100) {\n",
       "        console.log(\"Bokeh: ERROR: Unable to run BokehJS code because BokehJS library is missing\")\n",
       "        clearInterval(timer);\n",
       "      }\n",
       "    }, 10, root)\n",
       "  }\n",
       "})(window);"
      ],
      "application/vnd.bokehjs_exec.v0+json": ""
     },
     "metadata": {
      "application/vnd.bokehjs_exec.v0+json": {
       "id": "f71b3385-1dac-49b7-847c-fd60dcdb3625"
      }
     },
     "output_type": "display_data"
    }
   ],
   "source": [
    "from math import pi\n",
    "\n",
    "p = figure(plot_width=400, plot_height=400)\n",
    "p.x([1,2,3,4,5], [2,5,8,2,7], size=10, line_width=2)\n",
    "\n",
    "p.xaxis.major_label_orientation = pi/4\n",
    "p.yaxis.major_label_orientation = \"vertical\"\n",
    "\n",
    "show(p)"
   ]
  },
  {
   "cell_type": "markdown",
   "metadata": {},
   "source": [
    "The next example shows customizations on several of the different Axis properties at once:"
   ]
  },
  {
   "cell_type": "code",
   "execution_count": 11,
   "metadata": {},
   "outputs": [
    {
     "data": {
      "text/html": [
       "\n",
       "<div class=\"bk-root\">\n",
       "    <div class=\"bk-plotdiv\" id=\"d7bcb406-6bfe-429a-aeb5-43cdb2634cd4\"></div>\n",
       "</div>"
      ]
     },
     "metadata": {},
     "output_type": "display_data"
    },
    {
     "data": {
      "application/javascript": [
       "(function(root) {\n",
       "  function embed_document(root) {\n",
       "    \n",
       "  var docs_json = {\"79a1ac0a-78e6-41c7-bccb-8f8d16faeff5\":{\"roots\":{\"references\":[{\"attributes\":{},\"id\":\"92643950-bb55-4365-bc56-03b1f2582ac5\",\"type\":\"SaveTool\"},{\"attributes\":{},\"id\":\"6bde96ff-d63d-42f8-ae49-52e6ff5c7b85\",\"type\":\"HelpTool\"},{\"attributes\":{},\"id\":\"0a227303-4c2e-473a-97cd-6c6fcccae22a\",\"type\":\"BasicTickFormatter\"},{\"attributes\":{},\"id\":\"5aa6b6a5-35ce-469b-bf23-9c6ff7b42642\",\"type\":\"ResetTool\"},{\"attributes\":{\"callback\":null},\"id\":\"4d451374-4c12-4669-af93-0a03d3c9eca4\",\"type\":\"DataRange1d\"},{\"attributes\":{},\"id\":\"b9dab7d1-07b7-4b6a-b9cf-bb158895371b\",\"type\":\"LinearScale\"},{\"attributes\":{},\"id\":\"ffba30c6-2342-4b43-8933-8380c238286d\",\"type\":\"LinearScale\"},{\"attributes\":{\"plot\":{\"id\":\"aa33580f-34aa-4701-a914-b46f0b89157c\",\"subtype\":\"Figure\",\"type\":\"Plot\"},\"ticker\":{\"id\":\"fb277f36-7801-4b00-a932-4a71e1ac6ebd\",\"type\":\"BasicTicker\"}},\"id\":\"158bcb30-5ae9-417a-946e-4b8ac7ccc475\",\"type\":\"Grid\"},{\"attributes\":{\"axis_label\":\"Temp\",\"axis_line_color\":{\"value\":\"red\"},\"axis_line_width\":{\"value\":3},\"formatter\":{\"id\":\"36200c2c-e259-4c57-8096-5cd53f8a4fd0\",\"type\":\"BasicTickFormatter\"},\"minor_tick_in\":-3,\"minor_tick_out\":6,\"plot\":{\"id\":\"aa33580f-34aa-4701-a914-b46f0b89157c\",\"subtype\":\"Figure\",\"type\":\"Plot\"},\"ticker\":{\"id\":\"fb277f36-7801-4b00-a932-4a71e1ac6ebd\",\"type\":\"BasicTicker\"}},\"id\":\"bd69c4ff-68a1-4888-98e1-2a5828c96d49\",\"type\":\"LinearAxis\"},{\"attributes\":{},\"id\":\"fb277f36-7801-4b00-a932-4a71e1ac6ebd\",\"type\":\"BasicTicker\"},{\"attributes\":{\"axis_label\":\"Pressure\",\"formatter\":{\"id\":\"0a227303-4c2e-473a-97cd-6c6fcccae22a\",\"type\":\"BasicTickFormatter\"},\"major_label_orientation\":\"vertical\",\"major_label_text_color\":{\"value\":\"orange\"},\"minor_tick_in\":-3,\"minor_tick_out\":6,\"plot\":{\"id\":\"aa33580f-34aa-4701-a914-b46f0b89157c\",\"subtype\":\"Figure\",\"type\":\"Plot\"},\"ticker\":{\"id\":\"d1c43c06-2daa-4fac-9008-26576b6affb0\",\"type\":\"BasicTicker\"}},\"id\":\"b3d148c2-b263-4122-a6a5-bdb592c40f0c\",\"type\":\"LinearAxis\"},{\"attributes\":{\"below\":[{\"id\":\"bd69c4ff-68a1-4888-98e1-2a5828c96d49\",\"type\":\"LinearAxis\"}],\"left\":[{\"id\":\"b3d148c2-b263-4122-a6a5-bdb592c40f0c\",\"type\":\"LinearAxis\"}],\"plot_height\":400,\"plot_width\":400,\"renderers\":[{\"id\":\"bd69c4ff-68a1-4888-98e1-2a5828c96d49\",\"type\":\"LinearAxis\"},{\"id\":\"158bcb30-5ae9-417a-946e-4b8ac7ccc475\",\"type\":\"Grid\"},{\"id\":\"b3d148c2-b263-4122-a6a5-bdb592c40f0c\",\"type\":\"LinearAxis\"},{\"id\":\"ff7f92d1-698d-4a5d-ae73-732367918242\",\"type\":\"Grid\"},{\"id\":\"f334d1d9-a72f-4251-b2ad-c9a0abe11679\",\"type\":\"BoxAnnotation\"},{\"id\":\"b3d89f0b-0746-4bc3-9319-f78ace9aab49\",\"type\":\"GlyphRenderer\"}],\"title\":{\"id\":\"052abec4-1af7-4b03-9566-6016c10245b7\",\"type\":\"Title\"},\"toolbar\":{\"id\":\"e95b2177-cfe5-47f6-9033-ad79352f568e\",\"type\":\"Toolbar\"},\"x_range\":{\"id\":\"00875ce0-0428-4479-9e46-344f1acb272b\",\"type\":\"DataRange1d\"},\"x_scale\":{\"id\":\"b9dab7d1-07b7-4b6a-b9cf-bb158895371b\",\"type\":\"LinearScale\"},\"y_range\":{\"id\":\"4d451374-4c12-4669-af93-0a03d3c9eca4\",\"type\":\"DataRange1d\"},\"y_scale\":{\"id\":\"ffba30c6-2342-4b43-8933-8380c238286d\",\"type\":\"LinearScale\"}},\"id\":\"aa33580f-34aa-4701-a914-b46f0b89157c\",\"subtype\":\"Figure\",\"type\":\"Plot\"},{\"attributes\":{\"fill_color\":{\"value\":\"olive\"},\"line_color\":{\"value\":\"olive\"},\"size\":{\"units\":\"screen\",\"value\":12},\"x\":{\"field\":\"x\"},\"y\":{\"field\":\"y\"}},\"id\":\"ac7cc850-cb84-41e9-8eda-57a287703276\",\"type\":\"Asterisk\"},{\"attributes\":{},\"id\":\"d1c43c06-2daa-4fac-9008-26576b6affb0\",\"type\":\"BasicTicker\"},{\"attributes\":{\"fill_alpha\":{\"value\":0.1},\"fill_color\":{\"value\":\"#1f77b4\"},\"line_alpha\":{\"value\":0.1},\"line_color\":{\"value\":\"#1f77b4\"},\"size\":{\"units\":\"screen\",\"value\":12},\"x\":{\"field\":\"x\"},\"y\":{\"field\":\"y\"}},\"id\":\"00341775-3346-413a-9855-ab0180578f78\",\"type\":\"Asterisk\"},{\"attributes\":{\"source\":{\"id\":\"20fbed37-f04c-4579-af3e-0ccc687a1011\",\"type\":\"ColumnDataSource\"}},\"id\":\"73605c35-6550-4a25-b3c5-e58a05ab5c62\",\"type\":\"CDSView\"},{\"attributes\":{\"active_drag\":\"auto\",\"active_inspect\":\"auto\",\"active_scroll\":\"auto\",\"active_tap\":\"auto\",\"tools\":[{\"id\":\"9c960718-3849-4cd2-a9d7-97cb2de7ebda\",\"type\":\"PanTool\"},{\"id\":\"aab3f1a4-c3cd-4673-8f26-288501890a75\",\"type\":\"WheelZoomTool\"},{\"id\":\"c894cb47-dbe6-4b44-a12c-bb911a9ca438\",\"type\":\"BoxZoomTool\"},{\"id\":\"92643950-bb55-4365-bc56-03b1f2582ac5\",\"type\":\"SaveTool\"},{\"id\":\"5aa6b6a5-35ce-469b-bf23-9c6ff7b42642\",\"type\":\"ResetTool\"},{\"id\":\"6bde96ff-d63d-42f8-ae49-52e6ff5c7b85\",\"type\":\"HelpTool\"}]},\"id\":\"e95b2177-cfe5-47f6-9033-ad79352f568e\",\"type\":\"Toolbar\"},{\"attributes\":{},\"id\":\"36200c2c-e259-4c57-8096-5cd53f8a4fd0\",\"type\":\"BasicTickFormatter\"},{\"attributes\":{\"dimension\":1,\"plot\":{\"id\":\"aa33580f-34aa-4701-a914-b46f0b89157c\",\"subtype\":\"Figure\",\"type\":\"Plot\"},\"ticker\":{\"id\":\"d1c43c06-2daa-4fac-9008-26576b6affb0\",\"type\":\"BasicTicker\"}},\"id\":\"ff7f92d1-698d-4a5d-ae73-732367918242\",\"type\":\"Grid\"},{\"attributes\":{\"bottom_units\":\"screen\",\"fill_alpha\":{\"value\":0.5},\"fill_color\":{\"value\":\"lightgrey\"},\"left_units\":\"screen\",\"level\":\"overlay\",\"line_alpha\":{\"value\":1.0},\"line_color\":{\"value\":\"black\"},\"line_dash\":[4,4],\"line_width\":{\"value\":2},\"plot\":null,\"render_mode\":\"css\",\"right_units\":\"screen\",\"top_units\":\"screen\"},\"id\":\"f334d1d9-a72f-4251-b2ad-c9a0abe11679\",\"type\":\"BoxAnnotation\"},{\"attributes\":{\"callback\":null},\"id\":\"00875ce0-0428-4479-9e46-344f1acb272b\",\"type\":\"DataRange1d\"},{\"attributes\":{},\"id\":\"9c960718-3849-4cd2-a9d7-97cb2de7ebda\",\"type\":\"PanTool\"},{\"attributes\":{\"data_source\":{\"id\":\"20fbed37-f04c-4579-af3e-0ccc687a1011\",\"type\":\"ColumnDataSource\"},\"glyph\":{\"id\":\"ac7cc850-cb84-41e9-8eda-57a287703276\",\"type\":\"Asterisk\"},\"hover_glyph\":null,\"muted_glyph\":null,\"nonselection_glyph\":{\"id\":\"00341775-3346-413a-9855-ab0180578f78\",\"type\":\"Asterisk\"},\"selection_glyph\":null,\"view\":{\"id\":\"73605c35-6550-4a25-b3c5-e58a05ab5c62\",\"type\":\"CDSView\"}},\"id\":\"b3d89f0b-0746-4bc3-9319-f78ace9aab49\",\"type\":\"GlyphRenderer\"},{\"attributes\":{\"plot\":null,\"text\":\"\"},\"id\":\"052abec4-1af7-4b03-9566-6016c10245b7\",\"type\":\"Title\"},{\"attributes\":{\"callback\":null,\"column_names\":[\"x\",\"y\"],\"data\":{\"x\":[1,2,3,4,5],\"y\":[2,5,8,2,7]},\"selected\":null,\"selection_policy\":null},\"id\":\"20fbed37-f04c-4579-af3e-0ccc687a1011\",\"type\":\"ColumnDataSource\"},{\"attributes\":{},\"id\":\"aab3f1a4-c3cd-4673-8f26-288501890a75\",\"type\":\"WheelZoomTool\"},{\"attributes\":{\"overlay\":{\"id\":\"f334d1d9-a72f-4251-b2ad-c9a0abe11679\",\"type\":\"BoxAnnotation\"}},\"id\":\"c894cb47-dbe6-4b44-a12c-bb911a9ca438\",\"type\":\"BoxZoomTool\"}],\"root_ids\":[\"aa33580f-34aa-4701-a914-b46f0b89157c\"]},\"title\":\"Bokeh Application\",\"version\":\"0.12.15\"}};\n",
       "  var render_items = [{\"docid\":\"79a1ac0a-78e6-41c7-bccb-8f8d16faeff5\",\"elementid\":\"d7bcb406-6bfe-429a-aeb5-43cdb2634cd4\",\"modelid\":\"aa33580f-34aa-4701-a914-b46f0b89157c\"}];\n",
       "  root.Bokeh.embed.embed_items_notebook(docs_json, render_items);\n",
       "\n",
       "  }\n",
       "  if (root.Bokeh !== undefined) {\n",
       "    embed_document(root);\n",
       "  } else {\n",
       "    var attempts = 0;\n",
       "    var timer = setInterval(function(root) {\n",
       "      if (root.Bokeh !== undefined) {\n",
       "        embed_document(root);\n",
       "        clearInterval(timer);\n",
       "      }\n",
       "      attempts++;\n",
       "      if (attempts > 100) {\n",
       "        console.log(\"Bokeh: ERROR: Unable to run BokehJS code because BokehJS library is missing\")\n",
       "        clearInterval(timer);\n",
       "      }\n",
       "    }, 10, root)\n",
       "  }\n",
       "})(window);"
      ],
      "application/vnd.bokehjs_exec.v0+json": ""
     },
     "metadata": {
      "application/vnd.bokehjs_exec.v0+json": {
       "id": "aa33580f-34aa-4701-a914-b46f0b89157c"
      }
     },
     "output_type": "display_data"
    }
   ],
   "source": [
    "p = figure(plot_width=400, plot_height=400)\n",
    "p.asterisk([1,2,3,4,5], [2,5,8,2,7], size=12, color=\"olive\")\n",
    "\n",
    "# change just some things about the x-axes\n",
    "p.xaxis.axis_label = \"Temp\"\n",
    "p.xaxis.axis_line_width = 3\n",
    "p.xaxis.axis_line_color = \"red\"\n",
    "\n",
    "# change just some things about the y-axes\n",
    "p.yaxis.axis_label = \"Pressure\"\n",
    "p.yaxis.major_label_text_color = \"orange\"\n",
    "p.yaxis.major_label_orientation = \"vertical\"\n",
    "\n",
    "# change things on all axes\n",
    "p.axis.minor_tick_in = -3\n",
    "p.axis.minor_tick_out = 6\n",
    "\n",
    "show(p)"
   ]
  },
  {
   "cell_type": "code",
   "execution_count": 12,
   "metadata": {},
   "outputs": [],
   "source": [
    "# EXERCISE Create a plot of your own and customize several axis properties\n"
   ]
  },
  {
   "cell_type": "markdown",
   "metadata": {},
   "source": [
    "There are further customizations possible. See the [User Guide](http://bokeh.pydata.org/en/latest/docs/user_guide.html) for more information on topics such as [tick label formatting](http://bokeh.pydata.org/en/latest/docs/user_guide/styling.html#tick-label-formats) or [limiting axis bounds](http://bokeh.pydata.org/en/latest/docs/user_guide/styling.html#bounds)."
   ]
  },
  {
   "cell_type": "markdown",
   "metadata": {},
   "source": [
    "# Grids\n",
    "\n",
    "[Grids](http://bokeh.pydata.org/en/latest/docs/user_guide/styling.html#grids)\n",
    "\n",
    "* **grid** [line properties](http://bokeh.pydata.org/en/latest/docs/user_guide/styling.html#line-properties)\n",
    "* **band** [fill properties]()"
   ]
  },
  {
   "cell_type": "code",
   "execution_count": 13,
   "metadata": {},
   "outputs": [
    {
     "data": {
      "text/html": [
       "\n",
       "<div class=\"bk-root\">\n",
       "    <div class=\"bk-plotdiv\" id=\"56d6ed0c-e812-43fa-89e7-77390877eb1e\"></div>\n",
       "</div>"
      ]
     },
     "metadata": {},
     "output_type": "display_data"
    },
    {
     "data": {
      "application/javascript": [
       "(function(root) {\n",
       "  function embed_document(root) {\n",
       "    \n",
       "  var docs_json = {\"d785ac3e-8629-4f59-9854-ee0962d28d69\":{\"roots\":{\"references\":[{\"attributes\":{\"dimension\":1,\"grid_line_alpha\":{\"value\":0.5},\"grid_line_dash\":[6,4],\"plot\":{\"id\":\"a8aa2046-9f66-4b95-9a14-2ba1de042699\",\"subtype\":\"Figure\",\"type\":\"Plot\"},\"ticker\":{\"id\":\"15489206-4bdc-40e6-a3dd-fa5d98d1f09c\",\"type\":\"BasicTicker\"}},\"id\":\"36375894-e455-4404-8745-ab967b184b99\",\"type\":\"Grid\"},{\"attributes\":{\"formatter\":{\"id\":\"032000fa-20d5-4341-940a-f642d7bebc79\",\"type\":\"BasicTickFormatter\"},\"plot\":{\"id\":\"a8aa2046-9f66-4b95-9a14-2ba1de042699\",\"subtype\":\"Figure\",\"type\":\"Plot\"},\"ticker\":{\"id\":\"1ee2d298-8b01-4f39-bea8-c39f26bae06a\",\"type\":\"BasicTicker\"}},\"id\":\"3ac5c5c6-351f-47d0-8614-0b4aa01bd029\",\"type\":\"LinearAxis\"},{\"attributes\":{\"callback\":null},\"id\":\"26b9eae2-25cc-4f7e-b465-af78165b849d\",\"type\":\"DataRange1d\"},{\"attributes\":{},\"id\":\"15489206-4bdc-40e6-a3dd-fa5d98d1f09c\",\"type\":\"BasicTicker\"},{\"attributes\":{\"bottom_units\":\"screen\",\"fill_alpha\":{\"value\":0.5},\"fill_color\":{\"value\":\"lightgrey\"},\"left_units\":\"screen\",\"level\":\"overlay\",\"line_alpha\":{\"value\":1.0},\"line_color\":{\"value\":\"black\"},\"line_dash\":[4,4],\"line_width\":{\"value\":2},\"plot\":null,\"render_mode\":\"css\",\"right_units\":\"screen\",\"top_units\":\"screen\"},\"id\":\"6a707f29-6936-4f9a-9bb5-85f8209cbc85\",\"type\":\"BoxAnnotation\"},{\"attributes\":{\"active_drag\":\"auto\",\"active_inspect\":\"auto\",\"active_scroll\":\"auto\",\"active_tap\":\"auto\",\"tools\":[{\"id\":\"23c94aa4-60d7-49c0-b15b-6c21a2668444\",\"type\":\"PanTool\"},{\"id\":\"e8bcd37f-c51b-49fd-9f22-0e3df5d682d6\",\"type\":\"WheelZoomTool\"},{\"id\":\"28b387c8-7b63-4ea5-9eb6-9f4e706aa199\",\"type\":\"BoxZoomTool\"},{\"id\":\"3aab973c-c496-41ca-a23a-9c914cfe257b\",\"type\":\"SaveTool\"},{\"id\":\"99872c8f-af33-41bc-b8bd-33c0f27118cc\",\"type\":\"ResetTool\"},{\"id\":\"4f7cb9fa-9052-466b-a291-b0b9d1350585\",\"type\":\"HelpTool\"}]},\"id\":\"0a7810c5-4b4c-41f8-b680-9a18a208af10\",\"type\":\"Toolbar\"},{\"attributes\":{},\"id\":\"e4d64777-ebc4-45f5-a6d3-737cb77fcc01\",\"type\":\"LinearScale\"},{\"attributes\":{\"callback\":null},\"id\":\"25ba42a6-f0e2-43d0-8718-28dce4734378\",\"type\":\"DataRange1d\"},{\"attributes\":{},\"id\":\"41acf9a1-4c7a-44f7-9dfd-0972adc8f491\",\"type\":\"LinearScale\"},{\"attributes\":{\"fill_alpha\":{\"value\":0.1},\"fill_color\":{\"value\":\"#1f77b4\"},\"line_alpha\":{\"value\":0.1},\"line_color\":{\"value\":\"#1f77b4\"},\"size\":{\"units\":\"screen\",\"value\":10},\"x\":{\"field\":\"x\"},\"y\":{\"field\":\"y\"}},\"id\":\"3be1ec3f-9f72-497a-9018-5a2bfb380297\",\"type\":\"Circle\"},{\"attributes\":{},\"id\":\"1ee2d298-8b01-4f39-bea8-c39f26bae06a\",\"type\":\"BasicTicker\"},{\"attributes\":{\"fill_color\":{\"value\":\"#1f77b4\"},\"line_color\":{\"value\":\"#1f77b4\"},\"size\":{\"units\":\"screen\",\"value\":10},\"x\":{\"field\":\"x\"},\"y\":{\"field\":\"y\"}},\"id\":\"922b0b91-e27b-430c-a821-de6b6b9ef038\",\"type\":\"Circle\"},{\"attributes\":{\"grid_line_color\":{\"value\":null},\"plot\":{\"id\":\"a8aa2046-9f66-4b95-9a14-2ba1de042699\",\"subtype\":\"Figure\",\"type\":\"Plot\"},\"ticker\":{\"id\":\"1ee2d298-8b01-4f39-bea8-c39f26bae06a\",\"type\":\"BasicTicker\"}},\"id\":\"e909e151-e742-49e7-a078-c682399c4b5f\",\"type\":\"Grid\"},{\"attributes\":{\"data_source\":{\"id\":\"8ecc5b41-7f28-4150-846c-462dacbf6163\",\"type\":\"ColumnDataSource\"},\"glyph\":{\"id\":\"922b0b91-e27b-430c-a821-de6b6b9ef038\",\"type\":\"Circle\"},\"hover_glyph\":null,\"muted_glyph\":null,\"nonselection_glyph\":{\"id\":\"3be1ec3f-9f72-497a-9018-5a2bfb380297\",\"type\":\"Circle\"},\"selection_glyph\":null,\"view\":{\"id\":\"65291341-5ff4-4d77-bde6-e3a2e1fc7aa7\",\"type\":\"CDSView\"}},\"id\":\"43b1bcd5-2c29-413e-9dc4-130ab87efa63\",\"type\":\"GlyphRenderer\"},{\"attributes\":{\"source\":{\"id\":\"8ecc5b41-7f28-4150-846c-462dacbf6163\",\"type\":\"ColumnDataSource\"}},\"id\":\"65291341-5ff4-4d77-bde6-e3a2e1fc7aa7\",\"type\":\"CDSView\"},{\"attributes\":{},\"id\":\"4f7cb9fa-9052-466b-a291-b0b9d1350585\",\"type\":\"HelpTool\"},{\"attributes\":{},\"id\":\"23c94aa4-60d7-49c0-b15b-6c21a2668444\",\"type\":\"PanTool\"},{\"attributes\":{\"plot\":null,\"text\":\"\"},\"id\":\"61aefc6c-67eb-4e0b-bcac-d5ee0f53ab58\",\"type\":\"Title\"},{\"attributes\":{},\"id\":\"9f78c9f0-53ec-4763-9b9d-e8adf4464501\",\"type\":\"BasicTickFormatter\"},{\"attributes\":{\"callback\":null,\"column_names\":[\"x\",\"y\"],\"data\":{\"x\":[1,2,3,4,5],\"y\":[2,5,8,2,7]},\"selected\":null,\"selection_policy\":null},\"id\":\"8ecc5b41-7f28-4150-846c-462dacbf6163\",\"type\":\"ColumnDataSource\"},{\"attributes\":{},\"id\":\"e8bcd37f-c51b-49fd-9f22-0e3df5d682d6\",\"type\":\"WheelZoomTool\"},{\"attributes\":{\"formatter\":{\"id\":\"9f78c9f0-53ec-4763-9b9d-e8adf4464501\",\"type\":\"BasicTickFormatter\"},\"plot\":{\"id\":\"a8aa2046-9f66-4b95-9a14-2ba1de042699\",\"subtype\":\"Figure\",\"type\":\"Plot\"},\"ticker\":{\"id\":\"15489206-4bdc-40e6-a3dd-fa5d98d1f09c\",\"type\":\"BasicTicker\"}},\"id\":\"d695abc1-7ae8-483f-8f2f-052abce262df\",\"type\":\"LinearAxis\"},{\"attributes\":{},\"id\":\"99872c8f-af33-41bc-b8bd-33c0f27118cc\",\"type\":\"ResetTool\"},{\"attributes\":{\"below\":[{\"id\":\"3ac5c5c6-351f-47d0-8614-0b4aa01bd029\",\"type\":\"LinearAxis\"}],\"left\":[{\"id\":\"d695abc1-7ae8-483f-8f2f-052abce262df\",\"type\":\"LinearAxis\"}],\"plot_height\":400,\"plot_width\":400,\"renderers\":[{\"id\":\"3ac5c5c6-351f-47d0-8614-0b4aa01bd029\",\"type\":\"LinearAxis\"},{\"id\":\"e909e151-e742-49e7-a078-c682399c4b5f\",\"type\":\"Grid\"},{\"id\":\"d695abc1-7ae8-483f-8f2f-052abce262df\",\"type\":\"LinearAxis\"},{\"id\":\"36375894-e455-4404-8745-ab967b184b99\",\"type\":\"Grid\"},{\"id\":\"6a707f29-6936-4f9a-9bb5-85f8209cbc85\",\"type\":\"BoxAnnotation\"},{\"id\":\"43b1bcd5-2c29-413e-9dc4-130ab87efa63\",\"type\":\"GlyphRenderer\"}],\"title\":{\"id\":\"61aefc6c-67eb-4e0b-bcac-d5ee0f53ab58\",\"type\":\"Title\"},\"toolbar\":{\"id\":\"0a7810c5-4b4c-41f8-b680-9a18a208af10\",\"type\":\"Toolbar\"},\"x_range\":{\"id\":\"26b9eae2-25cc-4f7e-b465-af78165b849d\",\"type\":\"DataRange1d\"},\"x_scale\":{\"id\":\"41acf9a1-4c7a-44f7-9dfd-0972adc8f491\",\"type\":\"LinearScale\"},\"y_range\":{\"id\":\"25ba42a6-f0e2-43d0-8718-28dce4734378\",\"type\":\"DataRange1d\"},\"y_scale\":{\"id\":\"e4d64777-ebc4-45f5-a6d3-737cb77fcc01\",\"type\":\"LinearScale\"}},\"id\":\"a8aa2046-9f66-4b95-9a14-2ba1de042699\",\"subtype\":\"Figure\",\"type\":\"Plot\"},{\"attributes\":{},\"id\":\"3aab973c-c496-41ca-a23a-9c914cfe257b\",\"type\":\"SaveTool\"},{\"attributes\":{},\"id\":\"032000fa-20d5-4341-940a-f642d7bebc79\",\"type\":\"BasicTickFormatter\"},{\"attributes\":{\"overlay\":{\"id\":\"6a707f29-6936-4f9a-9bb5-85f8209cbc85\",\"type\":\"BoxAnnotation\"}},\"id\":\"28b387c8-7b63-4ea5-9eb6-9f4e706aa199\",\"type\":\"BoxZoomTool\"}],\"root_ids\":[\"a8aa2046-9f66-4b95-9a14-2ba1de042699\"]},\"title\":\"Bokeh Application\",\"version\":\"0.12.15\"}};\n",
       "  var render_items = [{\"docid\":\"d785ac3e-8629-4f59-9854-ee0962d28d69\",\"elementid\":\"56d6ed0c-e812-43fa-89e7-77390877eb1e\",\"modelid\":\"a8aa2046-9f66-4b95-9a14-2ba1de042699\"}];\n",
       "  root.Bokeh.embed.embed_items_notebook(docs_json, render_items);\n",
       "\n",
       "  }\n",
       "  if (root.Bokeh !== undefined) {\n",
       "    embed_document(root);\n",
       "  } else {\n",
       "    var attempts = 0;\n",
       "    var timer = setInterval(function(root) {\n",
       "      if (root.Bokeh !== undefined) {\n",
       "        embed_document(root);\n",
       "        clearInterval(timer);\n",
       "      }\n",
       "      attempts++;\n",
       "      if (attempts > 100) {\n",
       "        console.log(\"Bokeh: ERROR: Unable to run BokehJS code because BokehJS library is missing\")\n",
       "        clearInterval(timer);\n",
       "      }\n",
       "    }, 10, root)\n",
       "  }\n",
       "})(window);"
      ],
      "application/vnd.bokehjs_exec.v0+json": ""
     },
     "metadata": {
      "application/vnd.bokehjs_exec.v0+json": {
       "id": "a8aa2046-9f66-4b95-9a14-2ba1de042699"
      }
     },
     "output_type": "display_data"
    }
   ],
   "source": [
    "p = figure(plot_width=400, plot_height=400)\n",
    "p.circle([1,2,3,4,5], [2,5,8,2,7], size=10)\n",
    "\n",
    "# change just some things about the x-grid\n",
    "p.xgrid.grid_line_color = None\n",
    "\n",
    "# change just some things about the y-grid\n",
    "p.ygrid.grid_line_alpha = 0.5\n",
    "p.ygrid.grid_line_dash = [6, 4]\n",
    "\n",
    "show(p)"
   ]
  },
  {
   "cell_type": "code",
   "execution_count": 14,
   "metadata": {},
   "outputs": [
    {
     "data": {
      "text/html": [
       "\n",
       "<div class=\"bk-root\">\n",
       "    <div class=\"bk-plotdiv\" id=\"8804aa70-09cf-4c09-882d-2c6774e9c598\"></div>\n",
       "</div>"
      ]
     },
     "metadata": {},
     "output_type": "display_data"
    },
    {
     "data": {
      "application/javascript": [
       "(function(root) {\n",
       "  function embed_document(root) {\n",
       "    \n",
       "  var docs_json = {\"1c85c827-97bb-4879-afe3-d5a1d2bd3363\":{\"roots\":{\"references\":[{\"attributes\":{\"grid_line_color\":{\"value\":null},\"plot\":{\"id\":\"9b409f23-fde8-4a18-887c-a8d93e00d8f9\",\"subtype\":\"Figure\",\"type\":\"Plot\"},\"ticker\":{\"id\":\"59cb1807-2104-4c6b-992d-59eecfb65bc6\",\"type\":\"BasicTicker\"}},\"id\":\"d52cd779-c844-420c-8674-7337caea4cef\",\"type\":\"Grid\"},{\"attributes\":{},\"id\":\"0226473b-8e8e-4000-b011-4e41e8db819d\",\"type\":\"PanTool\"},{\"attributes\":{\"formatter\":{\"id\":\"3416e9cc-5eea-4b63-bf92-aa663037cb96\",\"type\":\"BasicTickFormatter\"},\"plot\":{\"id\":\"9b409f23-fde8-4a18-887c-a8d93e00d8f9\",\"subtype\":\"Figure\",\"type\":\"Plot\"},\"ticker\":{\"id\":\"e00cb0a3-1dc3-4fa1-9852-9b8be262a07c\",\"type\":\"BasicTicker\"}},\"id\":\"884e54c5-33b5-48c0-903a-3ef4e2218755\",\"type\":\"LinearAxis\"},{\"attributes\":{\"fill_alpha\":{\"value\":0.1},\"fill_color\":{\"value\":\"#1f77b4\"},\"line_alpha\":{\"value\":0.1},\"line_color\":{\"value\":\"#1f77b4\"},\"size\":{\"units\":\"screen\",\"value\":10},\"x\":{\"field\":\"x\"},\"y\":{\"field\":\"y\"}},\"id\":\"59c9768c-1075-4acc-a74e-b42db76bbbf2\",\"type\":\"Circle\"},{\"attributes\":{},\"id\":\"ebbfb41b-f382-4d6a-bee4-676aa5d92d00\",\"type\":\"HelpTool\"},{\"attributes\":{\"callback\":null,\"column_names\":[\"x\",\"y\"],\"data\":{\"x\":[1,2,3,4,5],\"y\":[2,5,8,2,7]},\"selected\":null,\"selection_policy\":null},\"id\":\"a8d48067-09d5-4b41-bfcc-cd544d8ed815\",\"type\":\"ColumnDataSource\"},{\"attributes\":{\"formatter\":{\"id\":\"2fc361cb-9ddb-4647-b447-4418c29aba7a\",\"type\":\"BasicTickFormatter\"},\"plot\":{\"id\":\"9b409f23-fde8-4a18-887c-a8d93e00d8f9\",\"subtype\":\"Figure\",\"type\":\"Plot\"},\"ticker\":{\"id\":\"59cb1807-2104-4c6b-992d-59eecfb65bc6\",\"type\":\"BasicTicker\"}},\"id\":\"6a3f5ecb-be8a-4eae-ba30-ee30c981cdcd\",\"type\":\"LinearAxis\"},{\"attributes\":{\"overlay\":{\"id\":\"9ba367bd-6e04-419d-a1ed-8f439b09c0aa\",\"type\":\"BoxAnnotation\"}},\"id\":\"2584f6e3-8708-4eae-8544-d80e5ee963ff\",\"type\":\"BoxZoomTool\"},{\"attributes\":{},\"id\":\"b022eba3-5dc9-48d0-950e-eb9f364a989a\",\"type\":\"WheelZoomTool\"},{\"attributes\":{\"data_source\":{\"id\":\"a8d48067-09d5-4b41-bfcc-cd544d8ed815\",\"type\":\"ColumnDataSource\"},\"glyph\":{\"id\":\"1c436c69-1433-4401-b4ac-2b6da766dadb\",\"type\":\"Circle\"},\"hover_glyph\":null,\"muted_glyph\":null,\"nonselection_glyph\":{\"id\":\"59c9768c-1075-4acc-a74e-b42db76bbbf2\",\"type\":\"Circle\"},\"selection_glyph\":null,\"view\":{\"id\":\"2adec7fe-bf61-4687-ad6a-e85ba4eb4245\",\"type\":\"CDSView\"}},\"id\":\"6ea72e42-c474-4d7c-9a45-22e028fa6b56\",\"type\":\"GlyphRenderer\"},{\"attributes\":{\"fill_color\":{\"value\":\"#1f77b4\"},\"line_color\":{\"value\":\"#1f77b4\"},\"size\":{\"units\":\"screen\",\"value\":10},\"x\":{\"field\":\"x\"},\"y\":{\"field\":\"y\"}},\"id\":\"1c436c69-1433-4401-b4ac-2b6da766dadb\",\"type\":\"Circle\"},{\"attributes\":{\"active_drag\":\"auto\",\"active_inspect\":\"auto\",\"active_scroll\":\"auto\",\"active_tap\":\"auto\",\"tools\":[{\"id\":\"0226473b-8e8e-4000-b011-4e41e8db819d\",\"type\":\"PanTool\"},{\"id\":\"b022eba3-5dc9-48d0-950e-eb9f364a989a\",\"type\":\"WheelZoomTool\"},{\"id\":\"2584f6e3-8708-4eae-8544-d80e5ee963ff\",\"type\":\"BoxZoomTool\"},{\"id\":\"74214fc0-b30e-4494-a35b-607f0b68aa71\",\"type\":\"SaveTool\"},{\"id\":\"c06c82d0-f895-4ba4-a3bb-85965307e048\",\"type\":\"ResetTool\"},{\"id\":\"ebbfb41b-f382-4d6a-bee4-676aa5d92d00\",\"type\":\"HelpTool\"}]},\"id\":\"c2de7c9d-3de8-403a-8271-53c66e919e45\",\"type\":\"Toolbar\"},{\"attributes\":{},\"id\":\"59cb1807-2104-4c6b-992d-59eecfb65bc6\",\"type\":\"BasicTicker\"},{\"attributes\":{},\"id\":\"3416e9cc-5eea-4b63-bf92-aa663037cb96\",\"type\":\"BasicTickFormatter\"},{\"attributes\":{},\"id\":\"ba4fe876-34f5-4817-ae4c-debd4a2c4859\",\"type\":\"LinearScale\"},{\"attributes\":{},\"id\":\"e626b695-ded8-4f30-9c1c-dff68ed5a25b\",\"type\":\"LinearScale\"},{\"attributes\":{},\"id\":\"c06c82d0-f895-4ba4-a3bb-85965307e048\",\"type\":\"ResetTool\"},{\"attributes\":{},\"id\":\"2fc361cb-9ddb-4647-b447-4418c29aba7a\",\"type\":\"BasicTickFormatter\"},{\"attributes\":{\"below\":[{\"id\":\"6a3f5ecb-be8a-4eae-ba30-ee30c981cdcd\",\"type\":\"LinearAxis\"}],\"left\":[{\"id\":\"884e54c5-33b5-48c0-903a-3ef4e2218755\",\"type\":\"LinearAxis\"}],\"plot_height\":400,\"plot_width\":400,\"renderers\":[{\"id\":\"6a3f5ecb-be8a-4eae-ba30-ee30c981cdcd\",\"type\":\"LinearAxis\"},{\"id\":\"d52cd779-c844-420c-8674-7337caea4cef\",\"type\":\"Grid\"},{\"id\":\"884e54c5-33b5-48c0-903a-3ef4e2218755\",\"type\":\"LinearAxis\"},{\"id\":\"a8a250d8-bced-4966-9355-450ece2aa116\",\"type\":\"Grid\"},{\"id\":\"9ba367bd-6e04-419d-a1ed-8f439b09c0aa\",\"type\":\"BoxAnnotation\"},{\"id\":\"6ea72e42-c474-4d7c-9a45-22e028fa6b56\",\"type\":\"GlyphRenderer\"}],\"title\":{\"id\":\"53c685d3-f13c-4e71-b3d8-0d305f57a197\",\"type\":\"Title\"},\"toolbar\":{\"id\":\"c2de7c9d-3de8-403a-8271-53c66e919e45\",\"type\":\"Toolbar\"},\"x_range\":{\"id\":\"2306623d-4da6-4c91-8582-0e24f90d3e07\",\"type\":\"DataRange1d\"},\"x_scale\":{\"id\":\"e626b695-ded8-4f30-9c1c-dff68ed5a25b\",\"type\":\"LinearScale\"},\"y_range\":{\"id\":\"8d72e093-c70c-477c-8ffb-9f292d3e6be9\",\"type\":\"DataRange1d\"},\"y_scale\":{\"id\":\"ba4fe876-34f5-4817-ae4c-debd4a2c4859\",\"type\":\"LinearScale\"}},\"id\":\"9b409f23-fde8-4a18-887c-a8d93e00d8f9\",\"subtype\":\"Figure\",\"type\":\"Plot\"},{\"attributes\":{},\"id\":\"e00cb0a3-1dc3-4fa1-9852-9b8be262a07c\",\"type\":\"BasicTicker\"},{\"attributes\":{\"source\":{\"id\":\"a8d48067-09d5-4b41-bfcc-cd544d8ed815\",\"type\":\"ColumnDataSource\"}},\"id\":\"2adec7fe-bf61-4687-ad6a-e85ba4eb4245\",\"type\":\"CDSView\"},{\"attributes\":{\"bottom_units\":\"screen\",\"fill_alpha\":{\"value\":0.5},\"fill_color\":{\"value\":\"lightgrey\"},\"left_units\":\"screen\",\"level\":\"overlay\",\"line_alpha\":{\"value\":1.0},\"line_color\":{\"value\":\"black\"},\"line_dash\":[4,4],\"line_width\":{\"value\":2},\"plot\":null,\"render_mode\":\"css\",\"right_units\":\"screen\",\"top_units\":\"screen\"},\"id\":\"9ba367bd-6e04-419d-a1ed-8f439b09c0aa\",\"type\":\"BoxAnnotation\"},{\"attributes\":{},\"id\":\"74214fc0-b30e-4494-a35b-607f0b68aa71\",\"type\":\"SaveTool\"},{\"attributes\":{\"plot\":null,\"text\":\"\"},\"id\":\"53c685d3-f13c-4e71-b3d8-0d305f57a197\",\"type\":\"Title\"},{\"attributes\":{\"band_fill_alpha\":{\"value\":0.1},\"band_fill_color\":{\"value\":\"navy\"},\"dimension\":1,\"plot\":{\"id\":\"9b409f23-fde8-4a18-887c-a8d93e00d8f9\",\"subtype\":\"Figure\",\"type\":\"Plot\"},\"ticker\":{\"id\":\"e00cb0a3-1dc3-4fa1-9852-9b8be262a07c\",\"type\":\"BasicTicker\"}},\"id\":\"a8a250d8-bced-4966-9355-450ece2aa116\",\"type\":\"Grid\"},{\"attributes\":{\"callback\":null},\"id\":\"8d72e093-c70c-477c-8ffb-9f292d3e6be9\",\"type\":\"DataRange1d\"},{\"attributes\":{\"callback\":null},\"id\":\"2306623d-4da6-4c91-8582-0e24f90d3e07\",\"type\":\"DataRange1d\"}],\"root_ids\":[\"9b409f23-fde8-4a18-887c-a8d93e00d8f9\"]},\"title\":\"Bokeh Application\",\"version\":\"0.12.15\"}};\n",
       "  var render_items = [{\"docid\":\"1c85c827-97bb-4879-afe3-d5a1d2bd3363\",\"elementid\":\"8804aa70-09cf-4c09-882d-2c6774e9c598\",\"modelid\":\"9b409f23-fde8-4a18-887c-a8d93e00d8f9\"}];\n",
       "  root.Bokeh.embed.embed_items_notebook(docs_json, render_items);\n",
       "\n",
       "  }\n",
       "  if (root.Bokeh !== undefined) {\n",
       "    embed_document(root);\n",
       "  } else {\n",
       "    var attempts = 0;\n",
       "    var timer = setInterval(function(root) {\n",
       "      if (root.Bokeh !== undefined) {\n",
       "        embed_document(root);\n",
       "        clearInterval(timer);\n",
       "      }\n",
       "      attempts++;\n",
       "      if (attempts > 100) {\n",
       "        console.log(\"Bokeh: ERROR: Unable to run BokehJS code because BokehJS library is missing\")\n",
       "        clearInterval(timer);\n",
       "      }\n",
       "    }, 10, root)\n",
       "  }\n",
       "})(window);"
      ],
      "application/vnd.bokehjs_exec.v0+json": ""
     },
     "metadata": {
      "application/vnd.bokehjs_exec.v0+json": {
       "id": "9b409f23-fde8-4a18-887c-a8d93e00d8f9"
      }
     },
     "output_type": "display_data"
    }
   ],
   "source": [
    "p = figure(plot_width=400, plot_height=400)\n",
    "p.circle([1,2,3,4,5], [2,5,8,2,7], size=10)\n",
    "\n",
    "# change just some things about the x-grid\n",
    "p.xgrid.grid_line_color = None\n",
    "\n",
    "# change just some things about the y-grid\n",
    "p.ygrid.band_fill_alpha = 0.1\n",
    "p.ygrid.band_fill_color = \"navy\"\n",
    "\n",
    "show(p)"
   ]
  },
  {
   "cell_type": "code",
   "execution_count": 15,
   "metadata": {},
   "outputs": [],
   "source": [
    "# EXERCISE Create a plot of your own and customize several grid properties\n"
   ]
  }
 ],
 "metadata": {
  "kernelspec": {
   "display_name": "Python 3",
   "language": "python",
   "name": "python3"
  },
  "language_info": {
   "codemirror_mode": {
    "name": "ipython",
    "version": 3
   },
   "file_extension": ".py",
   "mimetype": "text/x-python",
   "name": "python",
   "nbconvert_exporter": "python",
   "pygments_lexer": "ipython3",
   "version": "3.6.5"
  }
 },
 "nbformat": 4,
 "nbformat_minor": 1
}
