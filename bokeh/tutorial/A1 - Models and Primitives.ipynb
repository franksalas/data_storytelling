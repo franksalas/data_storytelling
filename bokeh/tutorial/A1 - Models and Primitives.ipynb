{
 "cells": [
  {
   "cell_type": "markdown",
   "metadata": {},
   "source": [
    "<table style=\"float:left; border:none\">\n",
    "   <tr style=\"border:none; background-color: #ffffff\">\n",
    "       <td style=\"border:none\">\n",
    "           <a href=\"http://bokeh.pydata.org/\">     \n",
    "           <img \n",
    "               src=\"assets/bokeh-transparent.png\" \n",
    "               style=\"width:50px\"\n",
    "           >\n",
    "           </a>    \n",
    "       </td>\n",
    "       <td style=\"border:none\">\n",
    "           <h1>Bokeh Tutorial</h1>\n",
    "       </td>\n",
    "   </tr>\n",
    "</table>\n",
    "\n",
    "<div style=\"float:right;\"><h2>A1. Models and Primitives</h2></div>"
   ]
  },
  {
   "cell_type": "markdown",
   "metadata": {},
   "source": [
    "# Overview\n",
    "\n",
    "Although typically referred to by a single name, Bokeh comprises two separate libraries. \n",
    "\n",
    "The first component is a JavaScript library, BokehJS, that runs in the browser. This library is responsible for all of the rendering and user interaction. Its input is a collection of declarative JSON objects that comprise a “scenegraph”. The objects in this scenegraph describe everything that BokehJS should handle: what plots and widgets are present and in what arrangement, what tools and renderers and axes the plots will have, etc. These JSON objects are converted into JavaScript objects in the browser.\n",
    "\n",
    "The second component is a library in Python (or other languages) that can generate the JSON described above. In the Python Bokeh library, this is accomplished at the lowest level by exposing a set of `Model` subclasses that exactly mirror the set of BokehJS Models that are use in the browser. Most of the models are very simple, usually consisting of a few property attributes and no methods. Model attributes can either be configured when the model is created, or later by setting attribute values on the model object:\n",
    "\n",
    "#### properties can be configured when a model object is initialized\n",
    "```python\n",
    "glyph = Rect(x=\"x\", y=\"y2\", w=10, h=20, line_color=None)\n",
    "```\n",
    "\n",
    "#### properties can be configured by assigning values to attributes on exitsting models\n",
    "```python\n",
    "glyph.fill_alpha = 0.5\n",
    "glyph.fill_color = \"navy\"\n",
    "```\n",
    "\n",
    "These methods of configuration work in general for all Bokeh models. \n",
    "\n",
    "Bokeh models are eventually collected into a Bokeh `Document` for serialization between BokehJS and the Bokeh Python bindings. As an example, the following image shows an example document for simple plot:\n",
    "\n",
    "![Document Structure](assets/document.svg)\n",
    "\n",
    "Such a document could be created at a high level using the `bokeh.plotting` API, which automatically assembles any models such as axes and grids and toolbars in a reasonable way. However it is also possible to assemble all the components \"by hand\" using the low-level `bokeh.models` API. Using the `bokeh.models` interface provides complete control over how Bokeh plots and Bokeh widgets are put together and configured. However, it provides no help with assembling the models in meaningful or correct ways. It is entirely up to developers to build the scenegraph “by hand”. \n",
    "\n",
    "For more information about the details of all Bokeh models, consult the [Reference Guide](http://bokeh.pydata.org/en/latest/docs/reference.html)."
   ]
  },
  {
   "cell_type": "markdown",
   "metadata": {
    "collapsed": true
   },
   "source": [
    "# Example Walkthrough\n",
    "\n",
    "Let's try to reproduce this NYTimes interactive chart [Usain Bolt vs. 116 years of Olympic sprinters](http://www.nytimes.com/interactive/2012/08/05/sports/olympics/the-100-meter-dash-one-race-every-medalist-ever.html) using the `bokeh.models` interface."
   ]
  },
  {
   "cell_type": "markdown",
   "metadata": {},
   "source": [
    "The first thing we need is to get the data. The data for this chart is located in the ``bokeh.sampledata`` module as a Pandas DataFrame. You can see the first ten rows below:"
   ]
  },
  {
   "cell_type": "code",
   "execution_count": 1,
   "metadata": {},
   "outputs": [
    {
     "data": {
      "text/html": [
       "<div>\n",
       "<style scoped>\n",
       "    .dataframe tbody tr th:only-of-type {\n",
       "        vertical-align: middle;\n",
       "    }\n",
       "\n",
       "    .dataframe tbody tr th {\n",
       "        vertical-align: top;\n",
       "    }\n",
       "\n",
       "    .dataframe thead th {\n",
       "        text-align: right;\n",
       "    }\n",
       "</style>\n",
       "<table border=\"1\" class=\"dataframe\">\n",
       "  <thead>\n",
       "    <tr style=\"text-align: right;\">\n",
       "      <th></th>\n",
       "      <th>Name</th>\n",
       "      <th>Country</th>\n",
       "      <th>Medal</th>\n",
       "      <th>Time</th>\n",
       "      <th>Year</th>\n",
       "    </tr>\n",
       "  </thead>\n",
       "  <tbody>\n",
       "    <tr>\n",
       "      <th>0</th>\n",
       "      <td>Usain Bolt</td>\n",
       "      <td>JAM</td>\n",
       "      <td>GOLD</td>\n",
       "      <td>9.63</td>\n",
       "      <td>2012</td>\n",
       "    </tr>\n",
       "    <tr>\n",
       "      <th>1</th>\n",
       "      <td>Yohan Blake</td>\n",
       "      <td>JAM</td>\n",
       "      <td>SILVER</td>\n",
       "      <td>9.75</td>\n",
       "      <td>2012</td>\n",
       "    </tr>\n",
       "    <tr>\n",
       "      <th>2</th>\n",
       "      <td>Justin Gatlin</td>\n",
       "      <td>USA</td>\n",
       "      <td>BRONZE</td>\n",
       "      <td>9.79</td>\n",
       "      <td>2012</td>\n",
       "    </tr>\n",
       "    <tr>\n",
       "      <th>3</th>\n",
       "      <td>Usain Bolt</td>\n",
       "      <td>JAM</td>\n",
       "      <td>GOLD</td>\n",
       "      <td>9.69</td>\n",
       "      <td>2008</td>\n",
       "    </tr>\n",
       "    <tr>\n",
       "      <th>4</th>\n",
       "      <td>Richard Thompson</td>\n",
       "      <td>TRI</td>\n",
       "      <td>SILVER</td>\n",
       "      <td>9.89</td>\n",
       "      <td>2008</td>\n",
       "    </tr>\n",
       "    <tr>\n",
       "      <th>5</th>\n",
       "      <td>Walter Dix</td>\n",
       "      <td>USA</td>\n",
       "      <td>BRONZE</td>\n",
       "      <td>9.91</td>\n",
       "      <td>2008</td>\n",
       "    </tr>\n",
       "    <tr>\n",
       "      <th>6</th>\n",
       "      <td>Justin Gatlin</td>\n",
       "      <td>USA</td>\n",
       "      <td>GOLD</td>\n",
       "      <td>9.85</td>\n",
       "      <td>2004</td>\n",
       "    </tr>\n",
       "    <tr>\n",
       "      <th>7</th>\n",
       "      <td>Francis Obikwelu</td>\n",
       "      <td>POR</td>\n",
       "      <td>SILVER</td>\n",
       "      <td>9.86</td>\n",
       "      <td>2004</td>\n",
       "    </tr>\n",
       "    <tr>\n",
       "      <th>8</th>\n",
       "      <td>Maurice Greene</td>\n",
       "      <td>USA</td>\n",
       "      <td>BRONZE</td>\n",
       "      <td>9.87</td>\n",
       "      <td>2004</td>\n",
       "    </tr>\n",
       "    <tr>\n",
       "      <th>9</th>\n",
       "      <td>Maurice Greene</td>\n",
       "      <td>USA</td>\n",
       "      <td>GOLD</td>\n",
       "      <td>9.87</td>\n",
       "      <td>2000</td>\n",
       "    </tr>\n",
       "  </tbody>\n",
       "</table>\n",
       "</div>"
      ],
      "text/plain": [
       "               Name Country   Medal  Time  Year\n",
       "0        Usain Bolt     JAM    GOLD  9.63  2012\n",
       "1       Yohan Blake     JAM  SILVER  9.75  2012\n",
       "2     Justin Gatlin     USA  BRONZE  9.79  2012\n",
       "3        Usain Bolt     JAM    GOLD  9.69  2008\n",
       "4  Richard Thompson     TRI  SILVER  9.89  2008\n",
       "5        Walter Dix     USA  BRONZE  9.91  2008\n",
       "6     Justin Gatlin     USA    GOLD  9.85  2004\n",
       "7  Francis Obikwelu     POR  SILVER  9.86  2004\n",
       "8    Maurice Greene     USA  BRONZE  9.87  2004\n",
       "9    Maurice Greene     USA    GOLD  9.87  2000"
      ]
     },
     "execution_count": 1,
     "metadata": {},
     "output_type": "execute_result"
    }
   ],
   "source": [
    "from bokeh.sampledata.sprint import sprint\n",
    "sprint[:10]"
   ]
  },
  {
   "cell_type": "markdown",
   "metadata": {},
   "source": [
    "Next we import some of the Bokeh models that need to be assembled to make a plot. At a minimum, we need to start with ``Plot``, the glyphs (``Circle`` and ``Text``) we want to display, as well as ``ColumnDataSource`` to hold the data and range obejcts to set the plot bounds. "
   ]
  },
  {
   "cell_type": "code",
   "execution_count": 2,
   "metadata": {},
   "outputs": [],
   "source": [
    "from bokeh.io import output_notebook, show\n",
    "from bokeh.models.glyphs import Circle, Text\n",
    "from bokeh.models import ColumnDataSource, Range1d, DataRange1d, Plot"
   ]
  },
  {
   "cell_type": "code",
   "execution_count": 3,
   "metadata": {},
   "outputs": [
    {
     "data": {
      "text/html": [
       "\n",
       "    <div class=\"bk-root\">\n",
       "        <a href=\"https://bokeh.pydata.org\" target=\"_blank\" class=\"bk-logo bk-logo-small bk-logo-notebook\"></a>\n",
       "        <span id=\"905fa6e6-8f66-4cb8-ab95-51ec7c5e1da0\">Loading BokehJS ...</span>\n",
       "    </div>"
      ]
     },
     "metadata": {},
     "output_type": "display_data"
    },
    {
     "data": {
      "application/javascript": [
       "\n",
       "(function(root) {\n",
       "  function now() {\n",
       "    return new Date();\n",
       "  }\n",
       "\n",
       "  var force = true;\n",
       "\n",
       "  if (typeof (root._bokeh_onload_callbacks) === \"undefined\" || force === true) {\n",
       "    root._bokeh_onload_callbacks = [];\n",
       "    root._bokeh_is_loading = undefined;\n",
       "  }\n",
       "\n",
       "  var JS_MIME_TYPE = 'application/javascript';\n",
       "  var HTML_MIME_TYPE = 'text/html';\n",
       "  var EXEC_MIME_TYPE = 'application/vnd.bokehjs_exec.v0+json';\n",
       "  var CLASS_NAME = 'output_bokeh rendered_html';\n",
       "\n",
       "  /**\n",
       "   * Render data to the DOM node\n",
       "   */\n",
       "  function render(props, node) {\n",
       "    var script = document.createElement(\"script\");\n",
       "    node.appendChild(script);\n",
       "  }\n",
       "\n",
       "  /**\n",
       "   * Handle when an output is cleared or removed\n",
       "   */\n",
       "  function handleClearOutput(event, handle) {\n",
       "    var cell = handle.cell;\n",
       "\n",
       "    var id = cell.output_area._bokeh_element_id;\n",
       "    var server_id = cell.output_area._bokeh_server_id;\n",
       "    // Clean up Bokeh references\n",
       "    if (id !== undefined) {\n",
       "      Bokeh.index[id].model.document.clear();\n",
       "      delete Bokeh.index[id];\n",
       "    }\n",
       "\n",
       "    if (server_id !== undefined) {\n",
       "      // Clean up Bokeh references\n",
       "      var cmd = \"from bokeh.io.state import curstate; print(curstate().uuid_to_server['\" + server_id + \"'].get_sessions()[0].document.roots[0]._id)\";\n",
       "      cell.notebook.kernel.execute(cmd, {\n",
       "        iopub: {\n",
       "          output: function(msg) {\n",
       "            var element_id = msg.content.text.trim();\n",
       "            Bokeh.index[element_id].model.document.clear();\n",
       "            delete Bokeh.index[element_id];\n",
       "          }\n",
       "        }\n",
       "      });\n",
       "      // Destroy server and session\n",
       "      var cmd = \"import bokeh.io.notebook as ion; ion.destroy_server('\" + server_id + \"')\";\n",
       "      cell.notebook.kernel.execute(cmd);\n",
       "    }\n",
       "  }\n",
       "\n",
       "  /**\n",
       "   * Handle when a new output is added\n",
       "   */\n",
       "  function handleAddOutput(event, handle) {\n",
       "    var output_area = handle.output_area;\n",
       "    var output = handle.output;\n",
       "\n",
       "    // limit handleAddOutput to display_data with EXEC_MIME_TYPE content only\n",
       "    if ((output.output_type != \"display_data\") || (!output.data.hasOwnProperty(EXEC_MIME_TYPE))) {\n",
       "      return\n",
       "    }\n",
       "\n",
       "    var toinsert = output_area.element.find(\".\" + CLASS_NAME.split(' ')[0]);\n",
       "\n",
       "    if (output.metadata[EXEC_MIME_TYPE][\"id\"] !== undefined) {\n",
       "      toinsert[toinsert.length - 1].firstChild.textContent = output.data[JS_MIME_TYPE];\n",
       "      // store reference to embed id on output_area\n",
       "      output_area._bokeh_element_id = output.metadata[EXEC_MIME_TYPE][\"id\"];\n",
       "    }\n",
       "    if (output.metadata[EXEC_MIME_TYPE][\"server_id\"] !== undefined) {\n",
       "      var bk_div = document.createElement(\"div\");\n",
       "      bk_div.innerHTML = output.data[HTML_MIME_TYPE];\n",
       "      var script_attrs = bk_div.children[0].attributes;\n",
       "      for (var i = 0; i < script_attrs.length; i++) {\n",
       "        toinsert[toinsert.length - 1].firstChild.setAttribute(script_attrs[i].name, script_attrs[i].value);\n",
       "      }\n",
       "      // store reference to server id on output_area\n",
       "      output_area._bokeh_server_id = output.metadata[EXEC_MIME_TYPE][\"server_id\"];\n",
       "    }\n",
       "  }\n",
       "\n",
       "  function register_renderer(events, OutputArea) {\n",
       "\n",
       "    function append_mime(data, metadata, element) {\n",
       "      // create a DOM node to render to\n",
       "      var toinsert = this.create_output_subarea(\n",
       "        metadata,\n",
       "        CLASS_NAME,\n",
       "        EXEC_MIME_TYPE\n",
       "      );\n",
       "      this.keyboard_manager.register_events(toinsert);\n",
       "      // Render to node\n",
       "      var props = {data: data, metadata: metadata[EXEC_MIME_TYPE]};\n",
       "      render(props, toinsert[toinsert.length - 1]);\n",
       "      element.append(toinsert);\n",
       "      return toinsert\n",
       "    }\n",
       "\n",
       "    /* Handle when an output is cleared or removed */\n",
       "    events.on('clear_output.CodeCell', handleClearOutput);\n",
       "    events.on('delete.Cell', handleClearOutput);\n",
       "\n",
       "    /* Handle when a new output is added */\n",
       "    events.on('output_added.OutputArea', handleAddOutput);\n",
       "\n",
       "    /**\n",
       "     * Register the mime type and append_mime function with output_area\n",
       "     */\n",
       "    OutputArea.prototype.register_mime_type(EXEC_MIME_TYPE, append_mime, {\n",
       "      /* Is output safe? */\n",
       "      safe: true,\n",
       "      /* Index of renderer in `output_area.display_order` */\n",
       "      index: 0\n",
       "    });\n",
       "  }\n",
       "\n",
       "  // register the mime type if in Jupyter Notebook environment and previously unregistered\n",
       "  if (root.Jupyter !== undefined) {\n",
       "    var events = require('base/js/events');\n",
       "    var OutputArea = require('notebook/js/outputarea').OutputArea;\n",
       "\n",
       "    if (OutputArea.prototype.mime_types().indexOf(EXEC_MIME_TYPE) == -1) {\n",
       "      register_renderer(events, OutputArea);\n",
       "    }\n",
       "  }\n",
       "\n",
       "  \n",
       "  if (typeof (root._bokeh_timeout) === \"undefined\" || force === true) {\n",
       "    root._bokeh_timeout = Date.now() + 5000;\n",
       "    root._bokeh_failed_load = false;\n",
       "  }\n",
       "\n",
       "  var NB_LOAD_WARNING = {'data': {'text/html':\n",
       "     \"<div style='background-color: #fdd'>\\n\"+\n",
       "     \"<p>\\n\"+\n",
       "     \"BokehJS does not appear to have successfully loaded. If loading BokehJS from CDN, this \\n\"+\n",
       "     \"may be due to a slow or bad network connection. Possible fixes:\\n\"+\n",
       "     \"</p>\\n\"+\n",
       "     \"<ul>\\n\"+\n",
       "     \"<li>re-rerun `output_notebook()` to attempt to load from CDN again, or</li>\\n\"+\n",
       "     \"<li>use INLINE resources instead, as so:</li>\\n\"+\n",
       "     \"</ul>\\n\"+\n",
       "     \"<code>\\n\"+\n",
       "     \"from bokeh.resources import INLINE\\n\"+\n",
       "     \"output_notebook(resources=INLINE)\\n\"+\n",
       "     \"</code>\\n\"+\n",
       "     \"</div>\"}};\n",
       "\n",
       "  function display_loaded() {\n",
       "    var el = document.getElementById(\"905fa6e6-8f66-4cb8-ab95-51ec7c5e1da0\");\n",
       "    if (el != null) {\n",
       "      el.textContent = \"BokehJS is loading...\";\n",
       "    }\n",
       "    if (root.Bokeh !== undefined) {\n",
       "      if (el != null) {\n",
       "        el.textContent = \"BokehJS \" + root.Bokeh.version + \" successfully loaded.\";\n",
       "      }\n",
       "    } else if (Date.now() < root._bokeh_timeout) {\n",
       "      setTimeout(display_loaded, 100)\n",
       "    }\n",
       "  }\n",
       "\n",
       "\n",
       "  function run_callbacks() {\n",
       "    try {\n",
       "      root._bokeh_onload_callbacks.forEach(function(callback) { callback() });\n",
       "    }\n",
       "    finally {\n",
       "      delete root._bokeh_onload_callbacks\n",
       "    }\n",
       "    console.info(\"Bokeh: all callbacks have finished\");\n",
       "  }\n",
       "\n",
       "  function load_libs(js_urls, callback) {\n",
       "    root._bokeh_onload_callbacks.push(callback);\n",
       "    if (root._bokeh_is_loading > 0) {\n",
       "      console.log(\"Bokeh: BokehJS is being loaded, scheduling callback at\", now());\n",
       "      return null;\n",
       "    }\n",
       "    if (js_urls == null || js_urls.length === 0) {\n",
       "      run_callbacks();\n",
       "      return null;\n",
       "    }\n",
       "    console.log(\"Bokeh: BokehJS not loaded, scheduling load and callback at\", now());\n",
       "    root._bokeh_is_loading = js_urls.length;\n",
       "    for (var i = 0; i < js_urls.length; i++) {\n",
       "      var url = js_urls[i];\n",
       "      var s = document.createElement('script');\n",
       "      s.src = url;\n",
       "      s.async = false;\n",
       "      s.onreadystatechange = s.onload = function() {\n",
       "        root._bokeh_is_loading--;\n",
       "        if (root._bokeh_is_loading === 0) {\n",
       "          console.log(\"Bokeh: all BokehJS libraries loaded\");\n",
       "          run_callbacks()\n",
       "        }\n",
       "      };\n",
       "      s.onerror = function() {\n",
       "        console.warn(\"failed to load library \" + url);\n",
       "      };\n",
       "      console.log(\"Bokeh: injecting script tag for BokehJS library: \", url);\n",
       "      document.getElementsByTagName(\"head\")[0].appendChild(s);\n",
       "    }\n",
       "  };var element = document.getElementById(\"905fa6e6-8f66-4cb8-ab95-51ec7c5e1da0\");\n",
       "  if (element == null) {\n",
       "    console.log(\"Bokeh: ERROR: autoload.js configured with elementid '905fa6e6-8f66-4cb8-ab95-51ec7c5e1da0' but no matching script tag was found. \")\n",
       "    return false;\n",
       "  }\n",
       "\n",
       "  var js_urls = [\"https://cdn.pydata.org/bokeh/release/bokeh-0.12.15.min.js\", \"https://cdn.pydata.org/bokeh/release/bokeh-widgets-0.12.15.min.js\", \"https://cdn.pydata.org/bokeh/release/bokeh-tables-0.12.15.min.js\", \"https://cdn.pydata.org/bokeh/release/bokeh-gl-0.12.15.min.js\"];\n",
       "\n",
       "  var inline_js = [\n",
       "    function(Bokeh) {\n",
       "      Bokeh.set_log_level(\"info\");\n",
       "    },\n",
       "    \n",
       "    function(Bokeh) {\n",
       "      \n",
       "    },\n",
       "    function(Bokeh) {\n",
       "      console.log(\"Bokeh: injecting CSS: https://cdn.pydata.org/bokeh/release/bokeh-0.12.15.min.css\");\n",
       "      Bokeh.embed.inject_css(\"https://cdn.pydata.org/bokeh/release/bokeh-0.12.15.min.css\");\n",
       "      console.log(\"Bokeh: injecting CSS: https://cdn.pydata.org/bokeh/release/bokeh-widgets-0.12.15.min.css\");\n",
       "      Bokeh.embed.inject_css(\"https://cdn.pydata.org/bokeh/release/bokeh-widgets-0.12.15.min.css\");\n",
       "      console.log(\"Bokeh: injecting CSS: https://cdn.pydata.org/bokeh/release/bokeh-tables-0.12.15.min.css\");\n",
       "      Bokeh.embed.inject_css(\"https://cdn.pydata.org/bokeh/release/bokeh-tables-0.12.15.min.css\");\n",
       "    }\n",
       "  ];\n",
       "\n",
       "  function run_inline_js() {\n",
       "    \n",
       "    if ((root.Bokeh !== undefined) || (force === true)) {\n",
       "      for (var i = 0; i < inline_js.length; i++) {\n",
       "        inline_js[i].call(root, root.Bokeh);\n",
       "      }if (force === true) {\n",
       "        display_loaded();\n",
       "      }} else if (Date.now() < root._bokeh_timeout) {\n",
       "      setTimeout(run_inline_js, 100);\n",
       "    } else if (!root._bokeh_failed_load) {\n",
       "      console.log(\"Bokeh: BokehJS failed to load within specified timeout.\");\n",
       "      root._bokeh_failed_load = true;\n",
       "    } else if (force !== true) {\n",
       "      var cell = $(document.getElementById(\"905fa6e6-8f66-4cb8-ab95-51ec7c5e1da0\")).parents('.cell').data().cell;\n",
       "      cell.output_area.append_execute_result(NB_LOAD_WARNING)\n",
       "    }\n",
       "\n",
       "  }\n",
       "\n",
       "  if (root._bokeh_is_loading === 0) {\n",
       "    console.log(\"Bokeh: BokehJS loaded, going straight to plotting\");\n",
       "    run_inline_js();\n",
       "  } else {\n",
       "    load_libs(js_urls, function() {\n",
       "      console.log(\"Bokeh: BokehJS plotting callback run at\", now());\n",
       "      run_inline_js();\n",
       "    });\n",
       "  }\n",
       "}(window));"
      ],
      "application/vnd.bokehjs_load.v0+json": "\n(function(root) {\n  function now() {\n    return new Date();\n  }\n\n  var force = true;\n\n  if (typeof (root._bokeh_onload_callbacks) === \"undefined\" || force === true) {\n    root._bokeh_onload_callbacks = [];\n    root._bokeh_is_loading = undefined;\n  }\n\n  \n\n  \n  if (typeof (root._bokeh_timeout) === \"undefined\" || force === true) {\n    root._bokeh_timeout = Date.now() + 5000;\n    root._bokeh_failed_load = false;\n  }\n\n  var NB_LOAD_WARNING = {'data': {'text/html':\n     \"<div style='background-color: #fdd'>\\n\"+\n     \"<p>\\n\"+\n     \"BokehJS does not appear to have successfully loaded. If loading BokehJS from CDN, this \\n\"+\n     \"may be due to a slow or bad network connection. Possible fixes:\\n\"+\n     \"</p>\\n\"+\n     \"<ul>\\n\"+\n     \"<li>re-rerun `output_notebook()` to attempt to load from CDN again, or</li>\\n\"+\n     \"<li>use INLINE resources instead, as so:</li>\\n\"+\n     \"</ul>\\n\"+\n     \"<code>\\n\"+\n     \"from bokeh.resources import INLINE\\n\"+\n     \"output_notebook(resources=INLINE)\\n\"+\n     \"</code>\\n\"+\n     \"</div>\"}};\n\n  function display_loaded() {\n    var el = document.getElementById(\"905fa6e6-8f66-4cb8-ab95-51ec7c5e1da0\");\n    if (el != null) {\n      el.textContent = \"BokehJS is loading...\";\n    }\n    if (root.Bokeh !== undefined) {\n      if (el != null) {\n        el.textContent = \"BokehJS \" + root.Bokeh.version + \" successfully loaded.\";\n      }\n    } else if (Date.now() < root._bokeh_timeout) {\n      setTimeout(display_loaded, 100)\n    }\n  }\n\n\n  function run_callbacks() {\n    try {\n      root._bokeh_onload_callbacks.forEach(function(callback) { callback() });\n    }\n    finally {\n      delete root._bokeh_onload_callbacks\n    }\n    console.info(\"Bokeh: all callbacks have finished\");\n  }\n\n  function load_libs(js_urls, callback) {\n    root._bokeh_onload_callbacks.push(callback);\n    if (root._bokeh_is_loading > 0) {\n      console.log(\"Bokeh: BokehJS is being loaded, scheduling callback at\", now());\n      return null;\n    }\n    if (js_urls == null || js_urls.length === 0) {\n      run_callbacks();\n      return null;\n    }\n    console.log(\"Bokeh: BokehJS not loaded, scheduling load and callback at\", now());\n    root._bokeh_is_loading = js_urls.length;\n    for (var i = 0; i < js_urls.length; i++) {\n      var url = js_urls[i];\n      var s = document.createElement('script');\n      s.src = url;\n      s.async = false;\n      s.onreadystatechange = s.onload = function() {\n        root._bokeh_is_loading--;\n        if (root._bokeh_is_loading === 0) {\n          console.log(\"Bokeh: all BokehJS libraries loaded\");\n          run_callbacks()\n        }\n      };\n      s.onerror = function() {\n        console.warn(\"failed to load library \" + url);\n      };\n      console.log(\"Bokeh: injecting script tag for BokehJS library: \", url);\n      document.getElementsByTagName(\"head\")[0].appendChild(s);\n    }\n  };var element = document.getElementById(\"905fa6e6-8f66-4cb8-ab95-51ec7c5e1da0\");\n  if (element == null) {\n    console.log(\"Bokeh: ERROR: autoload.js configured with elementid '905fa6e6-8f66-4cb8-ab95-51ec7c5e1da0' but no matching script tag was found. \")\n    return false;\n  }\n\n  var js_urls = [\"https://cdn.pydata.org/bokeh/release/bokeh-0.12.15.min.js\", \"https://cdn.pydata.org/bokeh/release/bokeh-widgets-0.12.15.min.js\", \"https://cdn.pydata.org/bokeh/release/bokeh-tables-0.12.15.min.js\", \"https://cdn.pydata.org/bokeh/release/bokeh-gl-0.12.15.min.js\"];\n\n  var inline_js = [\n    function(Bokeh) {\n      Bokeh.set_log_level(\"info\");\n    },\n    \n    function(Bokeh) {\n      \n    },\n    function(Bokeh) {\n      console.log(\"Bokeh: injecting CSS: https://cdn.pydata.org/bokeh/release/bokeh-0.12.15.min.css\");\n      Bokeh.embed.inject_css(\"https://cdn.pydata.org/bokeh/release/bokeh-0.12.15.min.css\");\n      console.log(\"Bokeh: injecting CSS: https://cdn.pydata.org/bokeh/release/bokeh-widgets-0.12.15.min.css\");\n      Bokeh.embed.inject_css(\"https://cdn.pydata.org/bokeh/release/bokeh-widgets-0.12.15.min.css\");\n      console.log(\"Bokeh: injecting CSS: https://cdn.pydata.org/bokeh/release/bokeh-tables-0.12.15.min.css\");\n      Bokeh.embed.inject_css(\"https://cdn.pydata.org/bokeh/release/bokeh-tables-0.12.15.min.css\");\n    }\n  ];\n\n  function run_inline_js() {\n    \n    if ((root.Bokeh !== undefined) || (force === true)) {\n      for (var i = 0; i < inline_js.length; i++) {\n        inline_js[i].call(root, root.Bokeh);\n      }if (force === true) {\n        display_loaded();\n      }} else if (Date.now() < root._bokeh_timeout) {\n      setTimeout(run_inline_js, 100);\n    } else if (!root._bokeh_failed_load) {\n      console.log(\"Bokeh: BokehJS failed to load within specified timeout.\");\n      root._bokeh_failed_load = true;\n    } else if (force !== true) {\n      var cell = $(document.getElementById(\"905fa6e6-8f66-4cb8-ab95-51ec7c5e1da0\")).parents('.cell').data().cell;\n      cell.output_area.append_execute_result(NB_LOAD_WARNING)\n    }\n\n  }\n\n  if (root._bokeh_is_loading === 0) {\n    console.log(\"Bokeh: BokehJS loaded, going straight to plotting\");\n    run_inline_js();\n  } else {\n    load_libs(js_urls, function() {\n      console.log(\"Bokeh: BokehJS plotting callback run at\", now());\n      run_inline_js();\n    });\n  }\n}(window));"
     },
     "metadata": {},
     "output_type": "display_data"
    }
   ],
   "source": [
    "output_notebook()"
   ]
  },
  {
   "cell_type": "markdown",
   "metadata": {},
   "source": [
    "## Setting up Data\n",
    "\n",
    "Next we need set up all the columns we want in our column data source. Here we add a few extra columns like `MetersBack` and `SelectedName` that we will use for a `HoverTool` later."
   ]
  },
  {
   "cell_type": "code",
   "execution_count": 4,
   "metadata": {},
   "outputs": [],
   "source": [
    "abbrev_to_country = {\n",
    "    \"USA\": \"United States\",\n",
    "    \"GBR\": \"Britain\",\n",
    "    \"JAM\": \"Jamaica\",\n",
    "    \"CAN\": \"Canada\",\n",
    "    \"TRI\": \"Trinidad and Tobago\",\n",
    "    \"AUS\": \"Australia\",\n",
    "    \"GER\": \"Germany\",\n",
    "    \"CUB\": \"Cuba\",\n",
    "    \"NAM\": \"Namibia\",\n",
    "    \"URS\": \"Soviet Union\",\n",
    "    \"BAR\": \"Barbados\",\n",
    "    \"BUL\": \"Bulgaria\",\n",
    "    \"HUN\": \"Hungary\",\n",
    "    \"NED\": \"Netherlands\",\n",
    "    \"NZL\": \"New Zealand\",\n",
    "    \"PAN\": \"Panama\",\n",
    "    \"POR\": \"Portugal\",\n",
    "    \"RSA\": \"South Africa\",\n",
    "    \"EUA\": \"United Team of Germany\",\n",
    "}\n",
    "\n",
    "fill_color = { \"gold\": \"#efcf6d\", \"silver\": \"#cccccc\", \"bronze\": \"#c59e8a\" }\n",
    "line_color = { \"gold\": \"#c8a850\", \"silver\": \"#b0b0b1\", \"bronze\": \"#98715d\" }\n",
    "\n",
    "def selected_name(name, medal, year):\n",
    "    return name if medal == \"gold\" and year in [1988, 1968, 1936, 1896] else \"\"\n",
    "\n",
    "t0 = sprint.Time[0]\n",
    "\n",
    "sprint[\"Abbrev\"]       = sprint.Country\n",
    "sprint[\"Country\"]      = sprint.Abbrev.map(lambda abbr: abbrev_to_country[abbr])\n",
    "sprint[\"Medal\"]        = sprint.Medal.map(lambda medal: medal.lower())\n",
    "sprint[\"Speed\"]        = 100.0/sprint.Time\n",
    "sprint[\"MetersBack\"]   = 100.0*(1.0 - t0/sprint.Time)\n",
    "sprint[\"MedalFill\"]    = sprint.Medal.map(lambda medal: fill_color[medal])\n",
    "sprint[\"MedalLine\"]    = sprint.Medal.map(lambda medal: line_color[medal])\n",
    "sprint[\"SelectedName\"] = sprint[[\"Name\", \"Medal\", \"Year\"]].apply(tuple, axis=1).map(lambda args: selected_name(*args))\n",
    "\n",
    "source = ColumnDataSource(sprint)"
   ]
  },
  {
   "cell_type": "markdown",
   "metadata": {},
   "source": [
    "## Building in stages\n",
    "\n",
    "Let's build up our plot in stages, stopping to check the output along the way to see how things look.\n",
    "\n",
    "As we go through, note the three methods that `Plot`, `Chart`, and `Figure` all have:\n",
    "\n",
    "* `p.add_glyph`\n",
    "* `p.add_tools`\n",
    "* `p.add_layout`\n",
    "\n",
    "These are actually small convenience methods that help us add models to `Plot` objects in the correct way."
   ]
  },
  {
   "cell_type": "markdown",
   "metadata": {},
   "source": [
    "### Basic Plot with Just Glyphs\n",
    "\n",
    "First we create just the `Plot` with a title and some basic styling applied, as well add a few `Circle` glyphs for the actual race data. To manually configure glyphs, we first create a glyph object (e.g., `Text` or `Circle`) that is configured with the visual properties we want as well as the data columns to use for coordinates, etc. Then we call `plot.add_glyph` with the glyph, and the data source that the glyph should use. "
   ]
  },
  {
   "cell_type": "code",
   "execution_count": 5,
   "metadata": {},
   "outputs": [],
   "source": [
    "plot_options = dict(plot_width=800, plot_height=480, toolbar_location=None, outline_line_color=None)"
   ]
  },
  {
   "cell_type": "code",
   "execution_count": 6,
   "metadata": {},
   "outputs": [],
   "source": [
    "medal_glyph = Circle(x=\"MetersBack\", y=\"Year\", size=10, fill_color=\"MedalFill\", \n",
    "                     line_color=\"MedalLine\", fill_alpha=0.5)\n",
    "\n",
    "athlete_glyph = Text(x=\"MetersBack\", y=\"Year\", x_offset=10, text=\"SelectedName\",\n",
    "                     text_align=\"left\", text_baseline=\"middle\", text_font_size=\"9pt\")\n",
    "\n",
    "no_olympics_glyph = Text(x=7.5, y=1942, text=[\"No Olympics in 1940 or 1944\"],\n",
    "                         text_align=\"center\", text_baseline=\"middle\",\n",
    "                         text_font_size=\"9pt\", text_font_style=\"italic\", text_color=\"silver\")"
   ]
  },
  {
   "cell_type": "code",
   "execution_count": 7,
   "metadata": {},
   "outputs": [
    {
     "data": {
      "text/html": [
       "<div style=\"display: table;\"><div style=\"display: table-row;\"><div style=\"display: table-cell;\"><b title=\"bokeh.models.renderers.GlyphRenderer\">GlyphRenderer</b>(</div><div style=\"display: table-cell;\">id&nbsp;=&nbsp;'ac1ad55e-2cc2-47fc-8dd5-41bb62a0e362', <span id=\"7c0dda59-104d-4b08-8cf2-0bf40804b841\" style=\"cursor: pointer;\">&hellip;)</span></div></div><div class=\"49954045-8ffe-4c76-a301-eb2493f94a07\" style=\"display: none;\"><div style=\"display: table-cell;\"></div><div style=\"display: table-cell;\">data_source&nbsp;=&nbsp;ColumnDataSource(id='9e4b01c1-f998-4e37-a220-f2c09d7f2f38', ...),</div></div><div class=\"49954045-8ffe-4c76-a301-eb2493f94a07\" style=\"display: none;\"><div style=\"display: table-cell;\"></div><div style=\"display: table-cell;\">glyph&nbsp;=&nbsp;Text(id='cdfe3b04-ef46-47d9-8ef4-66d755d07517', ...),</div></div><div class=\"49954045-8ffe-4c76-a301-eb2493f94a07\" style=\"display: none;\"><div style=\"display: table-cell;\"></div><div style=\"display: table-cell;\">hover_glyph&nbsp;=&nbsp;None,</div></div><div class=\"49954045-8ffe-4c76-a301-eb2493f94a07\" style=\"display: none;\"><div style=\"display: table-cell;\"></div><div style=\"display: table-cell;\">js_event_callbacks&nbsp;=&nbsp;{},</div></div><div class=\"49954045-8ffe-4c76-a301-eb2493f94a07\" style=\"display: none;\"><div style=\"display: table-cell;\"></div><div style=\"display: table-cell;\">js_property_callbacks&nbsp;=&nbsp;{},</div></div><div class=\"49954045-8ffe-4c76-a301-eb2493f94a07\" style=\"display: none;\"><div style=\"display: table-cell;\"></div><div style=\"display: table-cell;\">level&nbsp;=&nbsp;'glyph',</div></div><div class=\"49954045-8ffe-4c76-a301-eb2493f94a07\" style=\"display: none;\"><div style=\"display: table-cell;\"></div><div style=\"display: table-cell;\">muted&nbsp;=&nbsp;False,</div></div><div class=\"49954045-8ffe-4c76-a301-eb2493f94a07\" style=\"display: none;\"><div style=\"display: table-cell;\"></div><div style=\"display: table-cell;\">muted_glyph&nbsp;=&nbsp;None,</div></div><div class=\"49954045-8ffe-4c76-a301-eb2493f94a07\" style=\"display: none;\"><div style=\"display: table-cell;\"></div><div style=\"display: table-cell;\">name&nbsp;=&nbsp;None,</div></div><div class=\"49954045-8ffe-4c76-a301-eb2493f94a07\" style=\"display: none;\"><div style=\"display: table-cell;\"></div><div style=\"display: table-cell;\">nonselection_glyph&nbsp;=&nbsp;'auto',</div></div><div class=\"49954045-8ffe-4c76-a301-eb2493f94a07\" style=\"display: none;\"><div style=\"display: table-cell;\"></div><div style=\"display: table-cell;\">selection_glyph&nbsp;=&nbsp;'auto',</div></div><div class=\"49954045-8ffe-4c76-a301-eb2493f94a07\" style=\"display: none;\"><div style=\"display: table-cell;\"></div><div style=\"display: table-cell;\">subscribed_events&nbsp;=&nbsp;[],</div></div><div class=\"49954045-8ffe-4c76-a301-eb2493f94a07\" style=\"display: none;\"><div style=\"display: table-cell;\"></div><div style=\"display: table-cell;\">tags&nbsp;=&nbsp;[],</div></div><div class=\"49954045-8ffe-4c76-a301-eb2493f94a07\" style=\"display: none;\"><div style=\"display: table-cell;\"></div><div style=\"display: table-cell;\">view&nbsp;=&nbsp;CDSView(id='5a387ae1-1cd4-451b-8c0e-afc906d3bd7b', ...),</div></div><div class=\"49954045-8ffe-4c76-a301-eb2493f94a07\" style=\"display: none;\"><div style=\"display: table-cell;\"></div><div style=\"display: table-cell;\">visible&nbsp;=&nbsp;True,</div></div><div class=\"49954045-8ffe-4c76-a301-eb2493f94a07\" style=\"display: none;\"><div style=\"display: table-cell;\"></div><div style=\"display: table-cell;\">x_range_name&nbsp;=&nbsp;'default',</div></div><div class=\"49954045-8ffe-4c76-a301-eb2493f94a07\" style=\"display: none;\"><div style=\"display: table-cell;\"></div><div style=\"display: table-cell;\">y_range_name&nbsp;=&nbsp;'default')</div></div></div>\n",
       "<script>\n",
       "(function() {\n",
       "  var expanded = false;\n",
       "  var ellipsis = document.getElementById(\"7c0dda59-104d-4b08-8cf2-0bf40804b841\");\n",
       "  ellipsis.addEventListener(\"click\", function() {\n",
       "    var rows = document.getElementsByClassName(\"49954045-8ffe-4c76-a301-eb2493f94a07\");\n",
       "    for (var i = 0; i < rows.length; i++) {\n",
       "      var el = rows[i];\n",
       "      el.style.display = expanded ? \"none\" : \"table-row\";\n",
       "    }\n",
       "    ellipsis.innerHTML = expanded ? \"&hellip;)\" : \"&lsaquo;&lsaquo;&lsaquo;\";\n",
       "    expanded = !expanded;\n",
       "  });\n",
       "})();\n",
       "</script>\n"
      ],
      "text/plain": [
       "GlyphRenderer(id='ac1ad55e-2cc2-47fc-8dd5-41bb62a0e362', ...)"
      ]
     },
     "execution_count": 7,
     "metadata": {},
     "output_type": "execute_result"
    }
   ],
   "source": [
    "xdr = Range1d(start=sprint.MetersBack.max()+2, end=0)  # +2 is for padding\n",
    "ydr = DataRange1d(range_padding=0.05)  \n",
    "\n",
    "plot = Plot(x_range=xdr, y_range=ydr, **plot_options)\n",
    "plot.title.text = \"Usain Bolt vs. 116 years of Olympic sprinters\"\n",
    "plot.add_glyph(source, medal_glyph)\n",
    "plot.add_glyph(source, athlete_glyph)\n",
    "plot.add_glyph(no_olympics_glyph)"
   ]
  },
  {
   "cell_type": "code",
   "execution_count": 8,
   "metadata": {},
   "outputs": [
    {
     "data": {
      "text/html": [
       "\n",
       "<div class=\"bk-root\">\n",
       "    <div class=\"bk-plotdiv\" id=\"d2488599-19b0-4b8f-bafd-afef709c5d14\"></div>\n",
       "</div>"
      ]
     },
     "metadata": {},
     "output_type": "display_data"
    },
    {
     "data": {
      "application/javascript": [
       "(function(root) {\n",
       "  function embed_document(root) {\n",
       "    \n",
       "  var docs_json = {\"f466ca05-97d1-4b9b-afd9-43895fce1252\":{\"roots\":{\"references\":[{\"attributes\":{\"source\":{\"id\":\"f1244a2d-46df-4564-bd24-be3f2bb996f5\",\"type\":\"ColumnDataSource\"}},\"id\":\"658ed043-6a8e-4396-9604-9d2a23b1d703\",\"type\":\"CDSView\"},{\"attributes\":{\"text\":{\"field\":\"SelectedName\"},\"text_baseline\":\"middle\",\"text_font_size\":{\"value\":\"9pt\"},\"x\":{\"field\":\"MetersBack\"},\"x_offset\":{\"value\":10},\"y\":{\"field\":\"Year\"}},\"id\":\"3b6dd9a9-d969-4f95-9f12-f6b6cb816608\",\"type\":\"Text\"},{\"attributes\":{\"fill_alpha\":{\"value\":0.5},\"fill_color\":{\"field\":\"MedalFill\"},\"line_color\":{\"field\":\"MedalLine\"},\"size\":{\"units\":\"screen\",\"value\":10},\"x\":{\"field\":\"MetersBack\"},\"y\":{\"field\":\"Year\"}},\"id\":\"93fa04f6-817a-4bf9-ac23-cb103f41973f\",\"type\":\"Circle\"},{\"attributes\":{\"source\":{\"id\":\"9e4b01c1-f998-4e37-a220-f2c09d7f2f38\",\"type\":\"ColumnDataSource\"}},\"id\":\"5a387ae1-1cd4-451b-8c0e-afc906d3bd7b\",\"type\":\"CDSView\"},{\"attributes\":{\"callback\":null,\"range_padding\":0.05},\"id\":\"4c196db2-16c3-4326-bd9f-90752562d83d\",\"type\":\"DataRange1d\"},{\"attributes\":{\"callback\":null,\"column_names\":[\"Name\",\"Country\",\"Medal\",\"Time\",\"Year\",\"Abbrev\",\"Speed\",\"MetersBack\",\"MedalFill\",\"MedalLine\",\"SelectedName\",\"index\"],\"data\":{\"Abbrev\":[\"JAM\",\"JAM\",\"USA\",\"JAM\",\"TRI\",\"USA\",\"USA\",\"POR\",\"USA\",\"USA\",\"TRI\",\"BAR\",\"CAN\",\"NAM\",\"TRI\",\"GBR\",\"NAM\",\"USA\",\"USA\",\"GBR\",\"USA\",\"USA\",\"USA\",\"CAN\",\"GBR\",\"CUB\",\"BUL\",\"TRI\",\"JAM\",\"URS\",\"URS\",\"USA\",\"JAM\",\"USA\",\"JAM\",\"USA\",\"USA\",\"CUB\",\"CAN\",\"EUA\",\"USA\",\"GBR\",\"USA\",\"USA\",\"AUS\",\"USA\",\"JAM\",\"GBR\",\"USA\",\"USA\",\"PAN\",\"USA\",\"USA\",\"NED\",\"USA\",\"USA\",\"GER\",\"CAN\",\"GBR\",\"GER\",\"GBR\",\"USA\",\"NZL\",\"USA\",\"USA\",\"GBR\",\"USA\",\"USA\",\"USA\",\"RSA\",\"USA\",\"CAN\",\"USA\",\"USA\",\"AUS\",\"USA\",\"USA\",\"USA\",\"USA\",\"USA\",\"AUS\",\"USA\",\"GER\",\"HUN\",\"USA\"],\"Country\":[\"Jamaica\",\"Jamaica\",\"United States\",\"Jamaica\",\"Trinidad and Tobago\",\"United States\",\"United States\",\"Portugal\",\"United States\",\"United States\",\"Trinidad and Tobago\",\"Barbados\",\"Canada\",\"Namibia\",\"Trinidad and Tobago\",\"Britain\",\"Namibia\",\"United States\",\"United States\",\"Britain\",\"United States\",\"United States\",\"United States\",\"Canada\",\"Britain\",\"Cuba\",\"Bulgaria\",\"Trinidad and Tobago\",\"Jamaica\",\"Soviet Union\",\"Soviet Union\",\"United States\",\"Jamaica\",\"United States\",\"Jamaica\",\"United States\",\"United States\",\"Cuba\",\"Canada\",\"United Team of Germany\",\"United States\",\"Britain\",\"United States\",\"United States\",\"Australia\",\"United States\",\"Jamaica\",\"Britain\",\"United States\",\"United States\",\"Panama\",\"United States\",\"United States\",\"Netherlands\",\"United States\",\"United States\",\"Germany\",\"Canada\",\"Britain\",\"Germany\",\"Britain\",\"United States\",\"New Zealand\",\"United States\",\"United States\",\"Britain\",\"United States\",\"United States\",\"United States\",\"South Africa\",\"United States\",\"Canada\",\"United States\",\"United States\",\"Australia\",\"United States\",\"United States\",\"United States\",\"United States\",\"United States\",\"Australia\",\"United States\",\"Germany\",\"Hungary\",\"United States\"],\"Medal\":[\"gold\",\"silver\",\"bronze\",\"gold\",\"silver\",\"bronze\",\"gold\",\"silver\",\"bronze\",\"gold\",\"silver\",\"bronze\",\"gold\",\"silver\",\"bronze\",\"gold\",\"silver\",\"bronze\",\"gold\",\"silver\",\"bronze\",\"gold\",\"silver\",\"bronze\",\"gold\",\"silver\",\"bronze\",\"gold\",\"silver\",\"bronze\",\"gold\",\"silver\",\"bronze\",\"gold\",\"silver\",\"bronze\",\"gold\",\"silver\",\"bronze\",\"gold\",\"silver\",\"bronze\",\"gold\",\"silver\",\"bronze\",\"gold\",\"silver\",\"bronze\",\"gold\",\"silver\",\"bronze\",\"gold\",\"silver\",\"bronze\",\"gold\",\"silver\",\"bronze\",\"gold\",\"silver\",\"bronze\",\"gold\",\"silver\",\"bronze\",\"gold\",\"silver\",\"bronze\",\"gold\",\"silver\",\"bronze\",\"gold\",\"silver\",\"bronze\",\"gold\",\"silver\",\"bronze\",\"gold\",\"silver\",\"bronze\",\"gold\",\"silver\",\"bronze\",\"gold\",\"silver\",\"bronze\",\"bronze\"],\"MedalFill\":[\"#efcf6d\",\"#cccccc\",\"#c59e8a\",\"#efcf6d\",\"#cccccc\",\"#c59e8a\",\"#efcf6d\",\"#cccccc\",\"#c59e8a\",\"#efcf6d\",\"#cccccc\",\"#c59e8a\",\"#efcf6d\",\"#cccccc\",\"#c59e8a\",\"#efcf6d\",\"#cccccc\",\"#c59e8a\",\"#efcf6d\",\"#cccccc\",\"#c59e8a\",\"#efcf6d\",\"#cccccc\",\"#c59e8a\",\"#efcf6d\",\"#cccccc\",\"#c59e8a\",\"#efcf6d\",\"#cccccc\",\"#c59e8a\",\"#efcf6d\",\"#cccccc\",\"#c59e8a\",\"#efcf6d\",\"#cccccc\",\"#c59e8a\",\"#efcf6d\",\"#cccccc\",\"#c59e8a\",\"#efcf6d\",\"#cccccc\",\"#c59e8a\",\"#efcf6d\",\"#cccccc\",\"#c59e8a\",\"#efcf6d\",\"#cccccc\",\"#c59e8a\",\"#efcf6d\",\"#cccccc\",\"#c59e8a\",\"#efcf6d\",\"#cccccc\",\"#c59e8a\",\"#efcf6d\",\"#cccccc\",\"#c59e8a\",\"#efcf6d\",\"#cccccc\",\"#c59e8a\",\"#efcf6d\",\"#cccccc\",\"#c59e8a\",\"#efcf6d\",\"#cccccc\",\"#c59e8a\",\"#efcf6d\",\"#cccccc\",\"#c59e8a\",\"#efcf6d\",\"#cccccc\",\"#c59e8a\",\"#efcf6d\",\"#cccccc\",\"#c59e8a\",\"#efcf6d\",\"#cccccc\",\"#c59e8a\",\"#efcf6d\",\"#cccccc\",\"#c59e8a\",\"#efcf6d\",\"#cccccc\",\"#c59e8a\",\"#c59e8a\"],\"MedalLine\":[\"#c8a850\",\"#b0b0b1\",\"#98715d\",\"#c8a850\",\"#b0b0b1\",\"#98715d\",\"#c8a850\",\"#b0b0b1\",\"#98715d\",\"#c8a850\",\"#b0b0b1\",\"#98715d\",\"#c8a850\",\"#b0b0b1\",\"#98715d\",\"#c8a850\",\"#b0b0b1\",\"#98715d\",\"#c8a850\",\"#b0b0b1\",\"#98715d\",\"#c8a850\",\"#b0b0b1\",\"#98715d\",\"#c8a850\",\"#b0b0b1\",\"#98715d\",\"#c8a850\",\"#b0b0b1\",\"#98715d\",\"#c8a850\",\"#b0b0b1\",\"#98715d\",\"#c8a850\",\"#b0b0b1\",\"#98715d\",\"#c8a850\",\"#b0b0b1\",\"#98715d\",\"#c8a850\",\"#b0b0b1\",\"#98715d\",\"#c8a850\",\"#b0b0b1\",\"#98715d\",\"#c8a850\",\"#b0b0b1\",\"#98715d\",\"#c8a850\",\"#b0b0b1\",\"#98715d\",\"#c8a850\",\"#b0b0b1\",\"#98715d\",\"#c8a850\",\"#b0b0b1\",\"#98715d\",\"#c8a850\",\"#b0b0b1\",\"#98715d\",\"#c8a850\",\"#b0b0b1\",\"#98715d\",\"#c8a850\",\"#b0b0b1\",\"#98715d\",\"#c8a850\",\"#b0b0b1\",\"#98715d\",\"#c8a850\",\"#b0b0b1\",\"#98715d\",\"#c8a850\",\"#b0b0b1\",\"#98715d\",\"#c8a850\",\"#b0b0b1\",\"#98715d\",\"#c8a850\",\"#b0b0b1\",\"#98715d\",\"#c8a850\",\"#b0b0b1\",\"#98715d\",\"#98715d\"],\"MetersBack\":{\"__ndarray__\":\"AAAAAAAAAAD2OrETO7HzPzSH3n8tJvo/+LRJIXLQ4z+4oVs2BggFQE37LXJ6mgZApWIklDbeAUD2G7ItSKkCQBFzDHDwcwNAEXMMcPBzA0A7zUkgLtQMQMAp1V2sVRBA/rQrUbsSAUC4oVs2BggFQMdFF1100QVAuPaQy4qBCkC79onqQSMPQMAp1V2sVRBAV4wxxhhjB0A2Q3IHJ0gLQDvNSSAu1AxAO81JIC7UDEDqKu9YevsVQHzx4sWLFxdALDgfg/MxGEAsOB+D8zEYQO/PDHRHQh1AQ4IAOfAYEUCybdu2bdsRQGZfWb1LHhRAZl9ZvUseFED0/////9MXQEJPwDgDGxtAX4SfXIi6CUDAKdVdrFUQQFLnrrBHehFAiJmZmZmZDUBQWlpaWloWQFBaWlpaWhZAUFpaWlpaFkBQWlpaWloWQCQ5L4v4BBpAHkmSJEmSIEAeSZIkSZIgQN+t7HNITSJA1Imd2ImdHUDUiZ3YiZ0dQNSJndiJnR1AJDkvi/gEGkDUiZ3YiZ0dQNSJndiJnR1AJDkvi/gEGkDUiZ3YiZ0dQB5JkiRJkiBAJDkvi/gEGkAkOS+L+AQaQNSJndiJnR1AqKqqqqqqJUDUtJ8sgU0nQNS0nyyBTSdA363sc0hNIkCoqqqqqqolQNS0nyyBTSdAqKqqqqqqJUDUtJ8sgU0nQNS0nyyBTSdAqKqqqqqqJUDUtJ8sgU0nQNS0nyyBTSdAqKqqqqqqJUDnoosuuugoQOeiiy666ChAiSRJkiQJLECa6xjFuY4tQJrrGMW5ji1A56KLLrroKECJJEmSJAksQIkkSZIkCSxA56KLLrroKEDBZ91ginwqQIkkSZIkCSxA/f////+/M0DYvE9xyRA1QCNJkiRJkjdAI0mSJEmSN0A=\",\"dtype\":\"float64\",\"shape\":[85]},\"Name\":[\"Usain Bolt\",\"Yohan Blake\",\"Justin Gatlin\",\"Usain Bolt\",\"Richard Thompson\",\"Walter Dix\",\"Justin Gatlin\",\"Francis Obikwelu\",\"Maurice Greene\",\"Maurice Greene\",\"Ato Boldon\",\"Obadele Thompson\",\"Donovan Bailey\",\"Frankie Fredericks\",\"Ato Boldon\",\"Linford Christie\",\"Frankie Fredericks\",\"Dennis Mitchell\",\"Carl Lewis\",\"Linford Christie\",\"Calvin Smith\",\"Carl Lewis\",\"Sam Graddy\",\"Ben Johnson\",\"Allan Wells\",\"Silvio Leonard Tartabull\",\"Petar Petrov\",\"Hasely Crawford\",\"Donald Quarrie\",\"Valery Borzov\",\"Valery Borzov\",\"Robert Taylor\",\"Lennox Miller\",\"Jim Hines\",\"Lennox Miller\",\"Charles Greene\",\"Bob Hayes\",\"Enrique Figuerola Camue\",\"Harry Jerome\",\"Armin Hary\",\"David Sime\",\"Peter Radford\",\"Bobby Joe Morrow\",\"W. Thane Baker\",\"Hector Hogan\",\"Lindy Remigino\",\"Herbert McKenley\",\"E. McDonald Bailey\",\"W. Harrison Dillard\",\"H. Norwood \\\"Barney\\\" Ewell\",\"Lloyd LaBeach\",\"Jesse Owens\",\"Ralph Metcalfe\",\"Martinus Osendarp\",\"T. \\\"Eddie\\\" Tolan\",\"Ralph Metcalfe\",\"Arthur Jonath\",\"Percy Williams\",\"John \\\"Jack\\\" London\",\"Georg Lammers\",\"Harold Abrahams\",\"Jackson Scholz\",\"Arthur Porritt\",\"Charles Paddock\",\"Morris Kirksey\",\"Harry Edward\",\"Ralph Craig\",\"Alvah Meyer\",\"Donald Lippincott\",\"Reginald Walker\",\"James Rector\",\"Robert Kerr\",\"Charles \\\"Archie\\\" Hahn\",\"Fay Moulton\",\"Nigel Barker\",\"Charles \\\"Archie\\\" Hahn\",\"Nathaniel Cartmell\",\"Bill Hogenson\",\"Frank Jarvis\",\"J. Walter Tewksbury\",\"Stanley Rowley\",\"Thomas Burke\",\"Fritz Hofmann\",\"Alojz Sokol\",\"Francis Lane\"],\"SelectedName\":[\"\",\"\",\"\",\"\",\"\",\"\",\"\",\"\",\"\",\"\",\"\",\"\",\"\",\"\",\"\",\"\",\"\",\"\",\"Carl Lewis\",\"\",\"\",\"\",\"\",\"\",\"\",\"\",\"\",\"\",\"\",\"\",\"\",\"\",\"\",\"Jim Hines\",\"\",\"\",\"\",\"\",\"\",\"\",\"\",\"\",\"\",\"\",\"\",\"\",\"\",\"\",\"\",\"\",\"\",\"Jesse Owens\",\"\",\"\",\"\",\"\",\"\",\"\",\"\",\"\",\"\",\"\",\"\",\"\",\"\",\"\",\"\",\"\",\"\",\"\",\"\",\"\",\"\",\"\",\"\",\"\",\"\",\"\",\"\",\"\",\"\",\"Thomas Burke\",\"\",\"\",\"\"],\"Speed\":{\"__ndarray__\":\"D9dd9bfEJEA1SIM0SIMkQNPZ5YvTbSRAEB0COMyjJEBnpfVH8jgkQGugzZx/LiRAUs36M/hNJEDfP/mgskgkQPb3DMpvQyRA9vcMym9DJEBSQDMIIAUkQP8yCgKa6yNAUwg0hUBTJEBnpfVH8jgkQN7OkJi3MyRA9dmM748UJEB3uNvKx/UjQP8yCgKa6yNAKaWUUkopJEBoIvL9Zw8kQFJAMwggBSRAUkAzCCAFJEDuitWqiKAjQBw5cuTIkSNAg/MxOB+DI0CD8zE4H4MjQLW+ZrHQPyNAA1ahlXbhI0B2Xdd1XdcjQKh2L0ZPuSNAqHYvRk+5I0AAAAAAAIgjQBMU9wNwXCNAhZ9ciLoZJED/MgoCmusjQFfYI71o3CNAAAAAAAAAJECcm5ubm5sjQJybm5ubmyNAnJubm5ubI0Ccm5ubm5sjQAxNd7DfaiNAwzAMwzAMI0DDMAzDMAwjQO1zSE0w3iJAsRM7sRM7I0CxEzuxEzsjQLETO7ETOyNADE13sN9qI0CxEzuxEzsjQLETO7ETOyNADE13sN9qI0CxEzuxEzsjQMMwDMMwDCNADE13sN9qI0AMTXew32ojQLETO7ETOyNATGgvob2EIkCUJbBpP1kiQJQlsGk/WSJA7XNITTDeIkBMaC+hvYQiQJQlsGk/WSJATGgvob2EIkCUJbBpP1kiQJQlsGk/WSJATGgvob2EIkCUJbBpP1kiQJQlsGk/WSJATGgvob2EIkAvuuiiiy4iQC+66KKLLiJAt23btm3bIUCTLxs0+bIhQJMvGzT5siFAL7rooosuIkC3bdu2bdshQLdt27Zt2yFAL7rooosuIkBKIC7UnAQiQLdt27Zt2yFAq6qqqqqqIEAebd6nuGQgQPD7vu/7vh9A8Pu+7/u+H0A=\",\"dtype\":\"float64\",\"shape\":[85]},\"Time\":{\"__ndarray__\":\"w/UoXI9CI0AAAAAAAIAjQBSuR+F6lCNA4XoUrkdhI0BI4XoUrscjQFK4HoXr0SNAMzMzMzOzI0C4HoXrUbgjQD0K16NwvSNAPQrXo3C9I0B7FK5H4fojQBSuR+F6FCRArkfhehSuI0BI4XoUrscjQM3MzMzMzCNA7FG4HoXrI0AK16NwPQokQBSuR+F6FCRA16NwPQrXI0BxPQrXo/AjQHsUrkfh+iNAexSuR+H6I0DhehSuR2EkQHE9CtejcCRAAAAAAACAJEAAAAAAAIAkQEjhehSuxyRAH4XrUbgeJEApXI/C9SgkQEjhehSuRyRASOF6FK5HJEB7FK5H4XokQClcj8L1qCRAZmZmZmbmI0AUrkfhehQkQKRwPQrXIyRAAAAAAAAAJEBmZmZmZmYkQGZmZmZmZiRAZmZmZmZmJEBmZmZmZmYkQJqZmZmZmSRAAAAAAAAAJUAAAAAAAAAlQDMzMzMzMyVAzczMzMzMJEDNzMzMzMwkQM3MzMzMzCRAmpmZmZmZJEDNzMzMzMwkQM3MzMzMzCRAmpmZmZmZJEDNzMzMzMwkQAAAAAAAACVAmpmZmZmZJECamZmZmZkkQM3MzMzMzCRAmpmZmZmZJUDNzMzMzMwlQM3MzMzMzCVAMzMzMzMzJUCamZmZmZklQM3MzMzMzCVAmpmZmZmZJUDNzMzMzMwlQM3MzMzMzCVAmpmZmZmZJUDNzMzMzMwlQM3MzMzMzCVAmpmZmZmZJUAAAAAAAAAmQAAAAAAAACZAZmZmZmZmJkCamZmZmZkmQJqZmZmZmSZAAAAAAAAAJkBmZmZmZmYmQGZmZmZmZiZAAAAAAAAAJkAzMzMzMzMmQGZmZmZmZiZAAAAAAAAAKEBmZmZmZmYoQDMzMzMzMylAMzMzMzMzKUA=\",\"dtype\":\"float64\",\"shape\":[85]},\"Year\":[2012,2012,2012,2008,2008,2008,2004,2004,2004,2000,2000,2000,1996,1996,1996,1992,1992,1992,1988,1988,1988,1984,1984,1984,1980,1980,1980,1976,1976,1976,1972,1972,1972,1968,1968,1968,1964,1964,1964,1960,1960,1960,1956,1956,1956,1952,1952,1952,1948,1948,1948,1936,1936,1936,1932,1932,1932,1928,1928,1928,1924,1924,1924,1920,1920,1920,1912,1912,1912,1908,1908,1908,1906,1906,1906,1904,1904,1904,1900,1900,1900,1896,1896,1896,1896],\"index\":[0,1,2,3,4,5,6,7,8,9,10,11,12,13,14,15,16,17,18,19,20,21,22,23,24,25,26,27,28,29,30,31,32,33,34,35,36,37,38,39,40,41,42,43,44,45,46,47,48,49,50,51,52,53,54,55,56,57,58,59,60,61,62,63,64,65,66,67,68,69,70,71,72,73,74,75,76,77,78,79,80,81,82,83,84]},\"selected\":null,\"selection_policy\":null},\"id\":\"f1244a2d-46df-4564-bd24-be3f2bb996f5\",\"type\":\"ColumnDataSource\"},{\"attributes\":{\"text\":{\"value\":\"No Olympics in 1940 or 1944\"},\"text_align\":\"center\",\"text_baseline\":\"middle\",\"text_color\":{\"value\":\"silver\"},\"text_font_size\":{\"value\":\"9pt\"},\"text_font_style\":\"italic\",\"x\":{\"value\":7.5},\"y\":{\"value\":1942}},\"id\":\"cdfe3b04-ef46-47d9-8ef4-66d755d07517\",\"type\":\"Text\"},{\"attributes\":{},\"id\":\"85159dfa-2a0b-4da4-ba2a-98f9904e092b\",\"type\":\"LinearScale\"},{\"attributes\":{\"data_source\":{\"id\":\"9e4b01c1-f998-4e37-a220-f2c09d7f2f38\",\"type\":\"ColumnDataSource\"},\"glyph\":{\"id\":\"cdfe3b04-ef46-47d9-8ef4-66d755d07517\",\"type\":\"Text\"},\"hover_glyph\":null,\"muted_glyph\":null,\"view\":{\"id\":\"5a387ae1-1cd4-451b-8c0e-afc906d3bd7b\",\"type\":\"CDSView\"}},\"id\":\"ac1ad55e-2cc2-47fc-8dd5-41bb62a0e362\",\"type\":\"GlyphRenderer\"},{\"attributes\":{\"callback\":null,\"end\":0,\"start\":25.571428571428566},\"id\":\"8594f280-6883-4f3e-b33d-a14cf4f76040\",\"type\":\"Range1d\"},{\"attributes\":{\"active_drag\":\"auto\",\"active_inspect\":\"auto\",\"active_scroll\":\"auto\",\"active_tap\":\"auto\"},\"id\":\"cbf51168-f58f-4a9d-bd6b-d2ac58af95be\",\"type\":\"Toolbar\"},{\"attributes\":{},\"id\":\"9f1cf8d8-1cbc-4fc3-b78c-f99bfc5cedc2\",\"type\":\"LinearScale\"},{\"attributes\":{\"callback\":null,\"data\":{},\"selected\":null,\"selection_policy\":null},\"id\":\"9e4b01c1-f998-4e37-a220-f2c09d7f2f38\",\"type\":\"ColumnDataSource\"},{\"attributes\":{\"source\":{\"id\":\"f1244a2d-46df-4564-bd24-be3f2bb996f5\",\"type\":\"ColumnDataSource\"}},\"id\":\"5310dea2-2da9-4707-9c90-d1216d5dfad7\",\"type\":\"CDSView\"},{\"attributes\":{\"outline_line_color\":{\"value\":null},\"plot_height\":480,\"plot_width\":800,\"renderers\":[{\"id\":\"06c139d3-30d9-41e2-af28-35bfe85bc3d5\",\"type\":\"GlyphRenderer\"},{\"id\":\"61fc0b47-be93-4e93-8890-d50dc12b8c05\",\"type\":\"GlyphRenderer\"},{\"id\":\"ac1ad55e-2cc2-47fc-8dd5-41bb62a0e362\",\"type\":\"GlyphRenderer\"}],\"title\":{\"id\":\"bd0757f4-7839-438e-b3a1-eb247a8048ae\",\"type\":\"Title\"},\"toolbar\":{\"id\":\"cbf51168-f58f-4a9d-bd6b-d2ac58af95be\",\"type\":\"Toolbar\"},\"toolbar_location\":null,\"x_range\":{\"id\":\"8594f280-6883-4f3e-b33d-a14cf4f76040\",\"type\":\"Range1d\"},\"x_scale\":{\"id\":\"85159dfa-2a0b-4da4-ba2a-98f9904e092b\",\"type\":\"LinearScale\"},\"y_range\":{\"id\":\"4c196db2-16c3-4326-bd9f-90752562d83d\",\"type\":\"DataRange1d\"},\"y_scale\":{\"id\":\"9f1cf8d8-1cbc-4fc3-b78c-f99bfc5cedc2\",\"type\":\"LinearScale\"}},\"id\":\"18ae8613-e3ec-453f-832c-712c2586bf82\",\"type\":\"Plot\"},{\"attributes\":{\"plot\":null,\"text\":\"Usain Bolt vs. 116 years of Olympic sprinters\"},\"id\":\"bd0757f4-7839-438e-b3a1-eb247a8048ae\",\"type\":\"Title\"},{\"attributes\":{\"data_source\":{\"id\":\"f1244a2d-46df-4564-bd24-be3f2bb996f5\",\"type\":\"ColumnDataSource\"},\"glyph\":{\"id\":\"3b6dd9a9-d969-4f95-9f12-f6b6cb816608\",\"type\":\"Text\"},\"hover_glyph\":null,\"muted_glyph\":null,\"view\":{\"id\":\"5310dea2-2da9-4707-9c90-d1216d5dfad7\",\"type\":\"CDSView\"}},\"id\":\"61fc0b47-be93-4e93-8890-d50dc12b8c05\",\"type\":\"GlyphRenderer\"},{\"attributes\":{\"data_source\":{\"id\":\"f1244a2d-46df-4564-bd24-be3f2bb996f5\",\"type\":\"ColumnDataSource\"},\"glyph\":{\"id\":\"93fa04f6-817a-4bf9-ac23-cb103f41973f\",\"type\":\"Circle\"},\"hover_glyph\":null,\"muted_glyph\":null,\"view\":{\"id\":\"658ed043-6a8e-4396-9604-9d2a23b1d703\",\"type\":\"CDSView\"}},\"id\":\"06c139d3-30d9-41e2-af28-35bfe85bc3d5\",\"type\":\"GlyphRenderer\"}],\"root_ids\":[\"18ae8613-e3ec-453f-832c-712c2586bf82\"]},\"title\":\"Bokeh Application\",\"version\":\"0.12.15\"}};\n",
       "  var render_items = [{\"docid\":\"f466ca05-97d1-4b9b-afd9-43895fce1252\",\"elementid\":\"d2488599-19b0-4b8f-bafd-afef709c5d14\",\"modelid\":\"18ae8613-e3ec-453f-832c-712c2586bf82\"}];\n",
       "  root.Bokeh.embed.embed_items_notebook(docs_json, render_items);\n",
       "\n",
       "  }\n",
       "  if (root.Bokeh !== undefined) {\n",
       "    embed_document(root);\n",
       "  } else {\n",
       "    var attempts = 0;\n",
       "    var timer = setInterval(function(root) {\n",
       "      if (root.Bokeh !== undefined) {\n",
       "        embed_document(root);\n",
       "        clearInterval(timer);\n",
       "      }\n",
       "      attempts++;\n",
       "      if (attempts > 100) {\n",
       "        console.log(\"Bokeh: ERROR: Unable to run BokehJS code because BokehJS library is missing\")\n",
       "        clearInterval(timer);\n",
       "      }\n",
       "    }, 10, root)\n",
       "  }\n",
       "})(window);"
      ],
      "application/vnd.bokehjs_exec.v0+json": ""
     },
     "metadata": {
      "application/vnd.bokehjs_exec.v0+json": {
       "id": "18ae8613-e3ec-453f-832c-712c2586bf82"
      }
     },
     "output_type": "display_data"
    }
   ],
   "source": [
    "show(plot)"
   ]
  },
  {
   "cell_type": "markdown",
   "metadata": {},
   "source": [
    "### Adding Axes and Grids\n",
    "\n",
    "Next we add in models for the `Axis` and `Grids` that we would like to see. Since we want to exert more control over the appearance, we can choose specific tickers for the axes models to use (`SingleIntervalTicker` in this case). We add these guides to the plot using the `plot.add_layout` method. "
   ]
  },
  {
   "cell_type": "code",
   "execution_count": 9,
   "metadata": {},
   "outputs": [],
   "source": [
    "from bokeh.models import Grid, LinearAxis, SingleIntervalTicker"
   ]
  },
  {
   "cell_type": "code",
   "execution_count": 10,
   "metadata": {},
   "outputs": [
    {
     "data": {
      "text/html": [
       "<div style=\"display: table;\"><div style=\"display: table-row;\"><div style=\"display: table-cell;\"><b title=\"bokeh.models.renderers.GlyphRenderer\">GlyphRenderer</b>(</div><div style=\"display: table-cell;\">id&nbsp;=&nbsp;'9344a536-6662-4124-a76d-28b6b8c1a72b', <span id=\"640225f6-29ac-4e32-a377-f00e7c846524\" style=\"cursor: pointer;\">&hellip;)</span></div></div><div class=\"9d05af7b-5c70-43cf-b079-92b4aa399217\" style=\"display: none;\"><div style=\"display: table-cell;\"></div><div style=\"display: table-cell;\">data_source&nbsp;=&nbsp;ColumnDataSource(id='3c66fd0a-5355-4001-975d-58bbfe350b49', ...),</div></div><div class=\"9d05af7b-5c70-43cf-b079-92b4aa399217\" style=\"display: none;\"><div style=\"display: table-cell;\"></div><div style=\"display: table-cell;\">glyph&nbsp;=&nbsp;Text(id='cdfe3b04-ef46-47d9-8ef4-66d755d07517', ...),</div></div><div class=\"9d05af7b-5c70-43cf-b079-92b4aa399217\" style=\"display: none;\"><div style=\"display: table-cell;\"></div><div style=\"display: table-cell;\">hover_glyph&nbsp;=&nbsp;None,</div></div><div class=\"9d05af7b-5c70-43cf-b079-92b4aa399217\" style=\"display: none;\"><div style=\"display: table-cell;\"></div><div style=\"display: table-cell;\">js_event_callbacks&nbsp;=&nbsp;{},</div></div><div class=\"9d05af7b-5c70-43cf-b079-92b4aa399217\" style=\"display: none;\"><div style=\"display: table-cell;\"></div><div style=\"display: table-cell;\">js_property_callbacks&nbsp;=&nbsp;{},</div></div><div class=\"9d05af7b-5c70-43cf-b079-92b4aa399217\" style=\"display: none;\"><div style=\"display: table-cell;\"></div><div style=\"display: table-cell;\">level&nbsp;=&nbsp;'glyph',</div></div><div class=\"9d05af7b-5c70-43cf-b079-92b4aa399217\" style=\"display: none;\"><div style=\"display: table-cell;\"></div><div style=\"display: table-cell;\">muted&nbsp;=&nbsp;False,</div></div><div class=\"9d05af7b-5c70-43cf-b079-92b4aa399217\" style=\"display: none;\"><div style=\"display: table-cell;\"></div><div style=\"display: table-cell;\">muted_glyph&nbsp;=&nbsp;None,</div></div><div class=\"9d05af7b-5c70-43cf-b079-92b4aa399217\" style=\"display: none;\"><div style=\"display: table-cell;\"></div><div style=\"display: table-cell;\">name&nbsp;=&nbsp;None,</div></div><div class=\"9d05af7b-5c70-43cf-b079-92b4aa399217\" style=\"display: none;\"><div style=\"display: table-cell;\"></div><div style=\"display: table-cell;\">nonselection_glyph&nbsp;=&nbsp;'auto',</div></div><div class=\"9d05af7b-5c70-43cf-b079-92b4aa399217\" style=\"display: none;\"><div style=\"display: table-cell;\"></div><div style=\"display: table-cell;\">selection_glyph&nbsp;=&nbsp;'auto',</div></div><div class=\"9d05af7b-5c70-43cf-b079-92b4aa399217\" style=\"display: none;\"><div style=\"display: table-cell;\"></div><div style=\"display: table-cell;\">subscribed_events&nbsp;=&nbsp;[],</div></div><div class=\"9d05af7b-5c70-43cf-b079-92b4aa399217\" style=\"display: none;\"><div style=\"display: table-cell;\"></div><div style=\"display: table-cell;\">tags&nbsp;=&nbsp;[],</div></div><div class=\"9d05af7b-5c70-43cf-b079-92b4aa399217\" style=\"display: none;\"><div style=\"display: table-cell;\"></div><div style=\"display: table-cell;\">view&nbsp;=&nbsp;CDSView(id='156cc4d7-f3c2-484b-a122-9ed244d4aa15', ...),</div></div><div class=\"9d05af7b-5c70-43cf-b079-92b4aa399217\" style=\"display: none;\"><div style=\"display: table-cell;\"></div><div style=\"display: table-cell;\">visible&nbsp;=&nbsp;True,</div></div><div class=\"9d05af7b-5c70-43cf-b079-92b4aa399217\" style=\"display: none;\"><div style=\"display: table-cell;\"></div><div style=\"display: table-cell;\">x_range_name&nbsp;=&nbsp;'default',</div></div><div class=\"9d05af7b-5c70-43cf-b079-92b4aa399217\" style=\"display: none;\"><div style=\"display: table-cell;\"></div><div style=\"display: table-cell;\">y_range_name&nbsp;=&nbsp;'default')</div></div></div>\n",
       "<script>\n",
       "(function() {\n",
       "  var expanded = false;\n",
       "  var ellipsis = document.getElementById(\"640225f6-29ac-4e32-a377-f00e7c846524\");\n",
       "  ellipsis.addEventListener(\"click\", function() {\n",
       "    var rows = document.getElementsByClassName(\"9d05af7b-5c70-43cf-b079-92b4aa399217\");\n",
       "    for (var i = 0; i < rows.length; i++) {\n",
       "      var el = rows[i];\n",
       "      el.style.display = expanded ? \"none\" : \"table-row\";\n",
       "    }\n",
       "    ellipsis.innerHTML = expanded ? \"&hellip;)\" : \"&lsaquo;&lsaquo;&lsaquo;\";\n",
       "    expanded = !expanded;\n",
       "  });\n",
       "})();\n",
       "</script>\n"
      ],
      "text/plain": [
       "GlyphRenderer(id='9344a536-6662-4124-a76d-28b6b8c1a72b', ...)"
      ]
     },
     "execution_count": 10,
     "metadata": {},
     "output_type": "execute_result"
    }
   ],
   "source": [
    "xdr = Range1d(start=sprint.MetersBack.max()+2, end=0)  # +2 is for padding\n",
    "ydr = DataRange1d(range_padding=0.05)  \n",
    "\n",
    "plot = Plot(x_range=xdr, y_range=ydr, **plot_options)\n",
    "plot.title.text = \"Usain Bolt vs. 116 years of Olympic sprinters\"\n",
    "plot.add_glyph(source, medal_glyph)\n",
    "plot.add_glyph(source, athlete_glyph)\n",
    "plot.add_glyph(no_olympics_glyph)"
   ]
  },
  {
   "cell_type": "code",
   "execution_count": 11,
   "metadata": {},
   "outputs": [],
   "source": [
    "xticker = SingleIntervalTicker(interval=5, num_minor_ticks=0)\n",
    "xaxis = LinearAxis(ticker=xticker, axis_line_color=None, major_tick_line_color=None,\n",
    "                   axis_label=\"Meters behind 2012 Bolt\", axis_label_text_font_size=\"10pt\", \n",
    "                   axis_label_text_font_style=\"bold\")\n",
    "plot.add_layout(xaxis, \"below\")\n",
    "\n",
    "xgrid = Grid(dimension=0, ticker=xaxis.ticker, grid_line_dash=\"dashed\")\n",
    "plot.add_layout(xgrid)\n",
    "\n",
    "yticker = SingleIntervalTicker(interval=12, num_minor_ticks=0)\n",
    "yaxis = LinearAxis(ticker=yticker, major_tick_in=-5, major_tick_out=10)\n",
    "plot.add_layout(yaxis, \"right\")"
   ]
  },
  {
   "cell_type": "code",
   "execution_count": 12,
   "metadata": {},
   "outputs": [
    {
     "data": {
      "text/html": [
       "\n",
       "<div class=\"bk-root\">\n",
       "    <div class=\"bk-plotdiv\" id=\"e03e7c78-6ff9-4794-90f3-d4f481bdc55e\"></div>\n",
       "</div>"
      ]
     },
     "metadata": {},
     "output_type": "display_data"
    },
    {
     "data": {
      "application/javascript": [
       "(function(root) {\n",
       "  function embed_document(root) {\n",
       "    \n",
       "  var docs_json = {\"00ec1267-4d87-4f89-b1f3-e9c950b9f8c0\":{\"roots\":{\"references\":[{\"attributes\":{\"callback\":null,\"data\":{},\"selected\":null,\"selection_policy\":null},\"id\":\"3c66fd0a-5355-4001-975d-58bbfe350b49\",\"type\":\"ColumnDataSource\"},{\"attributes\":{\"interval\":12,\"num_minor_ticks\":0},\"id\":\"5aea4d47-0220-4a5a-a8df-d49e4e1558f8\",\"type\":\"SingleIntervalTicker\"},{\"attributes\":{},\"id\":\"27863005-da83-471e-b30e-03fbe53b448d\",\"type\":\"BasicTickFormatter\"},{\"attributes\":{\"axis_label\":\"Meters behind 2012 Bolt\",\"axis_label_text_font_size\":{\"value\":\"10pt\"},\"axis_label_text_font_style\":\"bold\",\"axis_line_color\":{\"value\":null},\"formatter\":{\"id\":\"27863005-da83-471e-b30e-03fbe53b448d\",\"type\":\"BasicTickFormatter\"},\"major_tick_line_color\":{\"value\":null},\"plot\":{\"id\":\"fdac3ce5-e2af-453a-a052-aa808a865be1\",\"type\":\"Plot\"},\"ticker\":{\"id\":\"bf49e002-f35e-4e42-8723-325617bfd411\",\"type\":\"SingleIntervalTicker\"}},\"id\":\"758e7c21-c53a-4d65-b2b2-23c2fe17fb3e\",\"type\":\"LinearAxis\"},{\"attributes\":{\"text\":{\"field\":\"SelectedName\"},\"text_baseline\":\"middle\",\"text_font_size\":{\"value\":\"9pt\"},\"x\":{\"field\":\"MetersBack\"},\"x_offset\":{\"value\":10},\"y\":{\"field\":\"Year\"}},\"id\":\"3b6dd9a9-d969-4f95-9f12-f6b6cb816608\",\"type\":\"Text\"},{\"attributes\":{\"grid_line_dash\":[6],\"plot\":{\"id\":\"fdac3ce5-e2af-453a-a052-aa808a865be1\",\"type\":\"Plot\"},\"ticker\":{\"id\":\"bf49e002-f35e-4e42-8723-325617bfd411\",\"type\":\"SingleIntervalTicker\"}},\"id\":\"507bef87-6a1d-42a0-97c8-46b8d879f399\",\"type\":\"Grid\"},{\"attributes\":{\"below\":[{\"id\":\"758e7c21-c53a-4d65-b2b2-23c2fe17fb3e\",\"type\":\"LinearAxis\"}],\"outline_line_color\":{\"value\":null},\"plot_height\":480,\"plot_width\":800,\"renderers\":[{\"id\":\"1f7d7385-00ed-4f0f-8c66-da24d5f807bf\",\"type\":\"GlyphRenderer\"},{\"id\":\"abb5c4ed-7c87-419e-bae4-05d1152434de\",\"type\":\"GlyphRenderer\"},{\"id\":\"9344a536-6662-4124-a76d-28b6b8c1a72b\",\"type\":\"GlyphRenderer\"},{\"id\":\"758e7c21-c53a-4d65-b2b2-23c2fe17fb3e\",\"type\":\"LinearAxis\"},{\"id\":\"507bef87-6a1d-42a0-97c8-46b8d879f399\",\"type\":\"Grid\"},{\"id\":\"f83ac394-4035-4b97-b7b6-11874d1c1c60\",\"type\":\"LinearAxis\"}],\"right\":[{\"id\":\"f83ac394-4035-4b97-b7b6-11874d1c1c60\",\"type\":\"LinearAxis\"}],\"title\":{\"id\":\"c797b640-2aeb-45c7-8519-0f13d210ffc9\",\"type\":\"Title\"},\"toolbar\":{\"id\":\"93053fb4-6319-4ddd-ab11-a580b120fb4e\",\"type\":\"Toolbar\"},\"toolbar_location\":null,\"x_range\":{\"id\":\"70c5b32b-2ee1-4cc9-8d60-4b8c0d837f46\",\"type\":\"Range1d\"},\"x_scale\":{\"id\":\"97fe51e6-566c-453a-b622-f5401166ea4c\",\"type\":\"LinearScale\"},\"y_range\":{\"id\":\"1ee03713-0f6a-47e1-a5be-6f01cc2ddf73\",\"type\":\"DataRange1d\"},\"y_scale\":{\"id\":\"98f4ab3d-6b87-4f64-b0f8-f1750112b55f\",\"type\":\"LinearScale\"}},\"id\":\"fdac3ce5-e2af-453a-a052-aa808a865be1\",\"type\":\"Plot\"},{\"attributes\":{\"fill_alpha\":{\"value\":0.5},\"fill_color\":{\"field\":\"MedalFill\"},\"line_color\":{\"field\":\"MedalLine\"},\"size\":{\"units\":\"screen\",\"value\":10},\"x\":{\"field\":\"MetersBack\"},\"y\":{\"field\":\"Year\"}},\"id\":\"93fa04f6-817a-4bf9-ac23-cb103f41973f\",\"type\":\"Circle\"},{\"attributes\":{},\"id\":\"94973740-27e6-4113-a38e-7f839494875f\",\"type\":\"BasicTickFormatter\"},{\"attributes\":{\"active_drag\":\"auto\",\"active_inspect\":\"auto\",\"active_scroll\":\"auto\",\"active_tap\":\"auto\"},\"id\":\"93053fb4-6319-4ddd-ab11-a580b120fb4e\",\"type\":\"Toolbar\"},{\"attributes\":{\"source\":{\"id\":\"3c66fd0a-5355-4001-975d-58bbfe350b49\",\"type\":\"ColumnDataSource\"}},\"id\":\"156cc4d7-f3c2-484b-a122-9ed244d4aa15\",\"type\":\"CDSView\"},{\"attributes\":{\"callback\":null,\"end\":0,\"start\":25.571428571428566},\"id\":\"70c5b32b-2ee1-4cc9-8d60-4b8c0d837f46\",\"type\":\"Range1d\"},{\"attributes\":{\"callback\":null,\"range_padding\":0.05},\"id\":\"1ee03713-0f6a-47e1-a5be-6f01cc2ddf73\",\"type\":\"DataRange1d\"},{\"attributes\":{\"callback\":null,\"column_names\":[\"Name\",\"Country\",\"Medal\",\"Time\",\"Year\",\"Abbrev\",\"Speed\",\"MetersBack\",\"MedalFill\",\"MedalLine\",\"SelectedName\",\"index\"],\"data\":{\"Abbrev\":[\"JAM\",\"JAM\",\"USA\",\"JAM\",\"TRI\",\"USA\",\"USA\",\"POR\",\"USA\",\"USA\",\"TRI\",\"BAR\",\"CAN\",\"NAM\",\"TRI\",\"GBR\",\"NAM\",\"USA\",\"USA\",\"GBR\",\"USA\",\"USA\",\"USA\",\"CAN\",\"GBR\",\"CUB\",\"BUL\",\"TRI\",\"JAM\",\"URS\",\"URS\",\"USA\",\"JAM\",\"USA\",\"JAM\",\"USA\",\"USA\",\"CUB\",\"CAN\",\"EUA\",\"USA\",\"GBR\",\"USA\",\"USA\",\"AUS\",\"USA\",\"JAM\",\"GBR\",\"USA\",\"USA\",\"PAN\",\"USA\",\"USA\",\"NED\",\"USA\",\"USA\",\"GER\",\"CAN\",\"GBR\",\"GER\",\"GBR\",\"USA\",\"NZL\",\"USA\",\"USA\",\"GBR\",\"USA\",\"USA\",\"USA\",\"RSA\",\"USA\",\"CAN\",\"USA\",\"USA\",\"AUS\",\"USA\",\"USA\",\"USA\",\"USA\",\"USA\",\"AUS\",\"USA\",\"GER\",\"HUN\",\"USA\"],\"Country\":[\"Jamaica\",\"Jamaica\",\"United States\",\"Jamaica\",\"Trinidad and Tobago\",\"United States\",\"United States\",\"Portugal\",\"United States\",\"United States\",\"Trinidad and Tobago\",\"Barbados\",\"Canada\",\"Namibia\",\"Trinidad and Tobago\",\"Britain\",\"Namibia\",\"United States\",\"United States\",\"Britain\",\"United States\",\"United States\",\"United States\",\"Canada\",\"Britain\",\"Cuba\",\"Bulgaria\",\"Trinidad and Tobago\",\"Jamaica\",\"Soviet Union\",\"Soviet Union\",\"United States\",\"Jamaica\",\"United States\",\"Jamaica\",\"United States\",\"United States\",\"Cuba\",\"Canada\",\"United Team of Germany\",\"United States\",\"Britain\",\"United States\",\"United States\",\"Australia\",\"United States\",\"Jamaica\",\"Britain\",\"United States\",\"United States\",\"Panama\",\"United States\",\"United States\",\"Netherlands\",\"United States\",\"United States\",\"Germany\",\"Canada\",\"Britain\",\"Germany\",\"Britain\",\"United States\",\"New Zealand\",\"United States\",\"United States\",\"Britain\",\"United States\",\"United States\",\"United States\",\"South Africa\",\"United States\",\"Canada\",\"United States\",\"United States\",\"Australia\",\"United States\",\"United States\",\"United States\",\"United States\",\"United States\",\"Australia\",\"United States\",\"Germany\",\"Hungary\",\"United States\"],\"Medal\":[\"gold\",\"silver\",\"bronze\",\"gold\",\"silver\",\"bronze\",\"gold\",\"silver\",\"bronze\",\"gold\",\"silver\",\"bronze\",\"gold\",\"silver\",\"bronze\",\"gold\",\"silver\",\"bronze\",\"gold\",\"silver\",\"bronze\",\"gold\",\"silver\",\"bronze\",\"gold\",\"silver\",\"bronze\",\"gold\",\"silver\",\"bronze\",\"gold\",\"silver\",\"bronze\",\"gold\",\"silver\",\"bronze\",\"gold\",\"silver\",\"bronze\",\"gold\",\"silver\",\"bronze\",\"gold\",\"silver\",\"bronze\",\"gold\",\"silver\",\"bronze\",\"gold\",\"silver\",\"bronze\",\"gold\",\"silver\",\"bronze\",\"gold\",\"silver\",\"bronze\",\"gold\",\"silver\",\"bronze\",\"gold\",\"silver\",\"bronze\",\"gold\",\"silver\",\"bronze\",\"gold\",\"silver\",\"bronze\",\"gold\",\"silver\",\"bronze\",\"gold\",\"silver\",\"bronze\",\"gold\",\"silver\",\"bronze\",\"gold\",\"silver\",\"bronze\",\"gold\",\"silver\",\"bronze\",\"bronze\"],\"MedalFill\":[\"#efcf6d\",\"#cccccc\",\"#c59e8a\",\"#efcf6d\",\"#cccccc\",\"#c59e8a\",\"#efcf6d\",\"#cccccc\",\"#c59e8a\",\"#efcf6d\",\"#cccccc\",\"#c59e8a\",\"#efcf6d\",\"#cccccc\",\"#c59e8a\",\"#efcf6d\",\"#cccccc\",\"#c59e8a\",\"#efcf6d\",\"#cccccc\",\"#c59e8a\",\"#efcf6d\",\"#cccccc\",\"#c59e8a\",\"#efcf6d\",\"#cccccc\",\"#c59e8a\",\"#efcf6d\",\"#cccccc\",\"#c59e8a\",\"#efcf6d\",\"#cccccc\",\"#c59e8a\",\"#efcf6d\",\"#cccccc\",\"#c59e8a\",\"#efcf6d\",\"#cccccc\",\"#c59e8a\",\"#efcf6d\",\"#cccccc\",\"#c59e8a\",\"#efcf6d\",\"#cccccc\",\"#c59e8a\",\"#efcf6d\",\"#cccccc\",\"#c59e8a\",\"#efcf6d\",\"#cccccc\",\"#c59e8a\",\"#efcf6d\",\"#cccccc\",\"#c59e8a\",\"#efcf6d\",\"#cccccc\",\"#c59e8a\",\"#efcf6d\",\"#cccccc\",\"#c59e8a\",\"#efcf6d\",\"#cccccc\",\"#c59e8a\",\"#efcf6d\",\"#cccccc\",\"#c59e8a\",\"#efcf6d\",\"#cccccc\",\"#c59e8a\",\"#efcf6d\",\"#cccccc\",\"#c59e8a\",\"#efcf6d\",\"#cccccc\",\"#c59e8a\",\"#efcf6d\",\"#cccccc\",\"#c59e8a\",\"#efcf6d\",\"#cccccc\",\"#c59e8a\",\"#efcf6d\",\"#cccccc\",\"#c59e8a\",\"#c59e8a\"],\"MedalLine\":[\"#c8a850\",\"#b0b0b1\",\"#98715d\",\"#c8a850\",\"#b0b0b1\",\"#98715d\",\"#c8a850\",\"#b0b0b1\",\"#98715d\",\"#c8a850\",\"#b0b0b1\",\"#98715d\",\"#c8a850\",\"#b0b0b1\",\"#98715d\",\"#c8a850\",\"#b0b0b1\",\"#98715d\",\"#c8a850\",\"#b0b0b1\",\"#98715d\",\"#c8a850\",\"#b0b0b1\",\"#98715d\",\"#c8a850\",\"#b0b0b1\",\"#98715d\",\"#c8a850\",\"#b0b0b1\",\"#98715d\",\"#c8a850\",\"#b0b0b1\",\"#98715d\",\"#c8a850\",\"#b0b0b1\",\"#98715d\",\"#c8a850\",\"#b0b0b1\",\"#98715d\",\"#c8a850\",\"#b0b0b1\",\"#98715d\",\"#c8a850\",\"#b0b0b1\",\"#98715d\",\"#c8a850\",\"#b0b0b1\",\"#98715d\",\"#c8a850\",\"#b0b0b1\",\"#98715d\",\"#c8a850\",\"#b0b0b1\",\"#98715d\",\"#c8a850\",\"#b0b0b1\",\"#98715d\",\"#c8a850\",\"#b0b0b1\",\"#98715d\",\"#c8a850\",\"#b0b0b1\",\"#98715d\",\"#c8a850\",\"#b0b0b1\",\"#98715d\",\"#c8a850\",\"#b0b0b1\",\"#98715d\",\"#c8a850\",\"#b0b0b1\",\"#98715d\",\"#c8a850\",\"#b0b0b1\",\"#98715d\",\"#c8a850\",\"#b0b0b1\",\"#98715d\",\"#c8a850\",\"#b0b0b1\",\"#98715d\",\"#c8a850\",\"#b0b0b1\",\"#98715d\",\"#98715d\"],\"MetersBack\":{\"__ndarray__\":\"AAAAAAAAAAD2OrETO7HzPzSH3n8tJvo/+LRJIXLQ4z+4oVs2BggFQE37LXJ6mgZApWIklDbeAUD2G7ItSKkCQBFzDHDwcwNAEXMMcPBzA0A7zUkgLtQMQMAp1V2sVRBA/rQrUbsSAUC4oVs2BggFQMdFF1100QVAuPaQy4qBCkC79onqQSMPQMAp1V2sVRBAV4wxxhhjB0A2Q3IHJ0gLQDvNSSAu1AxAO81JIC7UDEDqKu9YevsVQHzx4sWLFxdALDgfg/MxGEAsOB+D8zEYQO/PDHRHQh1AQ4IAOfAYEUCybdu2bdsRQGZfWb1LHhRAZl9ZvUseFED0/////9MXQEJPwDgDGxtAX4SfXIi6CUDAKdVdrFUQQFLnrrBHehFAiJmZmZmZDUBQWlpaWloWQFBaWlpaWhZAUFpaWlpaFkBQWlpaWloWQCQ5L4v4BBpAHkmSJEmSIEAeSZIkSZIgQN+t7HNITSJA1Imd2ImdHUDUiZ3YiZ0dQNSJndiJnR1AJDkvi/gEGkDUiZ3YiZ0dQNSJndiJnR1AJDkvi/gEGkDUiZ3YiZ0dQB5JkiRJkiBAJDkvi/gEGkAkOS+L+AQaQNSJndiJnR1AqKqqqqqqJUDUtJ8sgU0nQNS0nyyBTSdA363sc0hNIkCoqqqqqqolQNS0nyyBTSdAqKqqqqqqJUDUtJ8sgU0nQNS0nyyBTSdAqKqqqqqqJUDUtJ8sgU0nQNS0nyyBTSdAqKqqqqqqJUDnoosuuugoQOeiiy666ChAiSRJkiQJLECa6xjFuY4tQJrrGMW5ji1A56KLLrroKECJJEmSJAksQIkkSZIkCSxA56KLLrroKEDBZ91ginwqQIkkSZIkCSxA/f////+/M0DYvE9xyRA1QCNJkiRJkjdAI0mSJEmSN0A=\",\"dtype\":\"float64\",\"shape\":[85]},\"Name\":[\"Usain Bolt\",\"Yohan Blake\",\"Justin Gatlin\",\"Usain Bolt\",\"Richard Thompson\",\"Walter Dix\",\"Justin Gatlin\",\"Francis Obikwelu\",\"Maurice Greene\",\"Maurice Greene\",\"Ato Boldon\",\"Obadele Thompson\",\"Donovan Bailey\",\"Frankie Fredericks\",\"Ato Boldon\",\"Linford Christie\",\"Frankie Fredericks\",\"Dennis Mitchell\",\"Carl Lewis\",\"Linford Christie\",\"Calvin Smith\",\"Carl Lewis\",\"Sam Graddy\",\"Ben Johnson\",\"Allan Wells\",\"Silvio Leonard Tartabull\",\"Petar Petrov\",\"Hasely Crawford\",\"Donald Quarrie\",\"Valery Borzov\",\"Valery Borzov\",\"Robert Taylor\",\"Lennox Miller\",\"Jim Hines\",\"Lennox Miller\",\"Charles Greene\",\"Bob Hayes\",\"Enrique Figuerola Camue\",\"Harry Jerome\",\"Armin Hary\",\"David Sime\",\"Peter Radford\",\"Bobby Joe Morrow\",\"W. Thane Baker\",\"Hector Hogan\",\"Lindy Remigino\",\"Herbert McKenley\",\"E. McDonald Bailey\",\"W. Harrison Dillard\",\"H. Norwood \\\"Barney\\\" Ewell\",\"Lloyd LaBeach\",\"Jesse Owens\",\"Ralph Metcalfe\",\"Martinus Osendarp\",\"T. \\\"Eddie\\\" Tolan\",\"Ralph Metcalfe\",\"Arthur Jonath\",\"Percy Williams\",\"John \\\"Jack\\\" London\",\"Georg Lammers\",\"Harold Abrahams\",\"Jackson Scholz\",\"Arthur Porritt\",\"Charles Paddock\",\"Morris Kirksey\",\"Harry Edward\",\"Ralph Craig\",\"Alvah Meyer\",\"Donald Lippincott\",\"Reginald Walker\",\"James Rector\",\"Robert Kerr\",\"Charles \\\"Archie\\\" Hahn\",\"Fay Moulton\",\"Nigel Barker\",\"Charles \\\"Archie\\\" Hahn\",\"Nathaniel Cartmell\",\"Bill Hogenson\",\"Frank Jarvis\",\"J. Walter Tewksbury\",\"Stanley Rowley\",\"Thomas Burke\",\"Fritz Hofmann\",\"Alojz Sokol\",\"Francis Lane\"],\"SelectedName\":[\"\",\"\",\"\",\"\",\"\",\"\",\"\",\"\",\"\",\"\",\"\",\"\",\"\",\"\",\"\",\"\",\"\",\"\",\"Carl Lewis\",\"\",\"\",\"\",\"\",\"\",\"\",\"\",\"\",\"\",\"\",\"\",\"\",\"\",\"\",\"Jim Hines\",\"\",\"\",\"\",\"\",\"\",\"\",\"\",\"\",\"\",\"\",\"\",\"\",\"\",\"\",\"\",\"\",\"\",\"Jesse Owens\",\"\",\"\",\"\",\"\",\"\",\"\",\"\",\"\",\"\",\"\",\"\",\"\",\"\",\"\",\"\",\"\",\"\",\"\",\"\",\"\",\"\",\"\",\"\",\"\",\"\",\"\",\"\",\"\",\"\",\"Thomas Burke\",\"\",\"\",\"\"],\"Speed\":{\"__ndarray__\":\"D9dd9bfEJEA1SIM0SIMkQNPZ5YvTbSRAEB0COMyjJEBnpfVH8jgkQGugzZx/LiRAUs36M/hNJEDfP/mgskgkQPb3DMpvQyRA9vcMym9DJEBSQDMIIAUkQP8yCgKa6yNAUwg0hUBTJEBnpfVH8jgkQN7OkJi3MyRA9dmM748UJEB3uNvKx/UjQP8yCgKa6yNAKaWUUkopJEBoIvL9Zw8kQFJAMwggBSRAUkAzCCAFJEDuitWqiKAjQBw5cuTIkSNAg/MxOB+DI0CD8zE4H4MjQLW+ZrHQPyNAA1ahlXbhI0B2Xdd1XdcjQKh2L0ZPuSNAqHYvRk+5I0AAAAAAAIgjQBMU9wNwXCNAhZ9ciLoZJED/MgoCmusjQFfYI71o3CNAAAAAAAAAJECcm5ubm5sjQJybm5ubmyNAnJubm5ubI0Ccm5ubm5sjQAxNd7DfaiNAwzAMwzAMI0DDMAzDMAwjQO1zSE0w3iJAsRM7sRM7I0CxEzuxEzsjQLETO7ETOyNADE13sN9qI0CxEzuxEzsjQLETO7ETOyNADE13sN9qI0CxEzuxEzsjQMMwDMMwDCNADE13sN9qI0AMTXew32ojQLETO7ETOyNATGgvob2EIkCUJbBpP1kiQJQlsGk/WSJA7XNITTDeIkBMaC+hvYQiQJQlsGk/WSJATGgvob2EIkCUJbBpP1kiQJQlsGk/WSJATGgvob2EIkCUJbBpP1kiQJQlsGk/WSJATGgvob2EIkAvuuiiiy4iQC+66KKLLiJAt23btm3bIUCTLxs0+bIhQJMvGzT5siFAL7rooosuIkC3bdu2bdshQLdt27Zt2yFAL7rooosuIkBKIC7UnAQiQLdt27Zt2yFAq6qqqqqqIEAebd6nuGQgQPD7vu/7vh9A8Pu+7/u+H0A=\",\"dtype\":\"float64\",\"shape\":[85]},\"Time\":{\"__ndarray__\":\"w/UoXI9CI0AAAAAAAIAjQBSuR+F6lCNA4XoUrkdhI0BI4XoUrscjQFK4HoXr0SNAMzMzMzOzI0C4HoXrUbgjQD0K16NwvSNAPQrXo3C9I0B7FK5H4fojQBSuR+F6FCRArkfhehSuI0BI4XoUrscjQM3MzMzMzCNA7FG4HoXrI0AK16NwPQokQBSuR+F6FCRA16NwPQrXI0BxPQrXo/AjQHsUrkfh+iNAexSuR+H6I0DhehSuR2EkQHE9CtejcCRAAAAAAACAJEAAAAAAAIAkQEjhehSuxyRAH4XrUbgeJEApXI/C9SgkQEjhehSuRyRASOF6FK5HJEB7FK5H4XokQClcj8L1qCRAZmZmZmbmI0AUrkfhehQkQKRwPQrXIyRAAAAAAAAAJEBmZmZmZmYkQGZmZmZmZiRAZmZmZmZmJEBmZmZmZmYkQJqZmZmZmSRAAAAAAAAAJUAAAAAAAAAlQDMzMzMzMyVAzczMzMzMJEDNzMzMzMwkQM3MzMzMzCRAmpmZmZmZJEDNzMzMzMwkQM3MzMzMzCRAmpmZmZmZJEDNzMzMzMwkQAAAAAAAACVAmpmZmZmZJECamZmZmZkkQM3MzMzMzCRAmpmZmZmZJUDNzMzMzMwlQM3MzMzMzCVAMzMzMzMzJUCamZmZmZklQM3MzMzMzCVAmpmZmZmZJUDNzMzMzMwlQM3MzMzMzCVAmpmZmZmZJUDNzMzMzMwlQM3MzMzMzCVAmpmZmZmZJUAAAAAAAAAmQAAAAAAAACZAZmZmZmZmJkCamZmZmZkmQJqZmZmZmSZAAAAAAAAAJkBmZmZmZmYmQGZmZmZmZiZAAAAAAAAAJkAzMzMzMzMmQGZmZmZmZiZAAAAAAAAAKEBmZmZmZmYoQDMzMzMzMylAMzMzMzMzKUA=\",\"dtype\":\"float64\",\"shape\":[85]},\"Year\":[2012,2012,2012,2008,2008,2008,2004,2004,2004,2000,2000,2000,1996,1996,1996,1992,1992,1992,1988,1988,1988,1984,1984,1984,1980,1980,1980,1976,1976,1976,1972,1972,1972,1968,1968,1968,1964,1964,1964,1960,1960,1960,1956,1956,1956,1952,1952,1952,1948,1948,1948,1936,1936,1936,1932,1932,1932,1928,1928,1928,1924,1924,1924,1920,1920,1920,1912,1912,1912,1908,1908,1908,1906,1906,1906,1904,1904,1904,1900,1900,1900,1896,1896,1896,1896],\"index\":[0,1,2,3,4,5,6,7,8,9,10,11,12,13,14,15,16,17,18,19,20,21,22,23,24,25,26,27,28,29,30,31,32,33,34,35,36,37,38,39,40,41,42,43,44,45,46,47,48,49,50,51,52,53,54,55,56,57,58,59,60,61,62,63,64,65,66,67,68,69,70,71,72,73,74,75,76,77,78,79,80,81,82,83,84]},\"selected\":null,\"selection_policy\":null},\"id\":\"f1244a2d-46df-4564-bd24-be3f2bb996f5\",\"type\":\"ColumnDataSource\"},{\"attributes\":{\"text\":{\"value\":\"No Olympics in 1940 or 1944\"},\"text_align\":\"center\",\"text_baseline\":\"middle\",\"text_color\":{\"value\":\"silver\"},\"text_font_size\":{\"value\":\"9pt\"},\"text_font_style\":\"italic\",\"x\":{\"value\":7.5},\"y\":{\"value\":1942}},\"id\":\"cdfe3b04-ef46-47d9-8ef4-66d755d07517\",\"type\":\"Text\"},{\"attributes\":{\"formatter\":{\"id\":\"94973740-27e6-4113-a38e-7f839494875f\",\"type\":\"BasicTickFormatter\"},\"major_tick_in\":-5,\"major_tick_out\":10,\"plot\":{\"id\":\"fdac3ce5-e2af-453a-a052-aa808a865be1\",\"type\":\"Plot\"},\"ticker\":{\"id\":\"5aea4d47-0220-4a5a-a8df-d49e4e1558f8\",\"type\":\"SingleIntervalTicker\"}},\"id\":\"f83ac394-4035-4b97-b7b6-11874d1c1c60\",\"type\":\"LinearAxis\"},{\"attributes\":{\"data_source\":{\"id\":\"3c66fd0a-5355-4001-975d-58bbfe350b49\",\"type\":\"ColumnDataSource\"},\"glyph\":{\"id\":\"cdfe3b04-ef46-47d9-8ef4-66d755d07517\",\"type\":\"Text\"},\"hover_glyph\":null,\"muted_glyph\":null,\"view\":{\"id\":\"156cc4d7-f3c2-484b-a122-9ed244d4aa15\",\"type\":\"CDSView\"}},\"id\":\"9344a536-6662-4124-a76d-28b6b8c1a72b\",\"type\":\"GlyphRenderer\"},{\"attributes\":{\"data_source\":{\"id\":\"f1244a2d-46df-4564-bd24-be3f2bb996f5\",\"type\":\"ColumnDataSource\"},\"glyph\":{\"id\":\"3b6dd9a9-d969-4f95-9f12-f6b6cb816608\",\"type\":\"Text\"},\"hover_glyph\":null,\"muted_glyph\":null,\"view\":{\"id\":\"3dc54650-4d8e-45ea-a110-93d974bf35b3\",\"type\":\"CDSView\"}},\"id\":\"abb5c4ed-7c87-419e-bae4-05d1152434de\",\"type\":\"GlyphRenderer\"},{\"attributes\":{\"data_source\":{\"id\":\"f1244a2d-46df-4564-bd24-be3f2bb996f5\",\"type\":\"ColumnDataSource\"},\"glyph\":{\"id\":\"93fa04f6-817a-4bf9-ac23-cb103f41973f\",\"type\":\"Circle\"},\"hover_glyph\":null,\"muted_glyph\":null,\"view\":{\"id\":\"f5a03f37-b529-45c0-8964-8b0e459568f8\",\"type\":\"CDSView\"}},\"id\":\"1f7d7385-00ed-4f0f-8c66-da24d5f807bf\",\"type\":\"GlyphRenderer\"},{\"attributes\":{},\"id\":\"98f4ab3d-6b87-4f64-b0f8-f1750112b55f\",\"type\":\"LinearScale\"},{\"attributes\":{\"plot\":null,\"text\":\"Usain Bolt vs. 116 years of Olympic sprinters\"},\"id\":\"c797b640-2aeb-45c7-8519-0f13d210ffc9\",\"type\":\"Title\"},{\"attributes\":{\"source\":{\"id\":\"f1244a2d-46df-4564-bd24-be3f2bb996f5\",\"type\":\"ColumnDataSource\"}},\"id\":\"3dc54650-4d8e-45ea-a110-93d974bf35b3\",\"type\":\"CDSView\"},{\"attributes\":{},\"id\":\"97fe51e6-566c-453a-b622-f5401166ea4c\",\"type\":\"LinearScale\"},{\"attributes\":{\"source\":{\"id\":\"f1244a2d-46df-4564-bd24-be3f2bb996f5\",\"type\":\"ColumnDataSource\"}},\"id\":\"f5a03f37-b529-45c0-8964-8b0e459568f8\",\"type\":\"CDSView\"},{\"attributes\":{\"interval\":5,\"num_minor_ticks\":0},\"id\":\"bf49e002-f35e-4e42-8723-325617bfd411\",\"type\":\"SingleIntervalTicker\"}],\"root_ids\":[\"fdac3ce5-e2af-453a-a052-aa808a865be1\"]},\"title\":\"Bokeh Application\",\"version\":\"0.12.15\"}};\n",
       "  var render_items = [{\"docid\":\"00ec1267-4d87-4f89-b1f3-e9c950b9f8c0\",\"elementid\":\"e03e7c78-6ff9-4794-90f3-d4f481bdc55e\",\"modelid\":\"fdac3ce5-e2af-453a-a052-aa808a865be1\"}];\n",
       "  root.Bokeh.embed.embed_items_notebook(docs_json, render_items);\n",
       "\n",
       "  }\n",
       "  if (root.Bokeh !== undefined) {\n",
       "    embed_document(root);\n",
       "  } else {\n",
       "    var attempts = 0;\n",
       "    var timer = setInterval(function(root) {\n",
       "      if (root.Bokeh !== undefined) {\n",
       "        embed_document(root);\n",
       "        clearInterval(timer);\n",
       "      }\n",
       "      attempts++;\n",
       "      if (attempts > 100) {\n",
       "        console.log(\"Bokeh: ERROR: Unable to run BokehJS code because BokehJS library is missing\")\n",
       "        clearInterval(timer);\n",
       "      }\n",
       "    }, 10, root)\n",
       "  }\n",
       "})(window);"
      ],
      "application/vnd.bokehjs_exec.v0+json": ""
     },
     "metadata": {
      "application/vnd.bokehjs_exec.v0+json": {
       "id": "fdac3ce5-e2af-453a-a052-aa808a865be1"
      }
     },
     "output_type": "display_data"
    }
   ],
   "source": [
    "show(plot)"
   ]
  },
  {
   "cell_type": "markdown",
   "metadata": {},
   "source": [
    "### Adding a Hover Tool\n",
    "\n",
    "Finally we add a hover tool to display those extra columns that we put into our column data source. We use the template syntax for the tooltips, to have more control over the appearance. Tools can be added using the `plot.add_tools` method."
   ]
  },
  {
   "cell_type": "code",
   "execution_count": 13,
   "metadata": {},
   "outputs": [],
   "source": [
    "from bokeh.models import HoverTool"
   ]
  },
  {
   "cell_type": "code",
   "execution_count": 14,
   "metadata": {},
   "outputs": [],
   "source": [
    "tooltips = \"\"\"\n",
    "<div>\n",
    "    <span style=\"font-size: 15px;\">@Name</span>&nbsp;\n",
    "    <span style=\"font-size: 10px; color: #666;\">(@Abbrev)</span>\n",
    "</div>\n",
    "<div>\n",
    "    <span style=\"font-size: 17px; font-weight: bold;\">@Time{0.00}</span>&nbsp;\n",
    "    <span style=\"font-size: 10px; color: #666;\">@Year</span>\n",
    "</div>\n",
    "<div style=\"font-size: 11px; color: #666;\">@{MetersBack}{0.00} meters behind</div>\n",
    "\"\"\""
   ]
  },
  {
   "cell_type": "code",
   "execution_count": 15,
   "metadata": {},
   "outputs": [],
   "source": [
    "xdr = Range1d(start=sprint.MetersBack.max()+2, end=0)  # +2 is for padding\n",
    "ydr = DataRange1d(range_padding=0.05)  \n",
    "\n",
    "plot = Plot(x_range=xdr, y_range=ydr, **plot_options)\n",
    "plot.title.text = \"Usain Bolt vs. 116 years of Olympic sprinters\"\n",
    "medal = plot.add_glyph(source, medal_glyph)  # we need this renderer to configure the hover tool\n",
    "plot.add_glyph(source, athlete_glyph)\n",
    "plot.add_glyph(no_olympics_glyph)\n",
    "\n",
    "xticker = SingleIntervalTicker(interval=5, num_minor_ticks=0)\n",
    "xaxis = LinearAxis(ticker=xticker, axis_line_color=None, major_tick_line_color=None,\n",
    "                   axis_label=\"Meters behind 2012 Bolt\", axis_label_text_font_size=\"10pt\", \n",
    "                   axis_label_text_font_style=\"bold\")\n",
    "plot.add_layout(xaxis, \"below\")\n",
    "\n",
    "xgrid = Grid(dimension=0, ticker=xaxis.ticker, grid_line_dash=\"dashed\")\n",
    "plot.add_layout(xgrid)\n",
    "\n",
    "yticker = SingleIntervalTicker(interval=12, num_minor_ticks=0)\n",
    "yaxis = LinearAxis(ticker=yticker, major_tick_in=-5, major_tick_out=10)\n",
    "plot.add_layout(yaxis, \"right\")"
   ]
  },
  {
   "cell_type": "code",
   "execution_count": 16,
   "metadata": {},
   "outputs": [],
   "source": [
    "hover = HoverTool(tooltips=tooltips, renderers=[medal])\n",
    "plot.add_tools(hover)"
   ]
  },
  {
   "cell_type": "code",
   "execution_count": 17,
   "metadata": {},
   "outputs": [
    {
     "data": {
      "text/html": [
       "\n",
       "<div class=\"bk-root\">\n",
       "    <div class=\"bk-plotdiv\" id=\"f2545366-bd79-4953-bdfa-01d6c491f243\"></div>\n",
       "</div>"
      ]
     },
     "metadata": {},
     "output_type": "display_data"
    },
    {
     "data": {
      "application/javascript": [
       "(function(root) {\n",
       "  function embed_document(root) {\n",
       "    \n",
       "  var docs_json = {\"6382ae74-3c6d-4c4a-9fb0-80178fd6e028\":{\"roots\":{\"references\":[{\"attributes\":{\"grid_line_dash\":[6],\"plot\":{\"id\":\"475f0bb8-d271-4f4e-b050-b5049f456ab8\",\"type\":\"Plot\"},\"ticker\":{\"id\":\"44021592-1731-49d2-af51-4647d9c8c736\",\"type\":\"SingleIntervalTicker\"}},\"id\":\"21af14ee-d929-4757-9514-535829354329\",\"type\":\"Grid\"},{\"attributes\":{\"text\":{\"field\":\"SelectedName\"},\"text_baseline\":\"middle\",\"text_font_size\":{\"value\":\"9pt\"},\"x\":{\"field\":\"MetersBack\"},\"x_offset\":{\"value\":10},\"y\":{\"field\":\"Year\"}},\"id\":\"3b6dd9a9-d969-4f95-9f12-f6b6cb816608\",\"type\":\"Text\"},{\"attributes\":{\"formatter\":{\"id\":\"d5887945-c276-49a5-8a5d-9fe4bed2a1c4\",\"type\":\"BasicTickFormatter\"},\"major_tick_in\":-5,\"major_tick_out\":10,\"plot\":{\"id\":\"475f0bb8-d271-4f4e-b050-b5049f456ab8\",\"type\":\"Plot\"},\"ticker\":{\"id\":\"fbe9cf47-87d4-4b4a-9c68-7cf27a058d70\",\"type\":\"SingleIntervalTicker\"}},\"id\":\"8caf91f2-1086-48a1-93e6-6ced5d9c3fe7\",\"type\":\"LinearAxis\"},{\"attributes\":{\"fill_alpha\":{\"value\":0.5},\"fill_color\":{\"field\":\"MedalFill\"},\"line_color\":{\"field\":\"MedalLine\"},\"size\":{\"units\":\"screen\",\"value\":10},\"x\":{\"field\":\"MetersBack\"},\"y\":{\"field\":\"Year\"}},\"id\":\"93fa04f6-817a-4bf9-ac23-cb103f41973f\",\"type\":\"Circle\"},{\"attributes\":{\"axis_label\":\"Meters behind 2012 Bolt\",\"axis_label_text_font_size\":{\"value\":\"10pt\"},\"axis_label_text_font_style\":\"bold\",\"axis_line_color\":{\"value\":null},\"formatter\":{\"id\":\"2ea2a680-1c36-459b-8125-a44e8daa7830\",\"type\":\"BasicTickFormatter\"},\"major_tick_line_color\":{\"value\":null},\"plot\":{\"id\":\"475f0bb8-d271-4f4e-b050-b5049f456ab8\",\"type\":\"Plot\"},\"ticker\":{\"id\":\"44021592-1731-49d2-af51-4647d9c8c736\",\"type\":\"SingleIntervalTicker\"}},\"id\":\"821c47ae-4e7d-45b2-907d-0fe1fd7f0628\",\"type\":\"LinearAxis\"},{\"attributes\":{\"callback\":null,\"renderers\":[{\"id\":\"fac8a975-6781-4f80-971d-9720523c0846\",\"type\":\"GlyphRenderer\"}],\"tooltips\":\"\\n<div>\\n    <span style=\\\"font-size: 15px;\\\">@Name</span>&nbsp;\\n    <span style=\\\"font-size: 10px; color: #666;\\\">(@Abbrev)</span>\\n</div>\\n<div>\\n    <span style=\\\"font-size: 17px; font-weight: bold;\\\">@Time{0.00}</span>&nbsp;\\n    <span style=\\\"font-size: 10px; color: #666;\\\">@Year</span>\\n</div>\\n<div style=\\\"font-size: 11px; color: #666;\\\">@{MetersBack}{0.00} meters behind</div>\\n\"},\"id\":\"1ee6160a-b9f4-4e4e-a49b-29dbd52e5550\",\"type\":\"HoverTool\"},{\"attributes\":{\"interval\":12,\"num_minor_ticks\":0},\"id\":\"fbe9cf47-87d4-4b4a-9c68-7cf27a058d70\",\"type\":\"SingleIntervalTicker\"},{\"attributes\":{\"callback\":null,\"range_padding\":0.05},\"id\":\"47ed9964-6cef-45a6-b50a-77d65f9c77e2\",\"type\":\"DataRange1d\"},{\"attributes\":{},\"id\":\"52e16a58-a4ef-4f8b-8461-4d205b7383cd\",\"type\":\"LinearScale\"},{\"attributes\":{\"callback\":null,\"end\":0,\"start\":25.571428571428566},\"id\":\"f2c214c9-1093-4bc0-9eee-fd539bac5543\",\"type\":\"Range1d\"},{\"attributes\":{\"text\":{\"value\":\"No Olympics in 1940 or 1944\"},\"text_align\":\"center\",\"text_baseline\":\"middle\",\"text_color\":{\"value\":\"silver\"},\"text_font_size\":{\"value\":\"9pt\"},\"text_font_style\":\"italic\",\"x\":{\"value\":7.5},\"y\":{\"value\":1942}},\"id\":\"cdfe3b04-ef46-47d9-8ef4-66d755d07517\",\"type\":\"Text\"},{\"attributes\":{\"callback\":null,\"column_names\":[\"Name\",\"Country\",\"Medal\",\"Time\",\"Year\",\"Abbrev\",\"Speed\",\"MetersBack\",\"MedalFill\",\"MedalLine\",\"SelectedName\",\"index\"],\"data\":{\"Abbrev\":[\"JAM\",\"JAM\",\"USA\",\"JAM\",\"TRI\",\"USA\",\"USA\",\"POR\",\"USA\",\"USA\",\"TRI\",\"BAR\",\"CAN\",\"NAM\",\"TRI\",\"GBR\",\"NAM\",\"USA\",\"USA\",\"GBR\",\"USA\",\"USA\",\"USA\",\"CAN\",\"GBR\",\"CUB\",\"BUL\",\"TRI\",\"JAM\",\"URS\",\"URS\",\"USA\",\"JAM\",\"USA\",\"JAM\",\"USA\",\"USA\",\"CUB\",\"CAN\",\"EUA\",\"USA\",\"GBR\",\"USA\",\"USA\",\"AUS\",\"USA\",\"JAM\",\"GBR\",\"USA\",\"USA\",\"PAN\",\"USA\",\"USA\",\"NED\",\"USA\",\"USA\",\"GER\",\"CAN\",\"GBR\",\"GER\",\"GBR\",\"USA\",\"NZL\",\"USA\",\"USA\",\"GBR\",\"USA\",\"USA\",\"USA\",\"RSA\",\"USA\",\"CAN\",\"USA\",\"USA\",\"AUS\",\"USA\",\"USA\",\"USA\",\"USA\",\"USA\",\"AUS\",\"USA\",\"GER\",\"HUN\",\"USA\"],\"Country\":[\"Jamaica\",\"Jamaica\",\"United States\",\"Jamaica\",\"Trinidad and Tobago\",\"United States\",\"United States\",\"Portugal\",\"United States\",\"United States\",\"Trinidad and Tobago\",\"Barbados\",\"Canada\",\"Namibia\",\"Trinidad and Tobago\",\"Britain\",\"Namibia\",\"United States\",\"United States\",\"Britain\",\"United States\",\"United States\",\"United States\",\"Canada\",\"Britain\",\"Cuba\",\"Bulgaria\",\"Trinidad and Tobago\",\"Jamaica\",\"Soviet Union\",\"Soviet Union\",\"United States\",\"Jamaica\",\"United States\",\"Jamaica\",\"United States\",\"United States\",\"Cuba\",\"Canada\",\"United Team of Germany\",\"United States\",\"Britain\",\"United States\",\"United States\",\"Australia\",\"United States\",\"Jamaica\",\"Britain\",\"United States\",\"United States\",\"Panama\",\"United States\",\"United States\",\"Netherlands\",\"United States\",\"United States\",\"Germany\",\"Canada\",\"Britain\",\"Germany\",\"Britain\",\"United States\",\"New Zealand\",\"United States\",\"United States\",\"Britain\",\"United States\",\"United States\",\"United States\",\"South Africa\",\"United States\",\"Canada\",\"United States\",\"United States\",\"Australia\",\"United States\",\"United States\",\"United States\",\"United States\",\"United States\",\"Australia\",\"United States\",\"Germany\",\"Hungary\",\"United States\"],\"Medal\":[\"gold\",\"silver\",\"bronze\",\"gold\",\"silver\",\"bronze\",\"gold\",\"silver\",\"bronze\",\"gold\",\"silver\",\"bronze\",\"gold\",\"silver\",\"bronze\",\"gold\",\"silver\",\"bronze\",\"gold\",\"silver\",\"bronze\",\"gold\",\"silver\",\"bronze\",\"gold\",\"silver\",\"bronze\",\"gold\",\"silver\",\"bronze\",\"gold\",\"silver\",\"bronze\",\"gold\",\"silver\",\"bronze\",\"gold\",\"silver\",\"bronze\",\"gold\",\"silver\",\"bronze\",\"gold\",\"silver\",\"bronze\",\"gold\",\"silver\",\"bronze\",\"gold\",\"silver\",\"bronze\",\"gold\",\"silver\",\"bronze\",\"gold\",\"silver\",\"bronze\",\"gold\",\"silver\",\"bronze\",\"gold\",\"silver\",\"bronze\",\"gold\",\"silver\",\"bronze\",\"gold\",\"silver\",\"bronze\",\"gold\",\"silver\",\"bronze\",\"gold\",\"silver\",\"bronze\",\"gold\",\"silver\",\"bronze\",\"gold\",\"silver\",\"bronze\",\"gold\",\"silver\",\"bronze\",\"bronze\"],\"MedalFill\":[\"#efcf6d\",\"#cccccc\",\"#c59e8a\",\"#efcf6d\",\"#cccccc\",\"#c59e8a\",\"#efcf6d\",\"#cccccc\",\"#c59e8a\",\"#efcf6d\",\"#cccccc\",\"#c59e8a\",\"#efcf6d\",\"#cccccc\",\"#c59e8a\",\"#efcf6d\",\"#cccccc\",\"#c59e8a\",\"#efcf6d\",\"#cccccc\",\"#c59e8a\",\"#efcf6d\",\"#cccccc\",\"#c59e8a\",\"#efcf6d\",\"#cccccc\",\"#c59e8a\",\"#efcf6d\",\"#cccccc\",\"#c59e8a\",\"#efcf6d\",\"#cccccc\",\"#c59e8a\",\"#efcf6d\",\"#cccccc\",\"#c59e8a\",\"#efcf6d\",\"#cccccc\",\"#c59e8a\",\"#efcf6d\",\"#cccccc\",\"#c59e8a\",\"#efcf6d\",\"#cccccc\",\"#c59e8a\",\"#efcf6d\",\"#cccccc\",\"#c59e8a\",\"#efcf6d\",\"#cccccc\",\"#c59e8a\",\"#efcf6d\",\"#cccccc\",\"#c59e8a\",\"#efcf6d\",\"#cccccc\",\"#c59e8a\",\"#efcf6d\",\"#cccccc\",\"#c59e8a\",\"#efcf6d\",\"#cccccc\",\"#c59e8a\",\"#efcf6d\",\"#cccccc\",\"#c59e8a\",\"#efcf6d\",\"#cccccc\",\"#c59e8a\",\"#efcf6d\",\"#cccccc\",\"#c59e8a\",\"#efcf6d\",\"#cccccc\",\"#c59e8a\",\"#efcf6d\",\"#cccccc\",\"#c59e8a\",\"#efcf6d\",\"#cccccc\",\"#c59e8a\",\"#efcf6d\",\"#cccccc\",\"#c59e8a\",\"#c59e8a\"],\"MedalLine\":[\"#c8a850\",\"#b0b0b1\",\"#98715d\",\"#c8a850\",\"#b0b0b1\",\"#98715d\",\"#c8a850\",\"#b0b0b1\",\"#98715d\",\"#c8a850\",\"#b0b0b1\",\"#98715d\",\"#c8a850\",\"#b0b0b1\",\"#98715d\",\"#c8a850\",\"#b0b0b1\",\"#98715d\",\"#c8a850\",\"#b0b0b1\",\"#98715d\",\"#c8a850\",\"#b0b0b1\",\"#98715d\",\"#c8a850\",\"#b0b0b1\",\"#98715d\",\"#c8a850\",\"#b0b0b1\",\"#98715d\",\"#c8a850\",\"#b0b0b1\",\"#98715d\",\"#c8a850\",\"#b0b0b1\",\"#98715d\",\"#c8a850\",\"#b0b0b1\",\"#98715d\",\"#c8a850\",\"#b0b0b1\",\"#98715d\",\"#c8a850\",\"#b0b0b1\",\"#98715d\",\"#c8a850\",\"#b0b0b1\",\"#98715d\",\"#c8a850\",\"#b0b0b1\",\"#98715d\",\"#c8a850\",\"#b0b0b1\",\"#98715d\",\"#c8a850\",\"#b0b0b1\",\"#98715d\",\"#c8a850\",\"#b0b0b1\",\"#98715d\",\"#c8a850\",\"#b0b0b1\",\"#98715d\",\"#c8a850\",\"#b0b0b1\",\"#98715d\",\"#c8a850\",\"#b0b0b1\",\"#98715d\",\"#c8a850\",\"#b0b0b1\",\"#98715d\",\"#c8a850\",\"#b0b0b1\",\"#98715d\",\"#c8a850\",\"#b0b0b1\",\"#98715d\",\"#c8a850\",\"#b0b0b1\",\"#98715d\",\"#c8a850\",\"#b0b0b1\",\"#98715d\",\"#98715d\"],\"MetersBack\":{\"__ndarray__\":\"AAAAAAAAAAD2OrETO7HzPzSH3n8tJvo/+LRJIXLQ4z+4oVs2BggFQE37LXJ6mgZApWIklDbeAUD2G7ItSKkCQBFzDHDwcwNAEXMMcPBzA0A7zUkgLtQMQMAp1V2sVRBA/rQrUbsSAUC4oVs2BggFQMdFF1100QVAuPaQy4qBCkC79onqQSMPQMAp1V2sVRBAV4wxxhhjB0A2Q3IHJ0gLQDvNSSAu1AxAO81JIC7UDEDqKu9YevsVQHzx4sWLFxdALDgfg/MxGEAsOB+D8zEYQO/PDHRHQh1AQ4IAOfAYEUCybdu2bdsRQGZfWb1LHhRAZl9ZvUseFED0/////9MXQEJPwDgDGxtAX4SfXIi6CUDAKdVdrFUQQFLnrrBHehFAiJmZmZmZDUBQWlpaWloWQFBaWlpaWhZAUFpaWlpaFkBQWlpaWloWQCQ5L4v4BBpAHkmSJEmSIEAeSZIkSZIgQN+t7HNITSJA1Imd2ImdHUDUiZ3YiZ0dQNSJndiJnR1AJDkvi/gEGkDUiZ3YiZ0dQNSJndiJnR1AJDkvi/gEGkDUiZ3YiZ0dQB5JkiRJkiBAJDkvi/gEGkAkOS+L+AQaQNSJndiJnR1AqKqqqqqqJUDUtJ8sgU0nQNS0nyyBTSdA363sc0hNIkCoqqqqqqolQNS0nyyBTSdAqKqqqqqqJUDUtJ8sgU0nQNS0nyyBTSdAqKqqqqqqJUDUtJ8sgU0nQNS0nyyBTSdAqKqqqqqqJUDnoosuuugoQOeiiy666ChAiSRJkiQJLECa6xjFuY4tQJrrGMW5ji1A56KLLrroKECJJEmSJAksQIkkSZIkCSxA56KLLrroKEDBZ91ginwqQIkkSZIkCSxA/f////+/M0DYvE9xyRA1QCNJkiRJkjdAI0mSJEmSN0A=\",\"dtype\":\"float64\",\"shape\":[85]},\"Name\":[\"Usain Bolt\",\"Yohan Blake\",\"Justin Gatlin\",\"Usain Bolt\",\"Richard Thompson\",\"Walter Dix\",\"Justin Gatlin\",\"Francis Obikwelu\",\"Maurice Greene\",\"Maurice Greene\",\"Ato Boldon\",\"Obadele Thompson\",\"Donovan Bailey\",\"Frankie Fredericks\",\"Ato Boldon\",\"Linford Christie\",\"Frankie Fredericks\",\"Dennis Mitchell\",\"Carl Lewis\",\"Linford Christie\",\"Calvin Smith\",\"Carl Lewis\",\"Sam Graddy\",\"Ben Johnson\",\"Allan Wells\",\"Silvio Leonard Tartabull\",\"Petar Petrov\",\"Hasely Crawford\",\"Donald Quarrie\",\"Valery Borzov\",\"Valery Borzov\",\"Robert Taylor\",\"Lennox Miller\",\"Jim Hines\",\"Lennox Miller\",\"Charles Greene\",\"Bob Hayes\",\"Enrique Figuerola Camue\",\"Harry Jerome\",\"Armin Hary\",\"David Sime\",\"Peter Radford\",\"Bobby Joe Morrow\",\"W. Thane Baker\",\"Hector Hogan\",\"Lindy Remigino\",\"Herbert McKenley\",\"E. McDonald Bailey\",\"W. Harrison Dillard\",\"H. Norwood \\\"Barney\\\" Ewell\",\"Lloyd LaBeach\",\"Jesse Owens\",\"Ralph Metcalfe\",\"Martinus Osendarp\",\"T. \\\"Eddie\\\" Tolan\",\"Ralph Metcalfe\",\"Arthur Jonath\",\"Percy Williams\",\"John \\\"Jack\\\" London\",\"Georg Lammers\",\"Harold Abrahams\",\"Jackson Scholz\",\"Arthur Porritt\",\"Charles Paddock\",\"Morris Kirksey\",\"Harry Edward\",\"Ralph Craig\",\"Alvah Meyer\",\"Donald Lippincott\",\"Reginald Walker\",\"James Rector\",\"Robert Kerr\",\"Charles \\\"Archie\\\" Hahn\",\"Fay Moulton\",\"Nigel Barker\",\"Charles \\\"Archie\\\" Hahn\",\"Nathaniel Cartmell\",\"Bill Hogenson\",\"Frank Jarvis\",\"J. Walter Tewksbury\",\"Stanley Rowley\",\"Thomas Burke\",\"Fritz Hofmann\",\"Alojz Sokol\",\"Francis Lane\"],\"SelectedName\":[\"\",\"\",\"\",\"\",\"\",\"\",\"\",\"\",\"\",\"\",\"\",\"\",\"\",\"\",\"\",\"\",\"\",\"\",\"Carl Lewis\",\"\",\"\",\"\",\"\",\"\",\"\",\"\",\"\",\"\",\"\",\"\",\"\",\"\",\"\",\"Jim Hines\",\"\",\"\",\"\",\"\",\"\",\"\",\"\",\"\",\"\",\"\",\"\",\"\",\"\",\"\",\"\",\"\",\"\",\"Jesse Owens\",\"\",\"\",\"\",\"\",\"\",\"\",\"\",\"\",\"\",\"\",\"\",\"\",\"\",\"\",\"\",\"\",\"\",\"\",\"\",\"\",\"\",\"\",\"\",\"\",\"\",\"\",\"\",\"\",\"\",\"Thomas Burke\",\"\",\"\",\"\"],\"Speed\":{\"__ndarray__\":\"D9dd9bfEJEA1SIM0SIMkQNPZ5YvTbSRAEB0COMyjJEBnpfVH8jgkQGugzZx/LiRAUs36M/hNJEDfP/mgskgkQPb3DMpvQyRA9vcMym9DJEBSQDMIIAUkQP8yCgKa6yNAUwg0hUBTJEBnpfVH8jgkQN7OkJi3MyRA9dmM748UJEB3uNvKx/UjQP8yCgKa6yNAKaWUUkopJEBoIvL9Zw8kQFJAMwggBSRAUkAzCCAFJEDuitWqiKAjQBw5cuTIkSNAg/MxOB+DI0CD8zE4H4MjQLW+ZrHQPyNAA1ahlXbhI0B2Xdd1XdcjQKh2L0ZPuSNAqHYvRk+5I0AAAAAAAIgjQBMU9wNwXCNAhZ9ciLoZJED/MgoCmusjQFfYI71o3CNAAAAAAAAAJECcm5ubm5sjQJybm5ubmyNAnJubm5ubI0Ccm5ubm5sjQAxNd7DfaiNAwzAMwzAMI0DDMAzDMAwjQO1zSE0w3iJAsRM7sRM7I0CxEzuxEzsjQLETO7ETOyNADE13sN9qI0CxEzuxEzsjQLETO7ETOyNADE13sN9qI0CxEzuxEzsjQMMwDMMwDCNADE13sN9qI0AMTXew32ojQLETO7ETOyNATGgvob2EIkCUJbBpP1kiQJQlsGk/WSJA7XNITTDeIkBMaC+hvYQiQJQlsGk/WSJATGgvob2EIkCUJbBpP1kiQJQlsGk/WSJATGgvob2EIkCUJbBpP1kiQJQlsGk/WSJATGgvob2EIkAvuuiiiy4iQC+66KKLLiJAt23btm3bIUCTLxs0+bIhQJMvGzT5siFAL7rooosuIkC3bdu2bdshQLdt27Zt2yFAL7rooosuIkBKIC7UnAQiQLdt27Zt2yFAq6qqqqqqIEAebd6nuGQgQPD7vu/7vh9A8Pu+7/u+H0A=\",\"dtype\":\"float64\",\"shape\":[85]},\"Time\":{\"__ndarray__\":\"w/UoXI9CI0AAAAAAAIAjQBSuR+F6lCNA4XoUrkdhI0BI4XoUrscjQFK4HoXr0SNAMzMzMzOzI0C4HoXrUbgjQD0K16NwvSNAPQrXo3C9I0B7FK5H4fojQBSuR+F6FCRArkfhehSuI0BI4XoUrscjQM3MzMzMzCNA7FG4HoXrI0AK16NwPQokQBSuR+F6FCRA16NwPQrXI0BxPQrXo/AjQHsUrkfh+iNAexSuR+H6I0DhehSuR2EkQHE9CtejcCRAAAAAAACAJEAAAAAAAIAkQEjhehSuxyRAH4XrUbgeJEApXI/C9SgkQEjhehSuRyRASOF6FK5HJEB7FK5H4XokQClcj8L1qCRAZmZmZmbmI0AUrkfhehQkQKRwPQrXIyRAAAAAAAAAJEBmZmZmZmYkQGZmZmZmZiRAZmZmZmZmJEBmZmZmZmYkQJqZmZmZmSRAAAAAAAAAJUAAAAAAAAAlQDMzMzMzMyVAzczMzMzMJEDNzMzMzMwkQM3MzMzMzCRAmpmZmZmZJEDNzMzMzMwkQM3MzMzMzCRAmpmZmZmZJEDNzMzMzMwkQAAAAAAAACVAmpmZmZmZJECamZmZmZkkQM3MzMzMzCRAmpmZmZmZJUDNzMzMzMwlQM3MzMzMzCVAMzMzMzMzJUCamZmZmZklQM3MzMzMzCVAmpmZmZmZJUDNzMzMzMwlQM3MzMzMzCVAmpmZmZmZJUDNzMzMzMwlQM3MzMzMzCVAmpmZmZmZJUAAAAAAAAAmQAAAAAAAACZAZmZmZmZmJkCamZmZmZkmQJqZmZmZmSZAAAAAAAAAJkBmZmZmZmYmQGZmZmZmZiZAAAAAAAAAJkAzMzMzMzMmQGZmZmZmZiZAAAAAAAAAKEBmZmZmZmYoQDMzMzMzMylAMzMzMzMzKUA=\",\"dtype\":\"float64\",\"shape\":[85]},\"Year\":[2012,2012,2012,2008,2008,2008,2004,2004,2004,2000,2000,2000,1996,1996,1996,1992,1992,1992,1988,1988,1988,1984,1984,1984,1980,1980,1980,1976,1976,1976,1972,1972,1972,1968,1968,1968,1964,1964,1964,1960,1960,1960,1956,1956,1956,1952,1952,1952,1948,1948,1948,1936,1936,1936,1932,1932,1932,1928,1928,1928,1924,1924,1924,1920,1920,1920,1912,1912,1912,1908,1908,1908,1906,1906,1906,1904,1904,1904,1900,1900,1900,1896,1896,1896,1896],\"index\":[0,1,2,3,4,5,6,7,8,9,10,11,12,13,14,15,16,17,18,19,20,21,22,23,24,25,26,27,28,29,30,31,32,33,34,35,36,37,38,39,40,41,42,43,44,45,46,47,48,49,50,51,52,53,54,55,56,57,58,59,60,61,62,63,64,65,66,67,68,69,70,71,72,73,74,75,76,77,78,79,80,81,82,83,84]},\"selected\":null,\"selection_policy\":null},\"id\":\"f1244a2d-46df-4564-bd24-be3f2bb996f5\",\"type\":\"ColumnDataSource\"},{\"attributes\":{\"active_drag\":\"auto\",\"active_inspect\":\"auto\",\"active_scroll\":\"auto\",\"active_tap\":\"auto\",\"tools\":[{\"id\":\"1ee6160a-b9f4-4e4e-a49b-29dbd52e5550\",\"type\":\"HoverTool\"}]},\"id\":\"e3ff52b7-fcc4-4f9d-a0ac-e53e6c53436b\",\"type\":\"Toolbar\"},{\"attributes\":{},\"id\":\"943cbfe0-e130-45b5-87ea-af00de92281d\",\"type\":\"LinearScale\"},{\"attributes\":{\"interval\":5,\"num_minor_ticks\":0},\"id\":\"44021592-1731-49d2-af51-4647d9c8c736\",\"type\":\"SingleIntervalTicker\"},{\"attributes\":{\"data_source\":{\"id\":\"61e2754b-b02d-4cd9-a1bd-b7bf72e9ba70\",\"type\":\"ColumnDataSource\"},\"glyph\":{\"id\":\"cdfe3b04-ef46-47d9-8ef4-66d755d07517\",\"type\":\"Text\"},\"hover_glyph\":null,\"muted_glyph\":null,\"view\":{\"id\":\"0ac410b5-c8db-4f94-b02e-aa6633e1b63d\",\"type\":\"CDSView\"}},\"id\":\"0998c5d8-9217-4c50-aab4-89fbb942cdbc\",\"type\":\"GlyphRenderer\"},{\"attributes\":{\"below\":[{\"id\":\"821c47ae-4e7d-45b2-907d-0fe1fd7f0628\",\"type\":\"LinearAxis\"}],\"outline_line_color\":{\"value\":null},\"plot_height\":480,\"plot_width\":800,\"renderers\":[{\"id\":\"fac8a975-6781-4f80-971d-9720523c0846\",\"type\":\"GlyphRenderer\"},{\"id\":\"cdcb8d89-40f1-43a6-9586-5437d43477bd\",\"type\":\"GlyphRenderer\"},{\"id\":\"0998c5d8-9217-4c50-aab4-89fbb942cdbc\",\"type\":\"GlyphRenderer\"},{\"id\":\"821c47ae-4e7d-45b2-907d-0fe1fd7f0628\",\"type\":\"LinearAxis\"},{\"id\":\"21af14ee-d929-4757-9514-535829354329\",\"type\":\"Grid\"},{\"id\":\"8caf91f2-1086-48a1-93e6-6ced5d9c3fe7\",\"type\":\"LinearAxis\"}],\"right\":[{\"id\":\"8caf91f2-1086-48a1-93e6-6ced5d9c3fe7\",\"type\":\"LinearAxis\"}],\"title\":{\"id\":\"8f2f662c-0b43-43c1-96cb-4e970478e946\",\"type\":\"Title\"},\"toolbar\":{\"id\":\"e3ff52b7-fcc4-4f9d-a0ac-e53e6c53436b\",\"type\":\"Toolbar\"},\"toolbar_location\":null,\"x_range\":{\"id\":\"f2c214c9-1093-4bc0-9eee-fd539bac5543\",\"type\":\"Range1d\"},\"x_scale\":{\"id\":\"943cbfe0-e130-45b5-87ea-af00de92281d\",\"type\":\"LinearScale\"},\"y_range\":{\"id\":\"47ed9964-6cef-45a6-b50a-77d65f9c77e2\",\"type\":\"DataRange1d\"},\"y_scale\":{\"id\":\"52e16a58-a4ef-4f8b-8461-4d205b7383cd\",\"type\":\"LinearScale\"}},\"id\":\"475f0bb8-d271-4f4e-b050-b5049f456ab8\",\"type\":\"Plot\"},{\"attributes\":{},\"id\":\"2ea2a680-1c36-459b-8125-a44e8daa7830\",\"type\":\"BasicTickFormatter\"},{\"attributes\":{},\"id\":\"d5887945-c276-49a5-8a5d-9fe4bed2a1c4\",\"type\":\"BasicTickFormatter\"},{\"attributes\":{\"plot\":null,\"text\":\"Usain Bolt vs. 116 years of Olympic sprinters\"},\"id\":\"8f2f662c-0b43-43c1-96cb-4e970478e946\",\"type\":\"Title\"},{\"attributes\":{\"data_source\":{\"id\":\"f1244a2d-46df-4564-bd24-be3f2bb996f5\",\"type\":\"ColumnDataSource\"},\"glyph\":{\"id\":\"93fa04f6-817a-4bf9-ac23-cb103f41973f\",\"type\":\"Circle\"},\"hover_glyph\":null,\"muted_glyph\":null,\"view\":{\"id\":\"a1687adc-4f2e-45c8-968d-68b646145cc9\",\"type\":\"CDSView\"}},\"id\":\"fac8a975-6781-4f80-971d-9720523c0846\",\"type\":\"GlyphRenderer\"},{\"attributes\":{\"data_source\":{\"id\":\"f1244a2d-46df-4564-bd24-be3f2bb996f5\",\"type\":\"ColumnDataSource\"},\"glyph\":{\"id\":\"3b6dd9a9-d969-4f95-9f12-f6b6cb816608\",\"type\":\"Text\"},\"hover_glyph\":null,\"muted_glyph\":null,\"view\":{\"id\":\"9f684125-610a-4131-a5bf-7bdb626f25dc\",\"type\":\"CDSView\"}},\"id\":\"cdcb8d89-40f1-43a6-9586-5437d43477bd\",\"type\":\"GlyphRenderer\"},{\"attributes\":{\"source\":{\"id\":\"f1244a2d-46df-4564-bd24-be3f2bb996f5\",\"type\":\"ColumnDataSource\"}},\"id\":\"9f684125-610a-4131-a5bf-7bdb626f25dc\",\"type\":\"CDSView\"},{\"attributes\":{\"callback\":null,\"data\":{},\"selected\":null,\"selection_policy\":null},\"id\":\"61e2754b-b02d-4cd9-a1bd-b7bf72e9ba70\",\"type\":\"ColumnDataSource\"},{\"attributes\":{\"source\":{\"id\":\"f1244a2d-46df-4564-bd24-be3f2bb996f5\",\"type\":\"ColumnDataSource\"}},\"id\":\"a1687adc-4f2e-45c8-968d-68b646145cc9\",\"type\":\"CDSView\"},{\"attributes\":{\"source\":{\"id\":\"61e2754b-b02d-4cd9-a1bd-b7bf72e9ba70\",\"type\":\"ColumnDataSource\"}},\"id\":\"0ac410b5-c8db-4f94-b02e-aa6633e1b63d\",\"type\":\"CDSView\"}],\"root_ids\":[\"475f0bb8-d271-4f4e-b050-b5049f456ab8\"]},\"title\":\"Bokeh Application\",\"version\":\"0.12.15\"}};\n",
       "  var render_items = [{\"docid\":\"6382ae74-3c6d-4c4a-9fb0-80178fd6e028\",\"elementid\":\"f2545366-bd79-4953-bdfa-01d6c491f243\",\"modelid\":\"475f0bb8-d271-4f4e-b050-b5049f456ab8\"}];\n",
       "  root.Bokeh.embed.embed_items_notebook(docs_json, render_items);\n",
       "\n",
       "  }\n",
       "  if (root.Bokeh !== undefined) {\n",
       "    embed_document(root);\n",
       "  } else {\n",
       "    var attempts = 0;\n",
       "    var timer = setInterval(function(root) {\n",
       "      if (root.Bokeh !== undefined) {\n",
       "        embed_document(root);\n",
       "        clearInterval(timer);\n",
       "      }\n",
       "      attempts++;\n",
       "      if (attempts > 100) {\n",
       "        console.log(\"Bokeh: ERROR: Unable to run BokehJS code because BokehJS library is missing\")\n",
       "        clearInterval(timer);\n",
       "      }\n",
       "    }, 10, root)\n",
       "  }\n",
       "})(window);"
      ],
      "application/vnd.bokehjs_exec.v0+json": ""
     },
     "metadata": {
      "application/vnd.bokehjs_exec.v0+json": {
       "id": "475f0bb8-d271-4f4e-b050-b5049f456ab8"
      }
     },
     "output_type": "display_data"
    }
   ],
   "source": [
    "show(plot)"
   ]
  },
  {
   "cell_type": "markdown",
   "metadata": {},
   "source": [
    "# Exercises"
   ]
  },
  {
   "cell_type": "markdown",
   "metadata": {
    "collapsed": true
   },
   "source": [
    "# Custom User Models\n",
    "\n",
    "It is possible to extend the set of built-in Bokeh models with your own custom user models. The capability opens some valuable use-cases:\n",
    "* customizing existing Bokeh model behaviour\n",
    "* wrapping and connecting other JS libraries to Bokeh\n",
    "\n",
    "With this capability, advanced users can try out new features or techniques easily, without having to set up a full Bokeh development environment. \n",
    "\n",
    "The section gives a basi outline of a custom model starts with a JavaScript implementation, which subclasses an existing BokehJS model. Full details can be found in the [Extending Bokeh](http://bokeh.pydata.org/en/latest/docs/user_guide/extensions.html) chapter of the User's Guide."
   ]
  },
  {
   "cell_type": "markdown",
   "metadata": {},
   "source": [
    "### Implement the JavaScript Model"
   ]
  },
  {
   "cell_type": "code",
   "execution_count": 18,
   "metadata": {},
   "outputs": [],
   "source": [
    "JS_CODE = \"\"\"\n",
    "import {div, empty} from \"core/dom\"\n",
    "\n",
    "# The \"core/properties\" module has all the property types\n",
    "import * as p from \"core/properties\"\n",
    "\n",
    "# We will subclass in JavaScript from the same class that was subclassed\n",
    "# from in Python\n",
    "import {LayoutDOM, LayoutDOMView} from \"models/layouts/layout_dom\"\n",
    "\n",
    "# This model will actually need to render things, so we must provide\n",
    "# view. The LayoutDOM model has a view already, so we will start with that\n",
    "export class CustomView extends LayoutDOMView\n",
    "\n",
    "  initialize: (options) ->\n",
    "    super(options)\n",
    "\n",
    "    @render()\n",
    "\n",
    "    # Set Backbone listener so that when the Bokeh slider has a change\n",
    "    # event, we can process the new data\n",
    "    @connect(@model.slider.change, () => @render())\n",
    "\n",
    "  render: () ->\n",
    "    # Backbone Views create <div> elements by default, accessible as @el.\n",
    "    # Many Bokeh views ignore this default <div>, and instead do things\n",
    "    # like draw to the HTML canvas. In this case though, we change the\n",
    "    # contents of the <div>, based on the current slider value.\n",
    "    empty(@el)\n",
    "    @el.appendChild(div({\n",
    "      style: {\n",
    "        color: '#686d8e'\n",
    "        'background-color': '#2a3153'\n",
    "      }\n",
    "    }, \"#{@model.text}: #{@model.slider.value}\"))\n",
    "\n",
    "export class Custom extends LayoutDOM\n",
    "\n",
    "  # If there is an associated view, this is boilerplate.\n",
    "  default_view: CustomView\n",
    "\n",
    "  # The ``type`` class attribute should generally match exactly the name\n",
    "  # of the corresponding Python class.\n",
    "  type: \"Custom\"\n",
    "\n",
    "  # The @define block adds corresponding \"properties\" to the JS model. These\n",
    "  # should basically line up 1-1 with the Python model class. Most property\n",
    "  # types have counterparts, e.g. bokeh.core.properties.String will be\n",
    "  # p.String in the JS implementation. Where the JS type system is not yet\n",
    "  # as rich, you can use p.Any as a \"wildcard\" property type.\n",
    "  @define {\n",
    "    text:   [ p.String ]\n",
    "    slider: [ p.Any    ]\n",
    "  }\n",
    "\"\"\""
   ]
  },
  {
   "cell_type": "markdown",
   "metadata": {},
   "source": [
    "### Define the Python Model\n",
    "\n",
    "This JavaScript implementation is then attached to a corresponding Python Bokeh model:"
   ]
  },
  {
   "cell_type": "code",
   "execution_count": 19,
   "metadata": {},
   "outputs": [],
   "source": [
    "from bokeh.core.properties import String, Instance\n",
    "from bokeh.models import LayoutDOM, Slider\n",
    "\n",
    "class Custom(LayoutDOM):\n",
    "\n",
    "    __implementation__ = JS_CODE\n",
    "\n",
    "    text = String(default=\"Custom text\")\n",
    "\n",
    "    slider = Instance(Slider)"
   ]
  },
  {
   "cell_type": "markdown",
   "metadata": {},
   "source": [
    "### Use the Python Model\n",
    "\n",
    "Then the new model can be used seamlessly in the same way as any built-in Bokeh model:"
   ]
  },
  {
   "cell_type": "code",
   "execution_count": 20,
   "metadata": {
    "scrolled": false
   },
   "outputs": [],
   "source": [
    "from bokeh.io import show\n",
    "from bokeh.layouts import column\n",
    "from bokeh.models import Slider\n",
    "\n",
    "slider = Slider(start=0, end=10, step=0.1, value=0, title=\"value\")\n",
    "\n",
    "custom = Custom(text=\"Special Slider Display\", slider=slider)\n",
    "\n",
    "layout = column(slider, custom)\n",
    "\n",
    "# Currently a bug preventing custom extensions working in notebooks\n",
    "#show(layout)"
   ]
  },
  {
   "cell_type": "code",
   "execution_count": null,
   "metadata": {},
   "outputs": [],
   "source": []
  }
 ],
 "metadata": {
  "anaconda-cloud": {},
  "kernelspec": {
   "display_name": "Python 3",
   "language": "python",
   "name": "python3"
  },
  "language_info": {
   "codemirror_mode": {
    "name": "ipython",
    "version": 3
   },
   "file_extension": ".py",
   "mimetype": "text/x-python",
   "name": "python",
   "nbconvert_exporter": "python",
   "pygments_lexer": "ipython3",
   "version": "3.6.5"
  }
 },
 "nbformat": 4,
 "nbformat_minor": 1
}
