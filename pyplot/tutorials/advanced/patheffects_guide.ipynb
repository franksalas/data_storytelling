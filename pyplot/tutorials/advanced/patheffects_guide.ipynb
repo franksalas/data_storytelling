{
 "cells": [
  {
   "cell_type": "code",
   "execution_count": null,
   "metadata": {},
   "outputs": [],
   "source": [
    "%matplotlib inline"
   ]
  },
  {
   "cell_type": "markdown",
   "metadata": {},
   "source": [
    "\n",
    "# Path effects guide\n",
    "\n",
    "\n",
    "Defining paths that objects follow on a canvas.\n",
    "\n",
    ".. py:module:: matplotlib.patheffects\n",
    "\n",
    "\n",
    "Matplotlib's :mod:`~matplotlib.patheffects` module provides functionality to\n",
    "apply a multiple draw stage to any Artist which can be rendered via a\n",
    ":class:`~matplotlib.path.Path`.\n",
    "\n",
    "Artists which can have a path effect applied to them include :class:`~matplotlib.patches.Patch`,\n",
    ":class:`~matplotlib.lines.Line2D`, :class:`~matplotlib.collections.Collection` and even\n",
    ":class:`~matplotlib.text.Text`. Each artist's path effects can be controlled via the\n",
    "``set_path_effects`` method (:class:`~matplotlib.artist.Artist.set_path_effects`), which takes\n",
    "an iterable of :class:`AbstractPathEffect` instances.\n",
    "\n",
    "The simplest path effect is the :class:`Normal` effect, which simply\n",
    "draws the artist without any effect:\n",
    "\n"
   ]
  },
  {
   "cell_type": "code",
   "execution_count": null,
   "metadata": {},
   "outputs": [],
   "source": [
    "import matplotlib.pyplot as plt\n",
    "import matplotlib.patheffects as path_effects\n",
    "\n",
    "fig = plt.figure(figsize=(5, 1.5))\n",
    "text = fig.text(0.5, 0.5, 'Hello path effects world!\\nThis is the normal '\n",
    "                          'path effect.\\nPretty dull, huh?',\n",
    "                ha='center', va='center', size=20)\n",
    "text.set_path_effects([path_effects.Normal()])\n",
    "plt.show()"
   ]
  },
  {
   "cell_type": "markdown",
   "metadata": {},
   "source": [
    "Whilst the plot doesn't look any different to what you would expect without any path\n",
    "effects, the drawing of the text now been changed to use the path effects\n",
    "framework, opening up the possibilities for more interesting examples.\n",
    "\n",
    "Adding a shadow\n",
    "---------------\n",
    "\n",
    "A far more interesting path effect than :class:`Normal` is the\n",
    "drop-shadow, which we can apply to any of our path based artists. The classes\n",
    ":class:`SimplePatchShadow` and\n",
    ":class:`SimpleLineShadow` do precisely this by drawing either a filled\n",
    "patch or a line patch below the original artist:\n",
    "\n"
   ]
  },
  {
   "cell_type": "code",
   "execution_count": null,
   "metadata": {},
   "outputs": [],
   "source": [
    "import matplotlib.patheffects as path_effects\n",
    "\n",
    "text = plt.text(0.5, 0.5, 'Hello path effects world!',\n",
    "                path_effects=[path_effects.withSimplePatchShadow()])\n",
    "\n",
    "plt.plot([0, 3, 2, 5], linewidth=5, color='blue',\n",
    "         path_effects=[path_effects.SimpleLineShadow(),\n",
    "                       path_effects.Normal()])\n",
    "plt.show()"
   ]
  },
  {
   "cell_type": "markdown",
   "metadata": {},
   "source": [
    "Notice the two approaches to setting the path effects in this example. The\n",
    "first uses the ``with*`` classes to include the desired functionality automatically\n",
    "followed with the \"normal\" effect, whereas the latter explicitly defines the two path\n",
    "effects to draw.\n",
    "\n",
    "Making an artist stand out\n",
    "--------------------------\n",
    "\n",
    "One nice way of making artists visually stand out is to draw an outline in a bold\n",
    "color below the actual artist. The :class:`Stroke` path effect\n",
    "makes this a relatively simple task:\n",
    "\n"
   ]
  },
  {
   "cell_type": "code",
   "execution_count": null,
   "metadata": {},
   "outputs": [],
   "source": [
    "fig = plt.figure(figsize=(7, 1))\n",
    "text = fig.text(0.5, 0.5, 'This text stands out because of\\n'\n",
    "                          'its black border.', color='white',\n",
    "                          ha='center', va='center', size=30)\n",
    "text.set_path_effects([path_effects.Stroke(linewidth=3, foreground='black'),\n",
    "                       path_effects.Normal()])\n",
    "plt.show()"
   ]
  },
  {
   "cell_type": "markdown",
   "metadata": {},
   "source": [
    "It is important to note that this effect only works because we have drawn the text\n",
    "path twice; once with a thick black line, and then once with the original text\n",
    "path on top.\n",
    "\n",
    "You may have noticed that the keywords to :class:`Stroke` and\n",
    ":class:`SimplePatchShadow` and :class:`SimpleLineShadow` are not the usual Artist\n",
    "keywords (such as ``facecolor`` and ``edgecolor`` etc.). This is because with these\n",
    "path effects we are operating at lower level of matplotlib. In fact, the keywords\n",
    "which are accepted are those for a :class:`matplotlib.backend_bases.GraphicsContextBase`\n",
    "instance, which have been designed for making it easy to create new backends - and not\n",
    "for its user interface.\n",
    "\n",
    "\n",
    "Greater control of the path effect artist\n",
    "-----------------------------------------\n",
    "\n",
    "As already mentioned, some of the path effects operate at a lower level than most users\n",
    "will be used to, meaning that setting keywords such as ``facecolor`` and ``edgecolor``\n",
    "raise an AttributeError. Luckily there is a generic :class:`PathPatchEffect` path effect\n",
    "which creates a :class:`~matplotlib.patches.PathPatch` class with the original path.\n",
    "The keywords to this effect are identical to those of :class:`~matplotlib.patches.PathPatch`:\n",
    "\n"
   ]
  },
  {
   "cell_type": "code",
   "execution_count": null,
   "metadata": {},
   "outputs": [],
   "source": [
    "fig = plt.figure(figsize=(8, 1))\n",
    "t = fig.text(0.02, 0.5, 'Hatch shadow', fontsize=75, weight=1000, va='center')\n",
    "t.set_path_effects([path_effects.PathPatchEffect(offset=(4, -4), hatch='xxxx',\n",
    "                                                 facecolor='gray'),\n",
    "                    path_effects.PathPatchEffect(edgecolor='white', linewidth=1.1,\n",
    "                                                 facecolor='black')])\n",
    "plt.show()"
   ]
  },
  {
   "cell_type": "markdown",
   "metadata": {},
   "source": [
    "..\n",
    "    Headings for future consideration:\n",
    "\n",
    "    Implementing a custom path effect\n",
    "    ---------------------------------\n",
    "\n",
    "    What is going on under the hood\n",
    "    --------------------------------\n",
    "\n"
   ]
  }
 ],
 "metadata": {
  "kernelspec": {
   "display_name": "Python 3",
   "language": "python",
   "name": "python3"
  },
  "language_info": {
   "codemirror_mode": {
    "name": "ipython",
    "version": 3
   },
   "file_extension": ".py",
   "mimetype": "text/x-python",
   "name": "python",
   "nbconvert_exporter": "python",
   "pygments_lexer": "ipython3",
   "version": "3.6.5"
  }
 },
 "nbformat": 4,
 "nbformat_minor": 1
}
